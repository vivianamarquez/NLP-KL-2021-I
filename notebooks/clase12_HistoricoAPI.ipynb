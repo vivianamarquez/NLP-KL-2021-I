{
 "cells": [
  {
   "cell_type": "markdown",
   "id": "f753771b",
   "metadata": {},
   "source": [
    "Dato patrocinado por: FABIAN CASTRO\n",
    "\n",
    "# Instrucciones para poder obtener tweets antiguos usando la API\n",
    "\n",
    "Documentación: https://docs.tweepy.org/en/latest/api.html"
   ]
  },
  {
   "cell_type": "markdown",
   "id": "e8323f9a",
   "metadata": {},
   "source": [
    "### Paso 1: Actualizar `tweepy`\n",
    "\n",
    "Previamente, obtener tweets antiguos era sólo posible a través de la API Premium de Twitter ($$$).\n",
    "\n",
    "A partir de la versión 3.10.0 de `tweepy`, ahora es posible acceder a esta función de manera gratuita. \n",
    "\n",
    "Dado que esta nueva actualización aún está en versión alfa, para instalarla se debe usar el siguiente comando desde la terminal:\n",
    "\n",
    "`pip install --upgrade git+https://github.com/tweepy/tweepy@master`"
   ]
  },
  {
   "cell_type": "code",
   "execution_count": 1,
   "id": "eadd1318",
   "metadata": {},
   "outputs": [],
   "source": [
    "import tweepy"
   ]
  },
  {
   "cell_type": "code",
   "execution_count": 2,
   "id": "7c465e36",
   "metadata": {},
   "outputs": [
    {
     "name": "stdout",
     "output_type": "stream",
     "text": [
      "4.0.0-alpha\n"
     ]
    }
   ],
   "source": [
    "print(tweepy.__version__)"
   ]
  },
  {
   "cell_type": "markdown",
   "id": "25e94971",
   "metadata": {},
   "source": [
    "###  Paso 2: Crear un entorno en Twitter\n",
    "\n",
    "Dirigirse a https://developer.twitter.com/en/account/environments y seguir los siguientes pasos."
   ]
  },
  {
   "cell_type": "markdown",
   "id": "90305146",
   "metadata": {},
   "source": [
    "1. Hacer click en `set up dev environment` en la sección de `full archive`\n",
    "<img src='../img/clase12/tw1.png'>"
   ]
  },
  {
   "cell_type": "markdown",
   "id": "99138c1b",
   "metadata": {},
   "source": [
    "2. Darle un nombre al entorno y escoger una de las aplicaciones\n",
    "<img src='../img/clase12/tw2.png'>"
   ]
  },
  {
   "cell_type": "markdown",
   "id": "cb739b83",
   "metadata": {},
   "source": [
    "3. Recordar el nombre del ambiente (en este ejemplo `Historico`) y saber cuál aplicación se usó para acceder con esas llaves\n",
    "<img src='../img/clase12/tw3.png'>"
   ]
  },
  {
   "cell_type": "markdown",
   "id": "b920c60b",
   "metadata": {},
   "source": [
    "### Ejemplo de uso"
   ]
  },
  {
   "cell_type": "code",
   "execution_count": 3,
   "id": "4afe1d0f",
   "metadata": {},
   "outputs": [],
   "source": [
    "import pandas as pd"
   ]
  },
  {
   "cell_type": "code",
   "execution_count": 4,
   "id": "67784635",
   "metadata": {},
   "outputs": [],
   "source": [
    "# Leer llaves\n",
    "keys = pd.read_csv(\"../archivos/no/keys.csv\", header=None)\n",
    "keys = dict(zip(keys[0],keys[1]))"
   ]
  },
  {
   "cell_type": "code",
   "execution_count": 5,
   "id": "5ae1ad6d",
   "metadata": {},
   "outputs": [],
   "source": [
    "# Autorizar a través API\n",
    "auth = tweepy.OAuthHandler(keys['api_key'], keys['api_secret_key'])\n",
    "auth.set_access_token(keys['access_token'], keys['access_token_secret'])\n",
    "api = tweepy.API(auth, wait_on_rate_limit=True)"
   ]
  },
  {
   "cell_type": "code",
   "execution_count": 6,
   "id": "26cdf7d2",
   "metadata": {},
   "outputs": [],
   "source": [
    "# Nótese que la cadena de búsqueda ahora debe incluir otros paramétros que no son soportados en la librería\n",
    "busqueda = 'Dragon Ball lang:es -\"RT @\"'\n",
    "\n",
    "params = dict(label = 'Historico', # Nombre del entorno que creamos\n",
    "              query = busqueda,\n",
    "              fromDate = '202001010000',\n",
    "              toDate = '202001020000')"
   ]
  },
  {
   "cell_type": "code",
   "execution_count": 7,
   "id": "49504ab3",
   "metadata": {},
   "outputs": [],
   "source": [
    "#Cursor\n",
    "tweets = tweepy.Cursor(api.search_full_archive, **params).items(200)"
   ]
  },
  {
   "cell_type": "code",
   "execution_count": 8,
   "id": "01aad58a",
   "metadata": {},
   "outputs": [],
   "source": [
    "t_processed = []\n",
    "\n",
    "for tweet in tweets:\n",
    "    temp = []\n",
    "    \n",
    "    # Gracias Fabian\n",
    "    if tweet.truncated:\n",
    "        temp.append(tweet.extended_tweet['full_text'])\n",
    "    else:\n",
    "        temp.append(tweet.text)\n",
    "        \n",
    "    temp.append(tweet.created_at)\n",
    "    temp.append(tweet.user.location)\n",
    "    temp.append(tweet.id)\n",
    "    temp.append(f\"https://twitter.com/i/web/status/{tweet.id}\")\n",
    "    \n",
    "    t_processed.append(temp)"
   ]
  },
  {
   "cell_type": "code",
   "execution_count": 9,
   "id": "b4dbf2b8",
   "metadata": {},
   "outputs": [
    {
     "data": {
      "text/html": [
       "<div>\n",
       "<style scoped>\n",
       "    .dataframe tbody tr th:only-of-type {\n",
       "        vertical-align: middle;\n",
       "    }\n",
       "\n",
       "    .dataframe tbody tr th {\n",
       "        vertical-align: top;\n",
       "    }\n",
       "\n",
       "    .dataframe thead th {\n",
       "        text-align: right;\n",
       "    }\n",
       "</style>\n",
       "<table border=\"1\" class=\"dataframe\">\n",
       "  <thead>\n",
       "    <tr style=\"text-align: right;\">\n",
       "      <th></th>\n",
       "      <th>tweet</th>\n",
       "      <th>date</th>\n",
       "      <th>user_location</th>\n",
       "      <th>id</th>\n",
       "      <th>link</th>\n",
       "    </tr>\n",
       "  </thead>\n",
       "  <tbody>\n",
       "    <tr>\n",
       "      <th>0</th>\n",
       "      <td>Los juegos licencia son el kebab de las 4 de l...</td>\n",
       "      <td>2020-01-01 23:47:17+00:00</td>\n",
       "      <td>Vigo, España</td>\n",
       "      <td>1212520699920822272</td>\n",
       "      <td>https://twitter.com/i/web/status/1212520699920...</td>\n",
       "    </tr>\n",
       "    <tr>\n",
       "      <th>1</th>\n",
       "      <td>Bien, estoy cansado. Las Armys se la pasan dom...</td>\n",
       "      <td>2020-01-01 23:42:37+00:00</td>\n",
       "      <td>Tu pinche madre</td>\n",
       "      <td>1212519527231025152</td>\n",
       "      <td>https://twitter.com/i/web/status/1212519527231...</td>\n",
       "    </tr>\n",
       "    <tr>\n",
       "      <th>2</th>\n",
       "      <td>@MrTacoLz @RmArturo Y seremos para siempre Dra...</td>\n",
       "      <td>2020-01-01 23:37:28+00:00</td>\n",
       "      <td>Cdmx</td>\n",
       "      <td>1212518232394850304</td>\n",
       "      <td>https://twitter.com/i/web/status/1212518232394...</td>\n",
       "    </tr>\n",
       "    <tr>\n",
       "      <th>3</th>\n",
       "      <td>@NetflixLAT Por favor dame una esperanza ... D...</td>\n",
       "      <td>2020-01-01 23:37:15+00:00</td>\n",
       "      <td>None</td>\n",
       "      <td>1212518177642549248</td>\n",
       "      <td>https://twitter.com/i/web/status/1212518177642...</td>\n",
       "    </tr>\n",
       "    <tr>\n",
       "      <th>4</th>\n",
       "      <td>Así luce Dragon Ball Z: Kakarot con las voces ...</td>\n",
       "      <td>2020-01-01 23:36:40+00:00</td>\n",
       "      <td>España</td>\n",
       "      <td>1212518030263095301</td>\n",
       "      <td>https://twitter.com/i/web/status/1212518030263...</td>\n",
       "    </tr>\n",
       "  </tbody>\n",
       "</table>\n",
       "</div>"
      ],
      "text/plain": [
       "                                               tweet  \\\n",
       "0  Los juegos licencia son el kebab de las 4 de l...   \n",
       "1  Bien, estoy cansado. Las Armys se la pasan dom...   \n",
       "2  @MrTacoLz @RmArturo Y seremos para siempre Dra...   \n",
       "3  @NetflixLAT Por favor dame una esperanza ... D...   \n",
       "4  Así luce Dragon Ball Z: Kakarot con las voces ...   \n",
       "\n",
       "                       date     user_location                   id  \\\n",
       "0 2020-01-01 23:47:17+00:00      Vigo, España  1212520699920822272   \n",
       "1 2020-01-01 23:42:37+00:00  Tu pinche madre   1212519527231025152   \n",
       "2 2020-01-01 23:37:28+00:00              Cdmx  1212518232394850304   \n",
       "3 2020-01-01 23:37:15+00:00              None  1212518177642549248   \n",
       "4 2020-01-01 23:36:40+00:00           España   1212518030263095301   \n",
       "\n",
       "                                                link  \n",
       "0  https://twitter.com/i/web/status/1212520699920...  \n",
       "1  https://twitter.com/i/web/status/1212519527231...  \n",
       "2  https://twitter.com/i/web/status/1212518232394...  \n",
       "3  https://twitter.com/i/web/status/1212518177642...  \n",
       "4  https://twitter.com/i/web/status/1212518030263...  "
      ]
     },
     "execution_count": 9,
     "metadata": {},
     "output_type": "execute_result"
    }
   ],
   "source": [
    "data = pd.DataFrame(t_processed)\n",
    "data.columns = ['tweet', 'date', 'user_location', 'id', 'link']\n",
    "data.head()"
   ]
  },
  {
   "cell_type": "code",
   "execution_count": 10,
   "id": "9d471259",
   "metadata": {},
   "outputs": [
    {
     "data": {
      "text/plain": [
       "(200, 5)"
      ]
     },
     "execution_count": 10,
     "metadata": {},
     "output_type": "execute_result"
    }
   ],
   "source": [
    "data.shape"
   ]
  },
  {
   "cell_type": "code",
   "execution_count": 11,
   "id": "2dca8551",
   "metadata": {},
   "outputs": [
    {
     "data": {
      "text/plain": [
       "Timestamp('2020-01-01 12:55:15+0000', tz='UTC')"
      ]
     },
     "execution_count": 11,
     "metadata": {},
     "output_type": "execute_result"
    }
   ],
   "source": [
    "data.date.min()"
   ]
  },
  {
   "cell_type": "code",
   "execution_count": 12,
   "id": "b285333a",
   "metadata": {},
   "outputs": [
    {
     "data": {
      "text/plain": [
       "Timestamp('2020-01-01 23:47:17+0000', tz='UTC')"
      ]
     },
     "execution_count": 12,
     "metadata": {},
     "output_type": "execute_result"
    }
   ],
   "source": [
    "data.date.max()"
   ]
  }
 ],
 "metadata": {
  "kernelspec": {
   "display_name": "Python 3",
   "language": "python",
   "name": "python3"
  },
  "language_info": {
   "codemirror_mode": {
    "name": "ipython",
    "version": 3
   },
   "file_extension": ".py",
   "mimetype": "text/x-python",
   "name": "python",
   "nbconvert_exporter": "python",
   "pygments_lexer": "ipython3",
   "version": "3.7.4"
  }
 },
 "nbformat": 4,
 "nbformat_minor": 5
}
