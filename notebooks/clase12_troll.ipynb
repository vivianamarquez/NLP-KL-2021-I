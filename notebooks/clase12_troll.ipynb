{
 "cells": [
  {
   "cell_type": "code",
   "execution_count": null,
   "metadata": {
    "slideshow": {
     "slide_type": "fragment"
    }
   },
   "outputs": [],
   "source": [
    "import pandas as pd \n",
    "import tweepy\n",
    "import requests\n",
    "import os"
   ]
  },
  {
   "cell_type": "code",
   "execution_count": null,
   "metadata": {
    "slideshow": {
     "slide_type": "fragment"
    }
   },
   "outputs": [],
   "source": [
    "# Autorizar a través API\n",
    "# Sebastián\n",
    "auth = tweepy.OAuthHandler('WmEYkXNejvriwQ8PXdi76eVdp', 'p1asOja3Byhx8KzgaEJstIs0xhouYQ0oO4zlKOg3LXoREfbPgW')\n",
    "auth.set_access_token('204927580-AoCu3kG7qKrt3TZcPY22hymwsTjln5dOAhc7ZkCb', 'rP4t37uAsGNqO7h6XbQuiUSshBp8FIlutVhWWwQIObQGG')\n",
    "api = tweepy.API(auth, wait_on_rate_limit=True)"
   ]
  },
  {
   "cell_type": "code",
   "execution_count": null,
   "metadata": {
    "slideshow": {
     "slide_type": "fragment"
    }
   },
   "outputs": [],
   "source": [
    "# Autorizar a través API\n",
    "# Jojhan\n",
    "auth = tweepy.OAuthHandler('P2j2I0zPIOKlFcE6tLXFYrUMs', '103Sp4rD3tDTlOwHvmRgi0RplmN6Mb80oLiIc0sC0qVcW0T28t')\n",
    "auth.set_access_token('1362577829691609088-tiZkEvLZQn1JjlI7VO15lETDFIDvlK', 'Fsoz17Fi43fDH76wm33rE01urAhKofXV5Su9DgwfyTUWh')\n",
    "api = tweepy.API(auth, wait_on_rate_limit=True)"
   ]
  },
  {
   "cell_type": "code",
   "execution_count": null,
   "metadata": {},
   "outputs": [],
   "source": [
    "filename = \"test.gif\"\n",
    "request = requests.get(\"https://static.freemake.com/blog/wp-content/uploads/2012/08/troll-face.jpg\", stream=True)\n",
    "if request.status_code == 200:\n",
    "    with open(filename, 'wb') as image:\n",
    "        for chunk in request:\n",
    "            image.write(chunk)\n",
    "\n",
    "api.update_with_media(filename, status='Sebastián tiene 0 en el taller. ')\n",
    "os.remove(filename)"
   ]
  },
  {
   "cell_type": "code",
   "execution_count": null,
   "metadata": {},
   "outputs": [],
   "source": [
    "api.update_status('\"Invito a mis compañeros empanada y cerveza. Yo pago la cuenta! Atte. Sebastián\"')"
   ]
  },
  {
   "cell_type": "markdown",
   "metadata": {},
   "source": [
    "# Test"
   ]
  },
  {
   "cell_type": "code",
   "execution_count": 1,
   "metadata": {},
   "outputs": [],
   "source": [
    "import pandas as pd \n",
    "import tweepy\n",
    "import requests\n",
    "import os"
   ]
  },
  {
   "cell_type": "code",
   "execution_count": 2,
   "metadata": {},
   "outputs": [
    {
     "name": "stdout",
     "output_type": "stream",
     "text": [
      "4.0.0-alpha\n"
     ]
    }
   ],
   "source": [
    "print(tweepy.__version__)"
   ]
  },
  {
   "cell_type": "code",
   "execution_count": 4,
   "metadata": {},
   "outputs": [],
   "source": [
    "# Leer llaves\n",
    "keys = pd.read_csv(\"../archivos/no/keys.csv\", header=None)\n",
    "keys = dict(zip(keys[0],keys[1]))"
   ]
  },
  {
   "cell_type": "code",
   "execution_count": 5,
   "metadata": {},
   "outputs": [],
   "source": [
    "# Autorizar a través API\n",
    "auth = tweepy.OAuthHandler(keys['api_key'], keys['api_secret_key'])\n",
    "auth.set_access_token(keys['access_token'], keys['access_token_secret'])\n",
    "api = tweepy.API(auth, wait_on_rate_limit=True)"
   ]
  },
  {
   "cell_type": "code",
   "execution_count": 26,
   "metadata": {},
   "outputs": [],
   "source": [
    "search_words ='covid'\n",
    "date_since = \"13-08-2020\"\n",
    "date_since_pro = \"202008130000\"\n",
    "numTweets = 200"
   ]
  },
  {
   "cell_type": "code",
   "execution_count": 29,
   "metadata": {},
   "outputs": [],
   "source": [
    "tweets=tweepy.Cursor(api.search_full_archive,label='Historico', query=search_words, \n",
    "                     fromDate=date_since_pro).items(numTweets)\n",
    "\n"
   ]
  },
  {
   "cell_type": "code",
   "execution_count": 34,
   "metadata": {},
   "outputs": [],
   "source": [
    "query_text = '((COVID-19 OR Coronavirus OR COVID) Colombia) -\"RT @\"'\n",
    "\n",
    "params = dict(label = 'Historico',\n",
    "         query = query_text,\n",
    "         fromDate = '202012010000',\n",
    "         toDate = '202012310000',\n",
    "         maxResults = 100)\n",
    "\n",
    "#Cursor\n",
    "tweets = tweepy.Cursor(api.search_full_archive, **params).items(200)"
   ]
  },
  {
   "cell_type": "code",
   "execution_count": 35,
   "metadata": {},
   "outputs": [],
   "source": [
    "t_processed = []\n",
    "\n",
    "for tweet in tweets:\n",
    "    temp = []\n",
    "    if tweet.truncated:\n",
    "        temp.append(tweet.extended_tweet['full_text'])\n",
    "    else:\n",
    "        temp.append(tweet.text)\n",
    "    temp.append(tweet.created_at)\n",
    "    temp.append(tweet.user.location)\n",
    "    temp.append(tweet.id)\n",
    "    temp.append(f\"https://twitter.com/i/web/status/{tweet.id}\")\n",
    "    \n",
    "    t_processed.append(temp)"
   ]
  },
  {
   "cell_type": "code",
   "execution_count": 36,
   "metadata": {},
   "outputs": [
    {
     "data": {
      "text/html": [
       "<div>\n",
       "<style scoped>\n",
       "    .dataframe tbody tr th:only-of-type {\n",
       "        vertical-align: middle;\n",
       "    }\n",
       "\n",
       "    .dataframe tbody tr th {\n",
       "        vertical-align: top;\n",
       "    }\n",
       "\n",
       "    .dataframe thead th {\n",
       "        text-align: right;\n",
       "    }\n",
       "</style>\n",
       "<table border=\"1\" class=\"dataframe\">\n",
       "  <thead>\n",
       "    <tr style=\"text-align: right;\">\n",
       "      <th></th>\n",
       "      <th>tweet</th>\n",
       "      <th>date</th>\n",
       "      <th>user_location</th>\n",
       "      <th>id</th>\n",
       "      <th>link</th>\n",
       "    </tr>\n",
       "  </thead>\n",
       "  <tbody>\n",
       "    <tr>\n",
       "      <th>0</th>\n",
       "      <td>@CaroGC @NoticiasCaracol Te comparto la logíst...</td>\n",
       "      <td>2020-12-30 23:59:39+00:00</td>\n",
       "      <td>Medellín</td>\n",
       "      <td>1344432998536654849</td>\n",
       "      <td>https://twitter.com/i/web/status/1344432998536...</td>\n",
       "    </tr>\n",
       "    <tr>\n",
       "      <th>1</th>\n",
       "      <td>🚨🦠 Colombia de aproxima a los 43.000 fallecido...</td>\n",
       "      <td>2020-12-30 23:59:09+00:00</td>\n",
       "      <td>Riohacha</td>\n",
       "      <td>1344432871021441033</td>\n",
       "      <td>https://twitter.com/i/web/status/1344432871021...</td>\n",
       "    </tr>\n",
       "    <tr>\n",
       "      <th>2</th>\n",
       "      <td>Los orígenes de la aviación en fotos \\n \\nhttp...</td>\n",
       "      <td>2020-12-30 23:59:00+00:00</td>\n",
       "      <td>🇪🇨🇺🇸</td>\n",
       "      <td>1344432832219738118</td>\n",
       "      <td>https://twitter.com/i/web/status/1344432832219...</td>\n",
       "    </tr>\n",
       "    <tr>\n",
       "      <th>3</th>\n",
       "      <td>Coronavirus | En Colombia se confirman 1.626.4...</td>\n",
       "      <td>2020-12-30 23:58:34+00:00</td>\n",
       "      <td>Cartagena, Colombia</td>\n",
       "      <td>1344432723230928896</td>\n",
       "      <td>https://twitter.com/i/web/status/1344432723230...</td>\n",
       "    </tr>\n",
       "    <tr>\n",
       "      <th>4</th>\n",
       "      <td>El presidente Iván Duque anunció que #Colombia...</td>\n",
       "      <td>2020-12-30 23:58:32+00:00</td>\n",
       "      <td>Bucaramanga</td>\n",
       "      <td>1344432715421143040</td>\n",
       "      <td>https://twitter.com/i/web/status/1344432715421...</td>\n",
       "    </tr>\n",
       "  </tbody>\n",
       "</table>\n",
       "</div>"
      ],
      "text/plain": [
       "                                               tweet  \\\n",
       "0  @CaroGC @NoticiasCaracol Te comparto la logíst...   \n",
       "1  🚨🦠 Colombia de aproxima a los 43.000 fallecido...   \n",
       "2  Los orígenes de la aviación en fotos \\n \\nhttp...   \n",
       "3  Coronavirus | En Colombia se confirman 1.626.4...   \n",
       "4  El presidente Iván Duque anunció que #Colombia...   \n",
       "\n",
       "                       date        user_location                   id  \\\n",
       "0 2020-12-30 23:59:39+00:00             Medellín  1344432998536654849   \n",
       "1 2020-12-30 23:59:09+00:00             Riohacha  1344432871021441033   \n",
       "2 2020-12-30 23:59:00+00:00                 🇪🇨🇺🇸  1344432832219738118   \n",
       "3 2020-12-30 23:58:34+00:00  Cartagena, Colombia  1344432723230928896   \n",
       "4 2020-12-30 23:58:32+00:00          Bucaramanga  1344432715421143040   \n",
       "\n",
       "                                                link  \n",
       "0  https://twitter.com/i/web/status/1344432998536...  \n",
       "1  https://twitter.com/i/web/status/1344432871021...  \n",
       "2  https://twitter.com/i/web/status/1344432832219...  \n",
       "3  https://twitter.com/i/web/status/1344432723230...  \n",
       "4  https://twitter.com/i/web/status/1344432715421...  "
      ]
     },
     "metadata": {},
     "output_type": "display_data"
    },
    {
     "data": {
      "text/plain": [
       "(200, 5)"
      ]
     },
     "execution_count": 36,
     "metadata": {},
     "output_type": "execute_result"
    }
   ],
   "source": [
    "data = pd.DataFrame(t_processed)\n",
    "data.columns = ['tweet', 'date', 'user_location', 'id', 'link']\n",
    "display(data.head())\n",
    "data.shape"
   ]
  },
  {
   "cell_type": "code",
   "execution_count": null,
   "metadata": {},
   "outputs": [],
   "source": []
  },
  {
   "cell_type": "code",
   "execution_count": null,
   "metadata": {},
   "outputs": [],
   "source": []
  },
  {
   "cell_type": "code",
   "execution_count": null,
   "metadata": {},
   "outputs": [],
   "source": []
  },
  {
   "cell_type": "code",
   "execution_count": null,
   "metadata": {},
   "outputs": [],
   "source": []
  }
 ],
 "metadata": {
  "celltoolbar": "Slideshow",
  "kernelspec": {
   "display_name": "Python 3",
   "language": "python",
   "name": "python3"
  },
  "language_info": {
   "codemirror_mode": {
    "name": "ipython",
    "version": 3
   },
   "file_extension": ".py",
   "mimetype": "text/x-python",
   "name": "python",
   "nbconvert_exporter": "python",
   "pygments_lexer": "ipython3",
   "version": "3.7.4"
  }
 },
 "nbformat": 4,
 "nbformat_minor": 2
}
