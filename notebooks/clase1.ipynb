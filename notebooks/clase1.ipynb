{
 "cells": [
  {
   "cell_type": "markdown",
   "metadata": {
    "slideshow": {
     "slide_type": "slide"
    }
   },
   "source": [
    "<center><img src='../img/clase1/nlp.jpeg' style='height:300px; float: center; margin: 0px 15px 15px 0px'><center>\n",
    "\n",
    "### Fundamentos de Procesamiento de Lenguaje Natural (NLP)\n",
    "#### Analítica Estratégica de Datos\n",
    "<br>Fundación Universitaria Konrad Lorenz\n",
    "<br>Docente: Viviana Márquez [vivianam.penama@konradlorenz.edu.co]"
   ]
  },
  {
   "cell_type": "markdown",
   "metadata": {
    "slideshow": {
     "slide_type": "slide"
    }
   },
   "source": [
    "### Contenido \n",
    "\n",
    "• Presentación\n",
    "\n",
    "• Objetivo de la clase\n",
    "\n",
    "• Logística (Horario, plan analítico, calificaciones, herramientas, textos de referencia, etc.)\n",
    "\n",
    "• Presentaciones\n",
    "\n",
    "• ¿Qué es NLP? ¿Por qué aprenderlo?\n",
    "\n",
    "• Taller: Instalación de Python (Anaconda), control de versiones con GitHub, cuenta de desarrollador en Twitter. "
   ]
  },
  {
   "cell_type": "markdown",
   "metadata": {
    "slideshow": {
     "slide_type": "slide"
    }
   },
   "source": [
    "### Presentación\n",
    "\n",
    "<img src='../img/clase1/VivianaM.png' style='height:500px; float: left; margin: 0px 15px 15px 0px'> \n",
    "\n",
    "👋 ¡Hola! Soy Viviana Márquez\n",
    "\n",
    "🎓 MSc. Ciencia de Datos de la Universidad de San Francisco<br>\n",
    "🎓 BSc. Matemáticas de la Konrad Lorenz<br>\n",
    "🎓 Técnica en Comunicación Social<br>\n",
    "\n",
    "<img src='../img/clase1/hbo-logo.png' style='height:50px;'> **Actualmente**: Científica de Datos para HBO Latin America <br>\n",
    "<small>*Antes*: Royal Caribbean Cruises, Zimmerman Advertising, TruSTAR Technology.</small>\n",
    "\n",
    "🤖 Temas de interes: NLP, visualización de datos, creación de bots. Combinatoria y comunicación científica. "
   ]
  },
  {
   "cell_type": "markdown",
   "metadata": {
    "slideshow": {
     "slide_type": "slide"
    }
   },
   "source": [
    "### Sobre la clase de NLP\n",
    "\n",
    "\n",
    "**🎯 Objetivo**:"
   ]
  },
  {
   "cell_type": "markdown",
   "metadata": {
    "slideshow": {
     "slide_type": "fragment"
    }
   },
   "source": [
    "• Adquirir los conocimientos y las herramientas más utilizadas en la industria en el área del Procesamiento de Lenguaje Natural (NLP). **(¡Entrevistas!)**"
   ]
  },
  {
   "cell_type": "markdown",
   "metadata": {
    "slideshow": {
     "slide_type": "fragment"
    }
   },
   "source": [
    "• Ganar **experiencia** en la implementación y evaluación de diferentes aplicaciones de NLP y aplicar métodos de aprendizaje automático para este proceso en casos de la vida real. **(¡Portafolio!)**"
   ]
  },
  {
   "cell_type": "markdown",
   "metadata": {
    "slideshow": {
     "slide_type": "fragment"
    }
   },
   "source": [
    "• Entender las mejores prácticas, oportunidades y el mapa de ruta de la NLP desde la perspectiva de un líder de negocios y productos."
   ]
  },
  {
   "cell_type": "markdown",
   "metadata": {
    "slideshow": {
     "slide_type": "slide"
    }
   },
   "source": [
    "### Sobre la clase de NLP -- Logística\n",
    "\n",
    "**🗓️ Horario:** <br>\n",
    "Jueves 6:15 p.m. - 9:30 p.m. (15 minutos de descanso a las 7:45 p.m.)<br>\n",
    "*Primer bloque: Explicación holística y práctica.<br>\n",
    "Segundo bloque: Taller<br>*\n",
    "\n",
    "- Retroalimentación cada clase y dato curioso (puntualidad)"
   ]
  },
  {
   "cell_type": "markdown",
   "metadata": {
    "slideshow": {
     "slide_type": "fragment"
    }
   },
   "source": [
    "**Otra información importante:**<br>\n",
    "• Todas las clases serán grabadas<br>\n",
    "• La asistencia es obligatoria (máximo 15% de inasistencias)<br>\n",
    "• Los materiales serán subidos al aula virtual <br>\n",
    "• Los talleres deben ser entregados al aula virtual, <b>NO se permiten entregas tarde</b><br>\n",
    "• Pueden usar el equipo de Teams para hacer preguntas <br>\n",
    "• 🙈 $+1$ punto de en talleres para quién encuentre errores de ortografía"
   ]
  },
  {
   "cell_type": "markdown",
   "metadata": {
    "slideshow": {
     "slide_type": "slide"
    }
   },
   "source": [
    "#### Calendario\n",
    "\n",
    "<center><img src='../img/calend2021i.png' style='height:750px;'></center>\n"
   ]
  },
  {
   "cell_type": "markdown",
   "metadata": {
    "slideshow": {
     "slide_type": "slide"
    }
   },
   "source": [
    "#### Calificación\n",
    "\n",
    "<center><img src='../img/notas2021i.png'></center>"
   ]
  },
  {
   "cell_type": "markdown",
   "metadata": {
    "slideshow": {
     "slide_type": "slide"
    }
   },
   "source": [
    "### Textos\n",
    "\n",
    "Los materiales necesarios serán publicados en el aula virtual.\n",
    "\n",
    "Para mayor información:\n",
    "\n",
    "<img src='../img/clase1/libro1.jpg' style='height:400px; float: left; margin: 0px 15px 15px 0px'> \n",
    "<img src='../img/clase1/libro2.jpg' style='height:400px; float: left; margin: 0px 15px 15px 0px'> \n",
    "<img src='../img/clase1/libro3.jpg' style='height:400px; float: left; margin: 0px 15px 15px 0px'> "
   ]
  },
  {
   "cell_type": "markdown",
   "metadata": {
    "slideshow": {
     "slide_type": "slide"
    }
   },
   "source": [
    "# Ustedes\n",
    "\n",
    "<center><img src='../img/clase1/students.png' style='height:300px; float: center; margin: 0px 15px 15px 0px'><center>\n",
    "    \n",
    "<center><a href='https://pollev.com/vivianamarqu288'>https://pollev.com/vivianamarqu288</a></center>"
   ]
  },
  {
   "cell_type": "markdown",
   "metadata": {
    "slideshow": {
     "slide_type": "slide"
    }
   },
   "source": [
    "# 🤔 ¿Para qué aprender NLP?"
   ]
  },
  {
   "cell_type": "markdown",
   "metadata": {
    "slideshow": {
     "slide_type": "slide"
    }
   },
   "source": [
    "### ¿Cómo le hablamos a Siri? ¿Siri habla español?\n",
    "\n",
    "<center><br>\n",
    "<img src='../img/clase1/siri3.jpg' style='height:350px;'>"
   ]
  },
  {
   "cell_type": "markdown",
   "metadata": {
    "slideshow": {
     "slide_type": "notes"
    }
   },
   "source": [
    "Nosotros NO le hablamos a los asistentes virtuales en lenguaje de programación, le hablamos en nuestro idioma natural-- el idioma en el que todos nos comunicamos. \n",
    "\n",
    "Los computadores solo pueden procesar datos binarios-- 0s y 1s.\n",
    "\n",
    "¿Cómo hacemos para que las máquinas nos entiendan? Ahí es donde el Procesamiento de Lenguaje Natural (NLP) entra en acción."
   ]
  },
  {
   "cell_type": "markdown",
   "metadata": {
    "slideshow": {
     "slide_type": "slide"
    }
   },
   "source": [
    "### Textos y Big Data\n",
    "\n",
    "<center><br>\n",
    "<img src='../img/clase1/Unstructured.png' style='height:350px;'>\n",
    "</center>\n",
    "\n",
    "• Existen más de 6.500 idiomas en el mundo.\n",
    "\n",
    "• 79% de los datos producidos son no estructurados --> La gran mayoría son textos.\n",
    "\n",
    "• Se están generando millones de datos en este momento: WhatsApp, Twitter, YouTube, etc."
   ]
  },
  {
   "cell_type": "markdown",
   "metadata": {
    "slideshow": {
     "slide_type": "notes"
    }
   },
   "source": [
    "Los idiomas son una forma de representar información y nosotros los humanos interpretamos esta información."
   ]
  },
  {
   "cell_type": "markdown",
   "metadata": {
    "slideshow": {
     "slide_type": "slide"
    }
   },
   "source": [
    "### NLP\n",
    "\n",
    "<center><br>\n",
    "<img src='../img/clase1/nlp.png' style='height:350px;'>\n",
    "</center>\n",
    "\n",
    "• Es el área de las ciencias de la computación (inteligencia artificial) que se encarga de tratar con los lenguajes humanos y derivar información valiosa de ellos.\n",
    "\n",
    "• Existen docenas de métodos y estrategias para resolver un problema dado."
   ]
  },
  {
   "cell_type": "markdown",
   "metadata": {
    "slideshow": {
     "slide_type": "slide"
    }
   },
   "source": [
    "##### NLP en el mundo real\n",
    "# Modelado de lenguaje\n",
    "\n",
    "<center><br>\n",
    "<img src='../img/clase1/task1.png' style='height:400px;'>\n",
    "</center>\n",
    "\n",
    "• Predecir una frase en base a la historia de las palabras anteriores. "
   ]
  },
  {
   "cell_type": "markdown",
   "metadata": {
    "slideshow": {
     "slide_type": "notes"
    }
   },
   "source": [
    "El objetivo de esta tarea es aprender la probabilidad de que una secuencia de palabras aparezcan en un lenguaje. \n",
    "\n",
    "Útil en: \n",
    "- Reconocimiento de patrones, reconocimiento de textos a mano, traducción, corrección de ortografía, funciones de auto-completar."
   ]
  },
  {
   "cell_type": "markdown",
   "metadata": {
    "slideshow": {
     "slide_type": "slide"
    }
   },
   "source": [
    "##### NLP en el mundo real\n",
    "# Clasificación de texto\n",
    "\n",
    "<center><br>\n",
    "<img src='../img/clase1/spam.jpg' style='height:350px;'>\n",
    "</center>\n",
    "\n",
    "• Se encarga de poner los textos en diferentes categorias basado en su contenido.\n",
    "\n",
    "• Ejemplo más famoso: Correo basura o no."
   ]
  },
  {
   "cell_type": "markdown",
   "metadata": {
    "slideshow": {
     "slide_type": "notes"
    }
   },
   "source": [
    "La tarea más popular de NLP\n",
    "\n",
    "Análisis de sentimiento, basura o no, correo principal, detección de plagio, detección de bots."
   ]
  },
  {
   "cell_type": "markdown",
   "metadata": {
    "slideshow": {
     "slide_type": "slide"
    }
   },
   "source": [
    "##### NLP en el mundo real\n",
    "# Extracción de información\n",
    "\n",
    "<center><br>\n",
    "<img src='../img/clase1/whatsapp.jpg' style='height:400px;'>\n",
    "</center>\n",
    "\n",
    "• Como su nombre lo dice, se encarga de extraer información relevante del texto.\n",
    "\n",
    "• Ejemplos: Eventos de calendario y entidades mencionadas."
   ]
  },
  {
   "cell_type": "markdown",
   "metadata": {
    "slideshow": {
     "slide_type": "slide"
    }
   },
   "source": [
    "##### NLP en el mundo real\n",
    "# Recuperación de información\n",
    "\n",
    "<center><br>\n",
    "<img src='../img/clase1/klg.png' style='height:350px;'>\n",
    "</center>\n",
    "\n",
    "• Encontrar documentos en un conjunto de datos grande relevantes a la busqueda de un usuario. \n",
    "\n",
    "• Relacionado con los resumenes de texto."
   ]
  },
  {
   "cell_type": "markdown",
   "metadata": {
    "slideshow": {
     "slide_type": "slide"
    }
   },
   "source": [
    "##### NLP en el mundo real\n",
    "# Chatbots\n",
    "\n",
    "<center><br>\n",
    "<img src='../img/clase1/chatbot.png' style='height:400px;'>\n",
    "</center>\n",
    "\n",
    "• Sistemas que pueden responder preguntas automáticamente. "
   ]
  },
  {
   "cell_type": "markdown",
   "metadata": {
    "slideshow": {
     "slide_type": "slide"
    }
   },
   "source": [
    "##### NLP en el mundo real\n",
    "# Traducción\n",
    "\n",
    "<center><br>\n",
    "<img src='../img/clase1/deepl.png' style='height:400px;'>\n",
    "</center>"
   ]
  },
  {
   "cell_type": "markdown",
   "metadata": {
    "slideshow": {
     "slide_type": "slide"
    }
   },
   "source": [
    "##### NLP en el mundo real\n",
    "# Modelado de temas\n",
    "\n",
    "Ejemplo: [Aquí](http://vivianamarquez.com/Twitter1K/plots/ldaESP.html)\n",
    "\n",
    "• Descubrir la estructura de una colección de documentos. "
   ]
  },
  {
   "cell_type": "markdown",
   "metadata": {
    "slideshow": {
     "slide_type": "slide"
    }
   },
   "source": [
    "##### NLP en el mundo real\n",
    "# Monitoreo de redes sociales\n",
    "\n",
    "<center><br>\n",
    "<img src='../img/clase1/redes.png' style='height:350px;'>\n",
    "</center>\n",
    "\n",
    "• Las empresas quieren entender a sus clientes (campañas de mercadeo específicas)\n",
    "\n",
    "• Tomar ventaja de la retroalimentación explícita e implícita de sus clientes."
   ]
  },
  {
   "cell_type": "markdown",
   "metadata": {
    "slideshow": {
     "slide_type": "slide"
    }
   },
   "source": [
    "##### NLP en el mundo real\n",
    "# ¡Y más!\n"
   ]
  },
  {
   "cell_type": "markdown",
   "metadata": {
    "slideshow": {
     "slide_type": "fragment"
    }
   },
   "source": [
    "# Todos los días surgen problemas únicos.\n"
   ]
  },
  {
   "cell_type": "markdown",
   "metadata": {
    "slideshow": {
     "slide_type": "fragment"
    }
   },
   "source": [
    "Análisis de emojis: \n",
    " - [Instagram](https://instagram-engineering.com/emojineering-part-1-machine-learning-for-emoji-trendsmachine-learning-for-emoji-trends-7f5f9cb979ad)\n",
    " \n",
    " - [Pucheros 🥺](https://blog.emojipedia.org/a-new-king-pleading-face/)\n",
    " \n",
    " - [Video](https://www.youtube.com/watch?v=Swa3yiNwDBA)"
   ]
  },
  {
   "cell_type": "markdown",
   "metadata": {
    "slideshow": {
     "slide_type": "slide"
    }
   },
   "source": [
    "# 😫 🤯 ¿Por qué es NLP difícil?\n"
   ]
  },
  {
   "cell_type": "markdown",
   "metadata": {
    "slideshow": {
     "slide_type": "slide"
    }
   },
   "source": [
    "<center><img src='../img/clase1/chicken.jpg'>\n",
    "<center>    \n",
    "    <big>El pollo está listo para comer</big>\n",
    "</center>"
   ]
  },
  {
   "cell_type": "markdown",
   "metadata": {
    "slideshow": {
     "slide_type": "notes"
    }
   },
   "source": [
    "¿El pollo está listo para ser comido o está listo para que le den de comer?"
   ]
  },
  {
   "cell_type": "markdown",
   "metadata": {
    "slideshow": {
     "slide_type": "fragment"
    }
   },
   "source": [
    "### Ambigüedad"
   ]
  },
  {
   "cell_type": "markdown",
   "metadata": {
    "slideshow": {
     "slide_type": "slide"
    }
   },
   "source": [
    "<center><img src='../img/clase1/perro.jpg' style='height:350px;'>\n",
    "<center>    \n",
    "    <big>\"El perro mordió al hombre\" vs \"El hombre mordió al perro\"</big>\n",
    "</center>"
   ]
  },
  {
   "cell_type": "markdown",
   "metadata": {
    "slideshow": {
     "slide_type": "fragment"
    }
   },
   "source": [
    "### Conocimiento popular"
   ]
  },
  {
   "cell_type": "markdown",
   "metadata": {
    "slideshow": {
     "slide_type": "slide"
    }
   },
   "source": [
    "<center><img src='../img/clase1/jessica.png'>\n",
    "<center>    \n",
    "    <big>\"Jessica\"</big>\n",
    "</center>"
   ]
  },
  {
   "cell_type": "markdown",
   "metadata": {
    "slideshow": {
     "slide_type": "fragment"
    }
   },
   "source": [
    "### Creatividad"
   ]
  },
  {
   "cell_type": "markdown",
   "metadata": {
    "slideshow": {
     "slide_type": "slide"
    }
   },
   "source": [
    "<center><img src='../img/clase1/tequiero.gif'>\n",
    "<center>    \n",
    "    <big>¿Cómo se dice \"Te quiero\" en inglés?</big>\n",
    "</center>"
   ]
  },
  {
   "cell_type": "markdown",
   "metadata": {
    "slideshow": {
     "slide_type": "fragment"
    }
   },
   "source": [
    "### Diversidad en los idiomas"
   ]
  },
  {
   "cell_type": "markdown",
   "metadata": {
    "slideshow": {
     "slide_type": "notes"
    }
   },
   "source": [
    "Empalagarse, estrenar, consuegro, antier"
   ]
  },
  {
   "cell_type": "markdown",
   "metadata": {
    "slideshow": {
     "slide_type": "slide"
    }
   },
   "source": [
    "### 🤓 Recapitulando: Hoy aprendimos...\n",
    "\n",
    "- ¿Qué es NLP?\n",
    "- Aplicaciones más populares en la vida real\n",
    "- Retos de NLP"
   ]
  },
  {
   "cell_type": "markdown",
   "metadata": {
    "slideshow": {
     "slide_type": "slide"
    }
   },
   "source": [
    "# ¡Tiempo de taller!\n",
    "\n",
    "<center>\n",
    "<img src='../img/taller.gif'>"
   ]
  },
  {
   "cell_type": "markdown",
   "metadata": {
    "slideshow": {
     "slide_type": "fragment"
    }
   },
   "source": [
    "**Taller # 1:** Configuración inicial\n",
    "\n",
    "**Fecha de entrega:** Febrero 25, 2021. (Antes del inicio de la próxima clase)"
   ]
  },
  {
   "cell_type": "markdown",
   "metadata": {
    "slideshow": {
     "slide_type": "slide"
    }
   },
   "source": [
    "#### Partes del taller:\n",
    "\n",
    "1. Instalación de Python (Anaconda)\n",
    "\n",
    "2. Crear cuenta de GitHub y subir un archivo\n",
    "\n",
    "3. Obtener cuenta de desarrollador en Twitter\n",
    "\n",
    "\n",
    "#### Formato de entrega: \n",
    "- Enviar los 3 pantallazos al aula virtual (si el aula virtual aún  no está dispinible, enviar correo a `vivianam.penama@konradlorenz.edu.co`)\n"
   ]
  },
  {
   "cell_type": "markdown",
   "metadata": {
    "slideshow": {
     "slide_type": "slide"
    }
   },
   "source": [
    "### Parte 1: Instalación de Python \n",
    "\n",
    "⚠️ (Nota: <a href='https://colab.research.google.com/'> Google Colab</a> & <a href='https://codeshare.io/2BwXmm'>Codeshare</a>)\n",
    "\n",
    "Instalar versión Anaconda --- Python 3.x\n",
    "\n",
    "https://www.anaconda.com/products/individual\n",
    "\n",
    "\n",
    "Aula virtual: \n",
    "- Abrir `Anaconda Power Shell` y tomar pantallazo del comando: ``python --version``\n",
    "- Pantallazo: ``jupyter notebook``\n",
    "\n",
    "<center>\n",
    "<img src='../img/clase1/Pantallazo2.png' style='width:450px;'><img src='../img/clase1/Jupyter.png' style='width:450px;'>"
   ]
  },
  {
   "cell_type": "markdown",
   "metadata": {
    "slideshow": {
     "slide_type": "slide"
    }
   },
   "source": [
    "### Parte 2: Crear cuenta de GitHub\n",
    "\n",
    "De preferencia, usar el email institucional (.edu)\n",
    "\n",
    "https://github.com/\n",
    "\n",
    "\n",
    "Aula virtual: \n",
    "- Pantallazo: Cuenta de GitHub con repositorio y archivo en el repositorio"
   ]
  },
  {
   "cell_type": "markdown",
   "metadata": {
    "slideshow": {
     "slide_type": "slide"
    }
   },
   "source": [
    "<img src='../img/clase1/gh2.jpeg' style='height:300px; float: left; margin: 0px 30px 15px 0px'>  \n",
    "\n",
    "#### ¿Por qué usar GitHub?\n",
    "\n",
    "- Red social de los programadores\n",
    "- Portafolio virtual\n",
    "- Se utiliza en la industria\n",
    "- Control de versiones\n",
    "- Páginas web gratis"
   ]
  },
  {
   "cell_type": "markdown",
   "metadata": {
    "slideshow": {
     "slide_type": "slide"
    }
   },
   "source": [
    "<center><img src='../img/clase1/fire.png' style='height:250px;'> </center>\n",
    "\n",
    "#### ¿Cómo usar GitHub? Lista de comandos más usados\n",
    "\n",
    "Ver documento ``Github 101``"
   ]
  },
  {
   "cell_type": "markdown",
   "metadata": {
    "slideshow": {
     "slide_type": "slide"
    }
   },
   "source": [
    "### Parte 3: Obtener cuenta de desarrollador en Twitter\n",
    "\n",
    "\n",
    "https://developer.twitter.com/en/apply-for-access\n",
    "\n",
    "\n",
    "Aula virtual: \n",
    "- Pantallazo: Aplicación a cuenta de desarrollador.\n",
    "- Si lo rechazan, volver a aplicar.\n",
    "\n",
    "<center>\n",
    "<img src='../img/clase1/twitterdev-tutorial-11.png' style='width:450px;'>"
   ]
  },
  {
   "cell_type": "markdown",
   "metadata": {
    "slideshow": {
     "slide_type": "slide"
    }
   },
   "source": [
    "<center>\n",
    "    <img src='../img/fin.png' style='height:300px; float: center; margin: 0px 15px 15px 0px'>\n",
    "\n",
    "### Proxima clase: Repaso de Python y Adquisción de Textos\n",
    "\n",
    "### Retroalimentación: \n",
    "\n",
    "<center><a href='https://pollev.com/vivianamarqu288'>https://pollev.com/vivianamarqu288</a></center>"
   ]
  }
 ],
 "metadata": {
  "celltoolbar": "Slideshow",
  "kernelspec": {
   "display_name": "Python 3",
   "language": "python",
   "name": "python3"
  },
  "language_info": {
   "codemirror_mode": {
    "name": "ipython",
    "version": 3
   },
   "file_extension": ".py",
   "mimetype": "text/x-python",
   "name": "python",
   "nbconvert_exporter": "python",
   "pygments_lexer": "ipython3",
   "version": "3.7.4"
  }
 },
 "nbformat": 4,
 "nbformat_minor": 2
}
