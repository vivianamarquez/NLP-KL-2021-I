{
 "cells": [
  {
   "cell_type": "markdown",
   "metadata": {
    "slideshow": {
     "slide_type": "slide"
    }
   },
   "source": [
    "<center><img src='../img/clase1516/presentation.jpeg' style='height:400px; float: center; margin: 0px 15px 15px 0px'></center>\n",
    "\n",
    "### Estudios de Caso\n",
    "#### NLP - Analítica Estratégica de Datos\n",
    "<br><b>Fundación Universitaria Konrad Lorenz</b>\n",
    "<br>Docente: Viviana Márquez [vivianam.penama@konradlorenz.edu.co](mailto:vivianama.penam@konradlorenz.edu.co)\n",
    "<br>Clase #15: Junio 3, 2021"
   ]
  },
  {
   "cell_type": "markdown",
   "metadata": {
    "slideshow": {
     "slide_type": "slide"
    }
   },
   "source": [
    "# Sobre las notas 📝 \n",
    "* clase pasada\n",
    "\n",
    "# Dinámica de la presentación\n",
    "- Al menos 12 grupos pasarán\n",
    "- Elegidos al azar \n",
    "- Música para indicar el tiempo"
   ]
  },
  {
   "cell_type": "markdown",
   "metadata": {
    "slideshow": {
     "slide_type": "slide"
    }
   },
   "source": [
    "# 🥁 Quién será el primero [*](https://www.youtube.com/watch?v=8GcBGhV047A&ab_channel=bananamonkeybananamonkey)"
   ]
  },
  {
   "cell_type": "code",
   "execution_count": null,
   "metadata": {
    "slideshow": {
     "slide_type": "slide"
    }
   },
   "outputs": [],
   "source": [
    "import random\n",
    "import pandas as pd\n",
    "\n",
    "url = 'https://docs.google.com/spreadsheets/d/1Ern0oU03LmfpdXzx3cf-oBIRc6G7evEV0MFVUR1aw34/edit#gid=0'\n",
    "new_url = url.rsplit(\"/\",1)[0] + \"/gviz/tq?tqx=out:csv\"\n",
    "\n",
    "data = pd.read_csv(new_url)\n",
    "data['Grupo \\n(el # no importa) Grupo \\nLas MateChiks '] = data['Grupo \\n(el # no importa) Grupo \\nLas MateChiks '].fillna(method='ffill')\n",
    "data['Nombre Completo'] = data['Nombre Viviana Alejandra'] + \" \" + data['Apellido Márquez Manotas']\n",
    "data['¿Ya pasó?'] = False"
   ]
  },
  {
   "cell_type": "code",
   "execution_count": null,
   "metadata": {
    "slideshow": {
     "slide_type": "slide"
    }
   },
   "outputs": [],
   "source": [
    "def update(row, grupo):    \n",
    "    if row['Grupo \\n(el # no importa) Grupo \\nLas MateChiks '] == grupo:\n",
    "        return True\n",
    "    else:\n",
    "        return row['¿Ya pasó?']\n",
    "\n",
    "    \n",
    "def los_elegidos():\n",
    "    try:\n",
    "        grupos = data[~data['¿Ya pasó?']]['Grupo \\n(el # no importa) Grupo \\nLas MateChiks '].unique()\n",
    "\n",
    "        num = random.choice(grupos)\n",
    "        print(\"Los elegidos son... 🥁🥁🥁\")\n",
    "        print()\n",
    "        print(f\"{num}\")\n",
    "\n",
    "        temp = data[data['Grupo \\n(el # no importa) Grupo \\nLas MateChiks ']==num]\n",
    "        titulo = temp.iloc[0]['Título del proyecto Word2Vec de los artículos de matemáticas de la última década  ']\n",
    "        integrantes = temp['Nombre Completo'].values\n",
    "\n",
    "        for i in integrantes:\n",
    "            print(f\"     • {i}\")\n",
    "\n",
    "        print()\n",
    "        print(f\"Con el tema: {titulo}\")\n",
    "\n",
    "        # Actualizar\n",
    "        data['¿Ya pasó?'] = data.apply(lambda row: update(row, num), axis=1)\n",
    "    except:\n",
    "        print(\"¡Ya pasaron todos! 🥳🥳🥳\")"
   ]
  },
  {
   "cell_type": "code",
   "execution_count": null,
   "metadata": {
    "slideshow": {
     "slide_type": "slide"
    }
   },
   "outputs": [],
   "source": [
    "los_elegidos()"
   ]
  },
  {
   "cell_type": "code",
   "execution_count": null,
   "metadata": {},
   "outputs": [],
   "source": [
    "# data.to_csv(\"quienpaso.csv\")"
   ]
  },
  {
   "cell_type": "markdown",
   "metadata": {
    "slideshow": {
     "slide_type": "slide"
    }
   },
   "source": [
    "<center>\n",
    "<img src='../img/fin.png' style='height:300px; float: center; margin: 0px 15px 15px 0px'>\n",
    "\n",
    "### Próximas clases: Proyectos Finales\n",
    "   "
   ]
  }
 ],
 "metadata": {
  "celltoolbar": "Slideshow",
  "kernelspec": {
   "display_name": "Python 3",
   "language": "python",
   "name": "python3"
  },
  "language_info": {
   "codemirror_mode": {
    "name": "ipython",
    "version": 3
   },
   "file_extension": ".py",
   "mimetype": "text/x-python",
   "name": "python",
   "nbconvert_exporter": "python",
   "pygments_lexer": "ipython3",
   "version": "3.7.4"
  }
 },
 "nbformat": 4,
 "nbformat_minor": 2
}
