{
 "cells": [
  {
   "cell_type": "markdown",
   "metadata": {
    "slideshow": {
     "slide_type": "slide"
    }
   },
   "source": [
    "<center><img src='../img/clase13/intro.jpg' style='height:300px; float: center; margin: 0px 15px 15px 0px'></center>\n",
    "\n",
    "### Análisis de sentimiento\n",
    "#### NLP - Analítica Estratégica de Datos\n",
    "<br><b>Fundación Universitaria Konrad Lorenz</b>\n",
    "<br>Docente: Viviana Márquez [vivianam.penama@konradlorenz.edu.co](mailto:vivianama.penam@konradlorenz.edu.co)\n",
    "<br>Clase #13: Mayo 20, 2021"
   ]
  },
  {
   "cell_type": "markdown",
   "metadata": {
    "slideshow": {
     "slide_type": "slide"
    }
   },
   "source": [
    "# Retroalimentación taller 11\n",
    "\n",
    "- Bonus 🥳\n",
    "- ¡Cuidado con las [llaves](https://twitter.com/NLPconVivi/status/1327101254724694016)! "
   ]
  },
  {
   "cell_type": "markdown",
   "metadata": {
    "slideshow": {
     "slide_type": "slide"
    }
   },
   "source": [
    "### 🚀 Hoy veremos...\n",
    "\n",
    "- Análisis de Sentimiento: Etiquetados vs No etiquetados\n",
    "- Límitaciones\n",
    "- Librerias de Python:\n",
    "    - VADER\n",
    "    - TextBlob\n",
    "    - Flair\n",
    " "
   ]
  },
  {
   "cell_type": "markdown",
   "metadata": {
    "slideshow": {
     "slide_type": "slide"
    }
   },
   "source": [
    "### 🥺 Análisis de sentimiento\n",
    "\n",
    "- Muy útil en un contexto de negocio \n",
    "- Idea general: Asignar un puntaje de sentimiento de -1 a 1\n",
    "- Podemos aplicar los modelos que ya conocemos de clasificación (etiquetados)\n",
    "- ¿Y si no tenemos etiquetas? 🤔"
   ]
  },
  {
   "cell_type": "markdown",
   "metadata": {
    "slideshow": {
     "slide_type": "slide"
    }
   },
   "source": [
    "### 😭 Limitaciones \n",
    "\n",
    "<br>\n",
    "<center><img src='../img/clase13/posneg.jpg' style='height:300px; float: center; margin: 0px 15px 15px 0px'></center>\n",
    " "
   ]
  },
  {
   "cell_type": "markdown",
   "metadata": {
    "slideshow": {
     "slide_type": "slide"
    }
   },
   "source": [
    "### 😭 Limitaciones \n",
    "\n",
    "<br>\n",
    "<center><img src='../img/clase13/tragicom.jpg' style='height:300px; float: center; margin: 0px 15px 15px 0px'></center>\n",
    "\n",
    "#### \"El hotel estaba horrible, pero los empleados fueron muy amables\"\n",
    " "
   ]
  },
  {
   "cell_type": "markdown",
   "metadata": {
    "slideshow": {
     "slide_type": "slide"
    }
   },
   "source": [
    "### 😭 Limitaciones \n",
    "\n",
    "<br>\n",
    "<center><img src='../img/clase13/sarcasmo2.png' style='height:350px; float: center; margin: 0px 15px 15px 0px'></center>\n",
    "\n",
    " "
   ]
  },
  {
   "cell_type": "markdown",
   "metadata": {
    "slideshow": {
     "slide_type": "slide"
    }
   },
   "source": [
    "### 😭 Limitaciones \n",
    "\n",
    "<br>\n",
    "<center><img src='../img/clase13/ingles.jpg' style='height:450px; float: center; margin: 0px 15px 15px 0px'></center>"
   ]
  },
  {
   "cell_type": "markdown",
   "metadata": {
    "slideshow": {
     "slide_type": "slide"
    }
   },
   "source": [
    "### 😭 Limitaciones \n",
    "\n",
    "<br>\n",
    "<center><img src='../img/clase13/callar.jpeg' style='height:250px; float: center; margin: 0px 15px 15px 0px'></center>\n",
    "\n",
    " Referencia [(1)](https://towardsdatascience.com/fine-grained-sentiment-analysis-in-python-part-1-2697bb111ed4)"
   ]
  },
  {
   "cell_type": "markdown",
   "metadata": {
    "slideshow": {
     "slide_type": "slide"
    }
   },
   "source": [
    "### Modelos basados en reglas\n",
    "\n",
    "Utilizan puntuaciones pre-definidas para cada palabra y determinar el resultado de una frase sacando el promedio. (También son capaces de detectar modificadores). \n",
    "\n",
    "😭 Limitación: Funciona sólo en inglés\n",
    "\n",
    "- [**Textblob**](https://textblob.readthedocs.io/en/dev/): También ofrece puntuación de subjetividad\n",
    "- [**Vader**](https://github.com/cjhutto/vaderSentiment) (Valence Aware Dictionary and sEntiment Reasoner): Se enfoca en textos de redes sociales, es decir, toma en cuenta vocabulario repetitivo, uso copioso de la puntuación, mayúsculas y emojis. \n",
    "\n",
    "`pip install vaderSentiment`\n",
    "\n",
    "`pip install textblob`\n"
   ]
  },
  {
   "cell_type": "code",
   "execution_count": 9,
   "metadata": {
    "slideshow": {
     "slide_type": "slide"
    }
   },
   "outputs": [],
   "source": [
    "ejemplo1 = \"At least it isn't a horrible book.\"\n",
    "ejemplo2 = \"Make sure you :) or :D today!\"\n",
    "ejemplo3 = \"Goku is very funny\"\n",
    "ejemplo4 = \"Goku is SO FUNNY!!!!!\"\n",
    "ejemplo5 = \"Bogota has a metro\""
   ]
  },
  {
   "cell_type": "code",
   "execution_count": 25,
   "metadata": {
    "slideshow": {
     "slide_type": "fragment"
    }
   },
   "outputs": [
    {
     "data": {
      "text/plain": [
       "Sentiment(polarity=0.325, subjectivity=1.0)"
      ]
     },
     "execution_count": 25,
     "metadata": {},
     "output_type": "execute_result"
    }
   ],
   "source": [
    "from textblob import TextBlob \n",
    "\n",
    "TextBlob(ejemplo3).sentiment"
   ]
  },
  {
   "cell_type": "code",
   "execution_count": 13,
   "metadata": {
    "slideshow": {
     "slide_type": "fragment"
    }
   },
   "outputs": [
    {
     "data": {
      "text/plain": [
       "{'neg': 0.134, 'neu': 0.593, 'pos': 0.273, 'compound': 0.5187}"
      ]
     },
     "execution_count": 13,
     "metadata": {},
     "output_type": "execute_result"
    }
   ],
   "source": [
    "from vaderSentiment.vaderSentiment import SentimentIntensityAnalyzer\n",
    "\n",
    "vader = SentimentIntensityAnalyzer()\n",
    "vader.polarity_scores(\"It was a horrible hotel but at least the employees were kind\")"
   ]
  },
  {
   "cell_type": "code",
   "execution_count": 20,
   "metadata": {
    "slideshow": {
     "slide_type": "slide"
    }
   },
   "outputs": [
    {
     "data": {
      "text/html": [
       "<div>\n",
       "<style scoped>\n",
       "    .dataframe tbody tr th:only-of-type {\n",
       "        vertical-align: middle;\n",
       "    }\n",
       "\n",
       "    .dataframe tbody tr th {\n",
       "        vertical-align: top;\n",
       "    }\n",
       "\n",
       "    .dataframe thead th {\n",
       "        text-align: right;\n",
       "    }\n",
       "</style>\n",
       "<table border=\"1\" class=\"dataframe\">\n",
       "  <thead>\n",
       "    <tr style=\"text-align: right;\">\n",
       "      <th></th>\n",
       "      <th>tweet</th>\n",
       "      <th>date</th>\n",
       "      <th>link</th>\n",
       "    </tr>\n",
       "  </thead>\n",
       "  <tbody>\n",
       "    <tr>\n",
       "      <th>0</th>\n",
       "      <td>If you've ever worried about facial recognition, you're not alone. https://t.co/RvZrwxMzPH</td>\n",
       "      <td>2021-05-20 15:07:58</td>\n",
       "      <td>https://twitter.com/i/web/status/1395395883814907904</td>\n",
       "    </tr>\n",
       "    <tr>\n",
       "      <th>1</th>\n",
       "      <td>ostdoc on Proton Structure Studies with Machine Learning (Theory) — AcademicTransfer https://t.co/Iwz0cPVieS #ai #ml #dl</td>\n",
       "      <td>2021-05-20 15:07:50</td>\n",
       "      <td>https://twitter.com/i/web/status/1395395850663170053</td>\n",
       "    </tr>\n",
       "    <tr>\n",
       "      <th>2</th>\n",
       "      <td>Is Artificial Intelligence/Machine Learning Real? \\n\\nAnother strong program 1 PM today online by Hudson Valley Direct Marketing Association  https://t.co/knNT9pKcvq\\ncbsi Services Inc. \\n#AI #ArtificialInteligence #digitalmarketing #machinelearning #datascience #dataanalytics</td>\n",
       "      <td>2021-05-20 15:07:44</td>\n",
       "      <td>https://twitter.com/i/web/status/1395395823220006915</td>\n",
       "    </tr>\n",
       "    <tr>\n",
       "      <th>3</th>\n",
       "      <td>End-to-End IoT analytics and machine learning with Azure Data and AI services https://t.co/ooJt94cvZ7</td>\n",
       "      <td>2021-05-20 15:06:46</td>\n",
       "      <td>https://twitter.com/i/web/status/1395395582819282946</td>\n",
       "    </tr>\n",
       "    <tr>\n",
       "      <th>4</th>\n",
       "      <td>Graph algorithms combined with machine learning offer a more modern and intelligent approach in fighting, monitoring, and investigating illicit activity. Learn more next week with @AmerBanker.\\n\\nhttps://t.co/ZTYcVkeT9j\\n\\n#banking #fintech #fraud #finance #graphanalytics #graphDB</td>\n",
       "      <td>2021-05-20 15:06:30</td>\n",
       "      <td>https://twitter.com/i/web/status/1395395514070441986</td>\n",
       "    </tr>\n",
       "  </tbody>\n",
       "</table>\n",
       "</div>"
      ],
      "text/plain": [
       "                                                                                                                                                                                                                                                                                       tweet  \\\n",
       "0                                                                                                                                                                                                 If you've ever worried about facial recognition, you're not alone. https://t.co/RvZrwxMzPH   \n",
       "1                                                                                                                                                                   ostdoc on Proton Structure Studies with Machine Learning (Theory) — AcademicTransfer https://t.co/Iwz0cPVieS #ai #ml #dl   \n",
       "2      Is Artificial Intelligence/Machine Learning Real? \\n\\nAnother strong program 1 PM today online by Hudson Valley Direct Marketing Association  https://t.co/knNT9pKcvq\\ncbsi Services Inc. \\n#AI #ArtificialInteligence #digitalmarketing #machinelearning #datascience #dataanalytics   \n",
       "3                                                                                                                                                                                      End-to-End IoT analytics and machine learning with Azure Data and AI services https://t.co/ooJt94cvZ7   \n",
       "4  Graph algorithms combined with machine learning offer a more modern and intelligent approach in fighting, monitoring, and investigating illicit activity. Learn more next week with @AmerBanker.\\n\\nhttps://t.co/ZTYcVkeT9j\\n\\n#banking #fintech #fraud #finance #graphanalytics #graphDB   \n",
       "\n",
       "                  date                                                  link  \n",
       "0  2021-05-20 15:07:58  https://twitter.com/i/web/status/1395395883814907904  \n",
       "1  2021-05-20 15:07:50  https://twitter.com/i/web/status/1395395850663170053  \n",
       "2  2021-05-20 15:07:44  https://twitter.com/i/web/status/1395395823220006915  \n",
       "3  2021-05-20 15:06:46  https://twitter.com/i/web/status/1395395582819282946  \n",
       "4  2021-05-20 15:06:30  https://twitter.com/i/web/status/1395395514070441986  "
      ]
     },
     "execution_count": 20,
     "metadata": {},
     "output_type": "execute_result"
    }
   ],
   "source": [
    "import pandas as pd\n",
    "\n",
    "data = pd.read_csv(\"../archivos/machine_learning.csv\")\n",
    "data.head()"
   ]
  },
  {
   "cell_type": "code",
   "execution_count": 26,
   "metadata": {
    "slideshow": {
     "slide_type": "slide"
    }
   },
   "outputs": [
    {
     "data": {
      "text/html": [
       "<div>\n",
       "<style scoped>\n",
       "    .dataframe tbody tr th:only-of-type {\n",
       "        vertical-align: middle;\n",
       "    }\n",
       "\n",
       "    .dataframe tbody tr th {\n",
       "        vertical-align: top;\n",
       "    }\n",
       "\n",
       "    .dataframe thead th {\n",
       "        text-align: right;\n",
       "    }\n",
       "</style>\n",
       "<table border=\"1\" class=\"dataframe\">\n",
       "  <thead>\n",
       "    <tr style=\"text-align: right;\">\n",
       "      <th></th>\n",
       "      <th>tweet</th>\n",
       "      <th>date</th>\n",
       "      <th>link</th>\n",
       "      <th>sentimiento_vader</th>\n",
       "      <th>sentimiento_textblob</th>\n",
       "    </tr>\n",
       "  </thead>\n",
       "  <tbody>\n",
       "    <tr>\n",
       "      <th>0</th>\n",
       "      <td>If you've ever worried about facial recognition, you're not alone. https://t.co/RvZrwxMzPH</td>\n",
       "      <td>2021-05-20 15:07:58</td>\n",
       "      <td>https://twitter.com/i/web/status/1395395883814907904</td>\n",
       "      <td>-0.1179</td>\n",
       "      <td>0.000000</td>\n",
       "    </tr>\n",
       "    <tr>\n",
       "      <th>1</th>\n",
       "      <td>ostdoc on Proton Structure Studies with Machine Learning (Theory) — AcademicTransfer https://t.co/Iwz0cPVieS #ai #ml #dl</td>\n",
       "      <td>2021-05-20 15:07:50</td>\n",
       "      <td>https://twitter.com/i/web/status/1395395850663170053</td>\n",
       "      <td>0.0000</td>\n",
       "      <td>0.000000</td>\n",
       "    </tr>\n",
       "    <tr>\n",
       "      <th>2</th>\n",
       "      <td>Is Artificial Intelligence/Machine Learning Real? \\n\\nAnother strong program 1 PM today online by Hudson Valley Direct Marketing Association  https://t.co/knNT9pKcvq\\ncbsi Services Inc. \\n#AI #ArtificialInteligence #digitalmarketing #machinelearning #datascience #dataanalytics</td>\n",
       "      <td>2021-05-20 15:07:44</td>\n",
       "      <td>https://twitter.com/i/web/status/1395395823220006915</td>\n",
       "      <td>0.5106</td>\n",
       "      <td>0.033333</td>\n",
       "    </tr>\n",
       "    <tr>\n",
       "      <th>3</th>\n",
       "      <td>End-to-End IoT analytics and machine learning with Azure Data and AI services https://t.co/ooJt94cvZ7</td>\n",
       "      <td>2021-05-20 15:06:46</td>\n",
       "      <td>https://twitter.com/i/web/status/1395395582819282946</td>\n",
       "      <td>0.0000</td>\n",
       "      <td>0.000000</td>\n",
       "    </tr>\n",
       "    <tr>\n",
       "      <th>4</th>\n",
       "      <td>Graph algorithms combined with machine learning offer a more modern and intelligent approach in fighting, monitoring, and investigating illicit activity. Learn more next week with @AmerBanker.\\n\\nhttps://t.co/ZTYcVkeT9j\\n\\n#banking #fintech #fraud #finance #graphanalytics #graphDB</td>\n",
       "      <td>2021-05-20 15:06:30</td>\n",
       "      <td>https://twitter.com/i/web/status/1395395514070441986</td>\n",
       "      <td>-0.4654</td>\n",
       "      <td>0.400000</td>\n",
       "    </tr>\n",
       "  </tbody>\n",
       "</table>\n",
       "</div>"
      ],
      "text/plain": [
       "                                                                                                                                                                                                                                                                                       tweet  \\\n",
       "0                                                                                                                                                                                                 If you've ever worried about facial recognition, you're not alone. https://t.co/RvZrwxMzPH   \n",
       "1                                                                                                                                                                   ostdoc on Proton Structure Studies with Machine Learning (Theory) — AcademicTransfer https://t.co/Iwz0cPVieS #ai #ml #dl   \n",
       "2      Is Artificial Intelligence/Machine Learning Real? \\n\\nAnother strong program 1 PM today online by Hudson Valley Direct Marketing Association  https://t.co/knNT9pKcvq\\ncbsi Services Inc. \\n#AI #ArtificialInteligence #digitalmarketing #machinelearning #datascience #dataanalytics   \n",
       "3                                                                                                                                                                                      End-to-End IoT analytics and machine learning with Azure Data and AI services https://t.co/ooJt94cvZ7   \n",
       "4  Graph algorithms combined with machine learning offer a more modern and intelligent approach in fighting, monitoring, and investigating illicit activity. Learn more next week with @AmerBanker.\\n\\nhttps://t.co/ZTYcVkeT9j\\n\\n#banking #fintech #fraud #finance #graphanalytics #graphDB   \n",
       "\n",
       "                  date                                                  link  \\\n",
       "0  2021-05-20 15:07:58  https://twitter.com/i/web/status/1395395883814907904   \n",
       "1  2021-05-20 15:07:50  https://twitter.com/i/web/status/1395395850663170053   \n",
       "2  2021-05-20 15:07:44  https://twitter.com/i/web/status/1395395823220006915   \n",
       "3  2021-05-20 15:06:46  https://twitter.com/i/web/status/1395395582819282946   \n",
       "4  2021-05-20 15:06:30  https://twitter.com/i/web/status/1395395514070441986   \n",
       "\n",
       "   sentimiento_vader  sentimiento_textblob  \n",
       "0            -0.1179              0.000000  \n",
       "1             0.0000              0.000000  \n",
       "2             0.5106              0.033333  \n",
       "3             0.0000              0.000000  \n",
       "4            -0.4654              0.400000  "
      ]
     },
     "execution_count": 26,
     "metadata": {},
     "output_type": "execute_result"
    }
   ],
   "source": [
    "data['sentimiento_vader'] = data['tweet'].apply(lambda valor: vader.polarity_scores(valor)['compound'])\n",
    "data['sentimiento_textblob'] = data['tweet'].apply(lambda valor: TextBlob(valor).sentiment.polarity)\n",
    "data.head()"
   ]
  },
  {
   "cell_type": "code",
   "execution_count": 29,
   "metadata": {
    "slideshow": {
     "slide_type": "fragment"
    }
   },
   "outputs": [
    {
     "data": {
      "text/html": [
       "<div>\n",
       "<style scoped>\n",
       "    .dataframe tbody tr th:only-of-type {\n",
       "        vertical-align: middle;\n",
       "    }\n",
       "\n",
       "    .dataframe tbody tr th {\n",
       "        vertical-align: top;\n",
       "    }\n",
       "\n",
       "    .dataframe thead th {\n",
       "        text-align: right;\n",
       "    }\n",
       "</style>\n",
       "<table border=\"1\" class=\"dataframe\">\n",
       "  <thead>\n",
       "    <tr style=\"text-align: right;\">\n",
       "      <th></th>\n",
       "      <th>tweet</th>\n",
       "      <th>sentimiento_vader</th>\n",
       "    </tr>\n",
       "  </thead>\n",
       "  <tbody>\n",
       "    <tr>\n",
       "      <th>72</th>\n",
       "      <td>Got an INSANE antivirus yesterday it’s government based and is built on AI and machine learning literally stops a virus before it can even touch my computer along with learning about the code in it to fight things that could be similar crazy af</td>\n",
       "      <td>-0.8415</td>\n",
       "    </tr>\n",
       "    <tr>\n",
       "      <th>40</th>\n",
       "      <td>🚨 NEW: CVE-2021-29581 🚨 TensorFlow is an end-to-end open source platform for machine learning. Due to lack of validation in `tf.raw_ops.CTCBeamSearchDecoder`, an attacker can trigger denial of service via segmentat... (click for more) Severity: MEDIUM https://t.co/EHVlvaeNSA</td>\n",
       "      <td>-0.7184</td>\n",
       "    </tr>\n",
       "    <tr>\n",
       "      <th>36</th>\n",
       "      <td>@Money_Reasons @nytimes As for history, you hardly need a time machine to see the disparity. The amount of scandals and atrocities present in the last 100 years of US history that go unmentioned in history classes are enumerable. It’s unsurprising that many have issues with US policy after learning this</td>\n",
       "      <td>-0.4939</td>\n",
       "    </tr>\n",
       "    <tr>\n",
       "      <th>4</th>\n",
       "      <td>Graph algorithms combined with machine learning offer a more modern and intelligent approach in fighting, monitoring, and investigating illicit activity. Learn more next week with @AmerBanker.\\n\\nhttps://t.co/ZTYcVkeT9j\\n\\n#banking #fintech #fraud #finance #graphanalytics #graphDB</td>\n",
       "      <td>-0.4654</td>\n",
       "    </tr>\n",
       "    <tr>\n",
       "      <th>44</th>\n",
       "      <td>[En direct]🔥 \\nLe #live Machine learning &amp;amp; Deep learning c'est maintenant sur le canal #twitch de Tera Campus ! \\n\\nhttps://t.co/fURuKuDnn0\\n\\n#streamer #Livestream #streaming #LiveConf #livestreaming #IntelligenceArtificielle https://t.co/x42hzCWPd4</td>\n",
       "      <td>-0.4003</td>\n",
       "    </tr>\n",
       "    <tr>\n",
       "      <th>...</th>\n",
       "      <td>...</td>\n",
       "      <td>...</td>\n",
       "    </tr>\n",
       "    <tr>\n",
       "      <th>7</th>\n",
       "      <td>Call AI conversational intelligence leverages AI &amp;amp; machine-learning to incorporate key capabilities that maximize #sales potential to win deals. Features include call recording &amp;amp; transcripts, call sharing &amp;amp; collaboration, &amp;amp; CRM integrations. Learn more 👉 https://t.co/WIXLn2fC6G</td>\n",
       "      <td>0.8658</td>\n",
       "    </tr>\n",
       "    <tr>\n",
       "      <th>77</th>\n",
       "      <td>Everything awesome ends quickly - that is also true for the 5th edition of the NDSML Summit. During the past 3 days, we've heard some amazing case studies, strategies and approaches in Data Science and Machine Learning. ✨\\n\\nThank you to everyone joining🙏\\n\\n#NDSMLSummit2021 https://t.co/Q2MKeKMLue</td>\n",
       "      <td>0.9382</td>\n",
       "    </tr>\n",
       "    <tr>\n",
       "      <th>30</th>\n",
       "      <td>Implementing new #technologies like artificial intelligence and machine learning are part of a solid business strategy. Some key advantages include increased productivity, higher rates of production, improved quality, and efficient use of materials. #MSP https://t.co/KktxtkuD3o</td>\n",
       "      <td>0.9403</td>\n",
       "    </tr>\n",
       "    <tr>\n",
       "      <th>53</th>\n",
       "      <td>This is a true opportunity who has an interest in Machine Learning. I'm on in too. Let's enjoy it together!\\n* Thank you for giving me, a poor full-time student, a chance to take this course for free. @svpino https://t.co/viLwTe56Sp</td>\n",
       "      <td>0.9531</td>\n",
       "    </tr>\n",
       "    <tr>\n",
       "      <th>49</th>\n",
       "      <td>One of the rare times I look at LinkedIn, I come across this graph. IDK how it's made, but being in the field, I think it's such a good reference. Like, just have a good grasp on Python and how to use basic machine learning techniques and you can land a pretty good paying job. https://t.co/zIxwIO9vmt</td>\n",
       "      <td>0.9614</td>\n",
       "    </tr>\n",
       "  </tbody>\n",
       "</table>\n",
       "<p>100 rows × 2 columns</p>\n",
       "</div>"
      ],
      "text/plain": [
       "                                                                                                                                                                                                                                                                                                               tweet  \\\n",
       "72                                                              Got an INSANE antivirus yesterday it’s government based and is built on AI and machine learning literally stops a virus before it can even touch my computer along with learning about the code in it to fight things that could be similar crazy af   \n",
       "40                               🚨 NEW: CVE-2021-29581 🚨 TensorFlow is an end-to-end open source platform for machine learning. Due to lack of validation in `tf.raw_ops.CTCBeamSearchDecoder`, an attacker can trigger denial of service via segmentat... (click for more) Severity: MEDIUM https://t.co/EHVlvaeNSA   \n",
       "36  @Money_Reasons @nytimes As for history, you hardly need a time machine to see the disparity. The amount of scandals and atrocities present in the last 100 years of US history that go unmentioned in history classes are enumerable. It’s unsurprising that many have issues with US policy after learning this   \n",
       "4                          Graph algorithms combined with machine learning offer a more modern and intelligent approach in fighting, monitoring, and investigating illicit activity. Learn more next week with @AmerBanker.\\n\\nhttps://t.co/ZTYcVkeT9j\\n\\n#banking #fintech #fraud #finance #graphanalytics #graphDB   \n",
       "44                                                    [En direct]🔥 \\nLe #live Machine learning &amp; Deep learning c'est maintenant sur le canal #twitch de Tera Campus ! \\n\\nhttps://t.co/fURuKuDnn0\\n\\n#streamer #Livestream #streaming #LiveConf #livestreaming #IntelligenceArtificielle https://t.co/x42hzCWPd4   \n",
       "..                                                                                                                                                                                                                                                                                                               ...   \n",
       "7             Call AI conversational intelligence leverages AI &amp; machine-learning to incorporate key capabilities that maximize #sales potential to win deals. Features include call recording &amp; transcripts, call sharing &amp; collaboration, &amp; CRM integrations. Learn more 👉 https://t.co/WIXLn2fC6G   \n",
       "77       Everything awesome ends quickly - that is also true for the 5th edition of the NDSML Summit. During the past 3 days, we've heard some amazing case studies, strategies and approaches in Data Science and Machine Learning. ✨\\n\\nThank you to everyone joining🙏\\n\\n#NDSMLSummit2021 https://t.co/Q2MKeKMLue   \n",
       "30                            Implementing new #technologies like artificial intelligence and machine learning are part of a solid business strategy. Some key advantages include increased productivity, higher rates of production, improved quality, and efficient use of materials. #MSP https://t.co/KktxtkuD3o   \n",
       "53                                                                          This is a true opportunity who has an interest in Machine Learning. I'm on in too. Let's enjoy it together!\\n* Thank you for giving me, a poor full-time student, a chance to take this course for free. @svpino https://t.co/viLwTe56Sp   \n",
       "49     One of the rare times I look at LinkedIn, I come across this graph. IDK how it's made, but being in the field, I think it's such a good reference. Like, just have a good grasp on Python and how to use basic machine learning techniques and you can land a pretty good paying job. https://t.co/zIxwIO9vmt   \n",
       "\n",
       "    sentimiento_vader  \n",
       "72            -0.8415  \n",
       "40            -0.7184  \n",
       "36            -0.4939  \n",
       "4             -0.4654  \n",
       "44            -0.4003  \n",
       "..                ...  \n",
       "7              0.8658  \n",
       "77             0.9382  \n",
       "30             0.9403  \n",
       "53             0.9531  \n",
       "49             0.9614  \n",
       "\n",
       "[100 rows x 2 columns]"
      ]
     },
     "execution_count": 29,
     "metadata": {},
     "output_type": "execute_result"
    }
   ],
   "source": [
    "pd.set_option('display.max_colwidth', None)\n",
    "data[['tweet', 'sentimiento_vader']].sort_values('sentimiento_vader')"
   ]
  },
  {
   "cell_type": "markdown",
   "metadata": {
    "slideshow": {
     "slide_type": "slide"
    }
   },
   "source": [
    "### Modelos basados en redes neuronales\n",
    "\n",
    "Estos modelos aprenden los *embeddings* para considerar las similitudes entre las palabras y hacerlos resistentes a los errores de ortografía.\n",
    "\n",
    "- [**Flair**](https://github.com/flairNLP/flair)\n",
    "\n",
    "`pip install flair` \n",
    "https://pytorch.org/\n",
    "Opción: [Google Colab](https://colab.research.google.com/notebooks/intro.ipynb#recent=true)"
   ]
  },
  {
   "cell_type": "code",
   "execution_count": 31,
   "metadata": {
    "slideshow": {
     "slide_type": "slide"
    }
   },
   "outputs": [
    {
     "name": "stdout",
     "output_type": "stream",
     "text": [
      "2021-05-20 11:43:53,558 loading file /Users/vivianamarquez/.flair/models/sentiment-en-mix-distillbert_3.1.pt\n",
      "At least it isn't a horrible book.\n"
     ]
    },
    {
     "data": {
      "text/plain": [
       "('POSITIVE', 0.8074595928192139)"
      ]
     },
     "execution_count": 31,
     "metadata": {},
     "output_type": "execute_result"
    }
   ],
   "source": [
    "from flair.models import TextClassifier\n",
    "from flair.data import Sentence\n",
    "\n",
    "classifier = TextClassifier.load('en-sentiment')\n",
    "sentence = Sentence(ejemplo1)\n",
    "\n",
    "print(ejemplo1)\n",
    "\n",
    "classifier.predict(sentence, multi_class_prob=False)\n",
    "l = sentence.labels\n",
    "\n",
    "l[0].value, l[0].score"
   ]
  },
  {
   "cell_type": "code",
   "execution_count": 32,
   "metadata": {
    "slideshow": {
     "slide_type": "fragment"
    }
   },
   "outputs": [
    {
     "name": "stdout",
     "output_type": "stream",
     "text": [
      "2021-05-20 12:05:59,821 loading file /Users/vivianamarquez/.flair/models/sentiment-en-mix-distillbert_3.1.pt\n"
     ]
    },
    {
     "data": {
      "text/plain": [
       "[NEGATIVE (0.9438)]"
      ]
     },
     "execution_count": 32,
     "metadata": {},
     "output_type": "execute_result"
    }
   ],
   "source": [
    "classifier = TextClassifier.load('sentiment')\n",
    "sentence = Sentence(\"Instalar Pytorch es un dolor de cabeza, lo odio\")\n",
    "classifier.predict(sentence)\n",
    "sentence.labels"
   ]
  },
  {
   "cell_type": "code",
   "execution_count": 34,
   "metadata": {
    "slideshow": {
     "slide_type": "fragment"
    }
   },
   "outputs": [
    {
     "name": "stdout",
     "output_type": "stream",
     "text": [
      "2021-05-20 12:06:21,805 loading file /Users/vivianamarquez/.flair/models/sentiment-en-mix-distillbert_3.1.pt\n"
     ]
    },
    {
     "data": {
      "text/html": [
       "<div>\n",
       "<style scoped>\n",
       "    .dataframe tbody tr th:only-of-type {\n",
       "        vertical-align: middle;\n",
       "    }\n",
       "\n",
       "    .dataframe tbody tr th {\n",
       "        vertical-align: top;\n",
       "    }\n",
       "\n",
       "    .dataframe thead th {\n",
       "        text-align: right;\n",
       "    }\n",
       "</style>\n",
       "<table border=\"1\" class=\"dataframe\">\n",
       "  <thead>\n",
       "    <tr style=\"text-align: right;\">\n",
       "      <th></th>\n",
       "      <th>tweet</th>\n",
       "      <th>date</th>\n",
       "      <th>link</th>\n",
       "      <th>sentimiento_vader</th>\n",
       "      <th>sentimiento_textblob</th>\n",
       "      <th>sent_flair</th>\n",
       "    </tr>\n",
       "  </thead>\n",
       "  <tbody>\n",
       "    <tr>\n",
       "      <th>0</th>\n",
       "      <td>If you've ever worried about facial recognition, you're not alone. https://t.co/RvZrwxMzPH</td>\n",
       "      <td>2021-05-20 15:07:58</td>\n",
       "      <td>https://twitter.com/i/web/status/1395395883814907904</td>\n",
       "      <td>-0.1179</td>\n",
       "      <td>0.000000</td>\n",
       "      <td>0.997260</td>\n",
       "    </tr>\n",
       "    <tr>\n",
       "      <th>1</th>\n",
       "      <td>ostdoc on Proton Structure Studies with Machine Learning (Theory) — AcademicTransfer https://t.co/Iwz0cPVieS #ai #ml #dl</td>\n",
       "      <td>2021-05-20 15:07:50</td>\n",
       "      <td>https://twitter.com/i/web/status/1395395850663170053</td>\n",
       "      <td>0.0000</td>\n",
       "      <td>0.000000</td>\n",
       "      <td>0.931684</td>\n",
       "    </tr>\n",
       "    <tr>\n",
       "      <th>2</th>\n",
       "      <td>Is Artificial Intelligence/Machine Learning Real? \\n\\nAnother strong program 1 PM today online by Hudson Valley Direct Marketing Association  https://t.co/knNT9pKcvq\\ncbsi Services Inc. \\n#AI #ArtificialInteligence #digitalmarketing #machinelearning #datascience #dataanalytics</td>\n",
       "      <td>2021-05-20 15:07:44</td>\n",
       "      <td>https://twitter.com/i/web/status/1395395823220006915</td>\n",
       "      <td>0.5106</td>\n",
       "      <td>0.033333</td>\n",
       "      <td>0.611579</td>\n",
       "    </tr>\n",
       "    <tr>\n",
       "      <th>3</th>\n",
       "      <td>End-to-End IoT analytics and machine learning with Azure Data and AI services https://t.co/ooJt94cvZ7</td>\n",
       "      <td>2021-05-20 15:06:46</td>\n",
       "      <td>https://twitter.com/i/web/status/1395395582819282946</td>\n",
       "      <td>0.0000</td>\n",
       "      <td>0.000000</td>\n",
       "      <td>0.997630</td>\n",
       "    </tr>\n",
       "    <tr>\n",
       "      <th>4</th>\n",
       "      <td>Graph algorithms combined with machine learning offer a more modern and intelligent approach in fighting, monitoring, and investigating illicit activity. Learn more next week with @AmerBanker.\\n\\nhttps://t.co/ZTYcVkeT9j\\n\\n#banking #fintech #fraud #finance #graphanalytics #graphDB</td>\n",
       "      <td>2021-05-20 15:06:30</td>\n",
       "      <td>https://twitter.com/i/web/status/1395395514070441986</td>\n",
       "      <td>-0.4654</td>\n",
       "      <td>0.400000</td>\n",
       "      <td>0.742857</td>\n",
       "    </tr>\n",
       "  </tbody>\n",
       "</table>\n",
       "</div>"
      ],
      "text/plain": [
       "                                                                                                                                                                                                                                                                                       tweet  \\\n",
       "0                                                                                                                                                                                                 If you've ever worried about facial recognition, you're not alone. https://t.co/RvZrwxMzPH   \n",
       "1                                                                                                                                                                   ostdoc on Proton Structure Studies with Machine Learning (Theory) — AcademicTransfer https://t.co/Iwz0cPVieS #ai #ml #dl   \n",
       "2      Is Artificial Intelligence/Machine Learning Real? \\n\\nAnother strong program 1 PM today online by Hudson Valley Direct Marketing Association  https://t.co/knNT9pKcvq\\ncbsi Services Inc. \\n#AI #ArtificialInteligence #digitalmarketing #machinelearning #datascience #dataanalytics   \n",
       "3                                                                                                                                                                                      End-to-End IoT analytics and machine learning with Azure Data and AI services https://t.co/ooJt94cvZ7   \n",
       "4  Graph algorithms combined with machine learning offer a more modern and intelligent approach in fighting, monitoring, and investigating illicit activity. Learn more next week with @AmerBanker.\\n\\nhttps://t.co/ZTYcVkeT9j\\n\\n#banking #fintech #fraud #finance #graphanalytics #graphDB   \n",
       "\n",
       "                  date                                                  link  \\\n",
       "0  2021-05-20 15:07:58  https://twitter.com/i/web/status/1395395883814907904   \n",
       "1  2021-05-20 15:07:50  https://twitter.com/i/web/status/1395395850663170053   \n",
       "2  2021-05-20 15:07:44  https://twitter.com/i/web/status/1395395823220006915   \n",
       "3  2021-05-20 15:06:46  https://twitter.com/i/web/status/1395395582819282946   \n",
       "4  2021-05-20 15:06:30  https://twitter.com/i/web/status/1395395514070441986   \n",
       "\n",
       "   sentimiento_vader  sentimiento_textblob  sent_flair  \n",
       "0            -0.1179              0.000000    0.997260  \n",
       "1             0.0000              0.000000    0.931684  \n",
       "2             0.5106              0.033333    0.611579  \n",
       "3             0.0000              0.000000    0.997630  \n",
       "4            -0.4654              0.400000    0.742857  "
      ]
     },
     "execution_count": 34,
     "metadata": {},
     "output_type": "execute_result"
    }
   ],
   "source": [
    "classifier = TextClassifier.load('sentiment')\n",
    "\n",
    "def sent_flair(texto):\n",
    "    sentence = Sentence(texto)\n",
    "    classifier.predict(sentence)\n",
    "    result = sentence.labels[0]\n",
    "    label = result.value\n",
    "    score = result.score\n",
    "    if label == 'POSITIVE':\n",
    "        return score\n",
    "    if label == 'NEGATIVE':\n",
    "        return -1 * score\n",
    "    return score\n",
    "\n",
    "data['sent_flair'] = data['tweet'].apply(lambda valor: sent_flair(valor))\n",
    "data.head()\n"
   ]
  },
  {
   "cell_type": "code",
   "execution_count": 35,
   "metadata": {
    "slideshow": {
     "slide_type": "fragment"
    }
   },
   "outputs": [
    {
     "data": {
      "text/html": [
       "<div>\n",
       "<style scoped>\n",
       "    .dataframe tbody tr th:only-of-type {\n",
       "        vertical-align: middle;\n",
       "    }\n",
       "\n",
       "    .dataframe tbody tr th {\n",
       "        vertical-align: top;\n",
       "    }\n",
       "\n",
       "    .dataframe thead th {\n",
       "        text-align: right;\n",
       "    }\n",
       "</style>\n",
       "<table border=\"1\" class=\"dataframe\">\n",
       "  <thead>\n",
       "    <tr style=\"text-align: right;\">\n",
       "      <th></th>\n",
       "      <th>tweet</th>\n",
       "      <th>sent_flair</th>\n",
       "    </tr>\n",
       "  </thead>\n",
       "  <tbody>\n",
       "    <tr>\n",
       "      <th>56</th>\n",
       "      <td>@IamHappyToast They probably ran it through Adobe Super Resolution or some other machine learning AI upscaling software. I'd be most interested in looking at the file headers and whomever buys it is a mug.</td>\n",
       "      <td>-0.999953</td>\n",
       "    </tr>\n",
       "    <tr>\n",
       "      <th>57</th>\n",
       "      <td>Just thinking about how when I was learning to type, different keyboards would have symbols in different places. Depending on which machine in the computer lab you got, apostrophe might be shift-7 or its own key beside return.</td>\n",
       "      <td>-0.999580</td>\n",
       "    </tr>\n",
       "    <tr>\n",
       "      <th>20</th>\n",
       "      <td>Get Flat 96% Off on Machine Learning on Udemy \\n\\nStudy Now!\\nhttps://t.co/ChqyvOhIZ1\\n-#sridivya https://t.co/xKHmw4DQbX</td>\n",
       "      <td>-0.999491</td>\n",
       "    </tr>\n",
       "    <tr>\n",
       "      <th>32</th>\n",
       "      <td>In this episode of Gradient Dissent, we're joined by @sAlyssaSF, Director of Product at @BlueShieldCA and co-author of \"Real World AI\" 💫\\n\\n🎥: https://t.co/vY1HLkpBhD\\n✏️: https://t.co/I3LfzMukJI https://t.co/E8oDeEVqID</td>\n",
       "      <td>-0.984372</td>\n",
       "    </tr>\n",
       "    <tr>\n",
       "      <th>40</th>\n",
       "      <td>🚨 NEW: CVE-2021-29581 🚨 TensorFlow is an end-to-end open source platform for machine learning. Due to lack of validation in `tf.raw_ops.CTCBeamSearchDecoder`, an attacker can trigger denial of service via segmentat... (click for more) Severity: MEDIUM https://t.co/EHVlvaeNSA</td>\n",
       "      <td>-0.981582</td>\n",
       "    </tr>\n",
       "    <tr>\n",
       "      <th>...</th>\n",
       "      <td>...</td>\n",
       "      <td>...</td>\n",
       "    </tr>\n",
       "    <tr>\n",
       "      <th>26</th>\n",
       "      <td>If you've ever worried about facial recognition, you're not alone. https://t.co/rGCzp79GQx</td>\n",
       "      <td>0.998753</td>\n",
       "    </tr>\n",
       "    <tr>\n",
       "      <th>35</th>\n",
       "      <td>Today another use case. This time: #healthcare. #ML model gauges #unconsciousness in patients under #anesthesia, to help dosage of anesthetics and reducing risks for the patient😴✅\\n\\nLooking for data for your next #AI project?\\n👉https://t.co/JTBatwrAzW\\n\\n🔗https://t.co/em5Ddc6vq8</td>\n",
       "      <td>0.998872</td>\n",
       "    </tr>\n",
       "    <tr>\n",
       "      <th>30</th>\n",
       "      <td>Implementing new #technologies like artificial intelligence and machine learning are part of a solid business strategy. Some key advantages include increased productivity, higher rates of production, improved quality, and efficient use of materials. #MSP https://t.co/KktxtkuD3o</td>\n",
       "      <td>0.999015</td>\n",
       "    </tr>\n",
       "    <tr>\n",
       "      <th>97</th>\n",
       "      <td>1. Automating processes, improving efficiencies and enabling alternative care delivery models\\n2. Predicting risks and suggesting interventions\\n3. Revealing patterns in disease, getting to a diagnosis quickly and advancing therapies…https://t.co/QyvLmmltnF https://t.co/hVfFDJIi44</td>\n",
       "      <td>0.999432</td>\n",
       "    </tr>\n",
       "    <tr>\n",
       "      <th>49</th>\n",
       "      <td>One of the rare times I look at LinkedIn, I come across this graph. IDK how it's made, but being in the field, I think it's such a good reference. Like, just have a good grasp on Python and how to use basic machine learning techniques and you can land a pretty good paying job. https://t.co/zIxwIO9vmt</td>\n",
       "      <td>0.999643</td>\n",
       "    </tr>\n",
       "  </tbody>\n",
       "</table>\n",
       "<p>100 rows × 2 columns</p>\n",
       "</div>"
      ],
      "text/plain": [
       "                                                                                                                                                                                                                                                                                                            tweet  \\\n",
       "56                                                                                                  @IamHappyToast They probably ran it through Adobe Super Resolution or some other machine learning AI upscaling software. I'd be most interested in looking at the file headers and whomever buys it is a mug.   \n",
       "57                                                                             Just thinking about how when I was learning to type, different keyboards would have symbols in different places. Depending on which machine in the computer lab you got, apostrophe might be shift-7 or its own key beside return.   \n",
       "20                                                                                                                                                                                      Get Flat 96% Off on Machine Learning on Udemy \\n\\nStudy Now!\\nhttps://t.co/ChqyvOhIZ1\\n-#sridivya https://t.co/xKHmw4DQbX   \n",
       "32                                                                                    In this episode of Gradient Dissent, we're joined by @sAlyssaSF, Director of Product at @BlueShieldCA and co-author of \"Real World AI\" 💫\\n\\n🎥: https://t.co/vY1HLkpBhD\\n✏️: https://t.co/I3LfzMukJI https://t.co/E8oDeEVqID   \n",
       "40                            🚨 NEW: CVE-2021-29581 🚨 TensorFlow is an end-to-end open source platform for machine learning. Due to lack of validation in `tf.raw_ops.CTCBeamSearchDecoder`, an attacker can trigger denial of service via segmentat... (click for more) Severity: MEDIUM https://t.co/EHVlvaeNSA   \n",
       "..                                                                                                                                                                                                                                                                                                            ...   \n",
       "26                                                                                                                                                                                                                     If you've ever worried about facial recognition, you're not alone. https://t.co/rGCzp79GQx   \n",
       "35                       Today another use case. This time: #healthcare. #ML model gauges #unconsciousness in patients under #anesthesia, to help dosage of anesthetics and reducing risks for the patient😴✅\\n\\nLooking for data for your next #AI project?\\n👉https://t.co/JTBatwrAzW\\n\\n🔗https://t.co/em5Ddc6vq8   \n",
       "30                         Implementing new #technologies like artificial intelligence and machine learning are part of a solid business strategy. Some key advantages include increased productivity, higher rates of production, improved quality, and efficient use of materials. #MSP https://t.co/KktxtkuD3o   \n",
       "97                      1. Automating processes, improving efficiencies and enabling alternative care delivery models\\n2. Predicting risks and suggesting interventions\\n3. Revealing patterns in disease, getting to a diagnosis quickly and advancing therapies…https://t.co/QyvLmmltnF https://t.co/hVfFDJIi44   \n",
       "49  One of the rare times I look at LinkedIn, I come across this graph. IDK how it's made, but being in the field, I think it's such a good reference. Like, just have a good grasp on Python and how to use basic machine learning techniques and you can land a pretty good paying job. https://t.co/zIxwIO9vmt   \n",
       "\n",
       "    sent_flair  \n",
       "56   -0.999953  \n",
       "57   -0.999580  \n",
       "20   -0.999491  \n",
       "32   -0.984372  \n",
       "40   -0.981582  \n",
       "..         ...  \n",
       "26    0.998753  \n",
       "35    0.998872  \n",
       "30    0.999015  \n",
       "97    0.999432  \n",
       "49    0.999643  \n",
       "\n",
       "[100 rows x 2 columns]"
      ]
     },
     "execution_count": 35,
     "metadata": {},
     "output_type": "execute_result"
    }
   ],
   "source": [
    "data[['tweet', 'sent_flair']].sort_values('sent_flair')"
   ]
  },
  {
   "cell_type": "markdown",
   "metadata": {
    "slideshow": {
     "slide_type": "slide"
    }
   },
   "source": [
    "### ⏳ Hoy vimos\n",
    "\n",
    "- Análisis de Sentimiento: Etiquetados vs No etiquetados\n",
    "- Límitaciones\n",
    "- Librerias de Python:\n",
    "    - VADER\n",
    "    - TextBlob\n",
    "    - Flair\n",
    " "
   ]
  },
  {
   "cell_type": "markdown",
   "metadata": {
    "slideshow": {
     "slide_type": "slide"
    }
   },
   "source": [
    "# ¡Tiempo de taller!\n",
    "\n",
    "<center>\n",
    "<img src='../img/Taller.gif'>\n",
    "</center>  \n",
    "    \n",
    "**Fecha de entrega:** Mayo 27, 2021. (Antes del inicio de la próxima clase)\n",
    "    \n",
    "# ¡Último taller del semestre! 🥳\n",
    "    \n",
    "    \n",
    "# Info ⏭️"
   ]
  },
  {
   "cell_type": "markdown",
   "metadata": {
    "slideshow": {
     "slide_type": "slide"
    }
   },
   "source": [
    "# Talleres \n",
    "\n",
    "<img src='http://vivianamarquez.com/NLP-KL-2021-I/img/notas2021i.png'>\n",
    "\n",
    "12 talleres: Se calificarán los 10 talleres con las mejores notas (cada uno con un valor del 5.5% de la materia). También se sumarán los 20pts del taller 8."
   ]
  },
  {
   "cell_type": "markdown",
   "metadata": {
    "slideshow": {
     "slide_type": "slide"
    }
   },
   "source": [
    "# Portafolio\n",
    "    \n",
    "    \n",
    "- 🚧 ✋ 6% Portafolio [Fecha de entrega: Junio 3]\n",
    "    - [Ejemplo](https://xiomydiazanalyst.github.io/Portafolio/)\n",
    "    - Repositorio con lista de enlaces a los talleres y su pequeña descripción \n",
    "    - Voy a revisar que todos los talleres estén \n",
    "    - Subir link al aula virtual\n",
    "    \n",
    "    \n",
    "# Proyecto Final\n",
    "- 🚧 ✋ 16% Proyecto Final [Fecha de entrega: Junio 3]\n",
    "    - [FORMATO](https://docs.google.com/spreadsheets/d/1Ern0oU03LmfpdXzx3cf-oBIRc6G7evEV0MFVUR1aw34/edit?usp=sharing)\n",
    "    - Título, pequeña descripción del proyecto y los autores\n",
    "    - Exposición de 10 minutos por grupo\n",
    "        - ¿Cuál es el objetivo?\n",
    "        - ¿Cómo consiguieron los datos?\n",
    "        - Problemas que tuvieron\n",
    "        - Resultados\n",
    "    - Github con código\n",
    "        - Pre-procesamiento del texto\n",
    "        - Modelo de NLP\n",
    "        - Visualización"
   ]
  },
  {
   "cell_type": "markdown",
   "metadata": {
    "slideshow": {
     "slide_type": "slide"
    }
   },
   "source": [
    "<center>\n",
    "<img src='../img/fin.png' style='height:300px; float: center; margin: 0px 15px 15px 0px'>\n",
    "\n",
    "\n",
    "### Próxima clase: Redes neuronales & transformers"
   ]
  },
  {
   "cell_type": "markdown",
   "metadata": {
    "slideshow": {
     "slide_type": "notes"
    }
   },
   "source": [
    "# Información adicional\n",
    "Con Vader, se puede agregar léxico y su puntuaje al modelo del análisis de sentimiento."
   ]
  },
  {
   "cell_type": "code",
   "execution_count": null,
   "metadata": {
    "slideshow": {
     "slide_type": "notes"
    }
   },
   "outputs": [],
   "source": [
    "from nltk.sentiment.vader import SentimentIntensityAnalyzer\n",
    "new_words = {\n",
    "    'chupemonda': 2.0,\n",
    "    'madrugón': -3.4,\n",
    "}\n",
    "SIA = SentimentIntensityAnalyzer()\n",
    "SIA.lexicon.update(new_words)\n",
    "SIA.lexicon"
   ]
  },
  {
   "cell_type": "markdown",
   "metadata": {
    "slideshow": {
     "slide_type": "notes"
    }
   },
   "source": [
    "https://www.kaggle.com/rtatman/sentiment-lexicons-for-81-languages"
   ]
  }
 ],
 "metadata": {
  "celltoolbar": "Slideshow",
  "kernelspec": {
   "display_name": "Python 3",
   "language": "python",
   "name": "python3"
  },
  "language_info": {
   "codemirror_mode": {
    "name": "ipython",
    "version": 3
   },
   "file_extension": ".py",
   "mimetype": "text/x-python",
   "name": "python",
   "nbconvert_exporter": "python",
   "pygments_lexer": "ipython3",
   "version": "3.7.4"
  }
 },
 "nbformat": 4,
 "nbformat_minor": 2
}
