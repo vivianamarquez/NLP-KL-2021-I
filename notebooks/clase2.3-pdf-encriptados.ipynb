{
 "cells": [
  {
   "cell_type": "markdown",
   "metadata": {},
   "source": [
    "# ¿Cómo leer PDFs encriptados? "
   ]
  },
  {
   "cell_type": "code",
   "execution_count": 1,
   "metadata": {},
   "outputs": [],
   "source": [
    "from PyPDF2 import PdfFileReader, PdfFileWriter"
   ]
  },
  {
   "cell_type": "code",
   "execution_count": 2,
   "metadata": {},
   "outputs": [],
   "source": [
    "def decrypt_pdf(input_path, output_path, password):\n",
    "    '''\n",
    "    Esta función lee un PDF encriptado y lo guarda sin encriptar\n",
    "    input_path = Dónde está el archivo original\n",
    "    output_path = Dónde quiere que guarde el nuevo archivo\n",
    "    '''\n",
    "    with open(input_path, 'rb') as input_file, open(output_path, 'wb') as output_file:\n",
    "        reader = PdfFileReader(input_file)\n",
    "        reader.decrypt(password)\n",
    "        writer = PdfFileWriter()\n",
    "        \n",
    "        for i in range(reader.getNumPages()):\n",
    "            writer.addPage(reader.getPage(i))\n",
    "\n",
    "        writer.write(output_file)"
   ]
  },
  {
   "cell_type": "code",
   "execution_count": 3,
   "metadata": {},
   "outputs": [
    {
     "name": "stderr",
     "output_type": "stream",
     "text": [
      "PdfReadWarning: Xref table not zero-indexed. ID numbers for objects will be corrected. [pdf.py:1736]\n"
     ]
    }
   ],
   "source": [
    "input_path = \"ejemplo.pdf\"\n",
    "output_path = \"ejemplo_salida.pdf\"\n",
    "password = \"123456789\"\n",
    "\n",
    "decrypt_pdf(input_path, output_path, password)"
   ]
  },
  {
   "cell_type": "code",
   "execution_count": 15,
   "metadata": {},
   "outputs": [],
   "source": [
    "# Para leer un PDF encriptado dentro de Python\n",
    "\n",
    "texto = \"\"\n",
    "\n",
    "with open(input_path, 'rb') as input_file:\n",
    "    reader = PdfFileReader(input_file)\n",
    "    reader.decrypt(password)\n",
    "    \n",
    "    for i in range(reader.getNumPages()):\n",
    "        texto += reader.getPage(0).extractText()"
   ]
  },
  {
   "cell_type": "code",
   "execution_count": 21,
   "metadata": {},
   "outputs": [
    {
     "data": {
      "text/plain": [
       "'Reporte Anual deCostos TotalesSEÑOR (A):VIVIANA MAR'"
      ]
     },
     "execution_count": 21,
     "metadata": {},
     "output_type": "execute_result"
    }
   ],
   "source": [
    "texto[:51]"
   ]
  }
 ],
 "metadata": {
  "kernelspec": {
   "display_name": "Python 3",
   "language": "python",
   "name": "python3"
  },
  "language_info": {
   "codemirror_mode": {
    "name": "ipython",
    "version": 3
   },
   "file_extension": ".py",
   "mimetype": "text/x-python",
   "name": "python",
   "nbconvert_exporter": "python",
   "pygments_lexer": "ipython3",
   "version": "3.7.4"
  }
 },
 "nbformat": 4,
 "nbformat_minor": 4
}
