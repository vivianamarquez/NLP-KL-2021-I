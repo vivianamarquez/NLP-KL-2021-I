{
 "cells": [
  {
   "cell_type": "markdown",
   "metadata": {
    "slideshow": {
     "slide_type": "slide"
    }
   },
   "source": [
    "<center><img src='../img/clase1516/pres.jpeg' style='height:400px; float: center; margin: 0px 15px 15px 0px'></center>\n",
    "\n",
    "### Estudios de Caso\n",
    "#### NLP - Analítica Estratégica de Datos\n",
    "<br><b>Fundación Universitaria Konrad Lorenz</b>\n",
    "<br>Docente: Viviana Márquez [vivianam.penama@konradlorenz.edu.co](mailto:vivianama.penam@konradlorenz.edu.co)\n",
    "<br>Clase #16: Junio 10, 2021"
   ]
  },
  {
   "cell_type": "markdown",
   "metadata": {
    "slideshow": {
     "slide_type": "slide"
    }
   },
   "source": [
    "# Últimando detalles...\n",
    "- Durante el transcurso de la semana les envíare las notas y retroalimentación. \n",
    "- Tienen hasta el día 16 de junio para hacer preguntas antes de que las notas sean subidas a registro académico\n",
    "- **LinkedIn**: Lo malo de la rosca no es la rosca, sino no estar en ella 😜\n",
    "- Bajar los materiales del aula virtual & [GitHub](https://github.com/vivianamarquez/NLP-KL-2021-I)\n",
    "- Las puertas seguirán abiertas 🤗\n",
    "- 👏👏👏 ¡Felicitaciones profesionales de datos! 👏👏👏"
   ]
  },
  {
   "cell_type": "markdown",
   "metadata": {
    "slideshow": {
     "slide_type": "slide"
    }
   },
   "source": [
    "# 🥁 Quién será el primero [*](https://www.youtube.com/watch?v=8GcBGhV047A&ab_channel=bananamonkeybananamonkey)"
   ]
  },
  {
   "cell_type": "code",
   "execution_count": 3,
   "metadata": {
    "slideshow": {
     "slide_type": "slide"
    }
   },
   "outputs": [],
   "source": [
    "import random\n",
    "import pandas as pd\n",
    "\n",
    "url = 'https://docs.google.com/spreadsheets/d/1Ern0oU03LmfpdXzx3cf-oBIRc6G7evEV0MFVUR1aw34/edit#gid=0'\n",
    "new_url = url.rsplit(\"/\",1)[0] + \"/gviz/tq?tqx=out:csv\"\n",
    "\n",
    "data = pd.read_csv(new_url)\n",
    "data['Grupo \\n(el # no importa) Grupo \\nLas MateChiks '] = data['Grupo \\n(el # no importa) Grupo \\nLas MateChiks '].fillna(method='ffill')\n",
    "data['Nombre Completo'] = data['Nombre Viviana Alejandra'] + \" \" + data['Apellido Márquez Manotas']\n",
    "\n",
    "parte1 = [\"Grupo # 03\", \"Grupo # 04\", \"Grupo # 05\", \"Grupo # 07\", \"Grupo # 08\", \"Grupo # 09\",\n",
    "          \"Grupo # 10\", \"Grupo # 11\", \"Grupo # 12\", \"Grupo # 13\", \"Grupo # 14\", \"Grupo # 17\",\n",
    "          \"Grupo # 18\", \"Grupo # 01\", \"Grupo # 02\", \"Grupo # 06\", \"Grupo # 15\", \"Grupo # 19\",\n",
    "          \"Grupo # 20\"]\n",
    "\n",
    "data['¿Ya pasó?'] = data['Grupo \\n(el # no importa) Grupo \\nLas MateChiks '].apply(lambda val: True if val in parte1 else False)"
   ]
  },
  {
   "cell_type": "code",
   "execution_count": 4,
   "metadata": {
    "slideshow": {
     "slide_type": "slide"
    }
   },
   "outputs": [],
   "source": [
    "def update(row, grupo):    \n",
    "    if row['Grupo \\n(el # no importa) Grupo \\nLas MateChiks '] == grupo:\n",
    "        return True\n",
    "    else:\n",
    "        return row['¿Ya pasó?']\n",
    "\n",
    "    \n",
    "def los_elegidos():\n",
    "    try:\n",
    "        grupos = data[~data['¿Ya pasó?']]['Grupo \\n(el # no importa) Grupo \\nLas MateChiks '].unique()\n",
    "\n",
    "        num = random.choice(grupos)\n",
    "        print(\"Los elegidos son... 🥁🥁🥁\")\n",
    "        print()\n",
    "        print(f\"{num}\")\n",
    "\n",
    "        temp = data[data['Grupo \\n(el # no importa) Grupo \\nLas MateChiks ']==num]\n",
    "        titulo = temp.iloc[0]['Título del proyecto Word2Vec de los artículos de matemáticas de la última década  ']\n",
    "        integrantes = temp['Nombre Completo'].values\n",
    "\n",
    "        for i in integrantes:\n",
    "            print(f\"     • {i}\")\n",
    "\n",
    "        print()\n",
    "        print(f\"Con el tema: {titulo}\")\n",
    "\n",
    "        # Actualizar\n",
    "        data['¿Ya pasó?'] = data.apply(lambda row: update(row, num), axis=1)\n",
    "    except:\n",
    "        print(\"¡Ya pasaron todos! 🥳🥳🥳\")"
   ]
  },
  {
   "cell_type": "code",
   "execution_count": 8,
   "metadata": {
    "slideshow": {
     "slide_type": "slide"
    }
   },
   "outputs": [
    {
     "name": "stdout",
     "output_type": "stream",
     "text": [
      "¡Ya pasaron todos! 🥳🥳🥳\n"
     ]
    }
   ],
   "source": [
    "los_elegidos()"
   ]
  },
  {
   "cell_type": "code",
   "execution_count": null,
   "metadata": {},
   "outputs": [],
   "source": [
    "# data.to_csv(\"quienpaso.csv\")"
   ]
  },
  {
   "cell_type": "markdown",
   "metadata": {
    "slideshow": {
     "slide_type": "slide"
    }
   },
   "source": [
    "<center>\n",
    "<img src='../img/clase1516/fin.gif' style='height:300px; float: center; margin: 0px 15px 15px 0px'>\n",
    "\n",
    "Gracias mis estudiantes por tanto compromiso ❤️\n",
    "    \n",
    "- 🙏 Sugerencias: https://forms.gle/dNWThoxt5YBnsjUt7"
   ]
  }
 ],
 "metadata": {
  "celltoolbar": "Slideshow",
  "kernelspec": {
   "display_name": "Python 3",
   "language": "python",
   "name": "python3"
  },
  "language_info": {
   "codemirror_mode": {
    "name": "ipython",
    "version": 3
   },
   "file_extension": ".py",
   "mimetype": "text/x-python",
   "name": "python",
   "nbconvert_exporter": "python",
   "pygments_lexer": "ipython3",
   "version": "3.7.4"
  }
 },
 "nbformat": 4,
 "nbformat_minor": 2
}
