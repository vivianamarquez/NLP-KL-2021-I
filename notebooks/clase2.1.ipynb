{
 "cells": [
  {
   "cell_type": "markdown",
   "metadata": {
    "slideshow": {
     "slide_type": "slide"
    }
   },
   "source": [
    "<center><img src='../img/nlp_python.jpg' style='height:300px; float: center; margin: 0px 15px 15px 0px'><center>\n",
    "\n",
    "### Adquisición de Textos\n",
    "#### NLP - Analítica Estratégica de Datos\n",
    "<br><b>Fundación Universitaria Konrad Lorenz</b>\n",
    "<br>Docente: Viviana Márquez [vivianam.penama@konradlorenz.edu.co](mailto:vivianama.penam@konradlorenz.edu.co)\n",
    "<br>Clase #2: Febrero 25, 2020\n",
    "    \n",
    "Codeshare: https://codeshare.io/2BwXmm"
   ]
  },
  {
   "cell_type": "markdown",
   "metadata": {
    "slideshow": {
     "slide_type": "slide"
    }
   },
   "source": [
    "### ⌛ En la clase anterior\n",
    "\n",
    "• Nos presentamos 🤗 <br>\n",
    "• Introducción a NLP<br>\n",
    "• Python, GitHub, cuenta de desarrollador de Twitter<br>\n",
    "\n",
    "- https://developer.twitter.com/en/dashboard\n",
    "\n",
    "git push origin **main** (Cambió a raíz del movimiento de BLM, gracias Brayam por el dato!)"
   ]
  },
  {
   "cell_type": "markdown",
   "metadata": {
    "slideshow": {
     "slide_type": "slide"
    }
   },
   "source": [
    "### 🚀 Hoy veremos...\n",
    "\n",
    "\n",
    "• Repaso de Python<br>\n",
    "• Flujo de datos en un proyecto de NLP (pipeline)<br>\n",
    "• Métodos de adquisición de texto más comunes<br>\n",
    "• Taller #2"
   ]
  },
  {
   "cell_type": "markdown",
   "metadata": {
    "slideshow": {
     "slide_type": "slide"
    }
   },
   "source": [
    "# 🐍 Python"
   ]
  },
  {
   "cell_type": "markdown",
   "metadata": {
    "slideshow": {
     "slide_type": "slide"
    }
   },
   "source": [
    "### Flujo de datos en un proyecto de NLP (pipeline)\n",
    "\n",
    "<br><center><img src='../img/pipeline.png'><center>"
   ]
  },
  {
   "cell_type": "markdown",
   "metadata": {
    "slideshow": {
     "slide_type": "notes"
    }
   },
   "source": [
    "Si en su empresa les piden desarrollar un proyecto, ¿cómo lo harían? \n",
    "\n",
    "Normalmente, revisaríamos los requerimientos y dividiríamos el problema en diferentes pasos; para luego crear una estrategía para resolver cada paso. \n",
    "\n",
    "Esto mismo se hace con los proyectos de *machine learning* y se le conoce como **pipeline** o **flujo de datos**. Aunque los detalles específicos varian de proyecto a proyecto, estos pasos son comunes y nos van a permitir comenzar cualquier proyecto de *machine learning*."
   ]
  },
  {
   "cell_type": "markdown",
   "metadata": {
    "slideshow": {
     "slide_type": "slide"
    }
   },
   "source": [
    "### Flujo de datos en un proyecto de NLP (pipeline)\n",
    "\n",
    "<br><center><img src='../img/pipeline.png'><center>\n",
    "\n",
    "#### Paso 1: Adquisición de datos\n",
    "<br>\n",
    "<center>Necesitamos adquirir datos relevantes a nuestro proyecto<br>\n",
    "😃 Eso es lo que haremos en la clase de hoy 😃<center>"
   ]
  },
  {
   "cell_type": "markdown",
   "metadata": {
    "slideshow": {
     "slide_type": "slide"
    }
   },
   "source": [
    "### Flujo de datos en un proyecto de NLP (pipeline)\n",
    "\n",
    "<br><center><img src='../img/pipeline.png'><center>\n",
    "\n",
    "#### Paso 2 y 3: Limpieza de Texto y Pre-Procesamiento\n",
    "<br>\n",
    "<center>Rara vez los datos están como los necesitamos, por lo tanto tenemos que hacer <br>limpieza y pre-procesamiento de estos para normalizarlos<br>\n",
    "    (Siguientes clases)<center>"
   ]
  },
  {
   "cell_type": "markdown",
   "metadata": {
    "slideshow": {
     "slide_type": "slide"
    }
   },
   "source": [
    "### Flujo de datos en un proyecto de NLP (pipeline)\n",
    "\n",
    "<br><center><img src='../img/pipeline.png'><center>\n",
    "\n",
    "#### Paso 4: Feature Engineering (Creación de Características)\n",
    "<br>\n",
    "<center>Creamos indicadores que son los más adecuados para nuestro proyecto y los convertimos en un formato que sea entendido por nuestro modelo/algoritmo<center>"
   ]
  },
  {
   "cell_type": "markdown",
   "metadata": {
    "slideshow": {
     "slide_type": "slide"
    }
   },
   "source": [
    "### Flujo de datos en un proyecto de NLP (pipeline)\n",
    "\n",
    "<br><center><img src='../img/pipeline.png'><center>\n",
    "\n",
    "#### Paso 5: Modelo\n",
    "<br>\n",
    "<center>Usualmente se crean varios modelos para poder escoger el mejor<center>"
   ]
  },
  {
   "cell_type": "markdown",
   "metadata": {
    "slideshow": {
     "slide_type": "slide"
    }
   },
   "source": [
    "### Flujo de datos en un proyecto de NLP (pipeline)\n",
    "\n",
    "<br><center><img src='../img/pipeline.png'><center>\n",
    "\n",
    "#### Paso 6: Evaluación del rendimiento del modelo\n",
    "<br>\n",
    "<center>Las métricas de rendimiento nos permiten escoger el modelo más adecuado y ajustar sus parámetros para mejorarlo. De ser necesario, podemos regresar y optimizar los primeros pasos<center>"
   ]
  },
  {
   "cell_type": "markdown",
   "metadata": {
    "slideshow": {
     "slide_type": "slide"
    }
   },
   "source": [
    "### Flujo de datos en un proyecto de NLP (pipeline)\n",
    "\n",
    "<br><center><img src='../img/pipeline.png'><center>\n",
    "\n",
    "#### Paso 7: Modelo en producción\n",
    "<br>\n",
    "<center>Una vez tenemos un buen modelo, pasamos a ponerlo en producción o socializar resultados<center>"
   ]
  },
  {
   "cell_type": "markdown",
   "metadata": {
    "slideshow": {
     "slide_type": "slide"
    }
   },
   "source": [
    "### Flujo de datos en un proyecto de NLP (pipeline)\n",
    "\n",
    "<br><center><img src='../img/pipeline.png'><center>\n",
    "\n",
    "#### Paso 8: Vigilancia y actualización\n",
    "<br>\n",
    "<center>Es buena práctica monitorear regularmente el rendimiento del modelo y actualizarlo para que siga dando buenos resultados<center>"
   ]
  },
  {
   "cell_type": "markdown",
   "metadata": {
    "slideshow": {
     "slide_type": "slide"
    }
   },
   "source": [
    "# 👷🏽‍♀️ Adquisición de datos\n",
    "\n",
    "¿Cuáles son los tipos de archivos de texto más comunes? \n",
    "\n",
    "https://pollev.com/vivianamarqu288"
   ]
  },
  {
   "cell_type": "markdown",
   "metadata": {
    "slideshow": {
     "slide_type": "notes"
    }
   },
   "source": [
    "    - Datos abiertos\n",
    "    - txt, csv, json, zip\n",
    "    - Excel, Word\n",
    "    - (HTML) Web Scraping \n",
    "    - PDFs e imágenes\n",
    "    - Aumento de datos"
   ]
  },
  {
   "cell_type": "markdown",
   "metadata": {
    "slideshow": {
     "slide_type": "slide"
    }
   },
   "source": [
    "### 👷🏽‍♀️ Adquisición de datos: Un caso ideal\n",
    "\n",
    "<br>\n",
    "\n",
    "<center><img src='../img/clase2/callcenter.jpg' style='height:300px; float: center; margin: 0px 15px 15px 0px'><center>\n",
    "\n",
    "• Tenemos que identificar si es una **consulta de servicio al cliente** vs una **consulta de venta**\n",
    "    \n",
    "• Para esta tarea, nuestra empresa tiene miles (incluso millones) de datos\n",
    "\n",
    "• Adicionalmente, cada uno de los datos están etiquetados\n",
    "\n",
    "• Sin embargo, la mayoría de proyectos no tienen tanta suerte 🙁"
   ]
  },
  {
   "cell_type": "markdown",
   "metadata": {
    "slideshow": {
     "slide_type": "slide"
    }
   },
   "source": [
    "### 👷🏽‍♀️ 1. Usar un conjunto de datos abiertos\n",
    "\n",
    "- GitHub\n",
    "- Kaggle: https://www.kaggle.com/\n",
    "- Búsqueda de datos de Google: https://datasetsearch.research.google.com/\n",
    "- Datos Abiertos Colombia: https://www.datos.gov.co/\n",
    "- Datos Abiertos Bogotá: https://datosabiertos.bogota.gov.co/about\n",
    "- Ministerio de Salud: https://www.minsalud.gov.co/Paginas/datos-abiertos.aspx"
   ]
  },
  {
   "cell_type": "markdown",
   "metadata": {
    "slideshow": {
     "slide_type": "slide"
    }
   },
   "source": [
    "### 👷🏽‍♀️ 3. Archivos más comunes\n",
    "\n",
    "#### Archivos tipo `.csv` (Comma Separated Value)"
   ]
  },
  {
   "cell_type": "code",
   "execution_count": 3,
   "metadata": {
    "slideshow": {
     "slide_type": "fragment"
    }
   },
   "outputs": [],
   "source": [
    "import pandas as pd"
   ]
  },
  {
   "cell_type": "code",
   "execution_count": 102,
   "metadata": {
    "slideshow": {
     "slide_type": "fragment"
    }
   },
   "outputs": [],
   "source": [
    "df = pd.read_csv(\"../archivos/iris.csv\", sep=',')"
   ]
  },
  {
   "cell_type": "code",
   "execution_count": 103,
   "metadata": {},
   "outputs": [
    {
     "data": {
      "text/html": [
       "<div>\n",
       "<style scoped>\n",
       "    .dataframe tbody tr th:only-of-type {\n",
       "        vertical-align: middle;\n",
       "    }\n",
       "\n",
       "    .dataframe tbody tr th {\n",
       "        vertical-align: top;\n",
       "    }\n",
       "\n",
       "    .dataframe thead th {\n",
       "        text-align: right;\n",
       "    }\n",
       "</style>\n",
       "<table border=\"1\" class=\"dataframe\">\n",
       "  <thead>\n",
       "    <tr style=\"text-align: right;\">\n",
       "      <th></th>\n",
       "      <th>sepal_length</th>\n",
       "      <th>sepal_width</th>\n",
       "      <th>petal_length</th>\n",
       "      <th>petal_width</th>\n",
       "      <th>species</th>\n",
       "    </tr>\n",
       "  </thead>\n",
       "  <tbody>\n",
       "    <tr>\n",
       "      <th>0</th>\n",
       "      <td>5.1</td>\n",
       "      <td>3.5</td>\n",
       "      <td>1.4</td>\n",
       "      <td>0.2</td>\n",
       "      <td>setosa</td>\n",
       "    </tr>\n",
       "    <tr>\n",
       "      <th>1</th>\n",
       "      <td>4.9</td>\n",
       "      <td>3.0</td>\n",
       "      <td>1.4</td>\n",
       "      <td>0.2</td>\n",
       "      <td>setosa</td>\n",
       "    </tr>\n",
       "    <tr>\n",
       "      <th>2</th>\n",
       "      <td>4.7</td>\n",
       "      <td>3.2</td>\n",
       "      <td>1.3</td>\n",
       "      <td>0.2</td>\n",
       "      <td>setosa</td>\n",
       "    </tr>\n",
       "    <tr>\n",
       "      <th>3</th>\n",
       "      <td>4.6</td>\n",
       "      <td>3.1</td>\n",
       "      <td>1.5</td>\n",
       "      <td>0.2</td>\n",
       "      <td>setosa</td>\n",
       "    </tr>\n",
       "    <tr>\n",
       "      <th>4</th>\n",
       "      <td>5.0</td>\n",
       "      <td>3.6</td>\n",
       "      <td>1.4</td>\n",
       "      <td>0.2</td>\n",
       "      <td>setosa</td>\n",
       "    </tr>\n",
       "  </tbody>\n",
       "</table>\n",
       "</div>"
      ],
      "text/plain": [
       "   sepal_length  sepal_width  petal_length  petal_width species\n",
       "0           5.1          3.5           1.4          0.2  setosa\n",
       "1           4.9          3.0           1.4          0.2  setosa\n",
       "2           4.7          3.2           1.3          0.2  setosa\n",
       "3           4.6          3.1           1.5          0.2  setosa\n",
       "4           5.0          3.6           1.4          0.2  setosa"
      ]
     },
     "execution_count": 103,
     "metadata": {},
     "output_type": "execute_result"
    }
   ],
   "source": [
    "df.head(5)"
   ]
  },
  {
   "cell_type": "code",
   "execution_count": 17,
   "metadata": {},
   "outputs": [],
   "source": [
    "pd.read_csv?"
   ]
  },
  {
   "cell_type": "code",
   "execution_count": 16,
   "metadata": {
    "slideshow": {
     "slide_type": "fragment"
    }
   },
   "outputs": [
    {
     "data": {
      "text/plain": [
       "'setosa **** setosa **** setosa **** setosa **** setosa **** setosa **** setosa **** setosa **** setosa **** setosa **** setosa **** setosa **** setosa **** setosa **** setosa **** setosa **** setosa **** setosa **** setosa **** setosa **** setosa **** setosa **** setosa **** setosa **** setosa **** setosa **** setosa **** setosa **** setosa **** setosa **** setosa **** setosa **** setosa **** setosa **** setosa **** setosa **** setosa **** setosa **** setosa **** setosa **** setosa **** setosa **** setosa **** setosa **** setosa **** setosa **** setosa **** setosa **** setosa **** setosa **** versicolor **** versicolor **** versicolor **** versicolor **** versicolor **** versicolor **** versicolor **** versicolor **** versicolor **** versicolor **** versicolor **** versicolor **** versicolor **** versicolor **** versicolor **** versicolor **** versicolor **** versicolor **** versicolor **** versicolor **** versicolor **** versicolor **** versicolor **** versicolor **** versicolor **** versicolor **** versicolor **** versicolor **** versicolor **** versicolor **** versicolor **** versicolor **** versicolor **** versicolor **** versicolor **** versicolor **** versicolor **** versicolor **** versicolor **** versicolor **** versicolor **** versicolor **** versicolor **** versicolor **** versicolor **** versicolor **** versicolor **** versicolor **** versicolor **** versicolor **** virginica **** virginica **** virginica **** virginica **** virginica **** virginica **** virginica **** virginica **** virginica **** virginica **** virginica **** virginica **** virginica **** virginica **** virginica **** virginica **** virginica **** virginica **** virginica **** virginica **** virginica **** virginica **** virginica **** virginica **** virginica **** virginica **** virginica **** virginica **** virginica **** virginica **** virginica **** virginica **** virginica **** virginica **** virginica **** virginica **** virginica **** virginica **** virginica **** virginica **** virginica **** virginica **** virginica **** virginica **** virginica **** virginica **** virginica **** virginica **** virginica **** virginica'"
      ]
     },
     "execution_count": 16,
     "metadata": {},
     "output_type": "execute_result"
    }
   ],
   "source": [
    "df.species.str.cat(sep=\" **** \")"
   ]
  },
  {
   "cell_type": "markdown",
   "metadata": {
    "slideshow": {
     "slide_type": "slide"
    }
   },
   "source": [
    "### 👷🏽‍♀️ 3. Archivos más comunes\n",
    "\n",
    "#### Archivos tipo `.txt`"
   ]
  },
  {
   "cell_type": "code",
   "execution_count": 26,
   "metadata": {
    "slideshow": {
     "slide_type": "fragment"
    }
   },
   "outputs": [],
   "source": [
    "with open(\"../archivos/grabacion.txt\", encoding='utf-8') as archivo:\n",
    "    data = archivo.read()"
   ]
  },
  {
   "cell_type": "code",
   "execution_count": 27,
   "metadata": {
    "slideshow": {
     "slide_type": "fragment"
    }
   },
   "outputs": [
    {
     "name": "stdout",
     "output_type": "stream",
     "text": [
      "© - Derechos Reservados: La presente obra, y todos sus contenidos, se encuentran protegidos por la normativa nacional e internacional vigente sobre propiedad Intelectual, por lo tanto su utilización parcial o total, reproducción, comunicación pública, transformación, distribución, alquiler, préstamo público e importación, total o parcial, en todo o en parte, en formato impreso o digital y en cualquier formato conocido o por conocer, se encuentran prohibidos, y solo serán lícitos en la medida en que se cuente con la autorización previa y expresa por escrito de la Fundación Universitaria Konrad Lorenz. Así mismo, de acuerdo con la normativa referente al habeas data, la utilización de la imagen de las personas, docentes o estudiantes, sin su previa autorización está expresamente prohibida. En caso de incumplirse con lo mencionado, se procederá de conformidad con los reglamentos de la Institución, sin perjuicio de las demás acciones legales aplicables. \n"
     ]
    }
   ],
   "source": [
    "print(data)"
   ]
  },
  {
   "cell_type": "markdown",
   "metadata": {
    "slideshow": {
     "slide_type": "slide"
    }
   },
   "source": [
    "### 👷🏽‍♀️ 3. Archivos más comunes\n",
    "\n",
    "#### Archivos tipo `.json`"
   ]
  },
  {
   "cell_type": "code",
   "execution_count": 28,
   "metadata": {
    "slideshow": {
     "slide_type": "fragment"
    }
   },
   "outputs": [],
   "source": [
    "import json"
   ]
  },
  {
   "cell_type": "code",
   "execution_count": 29,
   "metadata": {
    "slideshow": {
     "slide_type": "fragment"
    }
   },
   "outputs": [],
   "source": [
    "with open (\"../archivos/sistemas_operativos.json\") as archivo:\n",
    "    data = json.load(archivo)"
   ]
  },
  {
   "cell_type": "code",
   "execution_count": 32,
   "metadata": {
    "slideshow": {
     "slide_type": "fragment"
    }
   },
   "outputs": [
    {
     "data": {
      "text/plain": [
       "{'Name': 'Gentoo',\n",
       " 'Version': 'Rolling Release',\n",
       " 'Install': 'emerge',\n",
       " 'Owner': 'Gentoo Foundation',\n",
       " 'Kernel': '4.12'}"
      ]
     },
     "execution_count": 32,
     "metadata": {},
     "output_type": "execute_result"
    }
   ],
   "source": [
    "data[-1]"
   ]
  },
  {
   "cell_type": "code",
   "execution_count": 36,
   "metadata": {
    "slideshow": {
     "slide_type": "slide"
    }
   },
   "outputs": [
    {
     "data": {
      "text/html": [
       "<div>\n",
       "<style scoped>\n",
       "    .dataframe tbody tr th:only-of-type {\n",
       "        vertical-align: middle;\n",
       "    }\n",
       "\n",
       "    .dataframe tbody tr th {\n",
       "        vertical-align: top;\n",
       "    }\n",
       "\n",
       "    .dataframe thead th {\n",
       "        text-align: right;\n",
       "    }\n",
       "</style>\n",
       "<table border=\"1\" class=\"dataframe\">\n",
       "  <thead>\n",
       "    <tr style=\"text-align: right;\">\n",
       "      <th></th>\n",
       "      <th>Name</th>\n",
       "      <th>Version</th>\n",
       "      <th>Install</th>\n",
       "      <th>Owner</th>\n",
       "      <th>Kernel</th>\n",
       "    </tr>\n",
       "  </thead>\n",
       "  <tbody>\n",
       "    <tr>\n",
       "      <th>0</th>\n",
       "      <td>Debian</td>\n",
       "      <td>9</td>\n",
       "      <td>apt</td>\n",
       "      <td>SPI</td>\n",
       "      <td>4.9</td>\n",
       "    </tr>\n",
       "    <tr>\n",
       "      <th>1</th>\n",
       "      <td>Ubuntu</td>\n",
       "      <td>17.10</td>\n",
       "      <td>apt</td>\n",
       "      <td>Canonical</td>\n",
       "      <td>4.13</td>\n",
       "    </tr>\n",
       "    <tr>\n",
       "      <th>2</th>\n",
       "      <td>Fedora</td>\n",
       "      <td>26</td>\n",
       "      <td>dnf</td>\n",
       "      <td>Red Hat</td>\n",
       "      <td>4.13</td>\n",
       "    </tr>\n",
       "    <tr>\n",
       "      <th>3</th>\n",
       "      <td>CentOS</td>\n",
       "      <td>7</td>\n",
       "      <td>yum</td>\n",
       "      <td>Red Hat</td>\n",
       "      <td>3.10</td>\n",
       "    </tr>\n",
       "    <tr>\n",
       "      <th>4</th>\n",
       "      <td>OpenSUSE</td>\n",
       "      <td>42.3</td>\n",
       "      <td>zypper</td>\n",
       "      <td>Novell</td>\n",
       "      <td>4.4</td>\n",
       "    </tr>\n",
       "    <tr>\n",
       "      <th>5</th>\n",
       "      <td>Arch Linux</td>\n",
       "      <td>Rolling Release</td>\n",
       "      <td>pacman</td>\n",
       "      <td>SPI</td>\n",
       "      <td>4.13</td>\n",
       "    </tr>\n",
       "    <tr>\n",
       "      <th>6</th>\n",
       "      <td>Gentoo</td>\n",
       "      <td>Rolling Release</td>\n",
       "      <td>emerge</td>\n",
       "      <td>Gentoo Foundation</td>\n",
       "      <td>4.12</td>\n",
       "    </tr>\n",
       "  </tbody>\n",
       "</table>\n",
       "</div>"
      ],
      "text/plain": [
       "         Name          Version Install              Owner Kernel\n",
       "0      Debian                9     apt                SPI    4.9\n",
       "1      Ubuntu            17.10     apt          Canonical   4.13\n",
       "2      Fedora               26     dnf            Red Hat   4.13\n",
       "3      CentOS                7     yum            Red Hat   3.10\n",
       "4    OpenSUSE             42.3  zypper             Novell    4.4\n",
       "5  Arch Linux  Rolling Release  pacman                SPI   4.13\n",
       "6      Gentoo  Rolling Release  emerge  Gentoo Foundation   4.12"
      ]
     },
     "execution_count": 36,
     "metadata": {},
     "output_type": "execute_result"
    }
   ],
   "source": [
    "from pandas import json_normalize\n",
    "json_normalize(data)"
   ]
  },
  {
   "cell_type": "markdown",
   "metadata": {
    "slideshow": {
     "slide_type": "slide"
    }
   },
   "source": [
    "### 👷🏽‍♀️ 3. Archivos más comunes\n",
    "\n",
    "#### Archivos tipo `.zip` (archivos anidados)"
   ]
  },
  {
   "cell_type": "code",
   "execution_count": 34,
   "metadata": {
    "slideshow": {
     "slide_type": "fragment"
    }
   },
   "outputs": [],
   "source": [
    "import os\n",
    "from zipfile import ZipFile"
   ]
  },
  {
   "cell_type": "code",
   "execution_count": 35,
   "metadata": {
    "slideshow": {
     "slide_type": "fragment"
    }
   },
   "outputs": [],
   "source": [
    "direccion = '../archivos/astrok.zip'"
   ]
  },
  {
   "cell_type": "code",
   "execution_count": 39,
   "metadata": {
    "code_folding": [],
    "slideshow": {
     "slide_type": "fragment"
    }
   },
   "outputs": [],
   "source": [
    "# Descomprimir el archivo ZIP\n",
    "with ZipFile(direccion) as archivo:\n",
    "    archivo.extractall(\"../archivos/\")\n",
    "    \n",
    "import shutil\n",
    "shutil.rmtree('../archivos/__MACOSX')"
   ]
  },
  {
   "cell_type": "markdown",
   "metadata": {
    "slideshow": {
     "slide_type": "slide"
    }
   },
   "source": [
    "Para ver el nombre de los archivos:"
   ]
  },
  {
   "cell_type": "code",
   "execution_count": 40,
   "metadata": {
    "code_folding": [],
    "slideshow": {
     "slide_type": "fragment"
    }
   },
   "outputs": [
    {
     "name": "stdout",
     "output_type": "stream",
     "text": [
      "('../archivos/astrok', [], ['Perseverance.txt', 'Conjucio╠ün.txt', 'La muerte de las estrellas.txt'])\n"
     ]
    }
   ],
   "source": [
    "for archivo in os.walk(\"../archivos/astrok\"):\n",
    "    print(archivo)"
   ]
  },
  {
   "cell_type": "code",
   "execution_count": 43,
   "metadata": {
    "slideshow": {
     "slide_type": "fragment"
    }
   },
   "outputs": [
    {
     "name": "stdout",
     "output_type": "stream",
     "text": [
      "Perseverance.txt\n",
      "Conjucio╠ün.txt\n",
      "La muerte de las estrellas.txt\n"
     ]
    }
   ],
   "source": [
    "for raiz, dirs, archivos in os.walk(\"../archivos/astrok\"):\n",
    "    # print(raiz, dirs, archivos)\n",
    "    for a in archivos: \n",
    "        print(a)"
   ]
  },
  {
   "cell_type": "markdown",
   "metadata": {
    "slideshow": {
     "slide_type": "slide"
    }
   },
   "source": [
    "### 👷🏽‍♀️ 4. Archivos de Office\n",
    "\n",
    "#### Word"
   ]
  },
  {
   "cell_type": "markdown",
   "metadata": {
    "slideshow": {
     "slide_type": "fragment"
    }
   },
   "source": [
    "Instalar libreria: `pip install python-docx`"
   ]
  },
  {
   "cell_type": "code",
   "execution_count": 45,
   "metadata": {
    "slideshow": {
     "slide_type": "fragment"
    }
   },
   "outputs": [],
   "source": [
    "import docx"
   ]
  },
  {
   "cell_type": "code",
   "execution_count": 46,
   "metadata": {
    "slideshow": {
     "slide_type": "fragment"
    }
   },
   "outputs": [],
   "source": [
    "documento = docx.Document(\"../archivos/Colombia.docx\")"
   ]
  },
  {
   "cell_type": "code",
   "execution_count": 54,
   "metadata": {
    "slideshow": {
     "slide_type": "fragment"
    }
   },
   "outputs": [
    {
     "name": "stdout",
     "output_type": "stream",
     "text": [
      "Colombia\n",
      "\n",
      "Colombia, oficialmente República de Colombia, es un país soberano situado en la región noroccidental de América del Sur, que se constituye en un estado unitario, social y democrático d\n",
      "e derecho cuya forma de gobierno es presidencialista. Es una república organizada políticamente en 32 departamentos descentralizados y el Distrito Capital de Bogotá, sede del Gobierno Nacional.\n",
      "\n",
      "\n",
      "\n"
     ]
    },
    {
     "data": {
      "text/plain": [
       "[None, None, None, None, None, None, None]"
      ]
     },
     "execution_count": 54,
     "metadata": {},
     "output_type": "execute_result"
    }
   ],
   "source": [
    "[print(p.text) for p in documento.paragraphs] "
   ]
  },
  {
   "cell_type": "markdown",
   "metadata": {
    "slideshow": {
     "slide_type": "slide"
    }
   },
   "source": [
    "Para poder leer tablas dentro del archivo"
   ]
  },
  {
   "cell_type": "code",
   "execution_count": 58,
   "metadata": {
    "slideshow": {
     "slide_type": "fragment"
    }
   },
   "outputs": [
    {
     "data": {
      "text/plain": [
       "<docx.table.Table at 0x7fcc803d5d50>"
      ]
     },
     "execution_count": 58,
     "metadata": {},
     "output_type": "execute_result"
    }
   ],
   "source": [
    "tabla = documento.tables[0]\n",
    "tabla"
   ]
  },
  {
   "cell_type": "code",
   "execution_count": 76,
   "metadata": {
    "slideshow": {
     "slide_type": "fragment"
    }
   },
   "outputs": [
    {
     "data": {
      "text/html": [
       "<div>\n",
       "<style scoped>\n",
       "    .dataframe tbody tr th:only-of-type {\n",
       "        vertical-align: middle;\n",
       "    }\n",
       "\n",
       "    .dataframe tbody tr th {\n",
       "        vertical-align: top;\n",
       "    }\n",
       "\n",
       "    .dataframe thead th {\n",
       "        text-align: right;\n",
       "    }\n",
       "</style>\n",
       "<table border=\"1\" class=\"dataframe\">\n",
       "  <thead>\n",
       "    <tr style=\"text-align: right;\">\n",
       "      <th></th>\n",
       "      <th>REGION</th>\n",
       "      <th>DEPARTAMENTO</th>\n",
       "      <th>MUNICIPIO</th>\n",
       "    </tr>\n",
       "  </thead>\n",
       "  <tbody>\n",
       "    <tr>\n",
       "      <th>0</th>\n",
       "      <td>REGION</td>\n",
       "      <td>DEPARTAMENTO</td>\n",
       "      <td>MUNICIPIO</td>\n",
       "    </tr>\n",
       "    <tr>\n",
       "      <th>1</th>\n",
       "      <td>Región Eje Cafetero - Antioquia</td>\n",
       "      <td>Antioquia</td>\n",
       "      <td>Medellín</td>\n",
       "    </tr>\n",
       "    <tr>\n",
       "      <th>2</th>\n",
       "      <td>Región Eje Cafetero - Antioquia</td>\n",
       "      <td>Antioquia</td>\n",
       "      <td>Abejorral</td>\n",
       "    </tr>\n",
       "    <tr>\n",
       "      <th>3</th>\n",
       "      <td>Región Eje Cafetero - Antioquia</td>\n",
       "      <td>Antioquia</td>\n",
       "      <td>Abriaquí</td>\n",
       "    </tr>\n",
       "    <tr>\n",
       "      <th>4</th>\n",
       "      <td>Región Eje Cafetero - Antioquia</td>\n",
       "      <td>Antioquia</td>\n",
       "      <td>Alejandría</td>\n",
       "    </tr>\n",
       "    <tr>\n",
       "      <th>5</th>\n",
       "      <td>Región Eje Cafetero - Antioquia</td>\n",
       "      <td>Antioquia</td>\n",
       "      <td>Amagá</td>\n",
       "    </tr>\n",
       "    <tr>\n",
       "      <th>6</th>\n",
       "      <td>Región Eje Cafetero - Antioquia</td>\n",
       "      <td>Antioquia</td>\n",
       "      <td>Amalfi</td>\n",
       "    </tr>\n",
       "    <tr>\n",
       "      <th>7</th>\n",
       "      <td>Región Eje Cafetero - Antioquia</td>\n",
       "      <td>Antioquia</td>\n",
       "      <td>Andes</td>\n",
       "    </tr>\n",
       "    <tr>\n",
       "      <th>8</th>\n",
       "      <td>Región Eje Cafetero - Antioquia</td>\n",
       "      <td>Antioquia</td>\n",
       "      <td>Angelópolis</td>\n",
       "    </tr>\n",
       "    <tr>\n",
       "      <th>9</th>\n",
       "      <td>Región Eje Cafetero - Antioquia</td>\n",
       "      <td>Antioquia</td>\n",
       "      <td>Angostura</td>\n",
       "    </tr>\n",
       "    <tr>\n",
       "      <th>10</th>\n",
       "      <td>Región Eje Cafetero - Antioquia</td>\n",
       "      <td>Antioquia</td>\n",
       "      <td>Anorí</td>\n",
       "    </tr>\n",
       "  </tbody>\n",
       "</table>\n",
       "</div>"
      ],
      "text/plain": [
       "                             REGION  DEPARTAMENTO    MUNICIPIO\n",
       "0                            REGION  DEPARTAMENTO    MUNICIPIO\n",
       "1   Región Eje Cafetero - Antioquia     Antioquia     Medellín\n",
       "2   Región Eje Cafetero - Antioquia     Antioquia    Abejorral\n",
       "3   Región Eje Cafetero - Antioquia     Antioquia     Abriaquí\n",
       "4   Región Eje Cafetero - Antioquia     Antioquia   Alejandría\n",
       "5   Región Eje Cafetero - Antioquia     Antioquia        Amagá\n",
       "6   Región Eje Cafetero - Antioquia     Antioquia       Amalfi\n",
       "7   Región Eje Cafetero - Antioquia     Antioquia        Andes\n",
       "8   Región Eje Cafetero - Antioquia     Antioquia  Angelópolis\n",
       "9   Región Eje Cafetero - Antioquia     Antioquia    Angostura\n",
       "10  Región Eje Cafetero - Antioquia     Antioquia        Anorí"
      ]
     },
     "execution_count": 76,
     "metadata": {},
     "output_type": "execute_result"
    }
   ],
   "source": [
    "data = []\n",
    "\n",
    "for i, fila in enumerate(tabla.rows):\n",
    "    f = [celda.text for celda in fila.cells]\n",
    "    data.append(f)\n",
    "    \n",
    "df = pd.DataFrame(data)\n",
    "\n",
    "df.columns = df.loc[0].values\n",
    "\n",
    "df"
   ]
  },
  {
   "cell_type": "markdown",
   "metadata": {
    "slideshow": {
     "slide_type": "slide"
    }
   },
   "source": [
    "### 👷🏽‍♀️ 4. Archivos de Office\n",
    "\n",
    "#### Excel"
   ]
  },
  {
   "cell_type": "code",
   "execution_count": 77,
   "metadata": {
    "slideshow": {
     "slide_type": "fragment"
    }
   },
   "outputs": [],
   "source": [
    "import pandas as pd"
   ]
  },
  {
   "cell_type": "code",
   "execution_count": 78,
   "metadata": {
    "slideshow": {
     "slide_type": "fragment"
    }
   },
   "outputs": [],
   "source": [
    "data = pd.read_excel(\"../archivos/hoja.xlsx\")"
   ]
  },
  {
   "cell_type": "code",
   "execution_count": 79,
   "metadata": {
    "slideshow": {
     "slide_type": "fragment"
    }
   },
   "outputs": [
    {
     "data": {
      "text/html": [
       "<div>\n",
       "<style scoped>\n",
       "    .dataframe tbody tr th:only-of-type {\n",
       "        vertical-align: middle;\n",
       "    }\n",
       "\n",
       "    .dataframe tbody tr th {\n",
       "        vertical-align: top;\n",
       "    }\n",
       "\n",
       "    .dataframe thead th {\n",
       "        text-align: right;\n",
       "    }\n",
       "</style>\n",
       "<table border=\"1\" class=\"dataframe\">\n",
       "  <thead>\n",
       "    <tr style=\"text-align: right;\">\n",
       "      <th></th>\n",
       "      <th>OrderDate</th>\n",
       "      <th>Region</th>\n",
       "      <th>Rep</th>\n",
       "      <th>Item</th>\n",
       "      <th>Units</th>\n",
       "      <th>Unit Cost</th>\n",
       "      <th>Total</th>\n",
       "    </tr>\n",
       "  </thead>\n",
       "  <tbody>\n",
       "    <tr>\n",
       "      <th>0</th>\n",
       "      <td>2019-01-06</td>\n",
       "      <td>East</td>\n",
       "      <td>Jones</td>\n",
       "      <td>Pencil</td>\n",
       "      <td>95</td>\n",
       "      <td>1.99</td>\n",
       "      <td>189.05</td>\n",
       "    </tr>\n",
       "    <tr>\n",
       "      <th>1</th>\n",
       "      <td>2019-01-23</td>\n",
       "      <td>Central</td>\n",
       "      <td>Kivell</td>\n",
       "      <td>Binder</td>\n",
       "      <td>50</td>\n",
       "      <td>19.99</td>\n",
       "      <td>999.50</td>\n",
       "    </tr>\n",
       "    <tr>\n",
       "      <th>2</th>\n",
       "      <td>2019-02-09</td>\n",
       "      <td>Central</td>\n",
       "      <td>Jardine</td>\n",
       "      <td>Pencil</td>\n",
       "      <td>36</td>\n",
       "      <td>4.99</td>\n",
       "      <td>179.64</td>\n",
       "    </tr>\n",
       "    <tr>\n",
       "      <th>3</th>\n",
       "      <td>2019-02-26</td>\n",
       "      <td>Central</td>\n",
       "      <td>Gill</td>\n",
       "      <td>Pen</td>\n",
       "      <td>27</td>\n",
       "      <td>19.99</td>\n",
       "      <td>539.73</td>\n",
       "    </tr>\n",
       "    <tr>\n",
       "      <th>4</th>\n",
       "      <td>2019-03-15</td>\n",
       "      <td>West</td>\n",
       "      <td>Sorvino</td>\n",
       "      <td>Pencil</td>\n",
       "      <td>56</td>\n",
       "      <td>2.99</td>\n",
       "      <td>167.44</td>\n",
       "    </tr>\n",
       "  </tbody>\n",
       "</table>\n",
       "</div>"
      ],
      "text/plain": [
       "   OrderDate   Region      Rep    Item  Units  Unit Cost   Total\n",
       "0 2019-01-06     East    Jones  Pencil     95       1.99  189.05\n",
       "1 2019-01-23  Central   Kivell  Binder     50      19.99  999.50\n",
       "2 2019-02-09  Central  Jardine  Pencil     36       4.99  179.64\n",
       "3 2019-02-26  Central     Gill     Pen     27      19.99  539.73\n",
       "4 2019-03-15     West  Sorvino  Pencil     56       2.99  167.44"
      ]
     },
     "execution_count": 79,
     "metadata": {},
     "output_type": "execute_result"
    }
   ],
   "source": [
    "data.head()"
   ]
  },
  {
   "cell_type": "markdown",
   "metadata": {
    "slideshow": {
     "slide_type": "slide"
    }
   },
   "source": [
    "¿Y la segunda hoja?"
   ]
  },
  {
   "cell_type": "code",
   "execution_count": 82,
   "metadata": {
    "slideshow": {
     "slide_type": "fragment"
    }
   },
   "outputs": [],
   "source": [
    "data2 = pd.read_excel(\"../archivos/hoja.xlsx\", sheet_name=1)"
   ]
  },
  {
   "cell_type": "code",
   "execution_count": 83,
   "metadata": {
    "slideshow": {
     "slide_type": "fragment"
    }
   },
   "outputs": [
    {
     "data": {
      "text/html": [
       "<div>\n",
       "<style scoped>\n",
       "    .dataframe tbody tr th:only-of-type {\n",
       "        vertical-align: middle;\n",
       "    }\n",
       "\n",
       "    .dataframe tbody tr th {\n",
       "        vertical-align: top;\n",
       "    }\n",
       "\n",
       "    .dataframe thead th {\n",
       "        text-align: right;\n",
       "    }\n",
       "</style>\n",
       "<table border=\"1\" class=\"dataframe\">\n",
       "  <thead>\n",
       "    <tr style=\"text-align: right;\">\n",
       "      <th></th>\n",
       "      <th>Hoja 2</th>\n",
       "      <th>Unnamed: 1</th>\n",
       "    </tr>\n",
       "  </thead>\n",
       "  <tbody>\n",
       "    <tr>\n",
       "      <th>0</th>\n",
       "      <td>Días</td>\n",
       "      <td>Número</td>\n",
       "    </tr>\n",
       "    <tr>\n",
       "      <th>1</th>\n",
       "      <td>Lunes</td>\n",
       "      <td>1</td>\n",
       "    </tr>\n",
       "    <tr>\n",
       "      <th>2</th>\n",
       "      <td>Martes</td>\n",
       "      <td>2</td>\n",
       "    </tr>\n",
       "    <tr>\n",
       "      <th>3</th>\n",
       "      <td>Miércoles</td>\n",
       "      <td>3</td>\n",
       "    </tr>\n",
       "    <tr>\n",
       "      <th>4</th>\n",
       "      <td>Jueves</td>\n",
       "      <td>4</td>\n",
       "    </tr>\n",
       "    <tr>\n",
       "      <th>5</th>\n",
       "      <td>Viernes</td>\n",
       "      <td>5</td>\n",
       "    </tr>\n",
       "    <tr>\n",
       "      <th>6</th>\n",
       "      <td>Sábado</td>\n",
       "      <td>6</td>\n",
       "    </tr>\n",
       "    <tr>\n",
       "      <th>7</th>\n",
       "      <td>Domingo</td>\n",
       "      <td>7</td>\n",
       "    </tr>\n",
       "  </tbody>\n",
       "</table>\n",
       "</div>"
      ],
      "text/plain": [
       "      Hoja 2 Unnamed: 1\n",
       "0       Días     Número\n",
       "1      Lunes          1\n",
       "2     Martes          2\n",
       "3  Miércoles          3\n",
       "4     Jueves          4\n",
       "5    Viernes          5\n",
       "6     Sábado          6\n",
       "7    Domingo          7"
      ]
     },
     "execution_count": 83,
     "metadata": {},
     "output_type": "execute_result"
    }
   ],
   "source": [
    "data2"
   ]
  },
  {
   "cell_type": "markdown",
   "metadata": {
    "slideshow": {
     "slide_type": "slide"
    }
   },
   "source": [
    "### 👷🏽‍♀️ 4. Archivos de Office\n",
    "\n",
    "#### Excel (Directamente desde Google Sheets)"
   ]
  },
  {
   "cell_type": "code",
   "execution_count": 84,
   "metadata": {
    "slideshow": {
     "slide_type": "fragment"
    }
   },
   "outputs": [],
   "source": [
    "url = \"https://docs.google.com/spreadsheets/d/1O8k9ZBaHSPbw_8IgE-jxmVE8FkMWimr6dZPuKhAT2hM/edit#gid=0\""
   ]
  },
  {
   "cell_type": "code",
   "execution_count": 90,
   "metadata": {
    "slideshow": {
     "slide_type": "fragment"
    }
   },
   "outputs": [
    {
     "data": {
      "text/plain": [
       "'https://docs.google.com/spreadsheets/d/1O8k9ZBaHSPbw_8IgE-jxmVE8FkMWimr6dZPuKhAT2hM/gviz/tq?tqx=out:csv'"
      ]
     },
     "execution_count": 90,
     "metadata": {},
     "output_type": "execute_result"
    }
   ],
   "source": [
    "new_url = url.rsplit(\"/\",1)[0] + \"/gviz/tq?tqx=out:csv\"\n",
    "new_url"
   ]
  },
  {
   "cell_type": "code",
   "execution_count": 91,
   "metadata": {
    "slideshow": {
     "slide_type": "fragment"
    }
   },
   "outputs": [
    {
     "data": {
      "text/html": [
       "<div>\n",
       "<style scoped>\n",
       "    .dataframe tbody tr th:only-of-type {\n",
       "        vertical-align: middle;\n",
       "    }\n",
       "\n",
       "    .dataframe tbody tr th {\n",
       "        vertical-align: top;\n",
       "    }\n",
       "\n",
       "    .dataframe thead th {\n",
       "        text-align: right;\n",
       "    }\n",
       "</style>\n",
       "<table border=\"1\" class=\"dataframe\">\n",
       "  <thead>\n",
       "    <tr style=\"text-align: right;\">\n",
       "      <th></th>\n",
       "      <th>Español</th>\n",
       "      <th>English</th>\n",
       "    </tr>\n",
       "  </thead>\n",
       "  <tbody>\n",
       "    <tr>\n",
       "      <th>0</th>\n",
       "      <td>Lunes</td>\n",
       "      <td>Monday</td>\n",
       "    </tr>\n",
       "    <tr>\n",
       "      <th>1</th>\n",
       "      <td>Martes</td>\n",
       "      <td>Tuesday</td>\n",
       "    </tr>\n",
       "    <tr>\n",
       "      <th>2</th>\n",
       "      <td>Miércoles</td>\n",
       "      <td>Wednesday</td>\n",
       "    </tr>\n",
       "    <tr>\n",
       "      <th>3</th>\n",
       "      <td>Jueves</td>\n",
       "      <td>Thursday</td>\n",
       "    </tr>\n",
       "    <tr>\n",
       "      <th>4</th>\n",
       "      <td>Viernes</td>\n",
       "      <td>Friday</td>\n",
       "    </tr>\n",
       "  </tbody>\n",
       "</table>\n",
       "</div>"
      ],
      "text/plain": [
       "     Español    English\n",
       "0      Lunes     Monday\n",
       "1     Martes    Tuesday\n",
       "2  Miércoles  Wednesday\n",
       "3     Jueves   Thursday\n",
       "4    Viernes     Friday"
      ]
     },
     "execution_count": 91,
     "metadata": {},
     "output_type": "execute_result"
    }
   ],
   "source": [
    "data = pd.read_csv(new_url)\n",
    "\n",
    "data"
   ]
  },
  {
   "cell_type": "markdown",
   "metadata": {
    "slideshow": {
     "slide_type": "slide"
    }
   },
   "source": [
    "### 👷🏽‍♀️ 5.  Archivos PDF"
   ]
  },
  {
   "cell_type": "markdown",
   "metadata": {
    "slideshow": {
     "slide_type": "fragment"
    }
   },
   "source": [
    "Instalar libreria:  `pip install PyMuPDF`\n",
    "\n",
    "**Créditos**: [Angela Cristina Villate Moreno](https://www.linkedin.com/in/angela-cristina-villate-moreno-colaborarcentrodepensamiento/), [ejemplo](https://github.com/AngelaVillate/NLP_repositorio/blob/master/Lectura%20de%20textos_jur%C3%ADdicos%20.ipynb)"
   ]
  },
  {
   "cell_type": "code",
   "execution_count": 95,
   "metadata": {},
   "outputs": [],
   "source": [
    "import fitz"
   ]
  },
  {
   "cell_type": "code",
   "execution_count": 96,
   "metadata": {},
   "outputs": [],
   "source": [
    "documento = fitz.open('../archivos/cien.pdf')"
   ]
  },
  {
   "cell_type": "code",
   "execution_count": 99,
   "metadata": {},
   "outputs": [
    {
     "name": "stdout",
     "output_type": "stream",
     "text": [
      "Número de páginas:  1\n",
      "Metados:  {'format': 'PDF 1.3', 'title': 'cien', 'author': '', 'subject': '', 'keywords': '', 'creator': 'Pages', 'producer': 'macOS Version 10.15.6 (Build 19G2021) Quartz PDFContext', 'creationDate': \"D:20200822062639Z00'00'\", 'modDate': \"D:20200822062639Z00'00'\", 'trapped': '', 'encryption': None}\n"
     ]
    }
   ],
   "source": [
    "print(\"Número de páginas: \", documento.pageCount)\n",
    "print(\"Metados: \", documento.metadata)"
   ]
  },
  {
   "cell_type": "code",
   "execution_count": 100,
   "metadata": {
    "slideshow": {
     "slide_type": "slide"
    }
   },
   "outputs": [
    {
     "name": "stdout",
     "output_type": "stream",
     "text": [
      "Cien años de soledad \n",
      "Muchos años después, frente al pelotón de fusilamiento, el coronel Aureliano Buendía había de \n",
      "recordar aquella tarde remota en que su padre lo llevó a conocer el hielo. Macondo era entonces \n",
      "una aldea de veinte casas de barro y cañabrava construidas a la orilla de un río de aguas diáfanas \n",
      "que se precipitaban por un lecho de piedras pulidas, blancas y enormes como huevos \n",
      "prehistóricos. El mundo era tan reciente, que muchas cosas carecían de nombre, y para \n",
      "mencionarlas había que señalarías con el dedo. Todos los años, por el mes de marzo, una familia \n",
      "de gitanos desarrapados plantaba su carpa cerca de la aldea, y con un grande alboroto de pitos y \n",
      "timbales daban a conocer los nuevos inventos. Primero llevaron el imán. Un gitano corpulento, de \n",
      "barba montaraz y manos de gorrión, que se presentó con el nombre de Melquiades, hizo una \n",
      "truculenta demostración pública de lo que él mismo llamaba la octava maravilla de los sabios \n",
      "alquimistas de Macedonia. Fue de casa en casa arrastrando dos lingotes metálicos, y todo el \n",
      "mundo se espantó al ver que los calderos, las pailas, las tenazas y los anafes se caían de su sitio, y \n",
      "las maderas crujían por la desesperación de los clavos y los tornillos tratando de desenclavarse, y \n",
      "aun los objetos perdidos desde hacía mucho tiempo aparecían por donde más se les había buscado, \n",
      "y se arrastraban en desbandada turbulenta detrás de los fierros mágicos de Melquíades. «Las \n",
      "cosas, tienen vida propia -pregonaba el gitano con áspero acento-, todo es cuestión de despertarles \n",
      "el ánima.» José Arcadio Buendía, cuya desaforada imaginación iba siempre más lejos que el \n",
      "ingenio de la naturaleza, y aun más allá del milagro y la magia, pensó que era posible servirse de \n",
      "aquella invención inútil para desentrañar el oro de la tierra. Melquíades, que era un hombre \n",
      "honrado, le previno: «Para eso no sirve.» Pero José Arcadio Buendía no creía en aquel tiempo en la \n",
      "honradez de los gitanos, así que cambió su mulo y una partida de chivos por los dos lingotes \n",
      "imantados. Úrsula Iguarán, su mujer, que contaba con aquellos animales para ensanchar el \n",
      "desmedrado patrimonio doméstico, no consiguió disuadirlo. «Muy pronto ha de sobrarnos oro \n",
      "para empedrar la casa», replicó su marido. Durante varios meses se empeñó en demostrar el \n",
      "acierto de sus conjeturas. Exploró palmo a palmo la región, inclusive el fondo del río, arrastrando \n",
      "los dos lingotes de hierro y recitando en voz alta el conjuro de Melquíades. Lo único que logró \n",
      "desenterrar fue una armadura del siglo xv con todas sus partes soldadas por un cascote de óxido, \n",
      "cuyo interior tenía la resonancia hueca de un enorme calabazo lleno de piedras. Cuando José \n",
      "Arcadio Buendía y los cuatro hombres de su expedición lograron desarticular la armadura, \n",
      "encontraron dentro un esqueleto calcificado que llevaba colgado en el cuello un relicario de cobre \n",
      "con un rizo de mujer.  \n",
      "\n"
     ]
    }
   ],
   "source": [
    "pagina = documento.loadPage(0)\n",
    "texto = pagina.getText(\"text\")\n",
    "print(texto)"
   ]
  },
  {
   "cell_type": "markdown",
   "metadata": {
    "slideshow": {
     "slide_type": "slide"
    }
   },
   "source": [
    "### 👷🏽‍♀️ 5.  Archivos de imagen"
   ]
  },
  {
   "cell_type": "markdown",
   "metadata": {
    "slideshow": {
     "slide_type": "fragment"
    }
   },
   "source": [
    "Instalar:\n",
    "- `pip install pytesseract`\n",
    "- Tesser OCR\n",
    "    - Mac: `brew install tesseract` \n",
    "    - Linux: `sudo apt-get install tesseract-ocr` \n",
    "    - Windows: https://github.com/UB-Mannheim/tesseract/wiki"
   ]
  },
  {
   "cell_type": "code",
   "execution_count": null,
   "metadata": {
    "slideshow": {
     "slide_type": "fragment"
    }
   },
   "outputs": [],
   "source": [
    "import pytesseract\n",
    "from pytesseract import image_to_string\n",
    "from PIL import Image"
   ]
  },
  {
   "cell_type": "code",
   "execution_count": null,
   "metadata": {},
   "outputs": [],
   "source": [
    "Image.open(\"demo.png\")"
   ]
  },
  {
   "cell_type": "code",
   "execution_count": null,
   "metadata": {},
   "outputs": [],
   "source": [
    "# pytesseract.pytesseract.tesseract_cmd = \"C:\\\\Program Files\\\\Tesseract-OCR\\\\tesseract.exe\"\n",
    "texto = image_to_string(Image.open(\"demo.png\")) \n",
    "print(texto)"
   ]
  },
  {
   "cell_type": "markdown",
   "metadata": {
    "slideshow": {
     "slide_type": "slide"
    }
   },
   "source": [
    "### 👷🏽‍♀️ 6.  Aumentación de datos\n",
    "\n",
    "<br>\n",
    "\n",
    "<center><img src='../img/clase2/gato1.jpg' style='height:300px; float: center; margin: 0px 15px 15px 0px'><center>\n",
    "\n",
    "• Estrategia utilizada frecuentemente en machine learning cuando no se tienen suficiente datos."
   ]
  },
  {
   "cell_type": "markdown",
   "metadata": {
    "slideshow": {
     "slide_type": "slide"
    }
   },
   "source": [
    "### 👷🏽‍♀️ 6.  Aumentación de datos\n",
    "\n",
    "<br>\n",
    "\n",
    "<center><img src='../img/clase2/gato2.jpg' style='height:300px; float: center; margin: 0px 15px 15px 0px'><center>\n",
    "\n",
    "• Estrategia utilizada frecuentemente en machine learning cuando no se tienen suficiente datos."
   ]
  },
  {
   "cell_type": "markdown",
   "metadata": {
    "slideshow": {
     "slide_type": "slide"
    }
   },
   "source": [
    "### 👷🏽‍♀️ 6.  Aumentación de datos\n",
    "\n",
    "<br>\n",
    "\n",
    "<center><img src='../img/clase2/gato3.jpg' style='height:300px; float: center; margin: 0px 15px 15px 0px'><center>\n",
    "\n",
    "• Estrategia utilizada frecuentemente en machine learning cuando no se tienen suficiente datos."
   ]
  },
  {
   "cell_type": "markdown",
   "metadata": {
    "slideshow": {
     "slide_type": "slide"
    }
   },
   "source": [
    "### 👷🏽‍♀️ 6.  Aumentación de datos\n",
    "\n",
    "<br>\n",
    "\n",
    "<center><img src='../img/clase2/gato4.jpg' style='height:300px; float: center; margin: 0px 15px 15px 0px'><center>\n",
    "\n",
    "• Estrategia utilizada frecuentemente en machine learning cuando no se tienen suficiente datos."
   ]
  },
  {
   "cell_type": "markdown",
   "metadata": {
    "slideshow": {
     "slide_type": "slide"
    }
   },
   "source": [
    "### 👷🏽‍♀️ 6.  Aumentación de datos\n",
    "\n",
    "<br>\n",
    "\n",
    "<center>\n",
    "<img src='../img/clase2/4cats.png' style='height:200px; float: center; margin: 0px 15px 15px 0px'></center>\n",
    "    \n",
    "• ¿Con textos?"
   ]
  },
  {
   "cell_type": "markdown",
   "metadata": {
    "slideshow": {
     "slide_type": "fragment"
    }
   },
   "source": [
    "- Reemplazo de sinónimos\n",
    "- Traducción de ida y vuelta\n",
    "- Reemplazar entidades\n",
    "- Agregar \"ruido\" al texto\n",
    "\n",
    "Libreria `nlpaug`: https://github.com/makcedward/nlpaug"
   ]
  },
  {
   "cell_type": "markdown",
   "metadata": {
    "slideshow": {
     "slide_type": "notes"
    }
   },
   "source": [
    "Más info: Libreria de `nlpaug`: https://github.com/makcedward/nlpaug"
   ]
  },
  {
   "cell_type": "markdown",
   "metadata": {
    "slideshow": {
     "slide_type": "slide"
    }
   },
   "source": [
    "### 🤓 Recapitulando: Hoy aprendímos...\n",
    "\n",
    "- Los diferentes pasos en un proyecto de machine learning/NLP (flujo de datos/pipeline)\n",
    "- Métodos de adquisición de texto más comunes\n",
    "    - Usar un conjunto de datos abiertos\n",
    "    - Archivos más comunes: `.csv`, `.txt`, `.json`, `.zip`\n",
    "    - Archivos Office: Word, Excel, Google Sheets\n",
    "    - PDFs e imágenes\n",
    "    - Aumentación de datos"
   ]
  },
  {
   "cell_type": "markdown",
   "metadata": {
    "slideshow": {
     "slide_type": "slide"
    }
   },
   "source": [
    "# ¡Tiempo de taller!\n",
    "\n",
    "<center>\n",
    "<img src='../img/taller.gif'>"
   ]
  },
  {
   "cell_type": "markdown",
   "metadata": {
    "slideshow": {
     "slide_type": "fragment"
    }
   },
   "source": [
    "**Taller # 2:** Adquisición de datos de NLP.\n",
    "\n",
    "**Fecha de entrega:** Marzo 4, 2020. (Antes del inicio de la próxima clase)"
   ]
  },
  {
   "cell_type": "markdown",
   "metadata": {
    "slideshow": {
     "slide_type": "slide"
    }
   },
   "source": [
    "<center>\n",
    "    <img src='../img/fin.png' style='height:300px; float: center; margin: 0px 15px 15px 0px'>\n",
    "\n",
    "### Proxima clase: Web scraping, extracción, pre-procesamiento y normalización de textos"
   ]
  }
 ],
 "metadata": {
  "celltoolbar": "Slideshow",
  "kernelspec": {
   "display_name": "Python 3",
   "language": "python",
   "name": "python3"
  },
  "language_info": {
   "codemirror_mode": {
    "name": "ipython",
    "version": 3
   },
   "file_extension": ".py",
   "mimetype": "text/x-python",
   "name": "python",
   "nbconvert_exporter": "python",
   "pygments_lexer": "ipython3",
   "version": "3.7.4"
  }
 },
 "nbformat": 4,
 "nbformat_minor": 2
}
