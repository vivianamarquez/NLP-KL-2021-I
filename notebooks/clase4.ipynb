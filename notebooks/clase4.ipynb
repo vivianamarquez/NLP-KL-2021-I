{
 "cells": [
  {
   "cell_type": "markdown",
   "metadata": {
    "slideshow": {
     "slide_type": "slide"
    }
   },
   "source": [
    "<center><img src='../img/vector.png' style='height:200px; float: center; margin: 0px 15px 15px 0px'></center>\n",
    "\n",
    "### Representación vectorial de textos (Parte 1)\n",
    "#### NLP - Analítica Estratégica de Datos\n",
    "<br><b>Fundación Universitaria Konrad Lorenz</b>\n",
    "<br>Docente: Viviana Márquez [vivianam.penama@konradlorenz.edu.co](mailto:vivianam.penama@konradlorenz.edu.co)\n",
    "<br>Clase #5: Marzo 11, 2021\n",
    "\n",
    "Codeshare: https://codeshare.io/2BNvnL"
   ]
  },
  {
   "cell_type": "markdown",
   "metadata": {
    "slideshow": {
     "slide_type": "slide"
    }
   },
   "source": [
    "# Retroalimentación Taller 3"
   ]
  },
  {
   "cell_type": "markdown",
   "metadata": {
    "slideshow": {
     "slide_type": "slide"
    }
   },
   "source": [
    "### ⌛ En la clase anterior\n",
    "\n",
    "\n",
    "- Adquisición de datos\n",
    "    - Web Scraping\n",
    "- Herramientas generales de limpieza de texto\n",
    "    - ASCII, Unicode\n",
    "    - RegEx\n",
    "    - Otros métodos útiles en Python\n",
    "    - Traducción"
   ]
  },
  {
   "cell_type": "markdown",
   "metadata": {
    "slideshow": {
     "slide_type": "slide"
    }
   },
   "source": [
    "### Flujo de datos en un proyecto de NLP (pipeline)\n",
    "\n",
    "<br><center><img src='../img/pipeline.png'><center>"
   ]
  },
  {
   "cell_type": "markdown",
   "metadata": {
    "slideshow": {
     "slide_type": "slide"
    }
   },
   "source": [
    "### Flujo de datos en un proyecto de NLP (pipeline) --- En clases anteriores\n",
    "\n",
    "<br><center><img src='../img/pipeline1.png'><center>"
   ]
  },
  {
   "cell_type": "markdown",
   "metadata": {
    "slideshow": {
     "slide_type": "slide"
    }
   },
   "source": [
    "### Flujo de datos en un proyecto de NLP (pipeline) --- En clases anteriores\n",
    "\n",
    "<br><center><img src='../img/pipeline2.png'><center>"
   ]
  },
  {
   "cell_type": "markdown",
   "metadata": {
    "slideshow": {
     "slide_type": "slide"
    }
   },
   "source": [
    "### Flujo de datos en un proyecto de NLP (pipeline) --- Hoy\n",
    "\n",
    "<br><center><img src='../img/pipeline3.png'><center>"
   ]
  },
  {
   "cell_type": "markdown",
   "metadata": {
    "slideshow": {
     "slide_type": "slide"
    }
   },
   "source": [
    "### 🚀 Hoy veremos...\n",
    "\n",
    "- Herramientas específicas de pre-procesamiento de texto en NLP\n",
    "    - Palabras vacías\n",
    "    - Tokenización\n",
    "    - Stemming\n",
    "    - Lematización\n",
    "    - Etiquetado gramatical\n",
    "    \n",
    "    \n",
    "- Repaso de Feature Engineering en Machine Learning \n",
    "- Representación de datos en forma numérica\n",
    "- Espacio semántico vectorial\n",
    "\n",
    "\n",
    "- Métodos de vectorización\n",
    "    - One-Hot Encoding \n",
    "    - Bag of Words\n",
    "    - Bag of N-Grams"
   ]
  },
  {
   "cell_type": "markdown",
   "metadata": {
    "slideshow": {
     "slide_type": "slide"
    }
   },
   "source": [
    "# Herramientas específicas de \n",
    "# pre-procesamiento de texto en NLP <br><br>\n",
    "\n",
    "<center><img src='../img/clase4/prepro3.png'></center>"
   ]
  },
  {
   "cell_type": "markdown",
   "metadata": {
    "slideshow": {
     "slide_type": "slide"
    }
   },
   "source": [
    "### Tokenización\n",
    "\n",
    "<center><img src='../img/clase4/prepro3_1.png'></center>\n",
    "\n",
    "Tokenización (Analizador léxico) es el proceso de convertir una secuencia de caracteres en una secuencia de tokens (componentes léxicos)"
   ]
  },
  {
   "cell_type": "markdown",
   "metadata": {
    "slideshow": {
     "slide_type": "fragment"
    }
   },
   "source": [
    "Léxico: Conjunto de palabras que conforma un determinado lecto. (Ósea, el vocabulario)"
   ]
  },
  {
   "cell_type": "code",
   "execution_count": 15,
   "metadata": {
    "slideshow": {
     "slide_type": "slide"
    }
   },
   "outputs": [
    {
     "data": {
      "text/plain": [
       "['hola', 'cómo', 'estás', 'este', 'es', 'mi', 'número']"
      ]
     },
     "execution_count": 15,
     "metadata": {},
     "output_type": "execute_result"
    }
   ],
   "source": [
    "import re\n",
    "\n",
    "texto = \"¡Hola! ¿Cómo estás? Este es mi número: 555-777-888\"\n",
    "texto = texto.lower() # Minúscula \n",
    "texto = re.sub(r\"[\\W\\d]\", \" \", texto) # Dejar sólo letras\n",
    "texto = texto.strip()\n",
    "texto = texto.split() # Tokenizar\n",
    "texto"
   ]
  },
  {
   "cell_type": "markdown",
   "metadata": {
    "slideshow": {
     "slide_type": "fragment"
    }
   },
   "source": [
    "#### Palabras vacías (Stopwords)"
   ]
  },
  {
   "cell_type": "code",
   "execution_count": 19,
   "metadata": {
    "slideshow": {
     "slide_type": "fragment"
    }
   },
   "outputs": [
    {
     "name": "stderr",
     "output_type": "stream",
     "text": [
      "[nltk_data] Downloading package stopwords to\n",
      "[nltk_data]     /Users/vivianamarquez/nltk_data...\n",
      "[nltk_data]   Package stopwords is already up-to-date!\n"
     ]
    }
   ],
   "source": [
    "# ¿Problemas en la instalación?\n",
    "import nltk\n",
    "nltk.download('stopwords') # Esta línea se corre sólo la primera vez\n",
    "\n",
    "from nltk.corpus import stopwords\n",
    "stopwords_sp = stopwords.words('spanish')"
   ]
  },
  {
   "cell_type": "code",
   "execution_count": 21,
   "metadata": {
    "slideshow": {
     "slide_type": "fragment"
    }
   },
   "outputs": [
    {
     "data": {
      "text/plain": [
       "['hola', 'cómo', 'número']"
      ]
     },
     "execution_count": 21,
     "metadata": {},
     "output_type": "execute_result"
    }
   ],
   "source": [
    "texto = [palabra for palabra in texto if palabra not in stopwords_sp]\n",
    "texto"
   ]
  },
  {
   "cell_type": "markdown",
   "metadata": {
    "slideshow": {
     "slide_type": "slide"
    }
   },
   "source": [
    "### Stemming\n",
    "\n",
    "<center><img src='../img/clase4/prepro3_2.png'></center>\n",
    "\n",
    "Stemming es el proceso de remover los sufijos para reducir una palabra a su raíz para que todas sus variantes sean representadas de la misma manera.\n",
    "\n",
    "Los algoritmos más populares son:\n",
    "- Porter\n",
    "- Snowball"
   ]
  },
  {
   "cell_type": "markdown",
   "metadata": {
    "slideshow": {
     "slide_type": "fragment"
    }
   },
   "source": [
    "Aunque muchas veces el proceso de stemming lingüísticamente no produce la forma correcta base de la palabra, se usa frecuentemente en los motores de busqueda para traer los resultados relevantes. "
   ]
  },
  {
   "cell_type": "code",
   "execution_count": 22,
   "metadata": {
    "slideshow": {
     "slide_type": "slide"
    }
   },
   "outputs": [],
   "source": [
    "from nltk.stem.snowball import SnowballStemmer\n",
    "englishStemmer = SnowballStemmer(\"english\")\n",
    "spanishStemmer = SnowballStemmer(\"spanish\")"
   ]
  },
  {
   "cell_type": "markdown",
   "metadata": {
    "slideshow": {
     "slide_type": "fragment"
    }
   },
   "source": [
    "# 🚗"
   ]
  },
  {
   "cell_type": "code",
   "execution_count": 23,
   "metadata": {
    "slideshow": {
     "slide_type": "fragment"
    }
   },
   "outputs": [
    {
     "data": {
      "text/plain": [
       "'car'"
      ]
     },
     "execution_count": 23,
     "metadata": {},
     "output_type": "execute_result"
    }
   ],
   "source": [
    "englishStemmer.stem(\"car\")"
   ]
  },
  {
   "cell_type": "code",
   "execution_count": 24,
   "metadata": {
    "slideshow": {
     "slide_type": "fragment"
    }
   },
   "outputs": [
    {
     "data": {
      "text/plain": [
       "'car'"
      ]
     },
     "execution_count": 24,
     "metadata": {},
     "output_type": "execute_result"
    }
   ],
   "source": [
    "englishStemmer.stem(\"cars\")"
   ]
  },
  {
   "cell_type": "markdown",
   "metadata": {
    "slideshow": {
     "slide_type": "fragment"
    }
   },
   "source": [
    "# 🎤"
   ]
  },
  {
   "cell_type": "code",
   "execution_count": 25,
   "metadata": {
    "scrolled": true,
    "slideshow": {
     "slide_type": "fragment"
    }
   },
   "outputs": [
    {
     "data": {
      "text/plain": [
       "'cant'"
      ]
     },
     "execution_count": 25,
     "metadata": {},
     "output_type": "execute_result"
    }
   ],
   "source": [
    "spanishStemmer.stem(\"cantar\")"
   ]
  },
  {
   "cell_type": "code",
   "execution_count": 26,
   "metadata": {
    "slideshow": {
     "slide_type": "fragment"
    }
   },
   "outputs": [
    {
     "data": {
      "text/plain": [
       "'cant'"
      ]
     },
     "execution_count": 26,
     "metadata": {},
     "output_type": "execute_result"
    }
   ],
   "source": [
    "spanishStemmer.stem(\"cantamos\")"
   ]
  },
  {
   "cell_type": "markdown",
   "metadata": {
    "slideshow": {
     "slide_type": "slide"
    }
   },
   "source": [
    "Nuestro texto"
   ]
  },
  {
   "cell_type": "code",
   "execution_count": 27,
   "metadata": {
    "slideshow": {
     "slide_type": "fragment"
    }
   },
   "outputs": [
    {
     "data": {
      "text/plain": [
       "['hola', 'cómo', 'número']"
      ]
     },
     "execution_count": 27,
     "metadata": {},
     "output_type": "execute_result"
    }
   ],
   "source": [
    "texto"
   ]
  },
  {
   "cell_type": "code",
   "execution_count": 28,
   "metadata": {
    "slideshow": {
     "slide_type": "fragment"
    }
   },
   "outputs": [
    {
     "data": {
      "text/plain": [
       "['hol', 'com', 'numer']"
      ]
     },
     "execution_count": 28,
     "metadata": {},
     "output_type": "execute_result"
    }
   ],
   "source": [
    "texto_stem = []\n",
    "\n",
    "for palabra in texto:\n",
    "    raiz = spanishStemmer.stem(palabra)\n",
    "    texto_stem.append(raiz)\n",
    "    \n",
    "texto_stem"
   ]
  },
  {
   "cell_type": "markdown",
   "metadata": {
    "slideshow": {
     "slide_type": "slide"
    }
   },
   "source": [
    "### Lematización\n",
    "\n",
    "<center><img src='../img/clase4/prepro3_3.png'></center>\n",
    "\n",
    "Lematización es el proceso de hallar el lema de una palabra (representante de todas las formas de una misma palabra).\n",
    "\n",
    "- ¡No es lo mismo que stemming!"
   ]
  },
  {
   "cell_type": "markdown",
   "metadata": {
    "slideshow": {
     "slide_type": "fragment"
    }
   },
   "source": [
    "En lingüística, el lema es una unidad autónoma constituyente del léxico de un idioma."
   ]
  },
  {
   "cell_type": "code",
   "execution_count": 30,
   "metadata": {
    "slideshow": {
     "slide_type": "slide"
    }
   },
   "outputs": [
    {
     "name": "stderr",
     "output_type": "stream",
     "text": [
      "[nltk_data] Downloading package wordnet to\n",
      "[nltk_data]     /Users/vivianamarquez/nltk_data...\n",
      "[nltk_data]   Package wordnet is already up-to-date!\n"
     ]
    },
    {
     "data": {
      "text/plain": [
       "'dance'"
      ]
     },
     "execution_count": 30,
     "metadata": {},
     "output_type": "execute_result"
    }
   ],
   "source": [
    "import nltk \n",
    "from nltk.stem import WordNetLemmatizer\n",
    "nltk.download('wordnet') # Sólo se corre la primera vez\n",
    "\n",
    "lemmatizer = WordNetLemmatizer()\n",
    "\n",
    "lemmatizer.lemmatize(\"dancing\", pos='v')"
   ]
  },
  {
   "cell_type": "code",
   "execution_count": 31,
   "metadata": {
    "slideshow": {
     "slide_type": "fragment"
    }
   },
   "outputs": [
    {
     "data": {
      "text/plain": [
       "'danc'"
      ]
     },
     "execution_count": 31,
     "metadata": {},
     "output_type": "execute_result"
    }
   ],
   "source": [
    "englishStemmer.stem('dancing')"
   ]
  },
  {
   "cell_type": "markdown",
   "metadata": {
    "slideshow": {
     "slide_type": "fragment"
    }
   },
   "source": [
    "• El stemming funciona con palabras sin conocer su contexto y es por eso que la raíz tiene una precisión menor, pero, es más rápida que la lematización.\n",
    "\n",
    "• La lematización devuelve una palabra real. \n",
    "\n",
    "• Si no importa el nivel de precisión y todo lo que necesitas es velocidad el stemming es mejor."
   ]
  },
  {
   "cell_type": "markdown",
   "metadata": {
    "slideshow": {
     "slide_type": "fragment"
    }
   },
   "source": [
    "# 👮‍♀️ Check Point\n",
    "\n",
    "https://pollev.com/vivianamarqu288"
   ]
  },
  {
   "cell_type": "markdown",
   "metadata": {
    "slideshow": {
     "slide_type": "slide"
    }
   },
   "source": [
    "### Etiquetado gramatical\n",
    "\n",
    "<center><img src='../img/clase4/prepro3_4.png'></center>\n",
    "\n",
    "- POST: Part-of-speech tagging\n",
    "- Etiquetar cada palabra según su parte de la oración\n",
    "\n",
    "https://pollev.com/vivianamarqu288"
   ]
  },
  {
   "cell_type": "markdown",
   "metadata": {
    "slideshow": {
     "slide_type": "slide"
    }
   },
   "source": [
    "<center><img src='../img/clase4/espanol.png' style='height:100px;'></center>\n",
    "\n",
    "- **Sustantivo**: Jessica \n",
    "\n",
    "- **Adjetivo**: Bella\n",
    "\n",
    "- **Artículo**: La\n",
    "\n",
    "- **Pronombre**: Ella\n",
    "\n",
    "- **Verbo**: Cantar\n",
    "\n",
    "- **Adverbio**: Rápidamente\n",
    "\n",
    "- **Interjección**: ¡Ay!\n",
    "\n",
    "- **Preposición**: Entre\n",
    "\n",
    "- **Conjunción**: y\n",
    "\n"
   ]
  },
  {
   "cell_type": "markdown",
   "metadata": {
    "slideshow": {
     "slide_type": "slide"
    }
   },
   "source": [
    "Instalar librerias:\n",
    "- `pip install spacy`\n",
    "- `python -m spacy download es_core_news_sm`"
   ]
  },
  {
   "cell_type": "code",
   "execution_count": 41,
   "metadata": {
    "slideshow": {
     "slide_type": "fragment"
    }
   },
   "outputs": [
    {
     "data": {
      "text/plain": [
       "[('¡', 'INTJ'),\n",
       " ('Hola', 'INTJ'),\n",
       " ('!', 'PUNCT'),\n",
       " ('¿', 'PUNCT'),\n",
       " ('Cómo', 'PRON'),\n",
       " ('estás', 'VERB'),\n",
       " ('?', 'PUNCT'),\n",
       " ('Este', 'PRON'),\n",
       " ('es', 'AUX'),\n",
       " ('mi', 'DET'),\n",
       " ('número', 'NOUN'),\n",
       " ('314-1592', 'NUM'),\n",
       " ('.', 'PUNCT'),\n",
       " ('¡', 'PUNCT'),\n",
       " ('Vamos', 'AUX'),\n",
       " ('a', 'ADP'),\n",
       " ('bailar', 'VERB'),\n",
       " ('porque', 'SCONJ'),\n",
       " ('es', 'AUX'),\n",
       " ('juernes', 'NOUN'),\n",
       " ('!', 'PUNCT')]"
      ]
     },
     "execution_count": 41,
     "metadata": {},
     "output_type": "execute_result"
    }
   ],
   "source": [
    "import es_core_news_sm\n",
    "\n",
    "nlp = es_core_news_sm.load()\n",
    "doc = nlp(\"¡Hola! ¿Cómo estás? Este es mi número 314-1592. ¡Vamos a bailar porque es juernes!\")\n",
    "[(palabra.text, palabra.pos_) for palabra in doc]"
   ]
  },
  {
   "cell_type": "code",
   "execution_count": 44,
   "metadata": {
    "slideshow": {
     "slide_type": "slide"
    }
   },
   "outputs": [
    {
     "data": {
      "text/html": [
       "<span class=\"tex2jax_ignore\"><svg xmlns=\"http://www.w3.org/2000/svg\" xmlns:xlink=\"http://www.w3.org/1999/xlink\" xml:lang=\"es\" id=\"6fd6cdf6a5a84df882e340c12db88d6e-0\" class=\"displacy\" width=\"3050\" height=\"437.0\" direction=\"ltr\" style=\"max-width: none; height: 437.0px; color: #000000; background: #ffffff; font-family: Arial; direction: ltr\">\n",
       "<text class=\"displacy-token\" fill=\"currentColor\" text-anchor=\"middle\" y=\"347.0\">\n",
       "    <tspan class=\"displacy-word\" fill=\"currentColor\" x=\"50\">¡</tspan>\n",
       "    <tspan class=\"displacy-tag\" dy=\"2em\" fill=\"currentColor\" x=\"50\">INTJ</tspan>\n",
       "</text>\n",
       "\n",
       "<text class=\"displacy-token\" fill=\"currentColor\" text-anchor=\"middle\" y=\"347.0\">\n",
       "    <tspan class=\"displacy-word\" fill=\"currentColor\" x=\"250\">Hola! ¿</tspan>\n",
       "    <tspan class=\"displacy-tag\" dy=\"2em\" fill=\"currentColor\" x=\"250\">INTJ</tspan>\n",
       "</text>\n",
       "\n",
       "<text class=\"displacy-token\" fill=\"currentColor\" text-anchor=\"middle\" y=\"347.0\">\n",
       "    <tspan class=\"displacy-word\" fill=\"currentColor\" x=\"450\">Cómo</tspan>\n",
       "    <tspan class=\"displacy-tag\" dy=\"2em\" fill=\"currentColor\" x=\"450\">PRON</tspan>\n",
       "</text>\n",
       "\n",
       "<text class=\"displacy-token\" fill=\"currentColor\" text-anchor=\"middle\" y=\"347.0\">\n",
       "    <tspan class=\"displacy-word\" fill=\"currentColor\" x=\"650\">estás?</tspan>\n",
       "    <tspan class=\"displacy-tag\" dy=\"2em\" fill=\"currentColor\" x=\"650\">VERB</tspan>\n",
       "</text>\n",
       "\n",
       "<text class=\"displacy-token\" fill=\"currentColor\" text-anchor=\"middle\" y=\"347.0\">\n",
       "    <tspan class=\"displacy-word\" fill=\"currentColor\" x=\"850\">Este</tspan>\n",
       "    <tspan class=\"displacy-tag\" dy=\"2em\" fill=\"currentColor\" x=\"850\">PRON</tspan>\n",
       "</text>\n",
       "\n",
       "<text class=\"displacy-token\" fill=\"currentColor\" text-anchor=\"middle\" y=\"347.0\">\n",
       "    <tspan class=\"displacy-word\" fill=\"currentColor\" x=\"1050\">es</tspan>\n",
       "    <tspan class=\"displacy-tag\" dy=\"2em\" fill=\"currentColor\" x=\"1050\">AUX</tspan>\n",
       "</text>\n",
       "\n",
       "<text class=\"displacy-token\" fill=\"currentColor\" text-anchor=\"middle\" y=\"347.0\">\n",
       "    <tspan class=\"displacy-word\" fill=\"currentColor\" x=\"1250\">mi</tspan>\n",
       "    <tspan class=\"displacy-tag\" dy=\"2em\" fill=\"currentColor\" x=\"1250\">DET</tspan>\n",
       "</text>\n",
       "\n",
       "<text class=\"displacy-token\" fill=\"currentColor\" text-anchor=\"middle\" y=\"347.0\">\n",
       "    <tspan class=\"displacy-word\" fill=\"currentColor\" x=\"1450\">número</tspan>\n",
       "    <tspan class=\"displacy-tag\" dy=\"2em\" fill=\"currentColor\" x=\"1450\">NOUN</tspan>\n",
       "</text>\n",
       "\n",
       "<text class=\"displacy-token\" fill=\"currentColor\" text-anchor=\"middle\" y=\"347.0\">\n",
       "    <tspan class=\"displacy-word\" fill=\"currentColor\" x=\"1650\">314-1592. ¡</tspan>\n",
       "    <tspan class=\"displacy-tag\" dy=\"2em\" fill=\"currentColor\" x=\"1650\">NUM</tspan>\n",
       "</text>\n",
       "\n",
       "<text class=\"displacy-token\" fill=\"currentColor\" text-anchor=\"middle\" y=\"347.0\">\n",
       "    <tspan class=\"displacy-word\" fill=\"currentColor\" x=\"1850\">Vamos</tspan>\n",
       "    <tspan class=\"displacy-tag\" dy=\"2em\" fill=\"currentColor\" x=\"1850\">AUX</tspan>\n",
       "</text>\n",
       "\n",
       "<text class=\"displacy-token\" fill=\"currentColor\" text-anchor=\"middle\" y=\"347.0\">\n",
       "    <tspan class=\"displacy-word\" fill=\"currentColor\" x=\"2050\">a</tspan>\n",
       "    <tspan class=\"displacy-tag\" dy=\"2em\" fill=\"currentColor\" x=\"2050\">ADP</tspan>\n",
       "</text>\n",
       "\n",
       "<text class=\"displacy-token\" fill=\"currentColor\" text-anchor=\"middle\" y=\"347.0\">\n",
       "    <tspan class=\"displacy-word\" fill=\"currentColor\" x=\"2250\">bailar</tspan>\n",
       "    <tspan class=\"displacy-tag\" dy=\"2em\" fill=\"currentColor\" x=\"2250\">VERB</tspan>\n",
       "</text>\n",
       "\n",
       "<text class=\"displacy-token\" fill=\"currentColor\" text-anchor=\"middle\" y=\"347.0\">\n",
       "    <tspan class=\"displacy-word\" fill=\"currentColor\" x=\"2450\">porque</tspan>\n",
       "    <tspan class=\"displacy-tag\" dy=\"2em\" fill=\"currentColor\" x=\"2450\">SCONJ</tspan>\n",
       "</text>\n",
       "\n",
       "<text class=\"displacy-token\" fill=\"currentColor\" text-anchor=\"middle\" y=\"347.0\">\n",
       "    <tspan class=\"displacy-word\" fill=\"currentColor\" x=\"2650\">es</tspan>\n",
       "    <tspan class=\"displacy-tag\" dy=\"2em\" fill=\"currentColor\" x=\"2650\">AUX</tspan>\n",
       "</text>\n",
       "\n",
       "<text class=\"displacy-token\" fill=\"currentColor\" text-anchor=\"middle\" y=\"347.0\">\n",
       "    <tspan class=\"displacy-word\" fill=\"currentColor\" x=\"2850\">juernes!</tspan>\n",
       "    <tspan class=\"displacy-tag\" dy=\"2em\" fill=\"currentColor\" x=\"2850\">NOUN</tspan>\n",
       "</text>\n",
       "\n",
       "<g class=\"displacy-arrow\">\n",
       "    <path class=\"displacy-arc\" id=\"arrow-6fd6cdf6a5a84df882e340c12db88d6e-0-0\" stroke-width=\"2px\" d=\"M70,302.0 C70,202.0 240.0,202.0 240.0,302.0\" fill=\"none\" stroke=\"currentColor\"/>\n",
       "    <text dy=\"1.25em\" style=\"font-size: 0.8em; letter-spacing: 1px\">\n",
       "        <textPath xlink:href=\"#arrow-6fd6cdf6a5a84df882e340c12db88d6e-0-0\" class=\"displacy-label\" startOffset=\"50%\" side=\"left\" fill=\"currentColor\" text-anchor=\"middle\">punct</textPath>\n",
       "    </text>\n",
       "    <path class=\"displacy-arrowhead\" d=\"M70,304.0 L62,292.0 78,292.0\" fill=\"currentColor\"/>\n",
       "</g>\n",
       "\n",
       "<g class=\"displacy-arrow\">\n",
       "    <path class=\"displacy-arc\" id=\"arrow-6fd6cdf6a5a84df882e340c12db88d6e-0-1\" stroke-width=\"2px\" d=\"M470,302.0 C470,202.0 640.0,202.0 640.0,302.0\" fill=\"none\" stroke=\"currentColor\"/>\n",
       "    <text dy=\"1.25em\" style=\"font-size: 0.8em; letter-spacing: 1px\">\n",
       "        <textPath xlink:href=\"#arrow-6fd6cdf6a5a84df882e340c12db88d6e-0-1\" class=\"displacy-label\" startOffset=\"50%\" side=\"left\" fill=\"currentColor\" text-anchor=\"middle\">obl</textPath>\n",
       "    </text>\n",
       "    <path class=\"displacy-arrowhead\" d=\"M470,304.0 L462,292.0 478,292.0\" fill=\"currentColor\"/>\n",
       "</g>\n",
       "\n",
       "<g class=\"displacy-arrow\">\n",
       "    <path class=\"displacy-arc\" id=\"arrow-6fd6cdf6a5a84df882e340c12db88d6e-0-2\" stroke-width=\"2px\" d=\"M870,302.0 C870,2.0 1450.0,2.0 1450.0,302.0\" fill=\"none\" stroke=\"currentColor\"/>\n",
       "    <text dy=\"1.25em\" style=\"font-size: 0.8em; letter-spacing: 1px\">\n",
       "        <textPath xlink:href=\"#arrow-6fd6cdf6a5a84df882e340c12db88d6e-0-2\" class=\"displacy-label\" startOffset=\"50%\" side=\"left\" fill=\"currentColor\" text-anchor=\"middle\">nsubj</textPath>\n",
       "    </text>\n",
       "    <path class=\"displacy-arrowhead\" d=\"M870,304.0 L862,292.0 878,292.0\" fill=\"currentColor\"/>\n",
       "</g>\n",
       "\n",
       "<g class=\"displacy-arrow\">\n",
       "    <path class=\"displacy-arc\" id=\"arrow-6fd6cdf6a5a84df882e340c12db88d6e-0-3\" stroke-width=\"2px\" d=\"M1070,302.0 C1070,102.0 1445.0,102.0 1445.0,302.0\" fill=\"none\" stroke=\"currentColor\"/>\n",
       "    <text dy=\"1.25em\" style=\"font-size: 0.8em; letter-spacing: 1px\">\n",
       "        <textPath xlink:href=\"#arrow-6fd6cdf6a5a84df882e340c12db88d6e-0-3\" class=\"displacy-label\" startOffset=\"50%\" side=\"left\" fill=\"currentColor\" text-anchor=\"middle\">cop</textPath>\n",
       "    </text>\n",
       "    <path class=\"displacy-arrowhead\" d=\"M1070,304.0 L1062,292.0 1078,292.0\" fill=\"currentColor\"/>\n",
       "</g>\n",
       "\n",
       "<g class=\"displacy-arrow\">\n",
       "    <path class=\"displacy-arc\" id=\"arrow-6fd6cdf6a5a84df882e340c12db88d6e-0-4\" stroke-width=\"2px\" d=\"M1270,302.0 C1270,202.0 1440.0,202.0 1440.0,302.0\" fill=\"none\" stroke=\"currentColor\"/>\n",
       "    <text dy=\"1.25em\" style=\"font-size: 0.8em; letter-spacing: 1px\">\n",
       "        <textPath xlink:href=\"#arrow-6fd6cdf6a5a84df882e340c12db88d6e-0-4\" class=\"displacy-label\" startOffset=\"50%\" side=\"left\" fill=\"currentColor\" text-anchor=\"middle\">det</textPath>\n",
       "    </text>\n",
       "    <path class=\"displacy-arrowhead\" d=\"M1270,304.0 L1262,292.0 1278,292.0\" fill=\"currentColor\"/>\n",
       "</g>\n",
       "\n",
       "<g class=\"displacy-arrow\">\n",
       "    <path class=\"displacy-arc\" id=\"arrow-6fd6cdf6a5a84df882e340c12db88d6e-0-5\" stroke-width=\"2px\" d=\"M1470,302.0 C1470,202.0 1640.0,202.0 1640.0,302.0\" fill=\"none\" stroke=\"currentColor\"/>\n",
       "    <text dy=\"1.25em\" style=\"font-size: 0.8em; letter-spacing: 1px\">\n",
       "        <textPath xlink:href=\"#arrow-6fd6cdf6a5a84df882e340c12db88d6e-0-5\" class=\"displacy-label\" startOffset=\"50%\" side=\"left\" fill=\"currentColor\" text-anchor=\"middle\">appos</textPath>\n",
       "    </text>\n",
       "    <path class=\"displacy-arrowhead\" d=\"M1640.0,304.0 L1648.0,292.0 1632.0,292.0\" fill=\"currentColor\"/>\n",
       "</g>\n",
       "\n",
       "<g class=\"displacy-arrow\">\n",
       "    <path class=\"displacy-arc\" id=\"arrow-6fd6cdf6a5a84df882e340c12db88d6e-0-6\" stroke-width=\"2px\" d=\"M1870,302.0 C1870,102.0 2245.0,102.0 2245.0,302.0\" fill=\"none\" stroke=\"currentColor\"/>\n",
       "    <text dy=\"1.25em\" style=\"font-size: 0.8em; letter-spacing: 1px\">\n",
       "        <textPath xlink:href=\"#arrow-6fd6cdf6a5a84df882e340c12db88d6e-0-6\" class=\"displacy-label\" startOffset=\"50%\" side=\"left\" fill=\"currentColor\" text-anchor=\"middle\">aux</textPath>\n",
       "    </text>\n",
       "    <path class=\"displacy-arrowhead\" d=\"M1870,304.0 L1862,292.0 1878,292.0\" fill=\"currentColor\"/>\n",
       "</g>\n",
       "\n",
       "<g class=\"displacy-arrow\">\n",
       "    <path class=\"displacy-arc\" id=\"arrow-6fd6cdf6a5a84df882e340c12db88d6e-0-7\" stroke-width=\"2px\" d=\"M2070,302.0 C2070,202.0 2240.0,202.0 2240.0,302.0\" fill=\"none\" stroke=\"currentColor\"/>\n",
       "    <text dy=\"1.25em\" style=\"font-size: 0.8em; letter-spacing: 1px\">\n",
       "        <textPath xlink:href=\"#arrow-6fd6cdf6a5a84df882e340c12db88d6e-0-7\" class=\"displacy-label\" startOffset=\"50%\" side=\"left\" fill=\"currentColor\" text-anchor=\"middle\">mark</textPath>\n",
       "    </text>\n",
       "    <path class=\"displacy-arrowhead\" d=\"M2070,304.0 L2062,292.0 2078,292.0\" fill=\"currentColor\"/>\n",
       "</g>\n",
       "\n",
       "<g class=\"displacy-arrow\">\n",
       "    <path class=\"displacy-arc\" id=\"arrow-6fd6cdf6a5a84df882e340c12db88d6e-0-8\" stroke-width=\"2px\" d=\"M2470,302.0 C2470,102.0 2845.0,102.0 2845.0,302.0\" fill=\"none\" stroke=\"currentColor\"/>\n",
       "    <text dy=\"1.25em\" style=\"font-size: 0.8em; letter-spacing: 1px\">\n",
       "        <textPath xlink:href=\"#arrow-6fd6cdf6a5a84df882e340c12db88d6e-0-8\" class=\"displacy-label\" startOffset=\"50%\" side=\"left\" fill=\"currentColor\" text-anchor=\"middle\">mark</textPath>\n",
       "    </text>\n",
       "    <path class=\"displacy-arrowhead\" d=\"M2470,304.0 L2462,292.0 2478,292.0\" fill=\"currentColor\"/>\n",
       "</g>\n",
       "\n",
       "<g class=\"displacy-arrow\">\n",
       "    <path class=\"displacy-arc\" id=\"arrow-6fd6cdf6a5a84df882e340c12db88d6e-0-9\" stroke-width=\"2px\" d=\"M2670,302.0 C2670,202.0 2840.0,202.0 2840.0,302.0\" fill=\"none\" stroke=\"currentColor\"/>\n",
       "    <text dy=\"1.25em\" style=\"font-size: 0.8em; letter-spacing: 1px\">\n",
       "        <textPath xlink:href=\"#arrow-6fd6cdf6a5a84df882e340c12db88d6e-0-9\" class=\"displacy-label\" startOffset=\"50%\" side=\"left\" fill=\"currentColor\" text-anchor=\"middle\">cop</textPath>\n",
       "    </text>\n",
       "    <path class=\"displacy-arrowhead\" d=\"M2670,304.0 L2662,292.0 2678,292.0\" fill=\"currentColor\"/>\n",
       "</g>\n",
       "\n",
       "<g class=\"displacy-arrow\">\n",
       "    <path class=\"displacy-arc\" id=\"arrow-6fd6cdf6a5a84df882e340c12db88d6e-0-10\" stroke-width=\"2px\" d=\"M2270,302.0 C2270,2.0 2850.0,2.0 2850.0,302.0\" fill=\"none\" stroke=\"currentColor\"/>\n",
       "    <text dy=\"1.25em\" style=\"font-size: 0.8em; letter-spacing: 1px\">\n",
       "        <textPath xlink:href=\"#arrow-6fd6cdf6a5a84df882e340c12db88d6e-0-10\" class=\"displacy-label\" startOffset=\"50%\" side=\"left\" fill=\"currentColor\" text-anchor=\"middle\">advcl</textPath>\n",
       "    </text>\n",
       "    <path class=\"displacy-arrowhead\" d=\"M2850.0,304.0 L2858.0,292.0 2842.0,292.0\" fill=\"currentColor\"/>\n",
       "</g>\n",
       "</svg></span>"
      ],
      "text/plain": [
       "<IPython.core.display.HTML object>"
      ]
     },
     "metadata": {},
     "output_type": "display_data"
    }
   ],
   "source": [
    "from spacy import displacy \n",
    "\n",
    "displacy.render(doc, style=\"dep\", jupyter=True, options = {'distance': 200})"
   ]
  },
  {
   "cell_type": "markdown",
   "metadata": {
    "slideshow": {
     "slide_type": "slide"
    }
   },
   "source": [
    "### Flujo de datos en un proyecto de NLP (pipeline) \n",
    "\n",
    "<br><center><img src='../img/pipeline2b.png'></center>"
   ]
  },
  {
   "cell_type": "markdown",
   "metadata": {
    "slideshow": {
     "slide_type": "slide"
    }
   },
   "source": [
    "### ✅ Limpieza y Pre-Procesamineto de Texto\n",
    "\n",
    "- Herramientas generales de limpieza de texto\n",
    "    - ASCII, Unicode\n",
    "    - RegEx\n",
    "    - Traducción\n",
    "    - Otros métodos útiles en Python\n",
    "\n",
    "- Herramientas específicas de pre-procesamiento de texto en NLP\n",
    "    - Palabras vacías\n",
    "    - Tokenización\n",
    "    - Stemming\n",
    "    - Lematización\n",
    "    - Etiquetado gramatical"
   ]
  },
  {
   "cell_type": "markdown",
   "metadata": {
    "slideshow": {
     "slide_type": "slide"
    }
   },
   "source": [
    "### Flujo de datos en un proyecto de NLP (pipeline) --- Hoy\n",
    "\n",
    "<br><center><img src='../img/pipeline3.png'><center>"
   ]
  },
  {
   "cell_type": "markdown",
   "metadata": {
    "slideshow": {
     "slide_type": "slide"
    }
   },
   "source": [
    "### Feature Engineering ([1](https://developers.google.com/machine-learning/glossary)) ([2](https://github.com/omar-florez/AI_Dictionary_English_Spanish/blob/master/release/AI_Dictionary.pdf))\n",
    "\n",
    "<br><center><img src='../img/clase4/FEng1.jpg' style='height:500px;'></center>\n",
    "    \n",
    "- Es el proceso de usar el conocimiento del dominio para crear atributos que sirvan para entrenar un modelo de aprendizaje automático. \n"
   ]
  },
  {
   "cell_type": "markdown",
   "metadata": {
    "slideshow": {
     "slide_type": "fragment"
    }
   },
   "source": [
    "- <i>\"Garbage in, garbage out\"</i> -- Malos atributos, malos resultados."
   ]
  },
  {
   "cell_type": "markdown",
   "metadata": {
    "slideshow": {
     "slide_type": "slide"
    }
   },
   "source": [
    "<div align='center'>\n",
    "    <img src='../img/clase4/FEng1.jpg' style='height:500px; float: left; margin: 0px 15px 15px 0px'>\n",
    "    <img src='../img/clase4/FEng2.jpg' style='height:500px; float: left; margin: 0px 15px 15px 0px'>\n",
    "</div>\n",
    "\n",
    "- Podemos cambiar de un sistema cartesiano $(x,y)$ a un sistema polar $(r,\\theta)$ con una simple transformación de coordenadas: $$r = \\sqrt{x^2 + y^2} \\Rightarrow \\theta = \\tan^{-1} \\left(\\dfrac{y}{x}\\right)$$\n",
    "- Ahora vemos que es fácil dividir el conjunto usando $r=2$"
   ]
  },
  {
   "cell_type": "markdown",
   "metadata": {
    "slideshow": {
     "slide_type": "slide"
    }
   },
   "source": [
    "### Otros ejemplos de Feature Engineering \n",
    "\n",
    "- Atributos categóricos-- Ejemplo: Género, edad (cubetas), raza(variable ficticia)\n",
    "- Datos continuos\n",
    "- Valores faltantes y valores atípicos\n",
    "- Normalización\n",
    "- Fechas\n",
    "- **Feature engineering para NLP**"
   ]
  },
  {
   "cell_type": "markdown",
   "metadata": {
    "slideshow": {
     "slide_type": "slide"
    }
   },
   "source": [
    "### Feature Engineering para NLP\n",
    "\n",
    "<img src='../img/clase4/FEngNLP.png'>"
   ]
  },
  {
   "cell_type": "markdown",
   "metadata": {
    "slideshow": {
     "slide_type": "slide"
    }
   },
   "source": [
    "### Representación de datos en forma numérica\n",
    "\n",
    "**Ejemplo: Imágenes**\n",
    "\n",
    "<center><img src='../img/clase4/komp.jpg'></center>\n",
    "\n",
    "- Una imagen es representada en un computador en la forma de una matriz donde cada $celda[i,j]$ representa el píxel $i,j$ de la imagen.<br>\n",
    "\n",
    "- De manera similar, un video es una colección de fotogramas, donde cada fotograma es una imágen. Por lo tanto, cualquier video puede ser representado como una colección de matrices. <br>\n",
    "\n",
    "- (Des)afortunadamente, representar texto  de manera numérica no es tan sencillo. "
   ]
  },
  {
   "cell_type": "markdown",
   "metadata": {
    "slideshow": {
     "slide_type": "slide"
    }
   },
   "source": [
    "## Espacio semántico vectorial\n",
    "\n",
    "- Las redes neuronales pueden hacer que las máquinas entiendan las analogías como los humanos [Mikolov et al., 2013]"
   ]
  },
  {
   "cell_type": "code",
   "execution_count": 2,
   "metadata": {
    "slideshow": {
     "slide_type": "skip"
    }
   },
   "outputs": [
    {
     "name": "stdout",
     "output_type": "stream",
     "text": [
      "CPU times: user 25.9 s, sys: 865 ms, total: 26.8 s\n",
      "Wall time: 26.8 s\n"
     ]
    }
   ],
   "source": [
    "%%time\n",
    "\n",
    "#Libraries\n",
    "import sys\n",
    "import numpy as np\n",
    "import re\n",
    "\n",
    "#Useful functions\n",
    "def load_glove(filename):\n",
    "    dic = {}\n",
    "    with open(filename) as f:\n",
    "        for line in f:\n",
    "            vec = line.split()\n",
    "            dic[vec[0]]= np.array(vec[1:], dtype=float)\n",
    "    return dic\n",
    "\n",
    "def analogies(gloves, x, y, z, n):\n",
    "    dif_1 = gloves[x] - gloves[y]\n",
    "    distances=[]\n",
    "    for key,val in gloves.items():\n",
    "        if z!=key:\n",
    "            dif_2 = gloves[z]-gloves[key]\n",
    "            distances.append((np.linalg.norm(dif_1-dif_2),key))\n",
    "    distances.sort()\n",
    "    return [d[1] for d in distances[0:n]]\n",
    "\n",
    "gloves = load_glove(\"../archivos/glove.6B.300d.txt\")"
   ]
  },
  {
   "cell_type": "code",
   "execution_count": 3,
   "metadata": {
    "slideshow": {
     "slide_type": "skip"
    }
   },
   "outputs": [],
   "source": [
    "def print_analogy():\n",
    "    print(\"Enter a word or 'x:y as z:'\")\n",
    "    cmd = input(\"> \")\n",
    "\n",
    "    while cmd!=None:\n",
    "        try:  \n",
    "            match = re.search(r'(\\w+):(\\w+) as (\\w+):', cmd)\n",
    "            x = match.group(1).lower()\n",
    "            y = match.group(2).lower()\n",
    "            z = match.group(3).lower()\n",
    "\n",
    "            words = analogies(gloves, x, y, z, 5)\n",
    "\n",
    "            print(\"%s is to %s as %s is to {%s}\" % (x,y,z,' '.join(words)))\n",
    "            cmd = input(\"> \")\n",
    "        except:\n",
    "            print(\"Bye mis cielas!\")\n",
    "            break"
   ]
  },
  {
   "cell_type": "code",
   "execution_count": 45,
   "metadata": {
    "slideshow": {
     "slide_type": "fragment"
    }
   },
   "outputs": [
    {
     "name": "stdout",
     "output_type": "stream",
     "text": [
      "Enter a word or 'x:y as z:'\n",
      "> man:king as woman:\n",
      "man is to king as woman is to {king queen monarch mother princess}\n",
      "> bogota:colombia as caracas:\n",
      "bogota is to colombia as caracas is to {venezuela colombia bolivia ecuador peru}\n",
      "> exit()\n",
      "Bye mis cielas!\n"
     ]
    }
   ],
   "source": [
    "print_analogy()"
   ]
  },
  {
   "cell_type": "markdown",
   "metadata": {
    "slideshow": {
     "slide_type": "slide"
    }
   },
   "source": [
    "## ¿Qué hay bajo el capó?\n",
    "\n",
    "<br>\n",
    "<center><img src='../img/clase4/brain.jpg' style='height:300px; float: center; margin: 0px 15px 15px 0px'></center>\n",
    "\n",
    "- Imaginemos que todas las palabras y sus significados viven en un espacio de altas dimensiones. Nosotros lo llamáremos **espacio semántico vectorial**<br>\n",
    "\n",
    "- Cada dimensión en el espacio semántico vectorial representa algún aspecto del significado de la palabra\n",
    "\n",
    "- Los conceptos y las palabras que significan cosas similares deben vivir cerca en este espacio\n",
    "\n"
   ]
  },
  {
   "cell_type": "markdown",
   "metadata": {
    "slideshow": {
     "slide_type": "slide"
    }
   },
   "source": [
    "## ¿Cómo sabemos qué significa una palabra?\n",
    "\n",
    "<br>\n",
    "<center><img src='../img/clase4/reina.jpg' style='height:500px; float: center; margin: 0px 15px 15px 0px'></center>"
   ]
  },
  {
   "cell_type": "markdown",
   "metadata": {
    "slideshow": {
     "slide_type": "slide"
    }
   },
   "source": [
    "## Nosotros aprendemos a través de la experiencia\n",
    "\n",
    "<br>\n",
    "<center><img src='../img/clase4/reyes2.png' style='height:500px; float: center; margin: 0px 15px 15px 0px'></center>"
   ]
  },
  {
   "cell_type": "markdown",
   "metadata": {
    "slideshow": {
     "slide_type": "slide"
    }
   },
   "source": [
    "## Las máquinas también aprenden a través de la experiencia\n",
    "\n",
    "<br>\n",
    "\n",
    "<div align='center'>\n",
    "    <img src='../img/clase4/maquina1.png' style='height:500px; float: left; margin: 0px 15px 15px 0px'>\n",
    "    <img src='../img/clase4/maquina2.png' style='height:500px; float: left; margin: 0px 15px 15px 0px'>\n",
    "</div>"
   ]
  },
  {
   "cell_type": "markdown",
   "metadata": {
    "slideshow": {
     "slide_type": "slide"
    }
   },
   "source": [
    "## ¿Qué hay bajo el capó? Representación numérica de textos\n",
    "\n",
    "<center><img src='../img/clase4/espacio.jpg' style='height:500px; float: center; margin: 0px 15px 15px 0px'></center>\n",
    "<br>\n",
    "\n",
    "<center><big><b>¡Matemáticas!</center></big></b>\n",
    "\n",
    "<br>\n",
    "\n",
    "- significado($man$) - significado($king$) + significado($queen$) = significado($woman$)"
   ]
  },
  {
   "cell_type": "markdown",
   "metadata": {
    "slideshow": {
     "slide_type": "slide"
    }
   },
   "source": [
    "# Representación vectorial de textos\n",
    "\n",
    "- Existen varios métodos\n",
    "- Lo que diferencia un método del otro es qué tan bien captura las propiedades lingüísticas del texto que representa y la cantidad de espacio que ocupa en memoria\n",
    "<br><br>\n",
    "- **Métodos más populares**:\n",
    "    - One-Hot Encoding \n",
    "    - Bag of Words (Bolsa de palabras)\n",
    "    - Bag of N-Grams (Bolsa de n-gramas)\n",
    "    - TF-IDF\n",
    "    - Word embeddings (word2vec)\n",
    "        - CBOW (Bolsa de palabras continua)\n",
    "        - SkipGram "
   ]
  },
  {
   "cell_type": "markdown",
   "metadata": {
    "slideshow": {
     "slide_type": "slide"
    }
   },
   "source": [
    " #### (Paréntesis)\n",
    " \n",
    "**Corpus lingüístico**: Conjunto amplio y estructurado de ejemplos reales de uso de la lengua.\n"
   ]
  },
  {
   "cell_type": "markdown",
   "metadata": {
    "slideshow": {
     "slide_type": "slide"
    }
   },
   "source": [
    " ## 🛠️ One-Hot Encoding\n",
    " \n",
    " Mapear cada palabra en el vocabulario del corpus de texto a una identificación única\n"
   ]
  },
  {
   "cell_type": "code",
   "execution_count": 47,
   "metadata": {
    "slideshow": {
     "slide_type": "fragment"
    }
   },
   "outputs": [
    {
     "data": {
      "text/html": [
       "<div>\n",
       "<style scoped>\n",
       "    .dataframe tbody tr th:only-of-type {\n",
       "        vertical-align: middle;\n",
       "    }\n",
       "\n",
       "    .dataframe tbody tr th {\n",
       "        vertical-align: top;\n",
       "    }\n",
       "\n",
       "    .dataframe thead th {\n",
       "        text-align: right;\n",
       "    }\n",
       "</style>\n",
       "<table border=\"1\" class=\"dataframe\">\n",
       "  <thead>\n",
       "    <tr style=\"text-align: right;\">\n",
       "      <th></th>\n",
       "      <th>texto</th>\n",
       "    </tr>\n",
       "  </thead>\n",
       "  <tbody>\n",
       "    <tr>\n",
       "      <th>D1</th>\n",
       "      <td>perro muerde hombre</td>\n",
       "    </tr>\n",
       "    <tr>\n",
       "      <th>D2</th>\n",
       "      <td>hombre muerde perro</td>\n",
       "    </tr>\n",
       "    <tr>\n",
       "      <th>D3</th>\n",
       "      <td>perro come carne</td>\n",
       "    </tr>\n",
       "    <tr>\n",
       "      <th>D4</th>\n",
       "      <td>hombre come comida</td>\n",
       "    </tr>\n",
       "  </tbody>\n",
       "</table>\n",
       "</div>"
      ],
      "text/plain": [
       "                  texto\n",
       "D1  perro muerde hombre\n",
       "D2  hombre muerde perro\n",
       "D3     perro come carne\n",
       "D4   hombre come comida"
      ]
     },
     "execution_count": 47,
     "metadata": {},
     "output_type": "execute_result"
    }
   ],
   "source": [
    "import pandas as pd \n",
    "import numpy as np\n",
    "\n",
    "corpus = {'D1': 'perro muerde hombre',\n",
    "          'D2': 'hombre muerde perro',\n",
    "          'D3': 'perro come carne',\n",
    "          'D4': 'hombre come comida'}\n",
    "\n",
    "corpus = pd.DataFrame.from_dict(corpus, orient='index', columns=['texto'])\n",
    "corpus"
   ]
  },
  {
   "cell_type": "code",
   "execution_count": 68,
   "metadata": {
    "slideshow": {
     "slide_type": "slide"
    }
   },
   "outputs": [
    {
     "name": "stdout",
     "output_type": "stream",
     "text": [
      "[('carne', 0), ('perro', 1), ('muerde', 2), ('comida', 3), ('come', 4), ('hombre', 5)]\n"
     ]
    }
   ],
   "source": [
    "# Obtener el vocabulario\n",
    "vocabulario = corpus['texto'].str.cat(sep=\" \")\n",
    "vocabulario = set(vocabulario.split())\n",
    "vocabulario = [(palabra,i) for i,palabra in enumerate(vocabulario)]\n",
    "print(vocabulario)"
   ]
  },
  {
   "cell_type": "code",
   "execution_count": 74,
   "metadata": {
    "slideshow": {
     "slide_type": "fragment"
    }
   },
   "outputs": [
    {
     "data": {
      "text/html": [
       "<div>\n",
       "<style scoped>\n",
       "    .dataframe tbody tr th:only-of-type {\n",
       "        vertical-align: middle;\n",
       "    }\n",
       "\n",
       "    .dataframe tbody tr th {\n",
       "        vertical-align: top;\n",
       "    }\n",
       "\n",
       "    .dataframe thead th {\n",
       "        text-align: right;\n",
       "    }\n",
       "</style>\n",
       "<table border=\"1\" class=\"dataframe\">\n",
       "  <thead>\n",
       "    <tr style=\"text-align: right;\">\n",
       "      <th></th>\n",
       "      <th>carne</th>\n",
       "      <th>perro</th>\n",
       "      <th>muerde</th>\n",
       "      <th>comida</th>\n",
       "      <th>come</th>\n",
       "      <th>hombre</th>\n",
       "    </tr>\n",
       "  </thead>\n",
       "  <tbody>\n",
       "    <tr>\n",
       "      <th>carne</th>\n",
       "      <td>1</td>\n",
       "      <td>0</td>\n",
       "      <td>0</td>\n",
       "      <td>0</td>\n",
       "      <td>0</td>\n",
       "      <td>0</td>\n",
       "    </tr>\n",
       "    <tr>\n",
       "      <th>perro</th>\n",
       "      <td>0</td>\n",
       "      <td>1</td>\n",
       "      <td>0</td>\n",
       "      <td>0</td>\n",
       "      <td>0</td>\n",
       "      <td>0</td>\n",
       "    </tr>\n",
       "    <tr>\n",
       "      <th>muerde</th>\n",
       "      <td>0</td>\n",
       "      <td>0</td>\n",
       "      <td>1</td>\n",
       "      <td>0</td>\n",
       "      <td>0</td>\n",
       "      <td>0</td>\n",
       "    </tr>\n",
       "    <tr>\n",
       "      <th>comida</th>\n",
       "      <td>0</td>\n",
       "      <td>0</td>\n",
       "      <td>0</td>\n",
       "      <td>1</td>\n",
       "      <td>0</td>\n",
       "      <td>0</td>\n",
       "    </tr>\n",
       "    <tr>\n",
       "      <th>come</th>\n",
       "      <td>0</td>\n",
       "      <td>0</td>\n",
       "      <td>0</td>\n",
       "      <td>0</td>\n",
       "      <td>1</td>\n",
       "      <td>0</td>\n",
       "    </tr>\n",
       "    <tr>\n",
       "      <th>hombre</th>\n",
       "      <td>0</td>\n",
       "      <td>0</td>\n",
       "      <td>0</td>\n",
       "      <td>0</td>\n",
       "      <td>0</td>\n",
       "      <td>1</td>\n",
       "    </tr>\n",
       "  </tbody>\n",
       "</table>\n",
       "</div>"
      ],
      "text/plain": [
       "        carne  perro  muerde  comida  come  hombre\n",
       "carne       1      0       0       0     0       0\n",
       "perro       0      1       0       0     0       0\n",
       "muerde      0      0       1       0     0       0\n",
       "comida      0      0       0       1     0       0\n",
       "come        0      0       0       0     1       0\n",
       "hombre      0      0       0       0     0       1"
      ]
     },
     "execution_count": 74,
     "metadata": {},
     "output_type": "execute_result"
    }
   ],
   "source": [
    "# One-Hot Encoding\n",
    "vocab_onehot = np.array([[0]*len(vocabulario)]*len(vocabulario))\n",
    "\n",
    "for palabra,i in vocabulario:\n",
    "    vocab_onehot[i,i] = 1\n",
    "    # print(f\"Palabra: {palabra}\")\n",
    "    # print(f\"One-hot encoding: {vocab_onehot[i,:]}\")\n",
    "    # print()\n",
    "    \n",
    "vocab_onehot = pd.DataFrame(vocab_onehot)\n",
    "vocab_onehot.columns = [palabra[0] for palabra in vocabulario]\n",
    "vocab_onehot.index = [palabra[0] for palabra in vocabulario]\n",
    "vocab_onehot"
   ]
  },
  {
   "cell_type": "code",
   "execution_count": 75,
   "metadata": {
    "slideshow": {
     "slide_type": "slide"
    }
   },
   "outputs": [],
   "source": [
    "def one_hot_encoder(frase):\n",
    "    frase_onehot = []\n",
    "    for palabra in frase.split():\n",
    "        frase_onehot.append(vocab_onehot[palabra].tolist())\n",
    "    print(frase_onehot)"
   ]
  },
  {
   "cell_type": "code",
   "execution_count": 84,
   "metadata": {
    "slideshow": {
     "slide_type": "fragment"
    }
   },
   "outputs": [
    {
     "name": "stdout",
     "output_type": "stream",
     "text": [
      "[[0, 1, 0, 0, 0, 0], [0, 0, 1, 0, 0, 0], [0, 0, 0, 0, 0, 1], [0, 1, 0, 0, 0, 0]]\n"
     ]
    }
   ],
   "source": [
    "one_hot_encoder(\"perro muerde hombre perro\")"
   ]
  },
  {
   "cell_type": "markdown",
   "metadata": {
    "slideshow": {
     "slide_type": "fragment"
    }
   },
   "source": [
    "#### Ventajas\n",
    "- Es intuitivo y fácil de entender\n",
    "- La implementación es directa\n",
    "\n",
    "#### Desventajas\n",
    "- Genera una matriz dispersa\n",
    "- El vector de cada frase no tiene un tamaño constante\n",
    "- No tiene noción de similitud entre palabras\n",
    "- Problema de fuera de vocabulario"
   ]
  },
  {
   "cell_type": "markdown",
   "metadata": {
    "slideshow": {
     "slide_type": "slide"
    }
   },
   "source": [
    " ## 🛠️ Bag of Words (BoW) -- Bolsa de Palabras\n",
    " \n",
    "- Representar el texto como una bolsa de palabras (ignorando orden y contexto) \n",
    "- Si dos piezas de texto tienen casi las mismas palabras, entonces pertenecen a la misma bolsa\n"
   ]
  },
  {
   "cell_type": "code",
   "execution_count": 85,
   "metadata": {
    "slideshow": {
     "slide_type": "fragment"
    }
   },
   "outputs": [
    {
     "name": "stdout",
     "output_type": "stream",
     "text": [
      "[('carne', 0), ('perro', 1), ('muerde', 2), ('comida', 3), ('come', 4), ('hombre', 5)]\n"
     ]
    }
   ],
   "source": [
    "print(vocabulario) # sigue siendo el mismo"
   ]
  },
  {
   "cell_type": "code",
   "execution_count": 89,
   "metadata": {
    "slideshow": {
     "slide_type": "fragment"
    }
   },
   "outputs": [],
   "source": [
    "def bow(frase):\n",
    "    frase_bow = [0]*len(vocabulario)\n",
    "    for palabra,i in vocabulario:\n",
    "        if palabra in frase.split():\n",
    "            frase_bow[i] = 1\n",
    "    print(frase_bow)"
   ]
  },
  {
   "cell_type": "code",
   "execution_count": 90,
   "metadata": {
    "slideshow": {
     "slide_type": "fragment"
    }
   },
   "outputs": [
    {
     "name": "stdout",
     "output_type": "stream",
     "text": [
      "[0, 1, 1, 0, 0, 1]\n"
     ]
    }
   ],
   "source": [
    "bow(\"perro muerde hombre\")"
   ]
  },
  {
   "cell_type": "code",
   "execution_count": 91,
   "metadata": {
    "slideshow": {
     "slide_type": "slide"
    }
   },
   "outputs": [
    {
     "name": "stdout",
     "output_type": "stream",
     "text": [
      "[0, 1, 1, 0, 0, 1]\n"
     ]
    }
   ],
   "source": [
    "bow(\"perro muerde hombre\")"
   ]
  },
  {
   "cell_type": "code",
   "execution_count": 101,
   "metadata": {
    "slideshow": {
     "slide_type": "fragment"
    }
   },
   "outputs": [
    {
     "name": "stdout",
     "output_type": "stream",
     "text": [
      "[[0, 1, 0, 0, 0, 0], [0, 0, 1, 0, 0, 0], [0, 0, 0, 0, 0, 1]]\n"
     ]
    },
    {
     "data": {
      "text/plain": [
       "array([0, 1, 1, 0, 0, 1])"
      ]
     },
     "execution_count": 101,
     "metadata": {},
     "output_type": "execute_result"
    }
   ],
   "source": [
    "one_hot_encoder(\"perro muerde hombre\")\n",
    "\n",
    "np.sum(np.array([[0, 1, 0, 0, 0, 0], [0, 0, 1, 0, 0, 0], [0, 0, 0, 0, 0, 1]]),0)"
   ]
  },
  {
   "cell_type": "markdown",
   "metadata": {
    "slideshow": {
     "slide_type": "slide"
    }
   },
   "source": [
    "<center><img src='../img/clase4/bebememe.png' style='height:500px; float: center; margin: 0px 15px 15px 0px'></center>"
   ]
  },
  {
   "cell_type": "markdown",
   "metadata": {
    "slideshow": {
     "slide_type": "slide"
    }
   },
   "source": [
    "### Scikit-learn \n",
    "\n",
    "- Es una biblioteca para aprendizaje automático de software libre para el lenguaje de programación Python"
   ]
  },
  {
   "cell_type": "code",
   "execution_count": 133,
   "metadata": {
    "slideshow": {
     "slide_type": "fragment"
    }
   },
   "outputs": [
    {
     "name": "stdout",
     "output_type": "stream",
     "text": [
      "Vocabulario:  {'perro': 5, 'muerde': 4, 'hombre': 3, 'come': 1, 'carne': 0, 'comida': 2}\n"
     ]
    },
    {
     "data": {
      "text/html": [
       "<div>\n",
       "<style scoped>\n",
       "    .dataframe tbody tr th:only-of-type {\n",
       "        vertical-align: middle;\n",
       "    }\n",
       "\n",
       "    .dataframe tbody tr th {\n",
       "        vertical-align: top;\n",
       "    }\n",
       "\n",
       "    .dataframe thead th {\n",
       "        text-align: right;\n",
       "    }\n",
       "</style>\n",
       "<table border=\"1\" class=\"dataframe\">\n",
       "  <thead>\n",
       "    <tr style=\"text-align: right;\">\n",
       "      <th></th>\n",
       "      <th>texto</th>\n",
       "      <th>bow</th>\n",
       "    </tr>\n",
       "  </thead>\n",
       "  <tbody>\n",
       "    <tr>\n",
       "      <th>D1</th>\n",
       "      <td>perro muerde hombre</td>\n",
       "      <td>[0, 0, 0, 1, 1, 1]</td>\n",
       "    </tr>\n",
       "    <tr>\n",
       "      <th>D2</th>\n",
       "      <td>hombre muerde perro</td>\n",
       "      <td>[0, 0, 0, 1, 1, 1]</td>\n",
       "    </tr>\n",
       "    <tr>\n",
       "      <th>D3</th>\n",
       "      <td>perro come carne</td>\n",
       "      <td>[1, 1, 0, 0, 0, 1]</td>\n",
       "    </tr>\n",
       "    <tr>\n",
       "      <th>D4</th>\n",
       "      <td>hombre come comida</td>\n",
       "      <td>[0, 1, 1, 1, 0, 0]</td>\n",
       "    </tr>\n",
       "  </tbody>\n",
       "</table>\n",
       "</div>"
      ],
      "text/plain": [
       "                  texto                 bow\n",
       "D1  perro muerde hombre  [0, 0, 0, 1, 1, 1]\n",
       "D2  hombre muerde perro  [0, 0, 0, 1, 1, 1]\n",
       "D3     perro come carne  [1, 1, 0, 0, 0, 1]\n",
       "D4   hombre come comida  [0, 1, 1, 1, 0, 0]"
      ]
     },
     "execution_count": 133,
     "metadata": {},
     "output_type": "execute_result"
    }
   ],
   "source": [
    "from sklearn.feature_extraction.text import CountVectorizer\n",
    "\n",
    "count_vect = CountVectorizer(binary=True)\n",
    "bow_rep = count_vect.fit_transform(corpus.texto.values)\n",
    "\n",
    "print(\"Vocabulario: \", count_vect.vocabulary_)\n",
    "\n",
    "# print(corpus.iloc[0])\n",
    "# print(bow_rep[0].toarray())\n",
    "\n",
    "corpus['bow'] = [row for row in bow_rep.toarray()]\n",
    "corpus"
   ]
  },
  {
   "cell_type": "code",
   "execution_count": null,
   "metadata": {
    "slideshow": {
     "slide_type": "fragment"
    }
   },
   "outputs": [],
   "source": []
  },
  {
   "cell_type": "markdown",
   "metadata": {
    "slideshow": {
     "slide_type": "slide"
    }
   },
   "source": [
    "Si no nos importa la frecuencia, `binary=True`"
   ]
  },
  {
   "cell_type": "code",
   "execution_count": 135,
   "metadata": {
    "slideshow": {
     "slide_type": "fragment"
    }
   },
   "outputs": [
    {
     "name": "stdout",
     "output_type": "stream",
     "text": [
      "{'perro': 5, 'muerde': 4, 'hombre': 3, 'come': 1, 'carne': 0, 'comida': 2}\n"
     ]
    },
    {
     "data": {
      "text/plain": [
       "array([[0, 0, 0, 0, 0, 1]])"
      ]
     },
     "execution_count": 135,
     "metadata": {},
     "output_type": "execute_result"
    }
   ],
   "source": [
    "ej = [\"perro y perro son amigos perros\"]\n",
    "temp = count_vect.transform(ej)\n",
    "print(count_vect.vocabulary_)\n",
    "temp.toarray()"
   ]
  },
  {
   "cell_type": "markdown",
   "metadata": {
    "slideshow": {
     "slide_type": "slide"
    }
   },
   "source": [
    "#### Ventajas\n",
    "- Es intuitivo y fácil de entender\n",
    "- La implementación es directa\n",
    "- El vector de cada frase tiene un tamaño constante\n",
    "\n",
    "#### Desventajas\n",
    "- Genera una matriz dispersa (¿solución?)\n",
    "- No tiene noción de similitud entre palabras\n",
    "- Problema de fuera de vocabulario\n",
    "- Se pierde el orden de la información\n",
    "\n",
    "\n",
    "<hr>\n",
    "\n",
    "Método bastante usado en la industria"
   ]
  },
  {
   "cell_type": "markdown",
   "metadata": {
    "slideshow": {
     "slide_type": "slide"
    }
   },
   "source": [
    " ## 🛠️ Bag of N-Grams (BoN) -- Bolsa de n-gramas\n",
    " <br>\n",
    " <center><img src='../img/clase4/NY.jpg' style='height:300px; float: center; margin: 0px 15px 15px 0px'></center>\n",
    " \n",
    " https://pollev.com/vivianamarqu288"
   ]
  },
  {
   "cell_type": "markdown",
   "metadata": {
    "slideshow": {
     "slide_type": "fragment"
    }
   },
   "source": [
    "- Hasta el momento solo hemos visto las palabras como unidades independientes\n",
    "- Con la bolsa de n-gramas capturamos un poco de contexto y orden"
   ]
  },
  {
   "cell_type": "code",
   "execution_count": 136,
   "metadata": {
    "slideshow": {
     "slide_type": "slide"
    }
   },
   "outputs": [
    {
     "data": {
      "text/html": [
       "<div>\n",
       "<style scoped>\n",
       "    .dataframe tbody tr th:only-of-type {\n",
       "        vertical-align: middle;\n",
       "    }\n",
       "\n",
       "    .dataframe tbody tr th {\n",
       "        vertical-align: top;\n",
       "    }\n",
       "\n",
       "    .dataframe thead th {\n",
       "        text-align: right;\n",
       "    }\n",
       "</style>\n",
       "<table border=\"1\" class=\"dataframe\">\n",
       "  <thead>\n",
       "    <tr style=\"text-align: right;\">\n",
       "      <th></th>\n",
       "      <th>texto</th>\n",
       "      <th>bow</th>\n",
       "    </tr>\n",
       "  </thead>\n",
       "  <tbody>\n",
       "    <tr>\n",
       "      <th>D1</th>\n",
       "      <td>perro muerde hombre</td>\n",
       "      <td>[0, 0, 0, 1, 1, 1]</td>\n",
       "    </tr>\n",
       "    <tr>\n",
       "      <th>D2</th>\n",
       "      <td>hombre muerde perro</td>\n",
       "      <td>[0, 0, 0, 1, 1, 1]</td>\n",
       "    </tr>\n",
       "    <tr>\n",
       "      <th>D3</th>\n",
       "      <td>perro come carne</td>\n",
       "      <td>[1, 1, 0, 0, 0, 1]</td>\n",
       "    </tr>\n",
       "    <tr>\n",
       "      <th>D4</th>\n",
       "      <td>hombre come comida</td>\n",
       "      <td>[0, 1, 1, 1, 0, 0]</td>\n",
       "    </tr>\n",
       "  </tbody>\n",
       "</table>\n",
       "</div>"
      ],
      "text/plain": [
       "                  texto                 bow\n",
       "D1  perro muerde hombre  [0, 0, 0, 1, 1, 1]\n",
       "D2  hombre muerde perro  [0, 0, 0, 1, 1, 1]\n",
       "D3     perro come carne  [1, 1, 0, 0, 0, 1]\n",
       "D4   hombre come comida  [0, 1, 1, 1, 0, 0]"
      ]
     },
     "execution_count": 136,
     "metadata": {},
     "output_type": "execute_result"
    }
   ],
   "source": [
    "corpus"
   ]
  },
  {
   "cell_type": "code",
   "execution_count": 140,
   "metadata": {
    "slideshow": {
     "slide_type": "fragment"
    }
   },
   "outputs": [
    {
     "name": "stdout",
     "output_type": "stream",
     "text": [
      "Vocabulario:  {'perro': 11, 'muerde': 8, 'hombre': 5, 'perro muerde': 13, 'muerde hombre': 9, 'hombre muerde': 7, 'muerde perro': 10, 'come': 1, 'carne': 0, 'perro come': 12, 'come carne': 2, 'comida': 4, 'hombre come': 6, 'come comida': 3}\n",
      "Representación bow 'perro muerde hombre' [[0 0 0 0 0 1 0 0 1 1 0 1 0 1]]\n"
     ]
    }
   ],
   "source": [
    "count_vect = CountVectorizer(ngram_range=(1,2))\n",
    "bow_rep = count_vect.fit_transform(corpus.texto.values)\n",
    "print(\"Vocabulario: \", count_vect.vocabulary_)\n",
    "print(\"Representación bow 'perro muerde hombre'\", bow_rep[0].toarray())"
   ]
  },
  {
   "cell_type": "markdown",
   "metadata": {
    "slideshow": {
     "slide_type": "slide"
    }
   },
   "source": [
    "#### Ventajas\n",
    "- Captura alguna información sobre el contexto y orden\n",
    "\n",
    "#### Desventajas\n",
    "- Genera una matriz dispersa ¡rápidamente!\n",
    "- Problema de fuera de vocabulario\n",
    "\n",
    "\n",
    "<hr>\n",
    "\n",
    "[Más sobre n-gramas](https://nlp.stanford.edu/fsnlp/promo/colloc.pdf)"
   ]
  },
  {
   "cell_type": "markdown",
   "metadata": {
    "slideshow": {
     "slide_type": "slide"
    }
   },
   "source": [
    "### 🤓 Recapitulando: Hoy aprendímos...\n",
    "\n",
    "- Herramientas específicas de pre-procesamiento de texto en NLP\n",
    "    - Palabras vacías\n",
    "    - Tokenización\n",
    "    - Stemming\n",
    "    - Lematización\n",
    "    - Etiquetado gramatical\n",
    "    \n",
    "    \n",
    "- Repaso de Feature Engineering en Machine Learning \n",
    "- Representación de datos en forma numérica\n",
    "- Espacio semántico vectorial\n",
    "\n",
    "\n",
    "- Métodos de vectorización\n",
    "    - One-Hot Encoding \n",
    "    - Bag of Words\n",
    "    - Bag of N-Grams"
   ]
  },
  {
   "cell_type": "markdown",
   "metadata": {
    "slideshow": {
     "slide_type": "slide"
    }
   },
   "source": [
    "### 🚧 ✋ Expectativas del Proyecto Final\n",
    "Modo:\n",
    "- Máximo 3 personas por grupo\n",
    "- Exposición ~10 min y repositorio de GitHub\n",
    "- ABRIL 15 - Plan de Proyecto (Documento con descripción del proyecto)\n",
    "- JUNIO 3 - Entrega Proyecto\n",
    "- JUNIO 3 y 10 - Exposiciones (La fecha puede cambiar)\n",
    "\n",
    "Proyecto:\n",
    "\n",
    "- Los datos pueden ser personales, del internet, o de su empresa (pedir permiso).\n",
    "- Tener objetivo claro\n",
    "- Pre-procesamiento\n",
    "- Modelo de NLP/Machine Learning\n",
    "- Visualización\n",
    "\n",
    "\n",
    "Ideas para conseguir datos:\n",
    "\n",
    "- Personales: Diario, Blog, WhatsApp, Twitter, Slack.\n",
    "- Del internet: \n",
    "    - Scraping de Twitter, portal de noticias, página de canciones, Wikipedia, forum. \n",
    "    - Github: [Política](https://github.com/dav009/LatinamericanTextResources)\n",
    "    - [Otro recurso] (https://lionbridge.ai/datasets/22-best-spanish-language-datasets-for-machine-learning/)\n",
    "- Empresa"
   ]
  },
  {
   "cell_type": "markdown",
   "metadata": {
    "slideshow": {
     "slide_type": "slide"
    }
   },
   "source": [
    "# ¡Tiempo de taller!\n",
    "\n",
    "<center>\n",
    "<img src='../img/Taller.gif'>"
   ]
  },
  {
   "cell_type": "markdown",
   "metadata": {
    "slideshow": {
     "slide_type": "fragment"
    }
   },
   "source": [
    "**Taller # 4:** Representación vectorial de textos (Parte 1)\n",
    "\n",
    "**Fecha de entrega:** Marzo 18, 2021. (Antes del inicio de la próxima clase)"
   ]
  },
  {
   "cell_type": "markdown",
   "metadata": {
    "slideshow": {
     "slide_type": "slide"
    }
   },
   "source": [
    "<center>\n",
    "<img src='../img/fin.png' style='height:300px; float: center; margin: 0px 15px 15px 0px'>\n",
    "\n",
    "### Proxima clase(s): Representación vectorial de textos (Parte 2)"
   ]
  }
 ],
 "metadata": {
  "celltoolbar": "Slideshow",
  "kernelspec": {
   "display_name": "Python 3",
   "language": "python",
   "name": "python3"
  },
  "language_info": {
   "codemirror_mode": {
    "name": "ipython",
    "version": 3
   },
   "file_extension": ".py",
   "mimetype": "text/x-python",
   "name": "python",
   "nbconvert_exporter": "python",
   "pygments_lexer": "ipython3",
   "version": "3.7.4"
  }
 },
 "nbformat": 4,
 "nbformat_minor": 2
}
