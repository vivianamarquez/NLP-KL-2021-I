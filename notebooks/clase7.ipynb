{
 "cells": [
  {
   "cell_type": "markdown",
   "metadata": {
    "slideshow": {
     "slide_type": "slide"
    }
   },
   "source": [
    "<center><img src='../img/clase7/spam.png' style='height:200px; float: center; margin: 0px 15px 15px 0px'></center>\n",
    "\n",
    "### ¿Correo basura o no?\n",
    "### Clasificación de Textos (Parte 1)\n",
    "#### NLP - Analítica Estratégica de Datos\n",
    "<br><b>Fundación Universitaria Konrad Lorenz</b>\n",
    "<br>Docente: Viviana Márquez [vivianam.penama@konradlorenz.edu.co](mailto:vivianam.penama@konradlorenz.edu.co)\n",
    "<br>Clase #7: Abril 8, 2021"
   ]
  },
  {
   "cell_type": "markdown",
   "metadata": {
    "slideshow": {
     "slide_type": "slide"
    }
   },
   "source": [
    "# Retroalimentación taller 5 & 6"
   ]
  },
  {
   "cell_type": "markdown",
   "metadata": {
    "slideshow": {
     "slide_type": "slide"
    }
   },
   "source": [
    "### ⌛ En clases anteriores\n",
    "\n",
    "- Repaso de Feature Engineering en Machine Learning\n",
    "- Representación de datos en forma numérica\n",
    "- Métodos de vectorización\n",
    "    - Bag of Words\n",
    "    - TF-IDF\n",
    "    - Word2Vec"
   ]
  },
  {
   "cell_type": "markdown",
   "metadata": {
    "slideshow": {
     "slide_type": "slide"
    }
   },
   "source": [
    "### Flujo de datos en un proyecto de NLP (pipeline)\n",
    "\n",
    "<br><center><img src='../img/pipeline.png'><center>"
   ]
  },
  {
   "cell_type": "markdown",
   "metadata": {
    "slideshow": {
     "slide_type": "slide"
    }
   },
   "source": [
    "### Flujo de datos en un proyecto de NLP (pipeline)\n",
    "\n",
    "<br><center><img src='../img/pipeline1.png'><center>"
   ]
  },
  {
   "cell_type": "markdown",
   "metadata": {
    "slideshow": {
     "slide_type": "slide"
    }
   },
   "source": [
    "### Flujo de datos en un proyecto de NLP (pipeline)\n",
    "\n",
    "<br><center><img src='../img/pipeline2check.png'><center>"
   ]
  },
  {
   "cell_type": "markdown",
   "metadata": {
    "slideshow": {
     "slide_type": "slide"
    }
   },
   "source": [
    "### Flujo de datos en un proyecto de NLP (pipeline)\n",
    "\n",
    "<br><center><img src='../img/pipeline3check.png'><center>"
   ]
  },
  {
   "cell_type": "markdown",
   "metadata": {
    "slideshow": {
     "slide_type": "slide"
    }
   },
   "source": [
    "### Flujo de datos en un proyecto de NLP (pipeline)\n",
    "\n",
    "<br><center><img src='../img/pipeline4.png'><center>"
   ]
  },
  {
   "cell_type": "markdown",
   "metadata": {
    "slideshow": {
     "slide_type": "slide"
    }
   },
   "source": [
    "### 🚀 Hoy veremos...\n",
    "\n",
    "- Repaso de modelos en Machine Learning\n",
    "- Modelos de clasificación \n",
    "- Medidas de rendimiento para modelos de clasificación\n",
    "\n",
    "### 🚀 Próxima clase...\n",
    "- Modelos de clasificación para NLP\n",
    "    - Regresión logística\n",
    "    - Bayesiano ingenuo (Naive Bayes)\n",
    "    - Máquinas de vectores de soporte (SVM)\n",
    " "
   ]
  },
  {
   "cell_type": "markdown",
   "metadata": {
    "slideshow": {
     "slide_type": "slide"
    }
   },
   "source": [
    "### 🤖 Machine Learning\n",
    "\n",
    "Primero hagamos un repaso de ML\n"
   ]
  },
  {
   "cell_type": "markdown",
   "metadata": {
    "slideshow": {
     "slide_type": "fragment"
    }
   },
   "source": [
    "<center><img src='../img/clase7/pic3.png' style='height:300px; float: center; margin: 0px 15px 15px 0px'></center>"
   ]
  },
  {
   "cell_type": "markdown",
   "metadata": {
    "slideshow": {
     "slide_type": "fragment"
    }
   },
   "source": [
    "• El Machine Learning (aprendizaje automático) se encarga de <u>representar</u> la estructura y <u>generalizar</u> el comportamiento de un conjunto de datos a través de un <b>modelo</b>.\n",
    "\n",
    "💡 <u>Representar</u>: Extraer la estructura de un conjunto de datos.\n",
    "\n",
    "💡 <u>Generalizar</u>: Hacer predicciones a partir de un conjunto de datos."
   ]
  },
  {
   "cell_type": "markdown",
   "metadata": {
    "slideshow": {
     "slide_type": "slide"
    }
   },
   "source": [
    "### 👠 ¿Modelo?\n",
    "\n",
    "<center><img src='../img/clase7/pic5.png' style='height:500px; float: center; margin: 0px 0px 0px 0px'>Sí, pero modelos matemáticos.<center><br>\n",
    "    \n",
    "Estos se usan para describir un sistema (natural, físico, social, industrial, etc.) usando conceptos y lenguaje matemático.\n"
   ]
  },
  {
   "cell_type": "markdown",
   "metadata": {
    "slideshow": {
     "slide_type": "slide"
    }
   },
   "source": [
    "### 👠 Elementos de un modelo en el contexto de ML\n"
   ]
  },
  {
   "cell_type": "code",
   "execution_count": 6,
   "metadata": {
    "slideshow": {
     "slide_type": "fragment"
    }
   },
   "outputs": [
    {
     "data": {
      "text/html": [
       "<div>\n",
       "<style scoped>\n",
       "    .dataframe tbody tr th:only-of-type {\n",
       "        vertical-align: middle;\n",
       "    }\n",
       "\n",
       "    .dataframe tbody tr th {\n",
       "        vertical-align: top;\n",
       "    }\n",
       "\n",
       "    .dataframe thead th {\n",
       "        text-align: right;\n",
       "    }\n",
       "</style>\n",
       "<table border=\"1\" class=\"dataframe\">\n",
       "  <thead>\n",
       "    <tr style=\"text-align: right;\">\n",
       "      <th></th>\n",
       "      <th>mensaje</th>\n",
       "      <th>etiqueta</th>\n",
       "    </tr>\n",
       "  </thead>\n",
       "  <tbody>\n",
       "    <tr>\n",
       "      <th>517</th>\n",
       "      <td>Envíale un mensaje de texto. Si no responde, a...</td>\n",
       "      <td>legítimo</td>\n",
       "    </tr>\n",
       "    <tr>\n",
       "      <th>106</th>\n",
       "      <td>Su ID de usuario único es 1172. Para eliminarl...</td>\n",
       "      <td>basura</td>\n",
       "    </tr>\n",
       "    <tr>\n",
       "      <th>41</th>\n",
       "      <td>Gana el más nuevo “Harry Potter y la Orden del...</td>\n",
       "      <td>basura</td>\n",
       "    </tr>\n",
       "  </tbody>\n",
       "</table>\n",
       "</div>"
      ],
      "text/plain": [
       "                                               mensaje  etiqueta\n",
       "517  Envíale un mensaje de texto. Si no responde, a...  legítimo\n",
       "106  Su ID de usuario único es 1172. Para eliminarl...    basura\n",
       "41   Gana el más nuevo “Harry Potter y la Orden del...    basura"
      ]
     },
     "execution_count": 6,
     "metadata": {},
     "output_type": "execute_result"
    }
   ],
   "source": [
    "import pandas as pd\n",
    "\n",
    "data = pd.read_csv(\"../archivos/basura.csv\")\n",
    "data.sample(3)"
   ]
  },
  {
   "cell_type": "markdown",
   "metadata": {
    "slideshow": {
     "slide_type": "fragment"
    }
   },
   "source": [
    "- <b>Datos de entrada (input) del modelo:</b>\n",
    "En ML también conocido como: X, Características, Atributos, Predictores, Entradas, Variables independientes, Dimensiones, etc."
   ]
  },
  {
   "cell_type": "markdown",
   "metadata": {
    "slideshow": {
     "slide_type": "fragment"
    }
   },
   "source": [
    "- <b>Datos de salida (output) del modelo:</b>\n",
    "En ML también conocido como: Y, Objetivo, Respuesta, Salida, Variable dependiente, etc."
   ]
  },
  {
   "cell_type": "markdown",
   "metadata": {
    "slideshow": {
     "slide_type": "fragment"
    }
   },
   "source": [
    "- <b>Fila:</b>\n",
    "(Incluye input y output) En ML también conocido como: Observación, Registro, Documento, etc."
   ]
  },
  {
   "cell_type": "markdown",
   "metadata": {
    "slideshow": {
     "slide_type": "fragment"
    }
   },
   "source": [
    "- <b>Etiquetas:</b>\n",
    "Los valores de la variable dependiente (en el contexto de aprendizaje supervisado)."
   ]
  },
  {
   "cell_type": "markdown",
   "metadata": {
    "slideshow": {
     "slide_type": "slide"
    }
   },
   "source": [
    "### 📝 Tipos de modelos en Machine Learning\n",
    "<br>\n",
    "\n",
    "<center><img src='../img/clase7/pic6.png' style='height:500px; float: center; margin: 0px 0px 0px 0px'>¿Es un perro o es un muffin?</center>\n",
    "\n",
    "Dos preguntas:\n",
    "- ¿Tenemos etiquetas? ¿De qué tipo son nuestros datos?"
   ]
  },
  {
   "cell_type": "markdown",
   "metadata": {
    "slideshow": {
     "slide_type": "slide"
    }
   },
   "source": [
    "<center><img src='../img/clase7/supervised_unsupervised.png' style='height:500px; float: center; margin: 0px 0px 0px 0px'></center>\n",
    "\n",
    "- **Supervisados** Problemas con etiquetas\n",
    "- **No supervisados** Problemas sin etiquetas"
   ]
  },
  {
   "cell_type": "markdown",
   "metadata": {
    "slideshow": {
     "slide_type": "notes"
    }
   },
   "source": [
    "- Aprendizaje supervisado: Le das a la computadora algunos pares de entradas/salidas, así en el futuro nuevo cuando se presenten nuevas entradas tienes una salida inteligente.\n",
    "\n",
    "- Aprendizaje no supervisado: Dejas que la computadora aprenda de los datos en sí sin mostrar cuál es la salida esperada."
   ]
  },
  {
   "cell_type": "markdown",
   "metadata": {
    "slideshow": {
     "slide_type": "slide"
    }
   },
   "source": [
    "#### 👮‍♀️ Pop Quiz: ¿Supervisado o no?\n",
    "\n",
    "- Clasificar críticas de restaurantes como positivas o negativas == Supervisado"
   ]
  },
  {
   "cell_type": "markdown",
   "metadata": {
    "slideshow": {
     "slide_type": "fragment"
    }
   },
   "source": [
    "- Agrupar diferentes tipos de clientes en conjuntos similares == No supervisado"
   ]
  },
  {
   "cell_type": "markdown",
   "metadata": {
    "slideshow": {
     "slide_type": "slide"
    }
   },
   "source": [
    "<center><img src='../img/clase7/clasreg.png' style='height:500px; float: center; margin: 0px 0px 0px 0px'></center>\n",
    "\n",
    "- **Datos continuos -> Regresión:** Información cuantitativa/numérica\n",
    "- **Datos discretos -> Clasificación:** Información cualitativa"
   ]
  },
  {
   "cell_type": "markdown",
   "metadata": {
    "slideshow": {
     "slide_type": "slide"
    }
   },
   "source": [
    "#### 👮‍♀️Pop Quiz: ¿Clasificación o regresión?\n",
    "<br>\n",
    "\n",
    "<center><img src='../img/clase7/pollo.jpg' style='height:600px; float: center; margin: 0px 0px 0px 0px'></center>\n",
    "\n",
    "- ¿Es un pollo o un perro?"
   ]
  },
  {
   "cell_type": "markdown",
   "metadata": {
    "slideshow": {
     "slide_type": "fragment"
    }
   },
   "source": [
    "- Predecir la estatura de una persona"
   ]
  },
  {
   "cell_type": "markdown",
   "metadata": {
    "slideshow": {
     "slide_type": "slide"
    }
   },
   "source": [
    "<center><img src='../img/mlmodels1.png' style='height:600px; float: center; margin: 0px 0px 0px 0px'></center>\n",
    "\n",
    "- **Supervisados:** Problemas con etiquetas\n",
    "- **No supervisados:** Problemas sin etiquetas"
   ]
  },
  {
   "cell_type": "markdown",
   "metadata": {
    "slideshow": {
     "slide_type": "slide"
    }
   },
   "source": [
    "<center><img src='../img/mlmodels2.png' style='height:600px; float: center; margin: 0px 0px 0px 0px'></center>\n",
    "\n",
    "- **Datos continuos:** Información cuantitativa/numérica\n",
    "- **Datos discretos:** Información cualitativa"
   ]
  },
  {
   "cell_type": "markdown",
   "metadata": {
    "slideshow": {
     "slide_type": "slide"
    }
   },
   "source": [
    "# 🤔 ¿Es correo basura o no?"
   ]
  },
  {
   "cell_type": "markdown",
   "metadata": {
    "slideshow": {
     "slide_type": "fragment"
    }
   },
   "source": [
    "<center><img src='../img/mlmodels3.png' style='height:600px; float: center; margin: 0px 0px 0px 0px'></center>"
   ]
  },
  {
   "cell_type": "markdown",
   "metadata": {
    "slideshow": {
     "slide_type": "slide"
    }
   },
   "source": [
    "### 🚀 Hoy vimos...\n",
    "\n",
    "- Repaso de modelos en Machine Learning ✅\n",
    "- Modelos de clasificación \n",
    "- Medidas de rendimiento para modelos de clasificación\n",
    " "
   ]
  },
  {
   "cell_type": "markdown",
   "metadata": {
    "slideshow": {
     "slide_type": "slide"
    }
   },
   "source": [
    "### Modelos de clasificación\n",
    "\n",
    "Se dividen en tres categorías:\n",
    "- Binarios\n",
    "- Multiclase \n",
    "- Multietiqueta\n"
   ]
  },
  {
   "cell_type": "markdown",
   "metadata": {
    "slideshow": {
     "slide_type": "slide"
    }
   },
   "source": [
    "### Modelos de clasificación \n",
    "\n",
    "**Binarios:** Clasificar dos clases\n",
    "\n",
    "<center><img src='../img/clase7/clas1.png' style='height:600px; float: center; margin: 0px 0px 0px 0px'></center>\n"
   ]
  },
  {
   "cell_type": "markdown",
   "metadata": {
    "slideshow": {
     "slide_type": "slide"
    }
   },
   "source": [
    "### Modelos de clasificación \n",
    "\n",
    "**Multiclase:** Clasificar más de dos clases\n",
    "\n",
    "<center><img src='../img/clase7/clas2.png' style='height:600px; float: center; margin: 0px 0px 0px 0px'></center>\n"
   ]
  },
  {
   "cell_type": "markdown",
   "metadata": {
    "slideshow": {
     "slide_type": "slide"
    }
   },
   "source": [
    "### Modelos de clasificación \n",
    "\n",
    "**Multietiqueta:** Cuando un documento puede tener más de una clase/etiqueta\n",
    "\n",
    "<center><img src='../img/clase7/catdog.png' style='height:600px; float: center; margin: 0px 0px 0px 0px'></center>\n",
    "\n",
    "¿En qué otros escenarios podemos tener un problema de multietiqueta?"
   ]
  },
  {
   "cell_type": "markdown",
   "metadata": {
    "slideshow": {
     "slide_type": "slide"
    }
   },
   "source": [
    "### Modelos de clasificación\n",
    "\n",
    "Pasos para un modelo de clasificación:\n",
    "1. Adquirir datos **etiquetados**... (mala noticia)\n"
   ]
  },
  {
   "cell_type": "code",
   "execution_count": 10,
   "metadata": {
    "slideshow": {
     "slide_type": "fragment"
    }
   },
   "outputs": [
    {
     "name": "stdout",
     "output_type": "stream",
     "text": [
      "El conjunto de datos tiene 729 registros.\n"
     ]
    },
    {
     "data": {
      "text/plain": [
       "basura      0.550069\n",
       "legítimo    0.449931\n",
       "Name: etiqueta, dtype: float64"
      ]
     },
     "execution_count": 10,
     "metadata": {},
     "output_type": "execute_result"
    }
   ],
   "source": [
    "print(f\"El conjunto de datos tiene {data.shape[0]} registros.\")\n",
    "data.sample(2)\n",
    "data.etiqueta.value_counts(normalize=True)"
   ]
  },
  {
   "cell_type": "markdown",
   "metadata": {
    "slideshow": {
     "slide_type": "slide"
    }
   },
   "source": [
    "### Modelos de clasificación\n",
    "\n",
    "Pasos para un modelo de clasificación:\n",
    "\n",
    "1. Adquirir datos **etiquetados**\n",
    "2. Feature Engineering (Pre-procesamiento, TF-IDF, etc...)"
   ]
  },
  {
   "cell_type": "markdown",
   "metadata": {
    "slideshow": {
     "slide_type": "slide"
    }
   },
   "source": [
    "### Modelos de clasificación\n",
    "\n",
    "Pasos para un modelo de clasificación:\n",
    "\n",
    "1. Adquirir datos **etiquetados**\n",
    "2. Feature Engineering (Pre-procesamiento, TF-IDF, etc...)\n",
    "3. Dividir el conjunto de datos en dos:\n",
    "    - Entrenamiento (`training`) y prueba (`test`)"
   ]
  },
  {
   "cell_type": "code",
   "execution_count": 13,
   "metadata": {
    "slideshow": {
     "slide_type": "fragment"
    }
   },
   "outputs": [
    {
     "name": "stdout",
     "output_type": "stream",
     "text": [
      "El conjunto de datos de entrenamiento tiene 583 registros y el de prueba tiene 146 registros.\n"
     ]
    }
   ],
   "source": [
    "from sklearn.model_selection import train_test_split\n",
    "\n",
    "train, test = train_test_split(data, test_size=0.2)\n",
    "\n",
    "print(f\"El conjunto de datos de entrenamiento tiene {train.shape[0]} registros y el de prueba tiene {test.shape[0]} registros.\")"
   ]
  },
  {
   "cell_type": "markdown",
   "metadata": {
    "slideshow": {
     "slide_type": "slide"
    }
   },
   "source": [
    "### Modelos de clasificación\n",
    "\n",
    "Pasos para un modelo de clasificación:\n",
    "\n",
    "1. Adquirir datos **etiquetados**\n",
    "2. Feature Engineering (Pre-procesamiento, TF-IDF, etc...)\n",
    "3. Dividir el conjunto de datos en dos:\n",
    "    - Entrenamiento (`training`) y prueba (`test`)\n",
    "4. Entrenar el modelo 🚀 "
   ]
  },
  {
   "cell_type": "markdown",
   "metadata": {
    "slideshow": {
     "slide_type": "slide"
    }
   },
   "source": [
    "### Modelos de clasificación\n",
    "\n",
    "Pasos para un modelo de clasificación:\n",
    "\n",
    "1. Adquirir datos **etiquetados**\n",
    "2. Feature Engineering (Pre-procesamiento, TF-IDF, etc...)\n",
    "3. Dividir el conjunto de datos en dos:\n",
    "    - Entrenamiento (`training`) y prueba (`test`)\n",
    "4. Entrenar el modelo 🚀 \n",
    "5. Obtener medidas de rendimiento en el conjunto de datos de prueba y mejorar modelo"
   ]
  },
  {
   "cell_type": "markdown",
   "metadata": {
    "slideshow": {
     "slide_type": "slide"
    }
   },
   "source": [
    "### Modelos de clasificación\n",
    "\n",
    "Pasos para un modelo de clasificación:\n",
    "\n",
    "1. Adquirir datos **etiquetados**\n",
    "2. Feature Engineering (Pre-procesamiento, TF-IDF, etc...)\n",
    "3. Dividir el conjunto de datos en dos:\n",
    "    - Entrenamiento (`training`) y prueba (`test`)\n",
    "4. Entrenar el modelo**\n",
    "5. Obtener medidas de rendimiento en el conjunto de datos de prueba y mejorar modelo\n",
    "6. Poner en producción"
   ]
  },
  {
   "cell_type": "markdown",
   "metadata": {
    "slideshow": {
     "slide_type": "slide"
    }
   },
   "source": [
    "### 🚀 Hoy veremos...\n",
    "\n",
    "- Repaso de modelos en Machine Learning ✅\n",
    "- Modelos de clasificación ✅\n",
    "- Medidas de rendimiento para modelos de clasificación\n",
    " "
   ]
  },
  {
   "cell_type": "markdown",
   "metadata": {
    "slideshow": {
     "slide_type": "slide"
    }
   },
   "source": [
    "### Medidas de rendimiento para modelos de clasificación\n",
    "\n",
    "Algunas de las medidas más populares son:\n",
    "\n",
    "- Exactitud (accuracy)\n",
    "- Precisión (precission)\n",
    "- Sensibilidad (recall)\n",
    "- Valor-F1 (F1-score)"
   ]
  },
  {
   "cell_type": "markdown",
   "metadata": {
    "slideshow": {
     "slide_type": "fragment"
    }
   },
   "source": [
    "En tu modelo puedes lograr dos resultados:\n",
    "- Tu modelo predice correctamente\n",
    "- Tu modelo predice incorrectamente"
   ]
  },
  {
   "cell_type": "markdown",
   "metadata": {
    "slideshow": {
     "slide_type": "slide"
    }
   },
   "source": [
    "### Medidas de rendimiento para modelos de clasificación\n",
    "\n",
    "**Exactitud (accuracy):** El número de predicciones correctas hechas por el modelo divididas por el número total de predicciones. \n",
    "\n",
    "<img src=\"../img/clase7/met3.png\">"
   ]
  },
  {
   "cell_type": "markdown",
   "metadata": {
    "slideshow": {
     "slide_type": "fragment"
    }
   },
   "source": [
    "- Exactitud: $\\dfrac{7}{10} = 0.7$ ó 70% exacto"
   ]
  },
  {
   "cell_type": "markdown",
   "metadata": {
    "slideshow": {
     "slide_type": "slide"
    }
   },
   "source": [
    "### Medidas de rendimiento para modelos de clasificación\n",
    "<br>\n",
    "\n",
    "<img src=\"../img/clase7/met2.png\">"
   ]
  },
  {
   "cell_type": "markdown",
   "metadata": {
    "slideshow": {
     "slide_type": "fragment"
    }
   },
   "source": [
    "- Exactitud: $\\dfrac{9}{10} = 0.9$ ó 90% exacto"
   ]
  },
  {
   "cell_type": "markdown",
   "metadata": {
    "slideshow": {
     "slide_type": "fragment"
    }
   },
   "source": [
    "Problemas con la **exactitud (accuracy).** Necesita un conjunto de datos balanceados."
   ]
  },
  {
   "cell_type": "markdown",
   "metadata": {
    "slideshow": {
     "slide_type": "slide"
    }
   },
   "source": [
    "### Medidas de rendimiento para modelos de clasificación\n",
    "\n",
    "**Sensibilidad (recall):** La capacidad que tiene el modelo para encontrar <u>todos</u> los casos relevantes dentro de un conjunto de datos.\n",
    "\n",
    "<img src=\"../img/clase7/met3.png\">"
   ]
  },
  {
   "cell_type": "markdown",
   "metadata": {
    "slideshow": {
     "slide_type": "fragment"
    }
   },
   "source": [
    "- Sensibilidad $= \\dfrac{\\text{verdaderos positivos}}{\\text{verdaderos positivos}+\\text{falsos negativos}} = \\dfrac{\\text{verdaderos positivos}}{\\text{lo que realmente es positivo}} = \\dfrac{2}{3} = \\text{67% sensibilidad}$ "
   ]
  },
  {
   "cell_type": "markdown",
   "metadata": {
    "slideshow": {
     "slide_type": "slide"
    }
   },
   "source": [
    "### Medidas de rendimiento para modelos de clasificación\n",
    "\n",
    "**Precisión (precision):** La capacidad que tiene el modelo para encontrar <u>sólo</u> los casos relevantes dentro de un conjunto de datos.\n",
    "\n",
    "<img src=\"../img/clase7/met3.png\">"
   ]
  },
  {
   "cell_type": "markdown",
   "metadata": {
    "slideshow": {
     "slide_type": "fragment"
    }
   },
   "source": [
    "- Precisión $= \\dfrac{\\text{verdaderos positivos}}{\\text{verdaderos positivos}+\\text{falsos positivos}} = \\dfrac{\\text{verdaderos positivos}}{\\text{lo que fue clasificado positivo}} = \\dfrac{2}{4} = \\text{50% precisión}$"
   ]
  },
  {
   "cell_type": "markdown",
   "metadata": {
    "slideshow": {
     "slide_type": "slide"
    }
   },
   "source": [
    "### Medidas de rendimiento para modelos de clasificación\n",
    "\n",
    "**Valor-F1:** Sirve para encontrar un balance óptimo entre precisión y sensibilidad.\n",
    "\n",
    "<img src=\"../img/clase7/met3.png\">"
   ]
  },
  {
   "cell_type": "markdown",
   "metadata": {
    "slideshow": {
     "slide_type": "fragment"
    }
   },
   "source": [
    "- $F_1 = 2 \\cdot \\dfrac{\\text{precisión}\\cdot\\text{sensibilidad}}{\\text{precisión}+\\text{sensibilidad}} = 2 \\cdot \\dfrac{(2/3)\\cdot(2/4)}{(2/3)+(2/4)} = \\dfrac{4}{7} = 57\\%$"
   ]
  },
  {
   "cell_type": "markdown",
   "metadata": {
    "slideshow": {
     "slide_type": "slide"
    }
   },
   "source": [
    "En tu modelo puedes lograr dos resultados:\n",
    "- Tu modelo predice correctamente\n",
    "- Tu modelo predice incorrectamente"
   ]
  },
  {
   "cell_type": "markdown",
   "metadata": {
    "slideshow": {
     "slide_type": "slide"
    }
   },
   "source": [
    "Esto quiere decir que al final tienes cuatro grupos:\n",
    "- Clasificación correcta `clase 1`: Verdadero perro\n",
    "<img src='../img/clase7/resultados/VP.png' style='height:120px; float: center; margin: 0px 15px 15px 0px'>\n",
    "- Clasificación correcta `clase 2`: Verdadero gato\n",
    "<img src='../img/clase7/resultados/VG.png' style='height:120px; float: center; margin: 0px 15px 15px 0px'>\n",
    "- Clasificación incorrecta `clase 2`: Falso perro\n",
    "<img src='../img/clase7/resultados/FP.png' style='height:120px; float: center; margin: 0px 15px 15px 0px'>\n",
    "- Clasificación incorrecta `clase 1`: Falso gato\n",
    "<img src='../img/clase7/resultados/FG.png' style='height:120px; float: center; margin: 0px 15px 15px 0px'>"
   ]
  },
  {
   "cell_type": "markdown",
   "metadata": {
    "slideshow": {
     "slide_type": "slide"
    }
   },
   "source": [
    "### Matriz de confusión\n",
    "\n",
    "Herramienta que permite la visualización del desempeño de un modelo de clasificación\n",
    "\n",
    "<center><img src=\"../img/clase7/conf.png\" style='height:600px; float: center; margin: 0px 0px 0px 0px'></center>"
   ]
  },
  {
   "cell_type": "markdown",
   "metadata": {
    "slideshow": {
     "slide_type": "slide"
    }
   },
   "source": [
    "### Matriz de confusión\n",
    "\n",
    "<center><img src=\"../img/clase7/conf3.png\" style='height:500px; float: center; margin: 0px 0px 0px 0px'></center>\n",
    "<br>\n",
    "<center><img src=\"../img/clase7/met3.png\" style='height:200px; float: center; margin: 0px 0px 0px 0px'></center>"
   ]
  },
  {
   "cell_type": "markdown",
   "metadata": {
    "slideshow": {
     "slide_type": "slide"
    }
   },
   "source": [
    "<center><img src=\"../img/clase7/emb.png\" style='height:500px; float: center; margin: 0px 0px 0px 0px'></center>\n",
    "\n",
    "<br>\n",
    "\n",
    "- El objetivo principal de la matriz de confusión es obtener medidas para comparar los valores predecidos con los valores verdaderos\n",
    "\n",
    "- Lo que constituye una \"buena\" medida depende de la situación "
   ]
  },
  {
   "cell_type": "markdown",
   "metadata": {
    "slideshow": {
     "slide_type": "slide"
    }
   },
   "source": [
    "### 🤓 Recapitulando: Hoy aprendímos...\n",
    "\n",
    "\n",
    "- Repaso de modelos en Machine Learning ✅\n",
    "- Modelos de clasificación ✅\n",
    "- Medidas de rendimiento para modelos de clasificación ✅\n",
    " "
   ]
  },
  {
   "cell_type": "markdown",
   "metadata": {
    "slideshow": {
     "slide_type": "slide"
    }
   },
   "source": [
    "### ¿Y para los textos? 🙀"
   ]
  },
  {
   "cell_type": "markdown",
   "metadata": {
    "slideshow": {
     "slide_type": "fragment"
    }
   },
   "source": [
    "### 🚀 Próxima clase...\n",
    "- Modelos de clasificación para NLP\n",
    "    - Regresión logística\n",
    "    - Bayesiano ingenuo (Naive Bayes)\n",
    "    - Máquinas de vectores de soporte (SVM)\n",
    " "
   ]
  },
  {
   "cell_type": "markdown",
   "metadata": {
    "slideshow": {
     "slide_type": "slide"
    }
   },
   "source": [
    "# ¡Tiempo de taller!\n",
    "\n",
    "<center>\n",
    "<img src='../img/Taller.gif'>"
   ]
  },
  {
   "cell_type": "markdown",
   "metadata": {
    "slideshow": {
     "slide_type": "fragment"
    }
   },
   "source": [
    "- Buena noticia, no hay taller\n",
    "- **Plan de Proyecto Final**\n",
    "- (P.S. ¡Cuenta de desarrollador en Twitter) https://developer.twitter.com/en/dashboard\n",
    "\n",
    "**Fecha de entrega:** Abril 15, 2021. (Antes del inicio de la próxima clase)"
   ]
  },
  {
   "cell_type": "markdown",
   "metadata": {
    "slideshow": {
     "slide_type": "slide"
    }
   },
   "source": [
    "<center>\n",
    "<img src='../img/fin.png' style='height:300px; float: center; margin: 0px 15px 15px 0px'>\n",
    "\n",
    "### Próxima clase: Clasificación de textos (Parte 2)\n",
    "   "
   ]
  }
 ],
 "metadata": {
  "celltoolbar": "Slideshow",
  "kernelspec": {
   "display_name": "Python 3",
   "language": "python",
   "name": "python3"
  },
  "language_info": {
   "codemirror_mode": {
    "name": "ipython",
    "version": 3
   },
   "file_extension": ".py",
   "mimetype": "text/x-python",
   "name": "python",
   "nbconvert_exporter": "python",
   "pygments_lexer": "ipython3",
   "version": "3.7.4"
  }
 },
 "nbformat": 4,
 "nbformat_minor": 2
}
