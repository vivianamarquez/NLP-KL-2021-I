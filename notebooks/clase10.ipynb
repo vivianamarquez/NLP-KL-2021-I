{
 "cells": [
  {
   "cell_type": "markdown",
   "metadata": {
    "slideshow": {
     "slide_type": "slide"
    }
   },
   "source": [
    "<center><img src='../img/clase10/temas.png' style='height:300px; float: center; margin: 0px 15px 15px 0px'></center>\n",
    "\n",
    "### Modelado de temas\n",
    "#### NLP - Analítica Estratégica de Datos\n",
    "<br><b>Fundación Universitaria Konrad Lorenz</b>\n",
    "<br>Docente: Viviana Márquez [vivianam.penama@konradlorenz.edu.co](mailto:vivianama.penam@konradlorenz.edu.co)\n",
    "<br>Clase #10: Abril 29, 2021"
   ]
  },
  {
   "cell_type": "markdown",
   "metadata": {
    "slideshow": {
     "slide_type": "slide"
    }
   },
   "source": [
    "# Retroalimentación taller 8"
   ]
  },
  {
   "cell_type": "markdown",
   "metadata": {
    "slideshow": {
     "slide_type": "slide"
    }
   },
   "source": [
    "### 🚵‍♀️ La próxima clase veremos visualizaciones para NLP\n",
    "<br>\n",
    "\n",
    "[PollEv.com/vivianamarqu288](PollEv.com/vivianamarqu288)"
   ]
  },
  {
   "cell_type": "markdown",
   "metadata": {
    "slideshow": {
     "slide_type": "slide"
    }
   },
   "source": [
    "### ⌛ En la clase anterior\n",
    "\n",
    "- Modelos de agrupación para NLP:\n",
    "    - K-Means"
   ]
  },
  {
   "cell_type": "markdown",
   "metadata": {
    "slideshow": {
     "slide_type": "slide"
    }
   },
   "source": [
    "### Hoy continuamos con los modelos de agrupación"
   ]
  },
  {
   "cell_type": "markdown",
   "metadata": {
    "slideshow": {
     "slide_type": "fragment"
    }
   },
   "source": [
    "<center><img src='../img/mlmodels2.png' style='height:600px; float: center; margin: 0px 0px 0px 0px'></center>"
   ]
  },
  {
   "cell_type": "markdown",
   "metadata": {
    "slideshow": {
     "slide_type": "slide"
    }
   },
   "source": [
    "### 🚀 Hoy veremos...\n",
    "\n",
    "- Modelado de temas:\n",
    "    - Asignación Latente de Dirichlet (LDA)\n",
    " "
   ]
  },
  {
   "cell_type": "markdown",
   "metadata": {
    "slideshow": {
     "slide_type": "slide"
    }
   },
   "source": [
    "## 🤖 Modelado de temas\n",
    "\n",
    "<br>\n",
    "<center><img src='../img/clase10/jefe.jpg' style='height:500px; float: center; margin: 0px 15px 15px 0px'></center>\n",
    "\n",
    "Supongamos que nos dan un gran número de documentos a los cuales les tenemos que \"dar sentido\". ¿Qué hacemos?"
   ]
  },
  {
   "cell_type": "markdown",
   "metadata": {
    "slideshow": {
     "slide_type": "slide"
    }
   },
   "source": [
    "## 🤖 Modelado de temas\n",
    "\n",
    "- El modelado de temas por lo general se refiere a un tipo de modelos no supervisados basados en estadística para descubrir temas latentes (que existe sin manifestarse o exteriorizarse) en un conjunto grande de documentos.\n",
    "- Los modelos más populares son:\n",
    "    - Asignación Latente de Dirichlet (LDA)\n",
    "    - Análisis de la Semántica Latente (LSA)\n",
    "    - Análisis Semántico Latente Probabilístico (PLSA)"
   ]
  },
  {
   "cell_type": "markdown",
   "metadata": {
    "slideshow": {
     "slide_type": "slide"
    }
   },
   "source": [
    "## LDA - Asignación Latente de Dirichlet\n",
    "\n",
    "<br>\n",
    "<img src='https://upload.wikimedia.org/wikipedia/commons/3/32/Peter_Gustav_Lejeune_Dirichlet.jpg' style='height:250px; float: left; margin: 0px 50px 30px 0px'>\n",
    "• Johann Dirichlet fue un matemático alemán muy importante de los 1800s\n",
    "\n",
    "• Existe una función de densidad de probabilidad nombrada en honor a él llamada \"Distribución de Dirichlet\"\n",
    "\n",
    "• LDA usa esta distribución\n",
    "\n",
    "• LDA fue publicada en 2003 en el *Journal of Machine Learning and Research*"
   ]
  },
  {
   "cell_type": "markdown",
   "metadata": {
    "slideshow": {
     "slide_type": "slide"
    }
   },
   "source": [
    "## ¿Qué hace LDA?\n",
    "\n",
    "Ejemplo:\n",
    "\n",
    "- **D1:** Me gusta comer brócoli y bananos.\n",
    "- **D2:** Comí una banana y una ensalada de desayuno.\n",
    "- **D3:** Los perros y los gatos son tiernos.\n",
    "- **D4:** Mi hermana adoptó un gato ayer.\n",
    "- **D5:** Ese conejo se ve muy tierno comiendo brócoli."
   ]
  },
  {
   "cell_type": "markdown",
   "metadata": {
    "slideshow": {
     "slide_type": "fragment"
    }
   },
   "source": [
    "#### Usando modelado de temas obtendriamos un resultado del tipo:\n",
    "- **Tema A:** 30% brócoli, 15% bananos, 10% desayuno, 10% comiendo (🥦🍌🍳🍴)\n",
    "- **Tema B:** 20% perros, 20% gatos, 20% tierno, 15% conejo (🐶😻🎀🐰)\n",
    "\n",
    "- **Documento 1 & 2:** 100% Tema A\n",
    "- **Documento 3 & 4:** 100% Tema B\n",
    "- **Documento 5:** 60% Tema A, 40% Tema B"
   ]
  },
  {
   "cell_type": "markdown",
   "metadata": {
    "slideshow": {
     "slide_type": "slide"
    }
   },
   "source": [
    "## ¿Qué es LDA?\n",
    "\n",
    "El problema:\n",
    "\n",
    "<center><img src='../img/clase10/ss1.png' style='height:250px; float: center; margin: 0px 50px 30px 0px'>"
   ]
  },
  {
   "cell_type": "markdown",
   "metadata": {
    "slideshow": {
     "slide_type": "slide"
    }
   },
   "source": [
    "## ¿Qué es LDA?\n",
    "\n",
    "La solución: Distribución de Dirichlet.\n",
    "\n",
    "<center><img src='../img/clase10/ss2.png' style='height:550px; float: center; margin: 0px 50px 30px 0px'>"
   ]
  },
  {
   "cell_type": "markdown",
   "metadata": {
    "slideshow": {
     "slide_type": "slide"
    }
   },
   "source": [
    "## ¿Qué es LDA?\n",
    "\n",
    "La solución: Distribución de Dirichlet... pero, ¿Cómo obtener esta distribución?\n",
    "\n",
    "<center><img src='../img/clase10/ss3.png' style='height:550px; float: center; margin: 0px 50px 30px 0px'>"
   ]
  },
  {
   "cell_type": "markdown",
   "metadata": {
    "slideshow": {
     "slide_type": "slide"
    }
   },
   "source": [
    "## ¿Qué es LDA?\n",
    "\n",
    "<center><img src='../img/clase10/ss4.png' style='height:550px; float: center; margin: 0px 50px 30px 0px'>"
   ]
  },
  {
   "cell_type": "markdown",
   "metadata": {
    "slideshow": {
     "slide_type": "slide"
    }
   },
   "source": [
    "## ¿Qué es LDA?\n",
    "\n",
    "El plano de construcción de LDA\n",
    "\n",
    "<center><img src='../img/clase10/ss5.png' style='height:550px; float: center; margin: 0px 50px 30px 0px'>"
   ]
  },
  {
   "cell_type": "markdown",
   "metadata": {
    "slideshow": {
     "slide_type": "slide"
    }
   },
   "source": [
    "## ¿Qué es LDA?\n",
    "\n",
    "Las matemáticas detrás de LDA\n",
    "\n",
    "<center><img src='../img/clase10/ss6.png' style='height:550px; float: center; margin: 0px 50px 30px 0px'>"
   ]
  },
  {
   "cell_type": "markdown",
   "metadata": {
    "slideshow": {
     "slide_type": "slide"
    }
   },
   "source": [
    "## ¿Qué es LDA?\n",
    "\n",
    "Las matemáticas detrás de LDA\n",
    "\n",
    "<center><img src='../img/clase10/ss7.png' style='height:550px; float: center; margin: 0px 50px 30px 0px'>"
   ]
  },
  {
   "cell_type": "markdown",
   "metadata": {
    "slideshow": {
     "slide_type": "slide"
    }
   },
   "source": [
    "### (Recorderis rápido) Distribución multinomial\n",
    "\n",
    "<br>\n",
    "<center><img src='../img/clase10/dice.jpg' style='height:550px; float: center; margin: 0px 50px 30px 0px'></center>\n",
    "\n",
    "- En la teoría de la probabilidad, la **distribución multinomial** es una generalización de la distribución binomial. Por ejemplo, modela la probabilidad de conteo para cada lado de un dado de cara $k$ tirado $n$ veces. "
   ]
  },
  {
   "cell_type": "markdown",
   "metadata": {
    "slideshow": {
     "slide_type": "slide"
    }
   },
   "source": [
    "### Distribución de Dirichlet\n",
    "\n",
    "<br>\n",
    "<center><img src='../img/clase10/ss8.png' style='height:550px; float: center; margin: 0px 50px 30px 0px'></center>"
   ]
  },
  {
   "cell_type": "markdown",
   "metadata": {
    "slideshow": {
     "slide_type": "slide"
    }
   },
   "source": [
    "### Distribución de Dirichlet\n",
    "\n",
    "<br>\n",
    "<center><img src='../img/clase10/ss9.png' style='height:550px; float: center; margin: 0px 50px 30px 0px'></center>"
   ]
  },
  {
   "cell_type": "markdown",
   "metadata": {
    "slideshow": {
     "slide_type": "slide"
    }
   },
   "source": [
    "### Distribución de Dirichlet\n",
    "\n",
    "<br>\n",
    "<center><img src='../img/clase10/ss10.png' style='height:550px; float: center; margin: 0px 50px 30px 0px'></center>"
   ]
  },
  {
   "cell_type": "markdown",
   "metadata": {
    "slideshow": {
     "slide_type": "slide"
    }
   },
   "source": [
    "### Distribución de Dirichlet\n",
    "\n",
    "<br>\n",
    "<center><img src='../img/clase10/ss11.png' style='height:550px; float: center; margin: 0px 50px 30px 0px'></center>"
   ]
  },
  {
   "cell_type": "markdown",
   "metadata": {
    "slideshow": {
     "slide_type": "slide"
    }
   },
   "source": [
    "### Distribución de Dirichlet\n",
    "\n",
    "<br>\n",
    "<center><img src='../img/clase10/ss12.png' style='height:550px; float: center; margin: 0px 50px 30px 0px'></center>"
   ]
  },
  {
   "cell_type": "markdown",
   "metadata": {
    "slideshow": {
     "slide_type": "slide"
    }
   },
   "source": [
    "### Distribución de Dirichlet\n",
    "\n",
    "<br>\n",
    "<center><img src='../img/clase10/ss13.png' style='height:550px; float: center; margin: 0px 50px 30px 0px'></center>"
   ]
  },
  {
   "cell_type": "markdown",
   "metadata": {
    "slideshow": {
     "slide_type": "slide"
    }
   },
   "source": [
    "### 👮‍♀️ Punto de control: ¿Cuál distribución es más adecuada para el caso de las noticias?\n",
    "\n",
    "<br>\n",
    "<center><img src='../img/clase10/ss14.png' style='height:550px; float: center; margin: 0px 50px 30px 0px'></center>"
   ]
  },
  {
   "cell_type": "markdown",
   "metadata": {
    "slideshow": {
     "slide_type": "slide"
    }
   },
   "source": [
    "### Una distribución de distribuciones\n",
    "\n",
    "<br>\n",
    "<center><img src='../img/clase10/inception.jpeg' style='height:550px; float: center; margin: 0px 50px 30px 0px'></center>"
   ]
  },
  {
   "cell_type": "markdown",
   "metadata": {
    "slideshow": {
     "slide_type": "slide"
    }
   },
   "source": [
    "### Una distribución de distribuciones\n",
    "\n",
    "<br>\n",
    "<center><img src='../img/clase10/ss15.png' style='height:550px; float: center; margin: 0px 50px 30px 0px'></center>"
   ]
  },
  {
   "cell_type": "markdown",
   "metadata": {
    "slideshow": {
     "slide_type": "slide"
    }
   },
   "source": [
    "### $N$ temas, $N-1$ dimensiones\n",
    "\n",
    "<br>\n",
    "<center><img src='../img/clase10/ss16.png' style='height:550px; float: center; margin: 0px 50px 30px 0px'></center>"
   ]
  },
  {
   "cell_type": "markdown",
   "metadata": {
    "slideshow": {
     "slide_type": "slide"
    }
   },
   "source": [
    "### Dos distribuciones de Dirichlet\n",
    "\n",
    "<br>\n",
    "<center><img src='../img/clase10/ss17.png' style='height:550px; float: center; margin: 0px 50px 30px 0px'></center>"
   ]
  },
  {
   "cell_type": "markdown",
   "metadata": {
    "slideshow": {
     "slide_type": "slide"
    }
   },
   "source": [
    "### Dos distribuciones de Dirichlet\n",
    "\n",
    "- Los temas son una mezcla de palabras claves con una distribución de probabilidad\n",
    "<img src='../img/clase10/prob2b.png' style='height:250px; float: center; margin: 0px 50px 30px 0px'>"
   ]
  },
  {
   "cell_type": "markdown",
   "metadata": {
    "slideshow": {
     "slide_type": "fragment"
    }
   },
   "source": [
    "- Los documentos son una mezcla de temas con una distribución de probabilidad\n",
    "<img src='../img/clase10/prob1.png' style='height:250px; float: center; margin: 0px 50px 30px 0px'>"
   ]
  },
  {
   "cell_type": "markdown",
   "metadata": {
    "slideshow": {
     "slide_type": "slide"
    }
   },
   "source": [
    "### Proceso iterativo para encontrar la mejor configuración\n",
    "\n",
    "<br>\n",
    "<center><img src='../img/clase10/ss19b.png' style='height:550px; float: center; margin: 0px 50px 30px 0px'></center>"
   ]
  },
  {
   "cell_type": "markdown",
   "metadata": {
    "slideshow": {
     "slide_type": "slide"
    }
   },
   "source": [
    "## LDA - Asignación Latente de Dirichlet\n",
    "\n",
    "- Un modelado de tema simplemente da un conjunto de palabras claves por tema, el nombre de la interpretación se le deja al analísta:\n",
    "    - 🥦🍌🍳🍴\n",
    "    - 🐶😻🎀🐰\n",
    "    \n",
    "- Los temas son llamados latentes porque están escondidos y deben ser descubiertos"
   ]
  },
  {
   "cell_type": "markdown",
   "metadata": {
    "slideshow": {
     "slide_type": "slide"
    }
   },
   "source": [
    "## 👩‍💻 Manos a la obra\n",
    "\n",
    "**Paso 1:** Cargar los datos"
   ]
  },
  {
   "cell_type": "code",
   "execution_count": 29,
   "metadata": {
    "slideshow": {
     "slide_type": "fragment"
    }
   },
   "outputs": [
    {
     "name": "stdout",
     "output_type": "stream",
     "text": [
      "Tenemos 1,000 documentos.\n"
     ]
    },
    {
     "data": {
      "text/html": [
       "<div>\n",
       "<style scoped>\n",
       "    .dataframe tbody tr th:only-of-type {\n",
       "        vertical-align: middle;\n",
       "    }\n",
       "\n",
       "    .dataframe tbody tr th {\n",
       "        vertical-align: top;\n",
       "    }\n",
       "\n",
       "    .dataframe thead th {\n",
       "        text-align: right;\n",
       "    }\n",
       "</style>\n",
       "<table border=\"1\" class=\"dataframe\">\n",
       "  <thead>\n",
       "    <tr style=\"text-align: right;\">\n",
       "      <th></th>\n",
       "      <th>Article</th>\n",
       "    </tr>\n",
       "  </thead>\n",
       "  <tbody>\n",
       "    <tr>\n",
       "      <th>4219</th>\n",
       "      <td>Chinese artist Ai Weiwei has had several confr...</td>\n",
       "    </tr>\n",
       "    <tr>\n",
       "      <th>11124</th>\n",
       "      <td>Editor’s note: Updated Nov. 21 at 11:15 a. m. ...</td>\n",
       "    </tr>\n",
       "    <tr>\n",
       "      <th>9971</th>\n",
       "      <td>Saying that Alabama Chief Justice Roy Moore vi...</td>\n",
       "    </tr>\n",
       "    <tr>\n",
       "      <th>487</th>\n",
       "      <td>There’s no room for ambivalence when you perfo...</td>\n",
       "    </tr>\n",
       "    <tr>\n",
       "      <th>73</th>\n",
       "      <td>Every year in the U. S. more than 30, 000 peop...</td>\n",
       "    </tr>\n",
       "  </tbody>\n",
       "</table>\n",
       "</div>"
      ],
      "text/plain": [
       "                                                 Article\n",
       "4219   Chinese artist Ai Weiwei has had several confr...\n",
       "11124  Editor’s note: Updated Nov. 21 at 11:15 a. m. ...\n",
       "9971   Saying that Alabama Chief Justice Roy Moore vi...\n",
       "487    There’s no room for ambivalence when you perfo...\n",
       "73     Every year in the U. S. more than 30, 000 peop..."
      ]
     },
     "execution_count": 29,
     "metadata": {},
     "output_type": "execute_result"
    }
   ],
   "source": [
    "import pandas as pd\n",
    "\n",
    "data = pd.read_csv(\"../archivos/npr.csv\").sample(1000)\n",
    "print(f\"Tenemos {data.shape[0]:,d} documentos.\")\n",
    "\n",
    "data.head()"
   ]
  },
  {
   "cell_type": "markdown",
   "metadata": {
    "slideshow": {
     "slide_type": "slide"
    }
   },
   "source": [
    "## 👩‍💻 Manos a la obra\n",
    "\n",
    "**Paso 2:** Feature Engineering"
   ]
  },
  {
   "cell_type": "code",
   "execution_count": 30,
   "metadata": {
    "slideshow": {
     "slide_type": "fragment"
    }
   },
   "outputs": [],
   "source": [
    "import re \n",
    "\n",
    "from nltk.corpus import stopwords\n",
    "stopwords = stopwords.words('english')"
   ]
  },
  {
   "cell_type": "code",
   "execution_count": 32,
   "metadata": {
    "slideshow": {
     "slide_type": "fragment"
    }
   },
   "outputs": [
    {
     "data": {
      "text/html": [
       "<div>\n",
       "<style scoped>\n",
       "    .dataframe tbody tr th:only-of-type {\n",
       "        vertical-align: middle;\n",
       "    }\n",
       "\n",
       "    .dataframe tbody tr th {\n",
       "        vertical-align: top;\n",
       "    }\n",
       "\n",
       "    .dataframe thead th {\n",
       "        text-align: right;\n",
       "    }\n",
       "</style>\n",
       "<table border=\"1\" class=\"dataframe\">\n",
       "  <thead>\n",
       "    <tr style=\"text-align: right;\">\n",
       "      <th></th>\n",
       "      <th>Article</th>\n",
       "      <th>Pre-Processed</th>\n",
       "    </tr>\n",
       "  </thead>\n",
       "  <tbody>\n",
       "    <tr>\n",
       "      <th>4219</th>\n",
       "      <td>Chinese artist Ai Weiwei has had several confr...</td>\n",
       "      <td>[chinese, artist, ai, weiwei, several, confron...</td>\n",
       "    </tr>\n",
       "    <tr>\n",
       "      <th>11124</th>\n",
       "      <td>Editor’s note: Updated Nov. 21 at 11:15 a. m. ...</td>\n",
       "      <td>[editor, note, updated, nov, comment, nissan, ...</td>\n",
       "    </tr>\n",
       "    <tr>\n",
       "      <th>9971</th>\n",
       "      <td>Saying that Alabama Chief Justice Roy Moore vi...</td>\n",
       "      <td>[saying, alabama, chief, justice, roy, moore, ...</td>\n",
       "    </tr>\n",
       "    <tr>\n",
       "      <th>487</th>\n",
       "      <td>There’s no room for ambivalence when you perfo...</td>\n",
       "      <td>[room, ambivalence, perform, bob, dylan, maste...</td>\n",
       "    </tr>\n",
       "    <tr>\n",
       "      <th>73</th>\n",
       "      <td>Every year in the U. S. more than 30, 000 peop...</td>\n",
       "      <td>[every, year, u, people, die, things, related,...</td>\n",
       "    </tr>\n",
       "  </tbody>\n",
       "</table>\n",
       "</div>"
      ],
      "text/plain": [
       "                                                 Article  \\\n",
       "4219   Chinese artist Ai Weiwei has had several confr...   \n",
       "11124  Editor’s note: Updated Nov. 21 at 11:15 a. m. ...   \n",
       "9971   Saying that Alabama Chief Justice Roy Moore vi...   \n",
       "487    There’s no room for ambivalence when you perfo...   \n",
       "73     Every year in the U. S. more than 30, 000 peop...   \n",
       "\n",
       "                                           Pre-Processed  \n",
       "4219   [chinese, artist, ai, weiwei, several, confron...  \n",
       "11124  [editor, note, updated, nov, comment, nissan, ...  \n",
       "9971   [saying, alabama, chief, justice, roy, moore, ...  \n",
       "487    [room, ambivalence, perform, bob, dylan, maste...  \n",
       "73     [every, year, u, people, die, things, related,...  "
      ]
     },
     "execution_count": 32,
     "metadata": {},
     "output_type": "execute_result"
    }
   ],
   "source": [
    "def pre_procesado(texto):\n",
    "    texto = texto.lower()\n",
    "    texto = re.sub(r\"[\\W\\d]+\", \" \", texto)\n",
    "    texto = [palabra for palabra in texto.split() if palabra not in stopwords]\n",
    "    return texto \n",
    "\n",
    "data['Pre-Processed'] = data['Article'].apply(lambda texto: pre_procesado(texto))\n",
    "\n",
    "data.head()"
   ]
  },
  {
   "cell_type": "markdown",
   "metadata": {
    "slideshow": {
     "slide_type": "slide"
    }
   },
   "source": [
    "## 👩‍💻 Manos a la obra\n",
    "\n",
    "Instalar: `pip install pyLDAvis`\n",
    "\n",
    "Actualizar:`pip install pyLDAvis --upgrade`\n",
    "\n",
    "`conda install -c conda-forge pyldavis`\n",
    "\n",
    "**Paso 3:** Entrenar el modelo"
   ]
  },
  {
   "cell_type": "code",
   "execution_count": 34,
   "metadata": {
    "slideshow": {
     "slide_type": "fragment"
    }
   },
   "outputs": [],
   "source": [
    "import pyLDAvis.gensim_models\n",
    "from gensim.models import LdaModel \n",
    "from gensim.corpora import Dictionary\n",
    "from pprint import pprint "
   ]
  },
  {
   "cell_type": "code",
   "execution_count": 52,
   "metadata": {
    "code_folding": [],
    "slideshow": {
     "slide_type": "fragment"
    }
   },
   "outputs": [],
   "source": [
    "# Crear una represantación de los documentos en forma de diccionario\n",
    "dictionary = Dictionary(data['Pre-Processed'].values)\n",
    "\n",
    "# Filtrar palabras muy frecuentes o infrecuentes\n",
    "dictionary.filter_extremes(no_below=5, no_above=0.5) \n",
    "\n",
    "# Corpus\n",
    "corpus = [dictionary.doc2bow(text) for text in data['Pre-Processed'].values]\n",
    "\n",
    "# Entrenar el modelo\n",
    "model = LdaModel(corpus = corpus, id2word = dictionary, num_topics = 7, passes=10)"
   ]
  },
  {
   "cell_type": "markdown",
   "metadata": {
    "slideshow": {
     "slide_type": "slide"
    }
   },
   "source": [
    "## 👩‍💻 Manos a la obra\n",
    "\n",
    "**Paso 4:** Resultados"
   ]
  },
  {
   "cell_type": "code",
   "execution_count": 53,
   "metadata": {
    "slideshow": {
     "slide_type": "fragment"
    }
   },
   "outputs": [
    {
     "data": {
      "text/plain": [
       "[(0,\n",
       "  '0.019*\"trump\" + 0.009*\"clinton\" + 0.009*\"president\" + 0.006*\"campaign\" + 0.006*\"obama\" + 0.005*\"u\" + 0.005*\"state\" + 0.004*\"house\" + 0.004*\"court\" + 0.003*\"republican\" + 0.003*\"country\" + 0.003*\"party\" + 0.003*\"election\" + 0.003*\"democrats\" + 0.003*\"political\"'),\n",
       " (1,\n",
       "  '0.004*\"police\" + 0.004*\"music\" + 0.004*\"even\" + 0.003*\"back\" + 0.003*\"year\" + 0.003*\"get\" + 0.003*\"world\" + 0.003*\"way\" + 0.003*\"still\" + 0.003*\"much\" + 0.003*\"album\" + 0.002*\"song\" + 0.002*\"every\" + 0.002*\"know\" + 0.002*\"made\"'),\n",
       " (2,\n",
       "  '0.004*\"students\" + 0.004*\"know\" + 0.004*\"really\" + 0.004*\"get\" + 0.004*\"think\" + 0.004*\"make\" + 0.004*\"percent\" + 0.004*\"even\" + 0.004*\"school\" + 0.004*\"food\" + 0.004*\"study\" + 0.004*\"world\" + 0.003*\"university\" + 0.003*\"lot\" + 0.003*\"things\"'),\n",
       " (3,\n",
       "  '0.009*\"u\" + 0.007*\"trump\" + 0.007*\"comey\" + 0.006*\"president\" + 0.005*\"fbi\" + 0.004*\"investigation\" + 0.004*\"told\" + 0.004*\"sessions\" + 0.004*\"police\" + 0.003*\"government\" + 0.003*\"zika\" + 0.003*\"two\" + 0.003*\"last\" + 0.003*\"russia\" + 0.003*\"department\"'),\n",
       " (4,\n",
       "  '0.004*\"news\" + 0.004*\"u\" + 0.003*\"team\" + 0.003*\"state\" + 0.003*\"reports\" + 0.003*\"ailes\" + 0.003*\"last\" + 0.003*\"city\" + 0.003*\"reported\" + 0.003*\"fox\" + 0.003*\"world\" + 0.003*\"according\" + 0.003*\"climate\" + 0.003*\"trump\" + 0.003*\"told\"'),\n",
       " (5,\n",
       "  '0.006*\"women\" + 0.005*\"think\" + 0.004*\"way\" + 0.004*\"get\" + 0.004*\"know\" + 0.003*\"two\" + 0.003*\"going\" + 0.003*\"really\" + 0.003*\"even\" + 0.003*\"life\" + 0.003*\"much\" + 0.003*\"things\" + 0.003*\"family\" + 0.003*\"world\" + 0.003*\"men\"'),\n",
       " (6,\n",
       "  '0.010*\"health\" + 0.006*\"care\" + 0.005*\"tax\" + 0.005*\"patients\" + 0.005*\"law\" + 0.004*\"year\" + 0.004*\"u\" + 0.004*\"percent\" + 0.004*\"insurance\" + 0.003*\"company\" + 0.003*\"state\" + 0.003*\"get\" + 0.003*\"federal\" + 0.003*\"may\" + 0.003*\"million\"')]"
      ]
     },
     "execution_count": 53,
     "metadata": {},
     "output_type": "execute_result"
    }
   ],
   "source": [
    "model.print_topics(num_words=15)"
   ]
  },
  {
   "cell_type": "markdown",
   "metadata": {
    "slideshow": {
     "slide_type": "slide"
    }
   },
   "source": [
    "## 👩‍💻 Manos a la obra\n",
    "\n",
    "**Paso 4:** Resultados"
   ]
  },
  {
   "cell_type": "code",
   "execution_count": 54,
   "metadata": {
    "scrolled": false,
    "slideshow": {
     "slide_type": "fragment"
    }
   },
   "outputs": [
    {
     "data": {
      "text/html": [
       "\n",
       "<link rel=\"stylesheet\" type=\"text/css\" href=\"https://cdn.jsdelivr.net/gh/bmabey/pyLDAvis@3.3.1/pyLDAvis/js/ldavis.v1.0.0.css\">\n",
       "\n",
       "\n",
       "<div id=\"ldavis_el762041403525847993122069353709\"></div>\n",
       "<script type=\"text/javascript\">\n",
       "\n",
       "var ldavis_el762041403525847993122069353709_data = {\"mdsDat\": {\"x\": [-0.11321920784584125, 0.06408925537718654, -0.028271836280425188, 0.0852004644031176, 0.10630203199660276, -0.024653455405255195, -0.08944725224538513], \"y\": [0.015960859209315212, 0.04942960047036016, -0.11256701926388234, 0.05246948537390089, -0.059432311454874494, 0.03313069387855007, 0.021008691786630677], \"topics\": [1, 2, 3, 4, 5, 6, 7], \"cluster\": [1, 1, 1, 1, 1, 1, 1], \"Freq\": [21.79344531661415, 21.747579085937126, 15.946201210185947, 14.87015565997801, 11.828537759231978, 7.568589613515905, 6.245491354536906]}, \"tinfo\": {\"Term\": [\"trump\", \"clinton\", \"health\", \"president\", \"u\", \"tax\", \"campaign\", \"comey\", \"care\", \"insurance\", \"police\", \"patients\", \"fbi\", \"obama\", \"women\", \"investigation\", \"democrats\", \"law\", \"students\", \"music\", \"zika\", \"russia\", \"sanders\", \"news\", \"told\", \"government\", \"reports\", \"state\", \"federal\", \"sessions\", \"missile\", \"nominee\", \"korean\", \"inskeep\", \"ballistic\", \"nsa\", \"biden\", \"gorsuch\", \"missiles\", \"sanders\", \"korea\", \"romney\", \"nomination\", \"dnc\", \"guantanamo\", \"jong\", \"delegate\", \"democrats\", \"putin\", \"garland\", \"cia\", \"convention\", \"incumbent\", \"constitutional\", \"hacked\", \"hearings\", \"vladimir\", \"votes\", \"defeat\", \"mitt\", \"clinton\", \"endorsed\", \"delegates\", \"nuclear\", \"electoral\", \"candidates\", \"gop\", \"democratic\", \"hillary\", \"trump\", \"republican\", \"bush\", \"pence\", \"campaign\", \"voters\", \"breitbart\", \"candidate\", \"conservative\", \"presidential\", \"donald\", \"obama\", \"vote\", \"court\", \"election\", \"republicans\", \"party\", \"president\", \"senate\", \"security\", \"house\", \"former\", \"north\", \"political\", \"state\", \"u\", \"country\", \"states\", \"administration\", \"national\", \"government\", \"white\", \"told\", \"cubs\", \"negro\", \"wedding\", \"theaters\", \"smiles\", \"surreal\", \"panther\", \"indians\", \"husbands\", \"keynote\", \"haiti\", \"germans\", \"blackness\", \"fathers\", \"adventure\", \"insecurity\", \"aged\", \"vintage\", \"deprivation\", \"novelist\", \"nightly\", \"youngest\", \"cute\", \"crisp\", \"dude\", \"novel\", \"comic\", \"dad\", \"biracial\", \"sitcom\", \"moms\", \"married\", \"rent\", \"funny\", \"hollywood\", \"oliver\", \"dress\", \"men\", \"characters\", \"writers\", \"simpson\", \"character\", \"marriage\", \"women\", \"father\", \"loved\", \"howard\", \"book\", \"identity\", \"film\", \"church\", \"fashion\", \"young\", \"black\", \"kind\", \"life\", \"family\", \"god\", \"love\", \"think\", \"home\", \"things\", \"show\", \"man\", \"parents\", \"way\", \"really\", \"something\", \"know\", \"go\", \"going\", \"much\", \"get\", \"lot\", \"two\", \"story\", \"always\", \"world\", \"thing\", \"see\", \"even\", \"work\", \"back\", \"make\", \"white\", \"us\", \"say\", \"year\", \"still\", \"medicaid\", \"premiums\", \"insurers\", \"insurance\", \"aetna\", \"insurer\", \"prescription\", \"retail\", \"tax\", \"fda\", \"aca\", \"warrant\", \"premium\", \"hygiene\", \"uninsured\", \"copays\", \"enrollment\", \"marketplaces\", \"editorially\", \"incomes\", \"patient\", \"medicare\", \"taxes\", \"deductibles\", \"incentives\", \"kaiser\", \"dental\", \"payment\", \"healthcare\", \"traffickers\", \"nurses\", \"subsidies\", \"coverage\", \"hospitals\", \"providers\", \"patients\", \"wounded\", \"bin\", \"health\", \"drug\", \"care\", \"hip\", \"products\", \"affordable\", \"target\", \"medical\", \"doctors\", \"services\", \"obamacare\", \"bills\", \"companies\", \"drugs\", \"law\", \"company\", \"treatment\", \"plans\", \"federal\", \"plan\", \"percent\", \"pay\", \"million\", \"data\", \"year\", \"bill\", \"program\", \"u\", \"state\", \"may\", \"money\", \"government\", \"get\", \"states\", \"report\", \"say\", \"work\", \"public\", \"even\", \"trump\", \"make\", \"flint\", \"spotify\", \"robots\", \"albums\", \"composer\", \"prince\", \"lung\", \"ali\", \"songwriter\", \"captivity\", \"gaga\", \"album\", \"bowie\", \"rap\", \"grams\", \"reynolds\", \"pipes\", \"funk\", \"species\", \"tunes\", \"rb\", \"portraits\", \"flower\", \"freddie\", \"smell\", \"synth\", \"diamond\", \"ballad\", \"rogosin\", \"groove\", \"pete\", \"guitarist\", \"songs\", \"robot\", \"guitar\", \"animal\", \"song\", \"chocolate\", \"cameras\", \"roots\", \"band\", \"singer\", \"music\", \"vegetables\", \"animals\", \"rock\", \"listen\", \"hiv\", \"gray\", \"baltimore\", \"musical\", \"farm\", \"art\", \"water\", \"artists\", \"police\", \"artist\", \"dance\", \"back\", \"even\", \"black\", \"every\", \"world\", \"still\", \"year\", \"life\", \"much\", \"get\", \"way\", \"made\", \"day\", \"around\", \"city\", \"work\", \"us\", \"know\", \"two\", \"see\", \"last\", \"good\", \"another\", \"say\", \"think\", \"calories\", \"nutrition\", \"wikipedia\", \"flu\", \"grains\", \"mutations\", \"classrooms\", \"classroom\", \"genes\", \"silicon\", \"genome\", \"evolutionary\", \"diet\", \"gene\", \"watson\", \"decrease\", \"obesity\", \"adamfrank\", \"soda\", \"counseling\", \"astrophysics\", \"anthropologist\", \"complexity\", \"kate\", \"habits\", \"elephant\", \"antibiotics\", \"anthropology\", \"professors\", \"breast\", \"genetic\", \"albert\", \"cancer\", \"stress\", \"students\", \"foods\", \"exercise\", \"science\", \"schools\", \"teachers\", \"electricity\", \"education\", \"app\", \"solar\", \"learning\", \"food\", \"study\", \"eating\", \"brain\", \"school\", \"student\", \"university\", \"research\", \"really\", \"percent\", \"know\", \"lot\", \"things\", \"make\", \"test\", \"think\", \"world\", \"get\", \"different\", \"might\", \"even\", \"want\", \"may\", \"see\", \"health\", \"way\", \"us\", \"need\", \"help\", \"say\", \"take\", \"ailes\", \"nasa\", \"spacecraft\", \"mosul\", \"outbreaks\", \"celebrations\", \"rubble\", \"goats\", \"plane\", \"transit\", \"outbreak\", \"charity\", \"mayer\", \"jet\", \"parade\", \"sherman\", \"commitments\", \"mars\", \"printed\", \"emissions\", \"inauguration\", \"iraqi\", \"legend\", \"rico\", \"swim\", \"temperatures\", \"roger\", \"firefighters\", \"climate\", \"swimming\", \"joseph\", \"fox\", \"tourists\", \"miami\", \"mosquito\", \"puerto\", \"trees\", \"zika\", \"st\", \"mission\", \"residents\", \"team\", \"isis\", \"news\", \"reports\", \"space\", \"wall\", \"reported\", \"agreement\", \"city\", \"u\", \"local\", \"according\", \"state\", \"statement\", \"last\", \"public\", \"world\", \"npr\", \"told\", \"change\", \"day\", \"women\", \"make\", \"trump\", \"two\", \"part\", \"get\", \"year\", \"national\", \"rosenstein\", \"comey\", \"recused\", \"proteins\", \"mueller\", \"defects\", \"kong\", \"dismissal\", \"sessions\", \"firing\", \"beijing\", \"demonstrators\", \"meddling\", \"collusion\", \"testifying\", \"cox\", \"bullets\", \"courses\", \"marched\", \"timetable\", \"islands\", \"lawful\", \"caution\", \"counsel\", \"eagle\", \"hong\", \"tillerson\", \"brexit\", \"recommending\", \"fbi\", \"va\", \"syndrome\", \"investigation\", \"testimony\", \"eu\", \"protesters\", \"zika\", \"brazil\", \"virus\", \"k\", \"kelly\", \"china\", \"attorney\", \"russia\", \"combat\", \"u\", \"general\", \"president\", \"police\", \"armed\", \"told\", \"trump\", \"special\", \"director\", \"department\", \"government\", \"military\", \"justice\", \"last\", \"two\", \"statement\", \"committee\", \"war\", \"reports\", \"may\", \"npr\", \"women\"], \"Freq\": [1798.0, 714.0, 749.0, 1017.0, 1019.0, 266.0, 557.0, 155.0, 469.0, 218.0, 430.0, 297.0, 159.0, 574.0, 665.0, 150.0, 241.0, 499.0, 247.0, 250.0, 134.0, 179.0, 207.0, 442.0, 597.0, 529.0, 312.0, 753.0, 384.0, 101.0, 44.28995051269026, 92.24268205980394, 33.94328948768883, 30.01109306118203, 21.255639678198524, 20.189594452095335, 20.16567012028517, 16.261010424696757, 17.156993733843557, 195.47722379132946, 98.89299632118261, 15.1766771676988, 46.431594864729576, 15.119139191360862, 20.710540319108656, 14.103818590221078, 18.796656272550138, 224.65942541953558, 40.276329276988044, 27.160460177362705, 49.43521514238477, 75.15708424858892, 12.950596632236309, 27.754753995819097, 14.759773186535112, 14.73879043923522, 17.46028630476106, 81.18504922508072, 29.47939332785, 10.103500107982267, 648.2765607561932, 34.86138051271594, 43.840475566210834, 111.86461736622178, 48.242819278499766, 121.34240265831411, 112.6730197881081, 190.4003655844248, 198.9229942200405, 1356.0651927152364, 234.61336407966436, 116.65189199432639, 41.76634182864732, 442.55000655481973, 178.7191251666248, 46.80594274278876, 105.08663167061688, 91.95456510670871, 192.88854609128526, 208.44786153049836, 419.0480629476506, 203.62361293505077, 271.9190054925513, 226.78424940802253, 172.01312912706587, 229.31422874747085, 632.9373225037117, 167.6851000058891, 184.19800547866686, 314.45985068986175, 206.2137905932022, 166.82272409144463, 210.26287750503957, 325.09108710020524, 346.18983116038856, 234.54144942152377, 196.26285184928784, 155.93871140763216, 189.81533192400536, 195.37762657301005, 187.77722218031693, 183.202066627875, 38.92039735389204, 12.745988712140237, 10.747874337862973, 9.803488338400426, 7.906034372137877, 8.755728458820869, 19.187562554474745, 20.879891854426944, 16.562385098513552, 7.817380597432345, 16.55171207359634, 6.933422234028384, 6.913117188718173, 23.357582408800393, 7.747611985680489, 6.8913990174462425, 5.990981036827241, 5.987941178883107, 19.70295282431796, 5.973357760535964, 5.950150064068634, 5.947502596746454, 5.936187194599128, 7.624319214203087, 7.618553410812382, 51.761572235078695, 25.509866278860255, 43.9877017808105, 10.972081661744674, 5.903773130612151, 21.98371629818254, 51.502001940734544, 18.26848497054436, 46.83303376320967, 36.140109704100915, 12.337692497343784, 21.459368088259804, 215.37555583729468, 78.95848119480964, 30.969081103980415, 32.1050867759632, 76.61259439048995, 61.77046640975832, 406.1923940266789, 104.31703125538999, 54.31490322802104, 29.84736988453575, 205.299189185655, 63.49772938924086, 101.56922835187007, 82.43391247877813, 40.18231312075908, 174.39889025978343, 212.39908327097896, 187.07944172897098, 235.71771766228346, 223.45096523160797, 60.09303444065083, 126.99307221194394, 337.73625250603254, 181.62479838452728, 229.22806947222585, 200.19651035437516, 156.92947267012684, 114.20418558995435, 295.2351114224657, 243.48634931195656, 209.10369223826294, 275.4184765384336, 209.6943632985818, 244.60111703642195, 232.40381618666467, 284.2226452297429, 193.86096617504268, 246.74847809327497, 151.4655491575432, 137.90106998858968, 218.55481171925592, 149.96429070296318, 188.62736712226186, 237.02813394946966, 195.3928425320342, 202.643381353938, 206.37538932962485, 174.76838397943382, 176.7321706708234, 184.2881234850601, 179.86529181009618, 178.018488456872, 70.4447704437415, 33.88475219555298, 58.75531468395306, 209.1215137228943, 27.016945194167324, 26.922662555807797, 18.502223906759554, 20.327193238764636, 252.52947699908322, 19.339242219856718, 24.870786564385323, 14.661717001101074, 14.589346555175391, 19.94456901287215, 12.66249734188276, 10.794862875260138, 25.107031247514, 11.586273341566297, 13.25493595493102, 15.03159785803725, 85.4946952784488, 44.16787658546826, 66.78347859647934, 7.864487075596, 9.602077443643843, 48.95437742504394, 25.26893910362206, 26.84569931434798, 16.37403403693652, 7.738640209846722, 38.67213104715244, 18.990509867812865, 101.89126495732911, 60.09678901287489, 27.320773938230918, 242.7697636241519, 57.03166732976208, 28.210114756044025, 536.8319165519587, 99.9247375270589, 335.7565294042439, 35.6533275469471, 67.12962873955047, 60.92458972404875, 103.83305561829039, 145.83223640770643, 89.98364759885324, 106.07551052164618, 64.24940175511284, 54.79932785659696, 124.22590921803504, 76.71039838619004, 241.63178687365917, 180.98089910610793, 81.27288421358638, 98.4041121614508, 168.3270264031671, 107.56665541409458, 211.20896292021789, 106.67142459895526, 159.00122169254527, 120.53874650259988, 214.74132723801537, 114.49204841935959, 119.23502059339503, 214.279907530294, 172.40489227457473, 161.08617099452337, 118.74448015355149, 145.81633463438678, 171.28540255502725, 128.50501056744938, 112.55305642172414, 138.92830591857836, 127.11581262665146, 119.76686418219076, 125.23105006609612, 120.46040831870003, 112.09322201349015, 37.2042608286067, 33.22215094876679, 43.69149856518283, 15.791297971062887, 20.981093277598784, 85.56029200886191, 26.939570096668856, 47.65764823291155, 13.860365326427493, 11.187435626138702, 30.010779441714433, 122.40690080247812, 15.391748247082608, 11.096323966387086, 10.195780938321311, 10.165628816901412, 10.975735381221341, 9.296605359850385, 48.971002545243614, 10.931334491881723, 8.37477802148474, 9.193611671862444, 8.29805798691301, 15.647435734944473, 14.876735741719358, 7.410588885716911, 6.582288276605636, 6.580685574507723, 6.5730992143333875, 6.568161043966957, 17.225894742587343, 9.026842522832391, 85.9325851361881, 26.75698288205514, 33.122642693633914, 67.45113143789756, 122.05948331746988, 32.91591331278431, 39.2414536884327, 48.21109289492338, 72.6418165816958, 30.998541446875386, 175.87551045258377, 26.630765294399165, 88.25919969778964, 69.49615372845997, 64.1166354516283, 28.92076575343925, 42.706744380544436, 46.22406070173256, 34.893560992227535, 46.63725222796, 91.04092195365702, 112.52595452212438, 52.8177661874295, 179.80395148948904, 41.89339332173361, 36.45572574341951, 148.34818720801817, 171.30465808501552, 110.90123108416596, 117.21518651782056, 139.63750485952258, 132.78084535547637, 146.79158038605266, 111.85257799190398, 128.34299665078842, 146.6158417911354, 133.1231000786047, 116.29608981424879, 110.22587587428234, 104.66729845965027, 95.08268220231008, 112.85828173176992, 108.35879829274447, 116.7543588472869, 115.41865910082693, 103.01639731718171, 105.16914393216831, 96.17065466644992, 92.50674263141896, 94.77141542218355, 94.99413060151929, 18.920395295134927, 11.09981578990742, 46.97221974175306, 24.80228969103891, 13.61438921558244, 13.302806968606072, 7.08249741164438, 23.704904803267382, 30.15664499338513, 16.510987082593665, 26.749266307629654, 16.897056078886216, 24.346348378971367, 27.817937908132144, 13.14428574225457, 10.64540772260387, 7.318046096002838, 6.472458781882503, 29.970853267610355, 9.6864660174713, 6.441325772050823, 6.448079511708142, 9.66506504132965, 15.941816323132192, 11.93891903905791, 15.849525390885466, 15.73816840169889, 11.009339649582676, 12.588933407764152, 31.30074409515339, 51.356096689758, 24.06098393903238, 80.65604682481994, 52.35663613944993, 163.1987535931551, 22.734824459366315, 38.18351150063529, 106.12226542001176, 93.86227746467814, 36.18293689857054, 27.840696868758716, 112.04611712672508, 34.118296184169665, 43.11940179213649, 52.71356557024629, 143.14242858667953, 142.05886325459053, 44.4980692514119, 58.68759372950158, 145.27798978639538, 53.661110834393405, 131.2199534846443, 104.2331540940125, 161.84423360820108, 148.9299617176208, 162.37934055368024, 130.10304573249584, 127.55868258222486, 155.6284502892853, 68.40135964489458, 159.78101985168527, 139.6306196502509, 159.83312303658553, 106.48062859296205, 107.74043113883782, 145.81598230756606, 112.25919744330677, 116.83185797965693, 108.13491375923721, 119.665873227791, 116.7060233607077, 103.3898875652005, 94.26129197668084, 91.36280808292452, 103.85960320449146, 94.72048747638169, 79.30081192909986, 41.62163828953865, 11.434365272176956, 20.103560553348313, 10.944127769632338, 6.710017834410072, 5.700070525907507, 23.286851485143973, 29.066969527981236, 17.612838364964432, 42.55953993882334, 16.710561622888896, 11.23301292041325, 8.275539333014882, 11.956527727108076, 6.728184077202817, 7.321754068521621, 21.01670998237631, 6.456766996276858, 21.47612948030108, 43.11795384786945, 12.72457005033799, 8.381307106875704, 22.352001538917936, 22.496137714060563, 11.9304052068056, 13.983894603285753, 8.712348880184303, 68.75535899432809, 32.31646461816604, 25.240249651669945, 74.95839330462037, 19.26192863198939, 36.43187357803944, 28.612163035912793, 25.22036800158652, 24.84377134845614, 62.40302998760153, 41.60039068038108, 46.012751039826526, 39.91741044780999, 86.28389569016151, 35.59880928769537, 108.93283994670821, 84.05565179861405, 43.66437509928154, 53.51240753134534, 75.97823802844832, 35.41533667459657, 75.99462953733804, 99.9834812502638, 51.644499013187534, 70.10760638607186, 84.80643152464634, 52.89634841298166, 76.66417521419397, 63.63642157600817, 72.81755342993164, 64.1327335448592, 66.23584748206795, 55.955546882659114, 58.332495098498654, 61.05573709148262, 58.899373902230934, 67.12536466152082, 57.09303193776669, 53.69859469870589, 50.63376454182868, 49.494409974937426, 47.38767277340489, 22.243370485782098, 139.32495898999412, 9.593922409906419, 20.495641184108447, 33.013933979892606, 8.901812694160459, 18.08956949904793, 7.957875455517412, 80.51944103135791, 18.706063315796825, 9.169013427952997, 4.890520178391339, 13.303433422636715, 6.072232034119331, 5.381702624751632, 7.19039163302342, 5.843382536113281, 11.340922155707673, 5.041966604320107, 3.679785193037479, 14.019124151351553, 3.652967447529973, 3.614959198526375, 31.172298538872642, 7.767124654726636, 17.53615898156339, 16.29700415317045, 20.930289319045848, 5.943607512901048, 102.03816313187079, 23.021053165042186, 28.43561625196456, 89.60813585032459, 16.84316448529133, 44.14570046702368, 23.923651093314987, 65.7668994958388, 28.62302017041437, 46.8626429541241, 39.32735527496937, 32.682202178431, 55.04682222332685, 53.8819208990858, 59.886688716599, 23.368044743998468, 176.2780839325204, 56.24018936098519, 126.61681689044646, 77.0053602457096, 21.24619298197308, 87.58692936568775, 144.89027387251997, 42.379028981455235, 53.57067875191281, 58.05270226889913, 70.80310845954237, 40.67463362695189, 40.27762150035815, 59.89424935127006, 60.95065580678845, 42.9189528646047, 39.55416237474344, 41.117133741295, 42.06058441035049, 43.24290910495165, 42.0772770308024, 40.64425258011509], \"Total\": [1798.0, 714.0, 749.0, 1017.0, 1019.0, 266.0, 557.0, 155.0, 469.0, 218.0, 430.0, 297.0, 159.0, 574.0, 665.0, 150.0, 241.0, 499.0, 247.0, 250.0, 134.0, 179.0, 207.0, 442.0, 597.0, 529.0, 312.0, 753.0, 384.0, 101.0, 45.62005381581195, 96.23216482185322, 35.44437988494035, 31.406497118436505, 22.2782204273981, 21.25943883717448, 21.264635292478605, 17.205243491490116, 18.20883375496809, 207.75890727939466, 105.3920036566435, 16.18691456625893, 49.61495526146726, 16.18366433931757, 22.234577526227223, 15.162129876044215, 20.216395153849078, 241.88146429763484, 43.41863087377376, 29.326738897075064, 53.504412645112836, 81.86459371214191, 14.144239944433338, 30.326429687145836, 16.144184240002502, 16.1465207700591, 19.150776477586675, 89.0466879716541, 32.3629597167371, 11.10717731032461, 714.6252077992089, 38.48555654295336, 48.52771750368361, 125.36249327320373, 53.59914662988914, 138.386999443633, 128.33742806552863, 223.13941266906716, 236.66007395861797, 1798.445921275632, 284.611246231552, 136.8427927160547, 46.48429885005659, 557.9600627320613, 215.50264869996676, 52.41990827099412, 125.02925146532799, 108.47813628810258, 242.94550901143, 266.30072637071027, 574.7087668038132, 260.8626693691665, 362.2995415154625, 300.0875276819503, 221.73053844927065, 311.88899558527896, 1017.7946013606728, 218.64515302536248, 264.4607501958865, 575.749665654615, 335.0197320011402, 260.51190249892886, 368.56786639397774, 753.778129575063, 1019.5489031200708, 595.9985788051406, 439.08440657392674, 277.3928546266197, 473.6151673087928, 529.7662334433384, 524.4219298198107, 597.4608716886851, 41.30174251875383, 13.741503821119919, 11.767391290449636, 10.786349760913497, 8.820402356107474, 9.807776940831923, 21.53260465756168, 23.481572466632656, 18.62735452088636, 8.81027451743794, 18.66636043016584, 7.835407557205883, 7.83178591681564, 26.517151409111356, 8.8027383319122, 7.830574869547464, 6.85545279694566, 6.853979539347688, 22.59631945943234, 6.855861583528292, 6.845125382116184, 6.847562019497466, 6.837570898555271, 8.802424468147922, 8.801791984617793, 59.85496249257704, 29.516218732041473, 50.89982985810773, 12.70465824702433, 6.847801285638058, 25.581963372667488, 60.926824524912405, 21.486429230056697, 56.770938993986825, 44.96211140394798, 14.656143188439316, 26.32819551167681, 312.9649604091141, 107.26819663773458, 39.28425945742373, 40.88096754821249, 104.24936609729595, 84.12512448215264, 665.3753159443323, 150.61503517853635, 74.14496145456542, 38.37684497788345, 328.50756843483475, 90.84939655517071, 157.16427568118218, 124.83666670869238, 54.50189299088055, 313.5526210543106, 403.7310937166504, 362.54912696591634, 500.3649863293878, 477.04451516049534, 91.60515753283171, 239.45537737776738, 849.7950102087875, 383.9785919476325, 526.4655378265547, 447.9776231760745, 327.1536390065832, 216.0536283601675, 790.5563925246498, 619.2376897077421, 505.1340289706816, 766.3557608476715, 557.7310252863093, 722.3698077348591, 691.2516557687724, 963.2776449044559, 519.8350040507477, 780.6961585607502, 356.9275389054741, 307.0416100479826, 730.6322695536538, 362.2301924751468, 573.3712653339365, 920.1516343490403, 628.8654685212607, 696.387322105619, 768.8663369975258, 524.4219298198107, 564.8050935398757, 748.7051807425229, 827.2334016701176, 659.641819049832, 72.26265126071021, 35.14126122927511, 61.46102261799653, 218.7518598765508, 28.29691627849981, 28.29811536310102, 19.515037418067667, 21.462229846694754, 266.851971789236, 20.4927325044206, 26.358599692566308, 15.602949462130866, 15.607943089895002, 21.43991706683459, 13.652515468525166, 11.702510898131234, 27.3418008484669, 12.673048068311246, 14.622365533912726, 16.590951543003687, 94.41728263499054, 48.9350755367271, 74.36173421175593, 8.771544529490521, 10.723406696527269, 54.697832505754995, 28.238468274785173, 30.297959330127547, 18.503015165091828, 8.753528676413636, 43.82659638594482, 21.48670048888462, 118.26169691590617, 69.12562343365424, 31.18724691023967, 297.50833113124827, 67.76600933286105, 32.32857739349053, 749.9976413266738, 125.0426014073582, 469.66540553363853, 41.846372996876376, 84.9784807654739, 76.2726927101513, 140.5560206383207, 214.63667493893848, 124.68160212017662, 156.77636780921742, 86.64428470389383, 71.6205008809078, 196.6718040978357, 108.5897441036228, 499.1463481648767, 351.0390861884817, 122.17281525484728, 158.83131071416517, 384.007120235744, 197.63696789033725, 570.5438495312935, 197.53670478731465, 405.2500830791082, 264.4590793610075, 827.2334016701176, 254.18868185314108, 278.462141656141, 1019.5489031200708, 753.778129575063, 651.6260537814279, 311.35346180054603, 529.7662334433384, 963.2776449044559, 439.08440657392674, 275.1555624030479, 748.7051807425229, 628.8654685212607, 464.58355391675275, 920.1516343490403, 1798.445921275632, 768.8663369975258, 38.40265048778905, 34.65330111829989, 45.94436890910796, 16.87780798171712, 22.476473947248024, 91.84241169090753, 29.020014273622383, 51.57633674117663, 15.007307740451157, 12.19688281809678, 32.84711381378146, 134.27077344441275, 16.905254251466058, 12.20072652448743, 11.242318695800211, 11.257538425149443, 12.188035803406022, 10.324072366017404, 54.54645714656286, 12.206085034127137, 9.389550059742861, 10.335387159128198, 9.389930069499886, 17.75743483334445, 16.93546004658375, 8.447438066772555, 7.508454821022765, 7.511513679667832, 7.515387689830704, 7.511162477273258, 19.740802656011486, 10.332693387335041, 100.81156265595806, 31.006904766112534, 38.55131193318833, 80.1704797820424, 156.9470735359321, 39.728726727574454, 48.31256772889749, 60.48350428110194, 94.37873659250148, 37.688793716007574, 250.09087542826742, 31.98623477009767, 121.75889986623389, 94.45860326040993, 86.28383144736951, 35.79420993257381, 56.13976861085161, 63.4555634040409, 45.29026260665969, 64.37142474467116, 147.97022812186776, 196.73764860230415, 76.72884887995127, 430.2916516036282, 59.77305933311787, 49.775326785296535, 696.387322105619, 920.1516343490403, 403.7310937166504, 461.4743521287489, 730.6322695536538, 659.641819049832, 827.2334016701176, 500.3649863293878, 691.2516557687724, 963.2776449044559, 790.5563925246498, 600.2328963768296, 530.9789915617207, 469.20253630689984, 367.5438620904105, 628.8654685212607, 564.8050935398757, 766.3557608476715, 780.6961585607502, 573.3712653339365, 725.7633279922459, 458.19833431443874, 433.67223520394816, 748.7051807425229, 849.7950102087875, 20.107028227760562, 12.04958662871087, 51.251188910880195, 27.083681400000756, 15.050858483170114, 15.002651859756913, 8.016194064556116, 27.05180915076136, 34.87291988634384, 19.093767347959645, 31.013598164837028, 19.949050425887894, 28.956561239264058, 33.767017611685425, 16.04464440965097, 13.006927740461169, 8.968922315140816, 7.969068682950833, 36.943058355580696, 11.977565964167185, 7.967244211309525, 7.992072876741666, 11.988257934886821, 19.90657728122963, 14.971812049304296, 19.909790801305057, 19.955482170852374, 13.971892282820336, 15.99477261621132, 39.786533266082095, 65.98756559506033, 30.916954447360823, 109.34348654242056, 70.84648745776671, 247.81852216460348, 29.996671037219112, 52.77003721741034, 166.42167523929726, 147.42169719963005, 52.0051694823873, 38.83499848753847, 203.41935229812, 49.639394967521206, 66.00176263299194, 84.37660953997664, 315.17957695394887, 326.5519592250889, 72.93719107588154, 107.57716312092171, 417.66425861558633, 101.12693801372988, 389.65086097519315, 285.0082475794521, 619.2376897077421, 570.5438495312935, 766.3557608476715, 519.8350040507477, 526.4655378265547, 768.8663369975258, 174.04793434547247, 849.7950102087875, 730.6322695536538, 963.2776449044559, 435.93460595653977, 468.2020645158601, 920.1516343490403, 544.8142134164858, 651.6260537814279, 573.3712653339365, 749.9976413266738, 790.5563925246498, 564.8050935398757, 426.69766637866877, 417.3731858847044, 748.7051807425229, 559.8491087777855, 81.54598430181612, 44.5714049179782, 12.336790087386907, 22.69226174033581, 12.356005909182603, 7.596726665171517, 6.647570536677783, 27.660579344620764, 36.00534541746765, 21.821138098782107, 52.81533808645596, 20.98076418399609, 14.239597801050545, 10.501951094101084, 15.201547280635793, 8.566382419140629, 9.4546515962089, 27.57983826250743, 8.570829509378724, 28.585535120902126, 57.429075673674745, 17.122843393030227, 11.354496395881018, 30.326261186725727, 30.528539063570157, 16.252761405892446, 19.093409775823613, 12.325572062328318, 97.97929935268094, 46.12898537689651, 36.13669594140959, 117.80545624149214, 27.68329993665992, 57.724783415416, 45.21214659228178, 39.87701212966415, 40.01453732965261, 134.6973799111465, 85.03760253254431, 97.44984087045316, 80.4879641277072, 275.07242238457417, 78.66465964875327, 442.816290462438, 312.2792162060037, 109.09145382723057, 161.58484716847585, 310.86975196277706, 79.84700586742127, 367.5438620904105, 1019.5489031200708, 222.7185557766729, 468.7028301544927, 753.778129575063, 269.7000991527165, 725.7633279922459, 464.58355391675275, 730.6322695536538, 512.8598750462751, 597.4608716886851, 345.8727490263624, 530.9789915617207, 665.3753159443323, 768.8663369975258, 1798.445921275632, 780.6961585607502, 510.3131927032515, 963.2776449044559, 827.2334016701176, 473.6151673087928, 23.44302420588807, 155.27009245771308, 10.866082307856068, 23.531952540291776, 38.03674849784412, 10.897111306787457, 22.813721175276854, 10.036770810435783, 101.64029619540203, 23.896300400962673, 11.902411768978569, 6.375516192133034, 17.502373617594788, 8.233153398694355, 7.313454816444878, 10.099907944084364, 8.21615335279373, 16.539660892166356, 7.397121343626713, 5.514549380345501, 21.114850608852535, 5.53879354767751, 5.502073917454172, 47.5558144899865, 11.906315870796298, 26.914033778170378, 25.160143076975526, 32.45248438735338, 9.294554729111102, 159.62041009645532, 36.03938803001489, 45.189545808255055, 150.23415290438368, 27.028948594589153, 80.71084128282524, 41.05343067304605, 134.6973799111465, 51.7095296838559, 94.25434156194413, 80.43787986692038, 65.9241396534376, 131.1123767740466, 131.60557287557478, 179.95579227192033, 46.57865008716058, 1019.5489031200708, 211.06479569426926, 1017.7946013606728, 430.2916516036282, 41.072220004076826, 597.4608716886851, 1798.445921275632, 159.06592451788867, 262.62596254974795, 332.7432583872422, 529.7662334433384, 174.50052389034164, 190.24304134477535, 725.7633279922459, 780.6961585607502, 269.7000991527165, 197.60014938978927, 248.6143900616306, 312.2792162060037, 651.6260537814279, 512.8598750462751, 665.3753159443323], \"Category\": [\"Default\", \"Default\", \"Default\", \"Default\", \"Default\", \"Default\", \"Default\", \"Default\", \"Default\", \"Default\", \"Default\", \"Default\", \"Default\", \"Default\", \"Default\", \"Default\", \"Default\", \"Default\", \"Default\", \"Default\", \"Default\", \"Default\", \"Default\", \"Default\", \"Default\", \"Default\", \"Default\", \"Default\", \"Default\", \"Default\", \"Topic1\", \"Topic1\", \"Topic1\", \"Topic1\", \"Topic1\", \"Topic1\", \"Topic1\", \"Topic1\", \"Topic1\", \"Topic1\", \"Topic1\", \"Topic1\", \"Topic1\", \"Topic1\", \"Topic1\", \"Topic1\", \"Topic1\", \"Topic1\", \"Topic1\", \"Topic1\", \"Topic1\", \"Topic1\", \"Topic1\", \"Topic1\", \"Topic1\", \"Topic1\", \"Topic1\", \"Topic1\", \"Topic1\", \"Topic1\", \"Topic1\", \"Topic1\", \"Topic1\", \"Topic1\", \"Topic1\", \"Topic1\", \"Topic1\", \"Topic1\", \"Topic1\", \"Topic1\", \"Topic1\", \"Topic1\", \"Topic1\", \"Topic1\", \"Topic1\", \"Topic1\", \"Topic1\", \"Topic1\", \"Topic1\", \"Topic1\", \"Topic1\", \"Topic1\", \"Topic1\", \"Topic1\", \"Topic1\", \"Topic1\", \"Topic1\", \"Topic1\", \"Topic1\", \"Topic1\", \"Topic1\", \"Topic1\", \"Topic1\", \"Topic1\", \"Topic1\", \"Topic1\", \"Topic1\", \"Topic1\", \"Topic1\", \"Topic1\", \"Topic1\", \"Topic1\", \"Topic2\", \"Topic2\", \"Topic2\", \"Topic2\", \"Topic2\", \"Topic2\", \"Topic2\", \"Topic2\", \"Topic2\", \"Topic2\", \"Topic2\", \"Topic2\", \"Topic2\", \"Topic2\", \"Topic2\", \"Topic2\", \"Topic2\", \"Topic2\", \"Topic2\", \"Topic2\", \"Topic2\", \"Topic2\", \"Topic2\", \"Topic2\", \"Topic2\", \"Topic2\", \"Topic2\", \"Topic2\", \"Topic2\", \"Topic2\", \"Topic2\", \"Topic2\", \"Topic2\", \"Topic2\", \"Topic2\", \"Topic2\", \"Topic2\", \"Topic2\", \"Topic2\", \"Topic2\", \"Topic2\", \"Topic2\", \"Topic2\", \"Topic2\", \"Topic2\", \"Topic2\", \"Topic2\", \"Topic2\", \"Topic2\", \"Topic2\", \"Topic2\", \"Topic2\", \"Topic2\", \"Topic2\", \"Topic2\", \"Topic2\", \"Topic2\", \"Topic2\", \"Topic2\", \"Topic2\", \"Topic2\", \"Topic2\", \"Topic2\", \"Topic2\", \"Topic2\", \"Topic2\", \"Topic2\", \"Topic2\", \"Topic2\", \"Topic2\", \"Topic2\", \"Topic2\", \"Topic2\", \"Topic2\", \"Topic2\", \"Topic2\", \"Topic2\", \"Topic2\", \"Topic2\", \"Topic2\", \"Topic2\", \"Topic2\", \"Topic2\", \"Topic2\", \"Topic2\", \"Topic2\", \"Topic2\", \"Topic2\", \"Topic2\", \"Topic3\", \"Topic3\", \"Topic3\", \"Topic3\", \"Topic3\", \"Topic3\", \"Topic3\", \"Topic3\", \"Topic3\", \"Topic3\", \"Topic3\", \"Topic3\", \"Topic3\", \"Topic3\", \"Topic3\", \"Topic3\", \"Topic3\", \"Topic3\", \"Topic3\", \"Topic3\", \"Topic3\", \"Topic3\", \"Topic3\", \"Topic3\", \"Topic3\", \"Topic3\", \"Topic3\", \"Topic3\", \"Topic3\", \"Topic3\", \"Topic3\", \"Topic3\", \"Topic3\", \"Topic3\", \"Topic3\", \"Topic3\", \"Topic3\", \"Topic3\", \"Topic3\", \"Topic3\", \"Topic3\", \"Topic3\", \"Topic3\", \"Topic3\", \"Topic3\", \"Topic3\", \"Topic3\", \"Topic3\", \"Topic3\", \"Topic3\", \"Topic3\", \"Topic3\", \"Topic3\", \"Topic3\", \"Topic3\", \"Topic3\", \"Topic3\", \"Topic3\", \"Topic3\", \"Topic3\", \"Topic3\", \"Topic3\", \"Topic3\", \"Topic3\", \"Topic3\", \"Topic3\", \"Topic3\", \"Topic3\", \"Topic3\", \"Topic3\", \"Topic3\", \"Topic3\", \"Topic3\", \"Topic3\", \"Topic3\", \"Topic3\", \"Topic3\", \"Topic3\", \"Topic3\", \"Topic4\", \"Topic4\", \"Topic4\", \"Topic4\", \"Topic4\", \"Topic4\", \"Topic4\", \"Topic4\", \"Topic4\", \"Topic4\", \"Topic4\", \"Topic4\", \"Topic4\", \"Topic4\", \"Topic4\", \"Topic4\", \"Topic4\", \"Topic4\", \"Topic4\", \"Topic4\", \"Topic4\", \"Topic4\", \"Topic4\", \"Topic4\", \"Topic4\", \"Topic4\", \"Topic4\", \"Topic4\", \"Topic4\", \"Topic4\", \"Topic4\", \"Topic4\", \"Topic4\", \"Topic4\", \"Topic4\", \"Topic4\", \"Topic4\", \"Topic4\", \"Topic4\", \"Topic4\", \"Topic4\", \"Topic4\", \"Topic4\", \"Topic4\", \"Topic4\", \"Topic4\", \"Topic4\", \"Topic4\", \"Topic4\", \"Topic4\", \"Topic4\", \"Topic4\", \"Topic4\", \"Topic4\", \"Topic4\", \"Topic4\", \"Topic4\", \"Topic4\", \"Topic4\", \"Topic4\", \"Topic4\", \"Topic4\", \"Topic4\", \"Topic4\", \"Topic4\", \"Topic4\", \"Topic4\", \"Topic4\", \"Topic4\", \"Topic4\", \"Topic4\", \"Topic4\", \"Topic4\", \"Topic4\", \"Topic4\", \"Topic4\", \"Topic4\", \"Topic4\", \"Topic4\", \"Topic4\", \"Topic4\", \"Topic4\", \"Topic4\", \"Topic5\", \"Topic5\", \"Topic5\", \"Topic5\", \"Topic5\", \"Topic5\", \"Topic5\", \"Topic5\", \"Topic5\", \"Topic5\", \"Topic5\", \"Topic5\", \"Topic5\", \"Topic5\", \"Topic5\", \"Topic5\", \"Topic5\", \"Topic5\", \"Topic5\", \"Topic5\", \"Topic5\", \"Topic5\", \"Topic5\", \"Topic5\", \"Topic5\", \"Topic5\", \"Topic5\", \"Topic5\", \"Topic5\", \"Topic5\", \"Topic5\", \"Topic5\", \"Topic5\", \"Topic5\", \"Topic5\", \"Topic5\", \"Topic5\", \"Topic5\", \"Topic5\", \"Topic5\", \"Topic5\", \"Topic5\", \"Topic5\", \"Topic5\", \"Topic5\", \"Topic5\", \"Topic5\", \"Topic5\", \"Topic5\", \"Topic5\", \"Topic5\", \"Topic5\", \"Topic5\", \"Topic5\", \"Topic5\", \"Topic5\", \"Topic5\", \"Topic5\", \"Topic5\", \"Topic5\", \"Topic5\", \"Topic5\", \"Topic5\", \"Topic5\", \"Topic5\", \"Topic5\", \"Topic5\", \"Topic5\", \"Topic5\", \"Topic5\", \"Topic5\", \"Topic5\", \"Topic5\", \"Topic5\", \"Topic5\", \"Topic5\", \"Topic6\", \"Topic6\", \"Topic6\", \"Topic6\", \"Topic6\", \"Topic6\", \"Topic6\", \"Topic6\", \"Topic6\", \"Topic6\", \"Topic6\", \"Topic6\", \"Topic6\", \"Topic6\", \"Topic6\", \"Topic6\", \"Topic6\", \"Topic6\", \"Topic6\", \"Topic6\", \"Topic6\", \"Topic6\", \"Topic6\", \"Topic6\", \"Topic6\", \"Topic6\", \"Topic6\", \"Topic6\", \"Topic6\", \"Topic6\", \"Topic6\", \"Topic6\", \"Topic6\", \"Topic6\", \"Topic6\", \"Topic6\", \"Topic6\", \"Topic6\", \"Topic6\", \"Topic6\", \"Topic6\", \"Topic6\", \"Topic6\", \"Topic6\", \"Topic6\", \"Topic6\", \"Topic6\", \"Topic6\", \"Topic6\", \"Topic6\", \"Topic6\", \"Topic6\", \"Topic6\", \"Topic6\", \"Topic6\", \"Topic6\", \"Topic6\", \"Topic6\", \"Topic6\", \"Topic6\", \"Topic6\", \"Topic6\", \"Topic6\", \"Topic6\", \"Topic6\", \"Topic6\", \"Topic6\", \"Topic6\", \"Topic6\", \"Topic6\", \"Topic7\", \"Topic7\", \"Topic7\", \"Topic7\", \"Topic7\", \"Topic7\", \"Topic7\", \"Topic7\", \"Topic7\", \"Topic7\", \"Topic7\", \"Topic7\", \"Topic7\", \"Topic7\", \"Topic7\", \"Topic7\", \"Topic7\", \"Topic7\", \"Topic7\", \"Topic7\", \"Topic7\", \"Topic7\", \"Topic7\", \"Topic7\", \"Topic7\", \"Topic7\", \"Topic7\", \"Topic7\", \"Topic7\", \"Topic7\", \"Topic7\", \"Topic7\", \"Topic7\", \"Topic7\", \"Topic7\", \"Topic7\", \"Topic7\", \"Topic7\", \"Topic7\", \"Topic7\", \"Topic7\", \"Topic7\", \"Topic7\", \"Topic7\", \"Topic7\", \"Topic7\", \"Topic7\", \"Topic7\", \"Topic7\", \"Topic7\", \"Topic7\", \"Topic7\", \"Topic7\", \"Topic7\", \"Topic7\", \"Topic7\", \"Topic7\", \"Topic7\", \"Topic7\", \"Topic7\", \"Topic7\", \"Topic7\", \"Topic7\", \"Topic7\", \"Topic7\", \"Topic7\", \"Topic7\"], \"logprob\": [30.0, 29.0, 28.0, 27.0, 26.0, 25.0, 24.0, 23.0, 22.0, 21.0, 20.0, 19.0, 18.0, 17.0, 16.0, 15.0, 14.0, 13.0, 12.0, 11.0, 10.0, 9.0, 8.0, 7.0, 6.0, 5.0, 4.0, 3.0, 2.0, 1.0, -7.3878, -6.6542, -7.6539, -7.777, -8.122, -8.1734, -8.1746, -8.3898, -8.3362, -5.9031, -6.5845, -8.4588, -7.3406, -8.4626, -8.1479, -8.5321, -8.2449, -5.764, -7.4828, -7.8768, -7.2779, -6.859, -8.6174, -7.8552, -8.4867, -8.4881, -8.3187, -6.7819, -7.7949, -8.8657, -4.7043, -7.6272, -7.398, -6.4613, -7.3023, -6.38, -6.4541, -5.9295, -5.8857, -3.9662, -5.7206, -6.4194, -7.4465, -5.086, -5.9928, -7.3326, -6.5238, -6.6573, -5.9165, -5.8389, -5.1406, -5.8623, -5.5731, -5.7546, -6.031, -5.7435, -4.7282, -6.0565, -5.9626, -5.4277, -5.8497, -6.0617, -5.8302, -5.3945, -5.3316, -5.7209, -5.8991, -6.1291, -5.9325, -5.9036, -5.9433, -5.968, -7.515, -8.6313, -8.8018, -8.8937, -9.1088, -9.0068, -8.2222, -8.1377, -8.3693, -9.1201, -8.37, -9.2401, -9.2431, -8.0256, -9.1291, -9.2462, -9.3862, -9.3867, -8.1957, -9.3892, -9.3931, -9.3935, -9.3954, -9.1451, -9.1459, -7.2298, -7.9374, -7.3926, -8.7811, -9.4009, -8.0862, -7.2349, -8.2713, -7.3299, -7.5891, -8.6638, -8.1103, -5.8041, -6.8076, -7.7435, -7.7075, -6.8377, -7.053, -5.1696, -6.529, -7.1817, -7.7804, -5.852, -7.0255, -6.5557, -6.7645, -7.483, -6.0151, -5.818, -5.9449, -5.7138, -5.7673, -7.0806, -6.3323, -5.3542, -5.9745, -5.7418, -5.8772, -6.1207, -6.4385, -5.4887, -5.6814, -5.8336, -5.5582, -5.8308, -5.6768, -5.728, -5.5267, -5.9093, -5.6681, -6.1561, -6.2499, -5.7894, -6.1661, -5.9367, -5.7083, -5.9015, -5.865, -5.8468, -6.013, -6.0018, -5.96, -5.9843, -5.9946, -6.6114, -7.3432, -6.7928, -5.5233, -7.5697, -7.5732, -7.9483, -7.8542, -5.3347, -7.9041, -7.6525, -8.181, -8.1859, -7.8732, -8.3275, -8.4871, -7.643, -8.4164, -8.2818, -8.156, -6.4177, -7.0782, -6.6647, -8.8038, -8.6042, -6.9753, -7.6366, -7.5761, -8.0705, -8.82, -7.2111, -7.9223, -6.2423, -6.7702, -7.5585, -5.3741, -6.8226, -7.5265, -4.5805, -6.2618, -5.0498, -7.2924, -6.6596, -6.7566, -6.2234, -5.8837, -6.3666, -6.202, -6.7034, -6.8625, -6.0441, -6.5262, -5.3788, -5.6678, -6.4684, -6.2771, -5.7403, -6.1881, -5.5133, -6.1964, -5.7973, -6.0742, -5.4968, -6.1257, -6.0851, -5.4989, -5.7163, -5.7843, -6.0892, -5.8838, -5.7229, -6.0102, -6.1428, -5.9322, -6.0211, -6.0806, -6.036, -6.0749, -6.1469, -7.1799, -7.2931, -7.0192, -8.0369, -7.7527, -6.3471, -7.5027, -6.9323, -8.1673, -8.3815, -7.3948, -5.989, -8.0625, -8.3897, -8.4744, -8.4773, -8.4006, -8.5667, -6.9051, -8.4047, -8.6711, -8.5778, -8.6803, -8.046, -8.0965, -8.7934, -8.9119, -8.9122, -8.9133, -8.9141, -7.9499, -8.5961, -6.3428, -7.5095, -7.2961, -6.5849, -5.9918, -7.3024, -7.1266, -6.9207, -6.5108, -7.3624, -5.6266, -7.5143, -6.3161, -6.5551, -6.6356, -7.4318, -7.042, -6.9628, -7.244, -6.9539, -6.285, -6.0731, -6.8295, -5.6045, -7.0612, -7.2002, -5.7968, -5.6529, -6.0877, -6.0323, -5.8573, -5.9076, -5.8073, -6.0791, -5.9416, -5.8085, -5.9051, -6.0402, -6.0938, -6.1455, -6.2416, -6.0702, -6.1109, -6.0363, -6.0478, -6.1614, -6.1408, -6.2302, -6.269, -6.2449, -6.2425, -7.6272, -8.1606, -6.7179, -7.3566, -7.9564, -7.9795, -8.6099, -7.4018, -7.1611, -7.7635, -7.281, -7.7403, -7.3751, -7.2418, -7.9915, -8.2024, -8.5771, -8.6999, -7.1673, -8.2968, -8.7048, -8.7037, -8.299, -7.7985, -8.0877, -7.8043, -7.8114, -8.1687, -8.0347, -7.1238, -6.6287, -7.3869, -6.1773, -6.6094, -5.4725, -7.4436, -6.9251, -5.9029, -6.0257, -6.9789, -7.241, -5.8486, -7.0377, -6.8035, -6.6026, -5.6036, -5.6112, -6.772, -6.4953, -5.5888, -6.5848, -5.6906, -5.9209, -5.4809, -5.564, -5.4776, -5.6992, -5.7189, -5.52, -6.3421, -5.4937, -5.6285, -5.4934, -5.8995, -5.8878, -5.5851, -5.8467, -5.8068, -5.8841, -5.7828, -5.8078, -5.929, -6.0214, -6.0526, -5.9244, -6.0166, -5.7477, -6.3924, -7.6844, -7.1201, -7.7282, -8.2174, -8.3805, -6.9731, -6.7514, -7.2524, -6.3701, -7.3049, -7.7021, -8.0077, -7.6397, -8.2147, -8.1301, -7.0757, -8.2559, -7.054, -6.357, -7.5774, -7.995, -7.0141, -7.0076, -7.6419, -7.4831, -7.9562, -5.8904, -6.6454, -6.8925, -5.804, -7.1628, -6.5255, -6.7671, -6.8933, -6.9084, -5.9874, -6.3929, -6.2921, -6.4342, -5.6633, -6.5487, -5.4302, -5.6895, -6.3444, -6.1411, -5.7905, -6.5538, -5.7903, -5.516, -6.1766, -5.8709, -5.6806, -6.1526, -5.7815, -5.9678, -5.833, -5.96, -5.9278, -6.0964, -6.0548, -6.0092, -6.0451, -5.9144, -6.0763, -6.1376, -6.1964, -6.2191, -6.2626, -6.8268, -4.992, -7.6677, -6.9086, -6.4319, -7.7426, -7.0335, -7.8547, -5.5403, -7.0, -7.713, -8.3415, -7.3408, -8.1251, -8.2458, -7.9561, -8.1635, -7.5004, -8.311, -8.626, -7.2884, -8.6333, -8.6438, -6.4893, -7.8789, -7.0646, -7.1379, -6.8876, -8.1465, -5.3035, -6.7924, -6.5812, -5.4334, -7.1049, -6.1413, -6.754, -5.7427, -6.5746, -6.0816, -6.2569, -6.442, -5.9206, -5.942, -5.8364, -6.7775, -4.7568, -5.8992, -5.0877, -5.585, -6.8727, -5.4562, -4.9529, -6.1822, -5.9478, -5.8675, -5.6689, -6.2232, -6.233, -5.8363, -5.8188, -6.1695, -6.2512, -6.2124, -6.1897, -6.162, -6.1893, -6.224], \"loglift\": [30.0, 29.0, 28.0, 27.0, 26.0, 25.0, 24.0, 23.0, 22.0, 21.0, 20.0, 19.0, 18.0, 17.0, 16.0, 15.0, 14.0, 13.0, 12.0, 11.0, 10.0, 9.0, 8.0, 7.0, 6.0, 5.0, 4.0, 3.0, 2.0, 1.0, 1.494, 1.4812, 1.4803, 1.4781, 1.4766, 1.4719, 1.4705, 1.4671, 1.4641, 1.4626, 1.4599, 1.4591, 1.4572, 1.4555, 1.4526, 1.4512, 1.4507, 1.4497, 1.4484, 1.4468, 1.4445, 1.4381, 1.4354, 1.4349, 1.4339, 1.4323, 1.4311, 1.4311, 1.4302, 1.4289, 1.4261, 1.4247, 1.422, 1.4096, 1.4183, 1.3921, 1.3934, 1.3649, 1.3499, 1.2412, 1.3304, 1.3639, 1.4165, 1.2918, 1.3364, 1.4103, 1.3498, 1.3583, 1.2928, 1.2786, 1.2077, 1.2758, 1.2366, 1.2435, 1.2697, 1.216, 1.0485, 1.2582, 1.1619, 0.9187, 1.0383, 1.0778, 0.9623, 0.6826, 0.4434, 0.591, 0.7183, 0.9476, 0.6092, 0.5261, 0.4965, 0.3415, 1.4663, 1.4505, 1.435, 1.4301, 1.4162, 1.4122, 1.4104, 1.4082, 1.4082, 1.4061, 1.4054, 1.4034, 1.4009, 1.3988, 1.398, 1.3979, 1.3909, 1.3906, 1.3886, 1.3879, 1.3855, 1.3847, 1.3843, 1.382, 1.3813, 1.3804, 1.3798, 1.3797, 1.3791, 1.3773, 1.3741, 1.3576, 1.3634, 1.3332, 1.3073, 1.3535, 1.3212, 1.152, 1.2193, 1.2878, 1.284, 1.2176, 1.2168, 1.0321, 1.1584, 1.2144, 1.2743, 1.0556, 1.1675, 1.0891, 1.1107, 1.2209, 0.939, 0.8834, 0.864, 0.773, 0.7672, 1.1041, 0.8914, 0.6029, 0.777, 0.6942, 0.7202, 0.791, 0.8881, 0.5407, 0.5922, 0.6437, 0.5023, 0.5474, 0.4428, 0.4356, 0.3051, 0.5393, 0.3739, 0.6685, 0.7252, 0.3188, 0.6438, 0.4139, 0.1693, 0.3568, 0.2912, 0.2104, 0.4268, 0.3638, 0.1238, -0.0002, 0.2159, 1.8105, 1.7995, 1.7909, 1.7909, 1.7897, 1.7861, 1.7827, 1.7816, 1.7808, 1.778, 1.7778, 1.7737, 1.7685, 1.7637, 1.7607, 1.7552, 1.7507, 1.7463, 1.7378, 1.7372, 1.7367, 1.7335, 1.7285, 1.7268, 1.7255, 1.725, 1.7248, 1.715, 1.7137, 1.7127, 1.7108, 1.7125, 1.687, 1.696, 1.7036, 1.6326, 1.6635, 1.6997, 1.5016, 1.6117, 1.5003, 1.6758, 1.6002, 1.6113, 1.5331, 1.4495, 1.5098, 1.4453, 1.5369, 1.5682, 1.3765, 1.4884, 1.1105, 1.1734, 1.4283, 1.3572, 1.0112, 1.2276, 0.8422, 1.2198, 0.9004, 1.0502, 0.4873, 1.0384, 0.9878, 0.2761, 0.3607, 0.4384, 0.872, 0.5459, 0.1089, 0.6072, 0.942, 0.1516, 0.2371, 0.4804, -0.1584, -0.8674, -0.0896, 1.8741, 1.8636, 1.8555, 1.8393, 1.837, 1.835, 1.8314, 1.8268, 1.8263, 1.8194, 1.8155, 1.8133, 1.812, 1.8109, 1.8081, 1.8038, 1.801, 1.801, 1.798, 1.7955, 1.7914, 1.7887, 1.7822, 1.7793, 1.7762, 1.7749, 1.7742, 1.7735, 1.7718, 1.7717, 1.7695, 1.7707, 1.7461, 1.7584, 1.754, 1.7331, 1.6544, 1.7177, 1.6979, 1.679, 1.644, 1.7104, 1.5538, 1.7226, 1.584, 1.5989, 1.6089, 1.6926, 1.6323, 1.589, 1.645, 1.5835, 1.4201, 1.3471, 1.5324, 1.0332, 1.5504, 1.5944, 0.3595, 0.2247, 0.6137, 0.5354, 0.251, 0.3028, 0.1767, 0.4077, 0.222, 0.0233, 0.1244, 0.2646, 0.3336, 0.4056, 0.5537, 0.188, 0.2548, 0.0242, -0.0058, 0.1892, -0.0258, 0.3446, 0.3608, -0.1611, -0.2854, 2.0738, 2.0526, 2.0475, 2.0467, 2.0343, 2.0144, 2.0108, 2.0026, 1.9893, 1.9893, 1.9867, 1.9686, 1.9612, 1.9409, 1.9353, 1.9343, 1.9312, 1.9266, 1.9255, 1.9223, 1.9221, 1.92, 1.9192, 1.9126, 1.9083, 1.9066, 1.8972, 1.8964, 1.8952, 1.8948, 1.884, 1.8839, 1.8304, 1.8322, 1.7169, 1.8575, 1.8111, 1.6847, 1.6832, 1.7719, 1.8018, 1.5383, 1.7597, 1.7089, 1.6642, 1.3454, 1.3023, 1.6405, 1.5287, 1.0786, 1.501, 1.0463, 1.1288, 0.7928, 0.7915, 0.5829, 0.7495, 0.717, 0.5372, 1.2007, 0.4635, 0.4797, 0.3384, 0.7251, 0.6655, 0.2925, 0.555, 0.4159, 0.4665, 0.2993, 0.2216, 0.4367, 0.6247, 0.6155, 0.1593, 0.3579, 2.5532, 2.5127, 2.5052, 2.46, 2.4598, 2.457, 2.4274, 2.409, 2.3671, 2.3669, 2.3653, 2.3536, 2.344, 2.3429, 2.341, 2.3396, 2.3255, 2.3094, 2.2979, 2.2952, 2.2946, 2.2843, 2.2776, 2.2761, 2.2758, 2.272, 2.2697, 2.2342, 2.227, 2.2253, 2.2223, 2.1291, 2.2185, 2.1209, 2.1236, 2.123, 2.1045, 1.8117, 1.8662, 1.8307, 1.8799, 1.4218, 1.7883, 1.1787, 1.2687, 1.6655, 1.476, 1.1722, 1.7682, 1.005, 0.2591, 1.1196, 0.6812, 0.3964, 0.9522, 0.3334, 0.5932, 0.2752, 0.5021, 0.3817, 0.7597, 0.3726, 0.1926, 0.0121, -0.707, -0.0343, 0.3295, -0.3646, -0.2351, 0.2791, 2.7208, 2.665, 2.6488, 2.6352, 2.6317, 2.5711, 2.5413, 2.5412, 2.5404, 2.5284, 2.5124, 2.5081, 2.499, 2.4689, 2.4666, 2.4335, 2.4325, 2.396, 2.39, 2.3688, 2.3638, 2.3571, 2.3533, 2.3509, 2.3461, 2.3449, 2.339, 2.3347, 2.3262, 2.3259, 2.3251, 2.3101, 2.2566, 2.3003, 2.1699, 2.2333, 2.0564, 2.1819, 2.0745, 2.0577, 2.0716, 1.9054, 1.8803, 1.6731, 2.0835, 1.0183, 1.4508, 0.6891, 1.0527, 2.1142, 0.8533, 0.2546, 1.4506, 1.1836, 1.0273, 0.7608, 1.317, 1.2208, 0.2787, 0.2232, 0.9353, 1.1647, 0.9738, 0.7685, 0.0607, 0.2728, -0.0222]}, \"token.table\": {\"Topic\": [1, 3, 1, 2, 3, 4, 5, 6, 7, 4, 5, 1, 2, 3, 4, 5, 6, 7, 2, 3, 1, 2, 3, 4, 5, 6, 7, 2, 1, 2, 3, 5, 6, 7, 1, 6, 7, 1, 2, 3, 4, 5, 6, 2, 4, 5, 7, 4, 2, 3, 4, 6, 1, 2, 3, 4, 5, 6, 7, 2, 4, 5, 6, 7, 2, 3, 4, 5, 6, 1, 2, 3, 4, 5, 6, 7, 5, 2, 4, 5, 3, 4, 5, 3, 4, 5, 1, 2, 3, 4, 5, 6, 7, 1, 2, 3, 4, 5, 6, 7, 1, 2, 3, 4, 5, 6, 7, 2, 4, 5, 6, 2, 3, 4, 5, 6, 4, 5, 1, 2, 3, 4, 5, 6, 7, 1, 2, 3, 4, 5, 6, 7, 4, 1, 1, 2, 3, 4, 5, 6, 7, 1, 2, 3, 4, 6, 7, 1, 7, 1, 1, 2, 3, 4, 5, 6, 7, 1, 2, 3, 5, 6, 1, 3, 2, 4, 1, 2, 3, 4, 5, 6, 7, 2, 1, 2, 3, 4, 5, 6, 7, 4, 5, 1, 2, 3, 4, 5, 6, 7, 1, 2, 3, 4, 5, 6, 7, 2, 3, 4, 5, 7, 1, 6, 1, 2, 3, 4, 5, 6, 7, 4, 7, 1, 2, 3, 5, 6, 7, 5, 1, 2, 4, 5, 1, 2, 3, 4, 5, 6, 7, 1, 2, 3, 4, 5, 6, 7, 1, 2, 3, 4, 5, 6, 7, 1, 2, 3, 4, 5, 7, 4, 1, 2, 3, 4, 5, 6, 7, 2, 7, 6, 1, 2, 3, 4, 5, 6, 7, 1, 2, 3, 4, 5, 6, 7, 1, 2, 4, 5, 6, 7, 1, 2, 6, 1, 2, 3, 4, 5, 6, 7, 4, 5, 1, 2, 3, 4, 5, 6, 1, 3, 7, 1, 2, 3, 4, 5, 6, 7, 2, 4, 5, 5, 1, 2, 3, 4, 5, 6, 1, 2, 3, 4, 5, 6, 7, 3, 7, 1, 2, 3, 4, 5, 6, 7, 1, 6, 7, 1, 2, 5, 6, 7, 1, 2, 3, 4, 5, 6, 7, 1, 2, 3, 4, 5, 6, 7, 1, 2, 3, 4, 5, 6, 7, 2, 3, 5, 4, 7, 1, 2, 3, 4, 6, 7, 1, 3, 1, 2, 4, 5, 6, 3, 1, 3, 5, 6, 7, 2, 3, 5, 1, 2, 3, 4, 5, 6, 7, 1, 4, 5, 6, 7, 1, 2, 3, 4, 5, 6, 7, 1, 2, 3, 4, 5, 6, 7, 3, 7, 2, 1, 2, 2, 1, 2, 3, 4, 5, 6, 2, 4, 5, 6, 7, 1, 2, 3, 4, 5, 6, 7, 1, 2, 3, 4, 5, 6, 7, 3, 5, 3, 1, 2, 6, 7, 1, 1, 2, 6, 1, 2, 3, 4, 5, 6, 7, 1, 2, 3, 6, 7, 4, 7, 2, 3, 4, 6, 1, 2, 3, 4, 5, 6, 7, 2, 5, 4, 2, 3, 4, 5, 1, 2, 3, 4, 5, 6, 7, 1, 2, 3, 4, 5, 6, 7, 2, 7, 1, 1, 2, 3, 4, 5, 6, 7, 1, 2, 3, 4, 5, 6, 7, 2, 4, 1, 2, 3, 4, 5, 6, 7, 1, 2, 3, 4, 5, 7, 2, 2, 4, 6, 7, 1, 2, 4, 5, 6, 3, 1, 2, 3, 4, 5, 6, 7, 1, 2, 3, 4, 5, 6, 7, 1, 2, 1, 2, 3, 4, 5, 7, 2, 4, 5, 3, 4, 5, 6, 1, 2, 5, 3, 5, 1, 2, 3, 4, 6, 7, 1, 2, 3, 4, 5, 6, 7, 1, 2, 3, 4, 5, 6, 7, 4, 5, 1, 2, 3, 4, 5, 7, 1, 2, 3, 4, 5, 6, 7, 2, 3, 4, 5, 6, 2, 3, 4, 5, 6, 1, 2, 3, 4, 5, 6, 7, 2, 4, 5, 1, 2, 3, 4, 6, 7, 3, 1, 2, 3, 4, 5, 6, 7, 1, 2, 3, 4, 5, 7, 3, 4, 6, 1, 7, 4, 4, 5, 6, 1, 2, 3, 4, 5, 6, 7, 1, 4, 5, 1, 2, 3, 4, 5, 6, 7, 1, 2, 3, 4, 6, 7, 4, 7, 4, 1, 2, 4, 5, 1, 4, 6, 1, 3, 2, 3, 5, 7, 1, 2, 3, 4, 5, 6, 7, 4, 5, 7, 2, 3, 4, 5, 3, 5, 7, 2, 1, 2, 3, 4, 5, 6, 7, 1, 2, 3, 4, 5, 6, 7, 3, 5, 6, 1, 2, 3, 4, 5, 6, 7, 1, 2, 3, 4, 5, 6, 7, 1, 2, 3, 4, 5, 6, 7, 1, 2, 3, 6, 7, 1, 1, 2, 3, 4, 5, 6, 7, 5, 4, 1, 2, 3, 4, 5, 7, 4, 1, 4, 2, 4, 7, 4, 2, 4, 5, 1, 4, 2, 5, 1, 2, 3, 4, 5, 6, 7, 3, 6, 1, 6, 1, 2, 3, 4, 5, 6, 7, 1, 2, 3, 4, 5, 6, 7, 2, 3, 4, 5, 3, 4, 5, 6, 7, 1, 2, 4, 1, 2, 3, 4, 5, 6, 7, 1, 3, 4, 6, 7, 2, 3, 4, 5, 7, 1, 2, 3, 4, 5, 6, 7, 1, 2, 3, 4, 1, 2, 4, 3, 4, 1, 2, 3, 4, 5, 7, 1, 2, 3, 6, 7, 3, 3, 1, 2, 3, 7, 2, 1, 1, 2, 3, 4, 5, 3, 3, 4, 1, 2, 3, 4, 5, 6, 7, 2, 4, 6, 1, 2, 3, 4, 5, 6, 7, 3, 4, 7, 1, 6, 1, 1, 3, 4, 5, 6, 1, 2, 3, 4, 6, 7, 1, 2, 3, 4, 5, 6, 7, 3, 4, 5, 2, 4, 5, 1, 2, 3, 4, 6, 7, 2, 1, 2, 3, 4, 5, 6, 7, 1, 2, 3, 4, 5, 6, 7, 1, 3, 4, 7, 1, 3, 5, 7, 1, 1, 2, 3, 4, 5, 6, 7, 1, 2, 3, 4, 5, 6, 7, 1, 7, 2, 3, 4, 5, 6, 7, 4, 6, 1, 2, 3, 4, 5, 6, 7, 1, 2, 4, 5, 7, 1, 2, 3, 4, 5, 6, 7, 1, 2, 3, 4, 5, 6, 7, 1, 2, 3, 4, 5, 6, 7, 1, 2, 3, 4, 5, 6, 7, 4, 7, 1, 2, 3, 4, 5, 6, 7, 1, 2, 3, 4, 5, 6, 7, 1, 2, 3, 4, 5, 6, 7, 1, 7, 3, 1, 2, 4, 5, 6, 1, 2, 3, 4, 5, 3, 4, 5, 6, 1, 2, 3, 4, 5, 6, 7, 2, 4, 6, 1, 7, 3, 1, 2, 3, 4, 5, 6, 7, 1, 3, 1, 2, 3, 4, 5, 6, 7, 1, 2, 3, 5, 6, 7, 1, 2, 3, 4, 5, 6, 7, 1, 2, 3, 4, 5, 6, 7, 1, 2, 3, 4, 5, 6, 7, 1, 1, 1, 2, 3, 4, 5, 6, 7, 1, 2, 5, 1, 2, 3, 4, 5, 6, 7, 4, 6, 7, 6, 7, 1, 2, 3, 4, 5, 6, 7, 3, 4, 7, 1, 2, 3, 4, 5, 6, 7, 1, 2, 4, 6, 7, 5, 7, 3, 4, 6, 1, 2, 3, 4, 5, 6, 7, 1, 2, 3, 4, 5, 6, 7, 2, 1, 2, 3, 4, 5, 6, 7, 2, 1, 2, 1, 2, 3, 7, 1, 2, 3, 4, 5, 6, 7, 1, 2, 4, 5, 7, 2, 1, 2, 3, 4, 5, 6, 7, 1, 1, 2, 4, 5, 7, 2, 3, 4, 6, 5, 1, 2, 3, 4, 5, 6, 7, 1, 2, 3, 4, 3, 5, 2, 4, 4, 5, 6, 7, 5, 6, 2, 4, 1, 2, 6, 7, 1, 2, 3, 4, 5, 6, 7, 1, 2, 3, 4, 5, 6, 7, 1, 2, 3, 4, 6, 7, 2, 3, 4, 5, 7, 2, 3, 4, 5, 6, 7, 1, 2, 3, 4, 5, 6, 7, 1, 3, 1, 3, 1, 2, 3, 4, 5, 6, 7, 2, 4, 4, 1, 2, 3, 4, 5, 6, 7, 2, 4, 6, 1, 2, 3, 4, 5, 6, 7, 1, 2, 3, 4, 5, 6, 7, 1, 2, 3, 4, 5, 6, 7, 4, 3, 3, 3, 1, 2, 3, 4, 5, 6, 7, 1, 2, 3, 4, 5, 6, 7, 2, 3, 4, 7, 2, 6, 1, 2, 3, 4, 5, 6, 2, 3, 5, 1, 2, 3, 4, 5, 6, 7, 4, 5, 7, 1, 2, 3, 4, 6, 7, 2, 3, 5, 7, 1, 2, 3, 4, 5, 6, 7, 1, 2, 3, 6, 7, 1, 3, 6, 7, 4, 4, 1, 2, 3, 4, 5, 6, 7, 1, 6, 7, 7, 2, 4, 1, 2, 3, 4, 5, 6, 7, 1, 2, 3, 4, 5, 6, 7, 1, 2, 3, 4, 5, 6, 7, 1, 2, 3, 4, 6, 7, 1, 2, 3, 4, 6, 7, 1, 2, 3, 4, 5, 6, 7, 1, 2, 3, 4, 5, 6, 7, 3, 4, 1, 3, 6, 7, 4, 5, 6, 1, 3, 4, 1, 2, 3, 4, 5, 6, 7, 1, 2, 4, 6, 4, 1, 1, 2, 4, 7, 6, 1, 2, 3, 6, 7, 1, 2, 3, 6, 1, 2, 3, 4, 5, 6, 7, 1, 2, 3, 4, 5, 6, 7, 1, 2, 3, 4, 5, 6, 7, 1, 2, 3, 4, 5, 6, 7, 1, 2, 3, 4, 5, 6, 7, 1, 2, 3, 4, 5, 6, 7, 1, 2, 3, 6, 7, 1, 2, 3, 4, 5, 6, 7, 1, 2, 3, 4, 5, 6, 7, 2, 6, 1, 2, 3, 4, 5, 6, 7, 1, 5, 2, 4, 1, 2, 4, 6, 7, 2, 1, 4, 2, 3, 5, 6, 1, 3, 4, 5, 6, 1, 2, 3, 4, 5, 6, 7, 1, 2, 3, 4, 5, 7, 2, 4, 5, 7, 4, 1, 2, 3, 4, 5, 6, 7, 6, 1, 2, 3, 4, 5, 6, 7, 2, 4, 5, 4, 1, 2, 3, 4, 5, 6, 7, 1, 2, 3, 4, 5, 6, 7, 1, 2, 3, 4, 5, 6, 7, 1, 2, 3, 4, 5, 6, 7, 1, 2, 3, 4, 5, 6, 7, 1, 2, 3, 4, 5, 6, 7, 1, 2, 3, 4, 5, 1, 2, 3, 4, 5, 7, 1, 2, 3, 4, 5, 6, 7, 1, 2, 3, 4, 5, 6, 7, 1, 3, 2, 2, 4, 5, 6, 7, 2, 5, 6, 2, 3, 4, 5, 6, 7, 4, 1, 2, 3, 4, 5, 6, 7, 1, 2, 3, 4, 5, 6, 7, 1, 2, 3, 4, 5, 6, 1, 2, 3, 5, 1, 2, 3, 5, 1, 2, 3, 4, 5, 6, 7, 5, 6, 1, 2, 3, 4, 5, 6, 7, 6, 7, 1, 2, 4, 7, 2, 1, 2, 3, 4, 5, 6, 7, 1, 2, 3, 4, 5, 6, 7, 1, 2, 3, 4, 5, 6, 7, 1, 3, 6, 7, 2, 7, 1, 2, 3, 4, 5, 6, 7, 2, 3, 4, 5, 6, 3, 2, 6, 7, 1, 2, 3, 4, 5, 6, 7, 2, 3, 4, 6, 1, 2, 3, 4, 5, 6, 7, 4, 1, 2, 3, 4, 5, 6, 7, 1, 2, 3, 4, 5, 6, 7, 3, 1, 2, 3, 4, 5, 6, 7, 1, 2, 3, 4, 5, 6, 7, 1, 2, 3, 4, 7, 2, 4, 5, 6, 2, 2, 3, 4, 5, 6, 7, 1, 7, 1, 2, 3, 4, 5, 6, 7, 1, 2, 3, 4, 5, 6, 7, 1, 2, 6, 7, 1, 2, 3, 4, 5, 6, 7, 1, 2, 3, 4, 5, 6, 7, 1, 2, 3, 4, 5, 6, 7, 3, 1, 2, 3, 4, 5, 6, 7, 1, 3, 5, 1, 2, 3, 4, 5, 6, 7, 2, 1, 2, 3, 4, 5, 6, 7, 1, 2, 3, 5, 6, 1, 2, 3, 4, 5, 6, 7, 1, 2, 3, 4, 5, 6, 7, 1, 2, 3, 4, 5, 6, 7, 2, 3, 4, 7, 2, 4, 5, 1, 2, 3, 4, 5, 6, 7, 1, 2, 3, 4, 5, 6, 7, 2, 2, 4, 6, 7], \"Freq\": [0.03793828244533117, 0.9484570611332793, 0.24109092740650448, 0.07894127711540412, 0.2304231872557742, 0.11094449756759499, 0.1344135258992016, 0.149348362110224, 0.055472248783797494, 0.12548517772715623, 0.7529110663629374, 0.5623793021272353, 0.01802497763228318, 0.25955967790487783, 0.0072099910529132725, 0.03244495973810973, 0.039654950791023, 0.079309901582046, 0.9088081115620503, 0.9541675755147491, 0.0786651131198551, 0.03933255655992755, 0.7997619833851936, 0.03933255655992755, 0.026221704373285033, 0.013110852186642517, 0.013110852186642517, 0.8752157118889662, 0.1878592670701534, 0.012523951138010228, 0.20038321820816365, 0.03757185341403068, 0.438338289830358, 0.11271556024209205, 0.012263019553468422, 0.9687785447240053, 0.012263019553468422, 0.032344712403758885, 0.09703413721127666, 0.032344712403758885, 0.06468942480751777, 0.7762730976902132, 0.032344712403758885, 0.05958109717236379, 0.9086117318785478, 0.007447637146545474, 0.014895274293090947, 0.947990403572075, 0.01938873644745764, 0.01938873644745764, 0.9306593494779667, 0.03877747289491528, 0.08142218898634994, 0.44945048320465164, 0.055367088510717956, 0.2377527918401418, 0.12701861481870588, 0.04233953827290197, 0.006513775118907995, 0.062367095888578715, 0.8357190849069548, 0.062367095888578715, 0.012473419177715743, 0.012473419177715743, 0.01642590399713885, 0.008212951998569425, 0.7227397758741093, 0.19711084796566616, 0.04106475999284712, 0.16832989081182342, 0.2398124471839676, 0.12912977925290564, 0.2144476691164326, 0.1268238903376752, 0.06225900071122236, 0.06225900071122236, 0.7507439049337316, 0.14314453328982324, 0.07157226664491162, 0.7872949330940278, 0.15033462856547247, 0.050111542855157495, 0.8017846856825199, 0.18130760872264162, 0.12087173914842775, 0.6849398551744239, 0.04869471384311538, 0.1704314984509038, 0.09738942768623075, 0.07304207076467306, 0.04869471384311538, 0.04869471384311538, 0.5112944953527114, 0.09590740995177834, 0.28345967830192265, 0.11935144349554637, 0.22378395655414943, 0.15345185592284533, 0.08525103106824741, 0.04049423975741752, 0.03379058114232288, 0.18246913816854357, 0.006758116228464577, 0.6149885767902765, 0.10812985965543323, 0.054064929827716615, 0.006758116228464577, 0.2342192311418659, 0.7026576934255977, 0.0334598901631237, 0.01672994508156185, 0.06516453814943737, 0.09123035340921233, 0.6907441043840362, 0.0521316305195499, 0.09123035340921233, 0.1255139134031435, 0.753083480418861, 0.3267338841391917, 0.007598462421841668, 0.21275694781156668, 0.015196924843683336, 0.015196924843683336, 0.015196924843683336, 0.41031697077945006, 0.179497811106104, 0.2915044452363129, 0.14934217884027853, 0.21252540834962713, 0.07754305439783693, 0.04882340462086029, 0.038771527198918465, 0.9319027160860537, 0.9426246619848448, 0.07879529755592078, 0.04727717853355247, 0.04727717853355247, 0.7249167375144712, 0.04727717853355247, 0.015759059511184156, 0.03151811902236831, 0.010595606977848136, 0.10595606977848136, 0.042382427911392545, 0.773479309382914, 0.05297803488924068, 0.010595606977848136, 0.08401658583231969, 0.7561492724908773, 0.9405287099879907, 0.35800177779975173, 0.051143111114250246, 0.4484857436172714, 0.011802256410980826, 0.015736341881307767, 0.07868170940653885, 0.03540676923294248, 0.13962482636959253, 0.041887447910877756, 0.7679365450327589, 0.027924965273918505, 0.027924965273918505, 0.09279715477378415, 0.8661067778886521, 0.8658241556852903, 0.07871128688048093, 0.11641412002065389, 0.5251019881782686, 0.004953792341304421, 0.27493547494239534, 0.04458413107173979, 0.022292065535869893, 0.009907584682608842, 0.8937935835261136, 0.012176279587888613, 0.6240343288792914, 0.00913220969091646, 0.12176279587888612, 0.19786454330318995, 0.021308489278805073, 0.012176279587888613, 0.8872981013402487, 0.059153206756016576, 0.009295653194311823, 0.10225218513743006, 0.018591306388623646, 0.25098263624641926, 0.5484435384643976, 0.009295653194311823, 0.06506957236018276, 0.019338795114050466, 0.019338795114050466, 0.019338795114050466, 0.07735518045620186, 0.0580163853421514, 0.2514043364826561, 0.5608250583074635, 0.02513413252952343, 0.05026826505904686, 0.07540239758857029, 0.7791581084152263, 0.02513413252952343, 0.8966059184427616, 0.07630688667597971, 0.1540714091506807, 0.09244284549040842, 0.03081428183013614, 0.03081428183013614, 0.03081428183013614, 0.06162856366027228, 0.647099918432859, 0.12171145754721958, 0.7302687452833175, 0.8549957047629977, 0.05115358917385456, 0.021922966788794813, 0.007307655596264937, 0.043845933577589626, 0.02923062238505975, 0.9449432200909652, 0.10349273977854254, 0.04139709591141701, 0.8072433702726318, 0.04139709591141701, 0.7939636357319961, 0.08961214850248263, 0.016130186730446874, 0.0035844859400993054, 0.008961214850248263, 0.02150691564059583, 0.06631298989183715, 0.018290984339740128, 0.06401844518909044, 0.054872953019220384, 0.09145492169870065, 0.7407848657594752, 0.018290984339740128, 0.027436476509610192, 0.8398034761418824, 0.08797941178629246, 0.023994385032625215, 0.007998128344208405, 0.007998128344208405, 0.01599625668841681, 0.01599625668841681, 0.8743595893144936, 0.07226112308384244, 0.021678336925152735, 0.007226112308384245, 0.007226112308384245, 0.01445222461676849, 0.901869778045179, 0.05322938352590553, 0.09581289034662996, 0.7154029145881704, 0.06600443557212286, 0.04471268216176065, 0.01490422738725355, 0.012775052046217327, 0.18174964840579663, 0.7269985936231865, 0.9214495016771748, 0.24864635980166536, 0.17058296777090995, 0.17058296777090995, 0.10986699619143353, 0.11854070641707301, 0.16190925754527047, 0.01734742045127898, 0.019184768933111784, 0.7386136039248036, 0.009592384466555892, 0.10551622913211481, 0.05755430679933535, 0.019184768933111784, 0.05755430679933535, 0.009322427628546728, 0.7364717826551915, 0.15848126968529436, 0.046612138142733635, 0.027967282885640182, 0.009322427628546728, 0.04766270624035657, 0.1429881187210697, 0.8102660060860616, 0.30508180069784163, 0.1144056752616906, 0.038135225087230204, 0.04576227010467624, 0.00762704501744604, 0.06864340515701436, 0.41948747595953223, 0.8306332147588245, 0.12585351738770068, 0.12015700511295012, 0.6568582946174607, 0.008010467007530008, 0.08811513708283009, 0.08010467007530007, 0.03204186803012003, 0.9158123148647577, 0.01869004724213791, 0.03738009448427582, 0.09794749338282928, 0.19045345935550137, 0.1469212400742439, 0.25847255198246616, 0.04897374669141464, 0.2067780415859729, 0.046252982986336046, 0.07393220870566843, 0.03696610435283421, 0.8871865044680212, 0.8732323523641657, 0.13268108759592073, 0.030618712522135556, 0.030618712522135556, 0.04082495002951407, 0.06123742504427111, 0.7042303880091177, 0.9067690209188244, 0.04477871708241108, 0.004198004726476039, 0.004198004726476039, 0.0013993349088253463, 0.006996674544126731, 0.030785367994157615, 0.1214601443182856, 0.7287608659097136, 0.06440719072764521, 0.1717525086070539, 0.042938127151763476, 0.12881438145529042, 0.021469063575881738, 0.06440719072764521, 0.49378846224527995, 0.0837250741223103, 0.006440390317100792, 0.89521425407701, 0.033879678460115394, 0.8808716399630002, 0.06775935692023079, 0.7403763035336851, 0.10576804336195501, 0.6427120647033405, 0.005060724918923941, 0.09109304854063095, 0.015182174756771824, 0.020242899675695765, 0.025303624594619708, 0.20242899675695766, 0.11186148467451874, 0.005084612939750852, 0.6304920045291057, 0.04067690351800682, 0.1271153234937713, 0.04576151645775767, 0.03559229057825596, 0.06267108383534148, 0.1025526826396497, 0.5156120988271277, 0.07976319760861643, 0.10540136826852886, 0.12249348204180381, 0.008546056886637475, 0.08341495531973143, 0.08341495531973143, 0.8341495531973143, 0.9343102503215901, 0.0444909643010281, 0.8480971663788639, 0.05531068476383895, 0.01843689492127965, 0.009218447460639824, 0.027655342381919475, 0.05531068476383895, 0.9232870565000298, 0.03297453773214392, 0.9161469763561072, 0.012215293018081429, 0.012215293018081429, 0.012215293018081429, 0.024430586036162858, 0.9399692165000746, 0.27336299755179927, 0.04205584577719989, 0.021027922888599945, 0.021027922888599945, 0.6518656095465982, 0.08348941704780928, 0.08348941704780928, 0.8348941704780928, 0.39429624223455123, 0.2013427619921113, 0.12080565719526677, 0.13758422069460938, 0.030201414298816693, 0.07046996669723894, 0.046979977798159295, 0.060460731723564407, 0.060460731723564407, 0.060460731723564407, 0.12092146344712881, 0.6650680489592085, 0.7507599895441528, 0.07728411657072161, 0.10212543975416785, 0.013800735101914574, 0.013800735101914574, 0.022081176163063317, 0.022081176163063317, 0.050734939177022764, 0.01691164639234092, 0.862493966009387, 0.00845582319617046, 0.01691164639234092, 0.03382329278468184, 0.00845582319617046, 0.19802160683765674, 0.6930756239317986, 0.9088405164904804, 0.02421205351192946, 0.9442700869652491, 0.8775046122399632, 0.01964643109392854, 0.8644429681328558, 0.01964643109392854, 0.07858572437571416, 0.01964643109392854, 0.01964643109392854, 0.08036109973227913, 0.7232498975905123, 0.020090274933069783, 0.10045137466534892, 0.06027082479920935, 0.06428215677478653, 0.030250426717546606, 0.4575377041028924, 0.13990822356865304, 0.2760351437976128, 0.0075626066793866515, 0.02646912337785328, 0.1657316040718928, 0.3201633260479747, 0.0790991746706761, 0.207164505089866, 0.06591597889223008, 0.10923219359283844, 0.05084946943114892, 0.07688210620939026, 0.8457031683032928, 0.9120400601175156, 0.8960861507670486, 0.030899522440243053, 0.09176743926412245, 0.8259069533771021, 0.9398312535646355, 0.9066983213595421, 0.061820340092696054, 0.020606780030898685, 0.8514856148778367, 0.04929653559819055, 0.022407516180995703, 0.0044815032361991405, 0.008963006472398281, 0.0044815032361991405, 0.05825954207058883, 0.9302076976148027, 0.03307405147074854, 0.01653702573537427, 0.004134256433843567, 0.012402769301530702, 0.15685004474366074, 0.7842502237183038, 0.03541268564105953, 0.8853171410264883, 0.03541268564105953, 0.03541268564105953, 0.31555860968880217, 0.03305852101501737, 0.2825000886737848, 0.05409576166093751, 0.042074481291840285, 0.0961702429527778, 0.17430856535190978, 0.8850998958439418, 0.08850998958439418, 0.9322823625975409, 0.03453448742539345, 0.03453448742539345, 0.10360346227618035, 0.8288276982094428, 0.1353414002784674, 0.32803085152238703, 0.07111158319716082, 0.16745630881912066, 0.24315573609351768, 0.03670275261788946, 0.01835137630894473, 0.24369258613522185, 0.06853853985053114, 0.2208464061850448, 0.10661550643415955, 0.09519241645907103, 0.0647308431921683, 0.20561561955159344, 0.09963363903460314, 0.7970691122768251, 0.9268605481119684, 0.00802042950198965, 0.024061288505968954, 0.7218386551790686, 0.08822472452188616, 0.12030644252984476, 0.00802042950198965, 0.024061288505968954, 0.7810718462346538, 0.10138913388622908, 0.04881699038966586, 0.0037551531068973736, 0.0037551531068973736, 0.04130668417587111, 0.018775765534486868, 0.7976239765724277, 0.15192837648998622, 0.055980921071817055, 0.06397819551064807, 0.7997274438831008, 0.015994548877662017, 0.031989097755324034, 0.007997274438831008, 0.023991823316493025, 0.018417945603513723, 0.05525383681054117, 0.7090909057352783, 0.10129870081932549, 0.04604486400878431, 0.05525383681054117, 0.9089058244026872, 0.08398903664674232, 0.08398903664674232, 0.08398903664674232, 0.6719122931739385, 0.013710426536163584, 0.09597298575314508, 0.21936682457861734, 0.6032587675911977, 0.054841706144654334, 0.8890490372334028, 0.09340310931751795, 0.1671424061471374, 0.1523945467812135, 0.014747859365923887, 0.5505867496611585, 0.009831906243949258, 0.004915953121974629, 0.7564459667933531, 0.08997374935427548, 0.013329444348781553, 0.0033323610871953883, 0.03332361087195388, 0.03332361087195388, 0.06997958283110316, 0.8955366459740085, 0.07462805383116737, 0.05149993763078858, 0.07724990644618286, 0.05149993763078858, 0.07724990644618286, 0.7209991268310401, 0.02574996881539429, 0.05022654481806265, 0.1004530896361253, 0.8036247170890024, 0.13993091201833568, 0.06996545600916784, 0.03498272800458392, 0.7346372880962623, 0.9094320868385217, 0.02598377390967205, 0.0519675478193441, 0.9143508921944983, 0.036574035687779935, 0.012389909262571318, 0.06194954631285659, 0.1982385482011411, 0.012389909262571318, 0.16106882041342713, 0.545156007553138, 0.1836653804560797, 0.25756624359817093, 0.13584717489355005, 0.18583893525437647, 0.15866950027566648, 0.03803720897019402, 0.03912398636934242, 0.13435199532541373, 0.28387276431659997, 0.12568412465925802, 0.25353521698505493, 0.11051535099348549, 0.05850812699655114, 0.0346714826646229, 0.10025539849278234, 0.8521708871886499, 0.03790029542257255, 0.018950147711286273, 0.1326510339790039, 0.0758005908451451, 0.7201056130288783, 0.018950147711286273, 0.04402104904808481, 0.4674616160820434, 0.22010524524042402, 0.16769923446889448, 0.025154885170334172, 0.048213529909807165, 0.027251125601195355, 0.046604530067486945, 0.03106968671165796, 0.7301376377239621, 0.09320906013497389, 0.09320906013497389, 0.7339194623330412, 0.01834798655832603, 0.12843590590828222, 0.01834798655832603, 0.09173993279163015, 0.06639443391654877, 0.6905021127321073, 0.013278886783309754, 0.11287053765813292, 0.05975499052489389, 0.026557773566619508, 0.026557773566619508, 0.8673631509339704, 0.037711441344955236, 0.07542288268991047, 0.27565397165319716, 0.02505945196847247, 0.02505945196847247, 0.012529725984236234, 0.018794588976354352, 0.6390160251960479, 0.9271579568952751, 0.38280540191482887, 0.026041183803729853, 0.4374918879026615, 0.0182288286626109, 0.015624710282237912, 0.023437065423356867, 0.09635238007380045, 0.006362769119545743, 0.6490024501936659, 0.012725538239091486, 0.2672363030209212, 0.050902152956365944, 0.012725538239091486, 0.08113213690554648, 0.16226427381109296, 0.7301892321499184, 0.167389927850039, 0.7951021572876853, 0.9634751646052385, 0.8519765260004843, 0.9230650601287645, 0.03692260240515058, 0.003172794410299341, 0.2316139919518519, 0.060283093795687484, 0.16498530933556574, 0.4537096006728058, 0.07297427143688484, 0.015863972051496707, 0.13334813036542958, 0.10001109777407219, 0.7667517496012201, 0.6148891552432467, 0.08059226792023136, 0.06566777386092926, 0.026864089306743787, 0.02387919049488337, 0.0716375714846501, 0.11342615485069599, 0.2461685640481051, 0.0848857117407259, 0.00848857117407259, 0.00848857117407259, 0.6366428380554442, 0.01697714234814518, 0.9010310413729136, 0.0563144400858071, 0.8717490231494593, 0.017614646115082226, 0.8278883674088645, 0.10568787669049334, 0.03522929223016445, 0.030444075107154047, 0.9133222532146213, 0.030444075107154047, 0.9206615196718267, 0.03409857480266025, 0.029614697143224743, 0.029614697143224743, 0.8292115200102929, 0.08884409142967424, 0.2605834848918546, 0.11370915704371838, 0.17056373556557758, 0.05211669697837093, 0.09001974932627706, 0.042640933891394395, 0.2653213664353429, 0.02867554547365556, 0.8602663642096668, 0.08602663642096668, 0.015154370236001819, 0.16669807259602, 0.030308740472003638, 0.7728728820360928, 0.0644878414097589, 0.8705858590317452, 0.03224392070487945, 0.8933804590116573, 0.13391777612860004, 0.2948267319420342, 0.17751891254256283, 0.1526039774488698, 0.16609956729128686, 0.052944237074097684, 0.022838690502551943, 0.1129576751941658, 0.37652558398055264, 0.12012959107950966, 0.15240321256355702, 0.1326804438788614, 0.055582348111414916, 0.050203411197407025, 0.0361525327268488, 0.10845759818054639, 0.8315082527175223, 0.07641491143652221, 0.6549849551701903, 0.05458207959751586, 0.05458207959751586, 0.021832831839006344, 0.05458207959751586, 0.06549849551701903, 0.18134755716158427, 0.33916146186708507, 0.1522765747158341, 0.10105627231141719, 0.12874292225975065, 0.052604634901833605, 0.04429863991733356, 0.09602828448914655, 0.3099094635786093, 0.10475812853361441, 0.20951625706722882, 0.20078641302276096, 0.032736915166754504, 0.0458316812334563, 0.880491386677179, 0.07012763256720894, 0.03895979587067163, 0.007791959174134327, 0.007791959174134327, 0.929949059303564, 0.3680868800047, 0.07739262605227026, 0.27559325374710875, 0.06417925087261436, 0.018876250256651284, 0.062291625846949236, 0.13402137682222412, 0.9301794987744264, 0.8894962214276755, 0.01781268474638322, 0.053438054239149664, 0.01781268474638322, 0.7659454440944785, 0.01781268474638322, 0.12468879322468254, 0.9319462894299122, 0.9444748826564862, 0.04497499441221362, 0.10375781781258789, 0.85600199695385, 0.025939454453146972, 0.8710216845330429, 0.13358436463226475, 0.06679218231613238, 0.8015061877935885, 0.9291271566904316, 0.06194181044602877, 0.9107292267070493, 0.05357230745335584, 0.018666725371609627, 0.018666725371609627, 0.7160022517538835, 0.03333343816358862, 0.16000050318522538, 0.04666681342902407, 0.006666687632717725, 0.8647239305184126, 0.054045245657400785, 0.9289927045964526, 0.06193284697309683, 0.13656842827403326, 0.17490342568428818, 0.21563436043268408, 0.15094405230287886, 0.218030297770825, 0.052710621439100554, 0.050314684100959614, 0.8408684940865726, 0.09296033602967135, 0.00845093963906103, 0.004225469819530515, 0.012676409458591548, 0.004225469819530515, 0.03380375855624412, 0.04779386734781746, 0.8602896122607142, 0.07169080102172619, 0.02389693367390873, 0.08381243797952667, 0.8101869004687579, 0.05587495865301779, 0.027937479326508894, 0.027937479326508894, 0.044481896813777885, 0.800674142648002, 0.13344569044133367, 0.08073366757964419, 0.4739847580482336, 0.11458972172594659, 0.18490614187595927, 0.046877613433341785, 0.07292073200742055, 0.026043118574078768, 0.18577668591823776, 0.11146601155094266, 0.03715533718364755, 0.03715533718364755, 0.6687960693056559, 0.028932831281002054, 0.8679849384300616, 0.04339924692150308, 0.014466415640501027, 0.014466415640501027, 0.5453759137540944, 0.14068614335694793, 0.10247509207481392, 0.09031703030322583, 0.024316123543176183, 0.03994791724950373, 0.057316576923201, 0.13028689572791866, 0.781721374367512, 0.02605737914558373, 0.02605737914558373, 0.05368448852351666, 0.9126363048997832, 0.05368448852351666, 0.9328394292596404, 0.04664197146298202, 0.06604336657708387, 0.6934553490593807, 0.033021683288541936, 0.13208673315416775, 0.044028911051389244, 0.033021683288541936, 0.10447669459444871, 0.10447669459444871, 0.017412782432408118, 0.7487496445935491, 0.017412782432408118, 0.9325394702448858, 0.9041072756508302, 0.9191020550465372, 0.8943183012909816, 0.04258658577576103, 0.04258658577576103, 0.8939318142812849, 0.9552163645269802, 0.009142779408269575, 0.009142779408269575, 0.9554204481641705, 0.013714169112404362, 0.009142779408269575, 0.9541271442834783, 0.9599579943000182, 0.016270474479661325, 0.19968828272419162, 0.01996882827241916, 0.09984414136209581, 0.033281380454031936, 0.013312552181612773, 0.033281380454031936, 0.5990648481725749, 0.17520454583034592, 0.058401515276781966, 0.7592196985981656, 0.34322909576623223, 0.012712188732082675, 0.12712188732082674, 0.012712188732082675, 0.012712188732082675, 0.4576387943549763, 0.0508487549283307, 0.18944012790329545, 0.1420800959274716, 0.663040447661534, 0.0952204015272645, 0.761763212218116, 0.9233531248218397, 0.027672701500473504, 0.08301810450142051, 0.13836350750236753, 0.027672701500473504, 0.6918175375118376, 0.4520533281642778, 0.19974449384002974, 0.09461581287159303, 0.01051286809684367, 0.026282170242109174, 0.2102573619368734, 0.09945562977586576, 0.0621597686099161, 0.04972781488793288, 0.11188758349784898, 0.08702367605388255, 0.11188758349784898, 0.4848461951573456, 0.8958307442044344, 0.03656452017160957, 0.05484678025741435, 0.05023465289248509, 0.10046930578497018, 0.8037544462797614, 0.2730411059533849, 0.06067580132297442, 0.03033790066148721, 0.015168950330743605, 0.12135160264594884, 0.500575360914539, 0.9080307298218478, 0.09378039407938328, 0.515792167436608, 0.06619792523250585, 0.16549481308126462, 0.10757162850282201, 0.03034071573156518, 0.02206597507750195, 0.11221942131011685, 0.3588411727939783, 0.088731635454511, 0.15267060806143803, 0.21139007270045268, 0.03262192479945257, 0.04306094073527739, 0.043833270000849155, 0.08766654000169831, 0.043833270000849155, 0.7889988600152847, 0.9393502027206163, 0.018976771772133662, 0.028465157658200492, 0.009488385886066831, 0.9592493961065448, 0.23148042002171115, 0.21081252537691553, 0.14743098179954223, 0.1446752625135695, 0.07853799965022343, 0.10609519250995095, 0.08267157857918256, 0.308526748850682, 0.05609577251830582, 0.4848277481939289, 0.04006840894164702, 0.022037624917905858, 0.008013681788329403, 0.08013681788329403, 0.18054473260143689, 0.7221789304057475, 0.22518088962792496, 0.03555487730967236, 0.05925812884945394, 0.6281361658042117, 0.023703251539781575, 0.023703251539781575, 0.1761416737712405, 0.704566695084962, 0.05795769246913181, 0.4716557042315554, 0.04796498687100564, 0.2238366053980263, 0.15788474845039355, 0.027979575674753288, 0.013989787837376644, 0.04635862748445376, 0.10430691184002097, 0.7417380397512602, 0.06953794122668064, 0.02317931374222688, 0.23796849712488624, 0.15265903589143645, 0.16612895082303378, 0.10775931945277867, 0.053879659726389334, 0.23347852548102047, 0.04938968808252356, 0.09618436544361463, 0.3731953379212247, 0.1038791146791038, 0.13658179892993275, 0.250079350153398, 0.021160560397595216, 0.01731318577985063, 0.05011372110916795, 0.5303702150720275, 0.008352286851527993, 0.3048584700807717, 0.07099443823798794, 0.020880717128819982, 0.016704573703055985, 0.02697418625304109, 0.7283030288321094, 0.013487093126520544, 0.148358024391726, 0.040461279379561635, 0.013487093126520544, 0.013487093126520544, 0.9303923749114601, 0.034458976848572596, 0.18992627809661097, 0.2948855370447381, 0.12661751873107396, 0.19325831806321817, 0.08829905911509106, 0.05831069941562617, 0.049980599499108144, 0.17168133607652636, 0.26792693357397296, 0.14566901242856783, 0.10404929459183417, 0.20289612445407662, 0.0767363547614777, 0.03121478837755025, 0.12838004836973507, 0.479896847477343, 0.05502002072988646, 0.21091007946456478, 0.030566678183270257, 0.03973668163825134, 0.05502002072988646, 0.1351877241897066, 0.675938620948533, 0.9468913820350613, 0.19019288349932179, 0.7369974235598719, 0.011887055218707612, 0.059435276093538054, 0.011887055218707612, 0.04923939534668064, 0.8534828526757978, 0.01641313178222688, 0.04923939534668064, 0.03282626356445376, 0.03625837071566223, 0.10877511214698668, 0.07251674143132446, 0.7614257850289068, 0.2194510166838201, 0.13197753450915056, 0.2470742215810842, 0.089008104668962, 0.17955083183221646, 0.06752338974886772, 0.06598876725457528, 0.07022670260575925, 0.07022670260575925, 0.7724937286633518, 0.17140532281770968, 0.7427563988767419, 0.9686885102990895, 0.0046590360211482395, 0.009318072042296479, 0.6802192590876429, 0.07454457633837183, 0.1770433688036331, 0.023295180105741196, 0.032613252148037675, 0.06130571920234227, 0.89915054830102, 0.07349065521563161, 0.6869778639722085, 0.02875721291046454, 0.08627163873139362, 0.05431917994198858, 0.031952458789405044, 0.03834295054728606, 0.17323581672078472, 0.10394149003247084, 0.03464716334415695, 0.017323581672078474, 0.623648940194825, 0.03464716334415695, 0.19436052699617565, 0.18154554719423, 0.11533481821751082, 0.14950809768936588, 0.23066963643502164, 0.044852429306809764, 0.0832973687126467, 0.3323772256205256, 0.08022898549460962, 0.18338053827339343, 0.11461283642087089, 0.01146128364208709, 0.04011449274730481, 0.23495631466278533, 0.2023441904735968, 0.0962368710789058, 0.3923503205524621, 0.12091299186836882, 0.06169030197365756, 0.1011720952367984, 0.024676120789463026, 0.9644881213346916, 0.9336127853526988, 0.051308447046587255, 0.20523378818634902, 0.07183182586522215, 0.0410467576372698, 0.1231402729118094, 0.47203771282860274, 0.0410467576372698, 0.9003187507148697, 0.859980904495604, 0.11727012334030965, 0.24730735144138669, 0.17664810817241905, 0.3822022704094158, 0.057812108129155326, 0.08350637840877992, 0.04496497298934303, 0.009635351354859222, 0.30965130070576996, 0.6414205514619521, 0.04423590010082428, 0.8813577169546623, 0.044067885847733114, 0.15479167262319313, 0.33562306587458696, 0.13598520772504816, 0.18517134668942728, 0.12730530084898126, 0.03761292979628992, 0.02314641833617841, 0.05258072992525525, 0.05258072992525525, 0.8675820437667116, 0.00399854652148965, 0.23191569824639968, 0.0079970930429793, 0.7037441877821783, 0.019992732607448247, 0.00399854652148965, 0.027989825650427548, 0.022079801318108397, 0.13247880790865038, 0.7727930461337938, 0.044159602636216794, 0.022079801318108397, 0.8665134751857555, 0.06665488270659657, 0.022435909342329093, 0.022435909342329093, 0.9423081923778219, 0.4011695847487961, 0.14779932069692486, 0.16046783389951844, 0.09079101128525385, 0.029559864139384974, 0.09923668675364956, 0.07389966034846243, 0.17576847944005855, 0.23670155231261217, 0.1640505808107213, 0.09843034848643278, 0.22029649423154005, 0.04218443506561405, 0.06327665259842108, 0.9460391067256941, 0.3093833785042763, 0.07000645790972675, 0.20550282805758496, 0.04516545671595274, 0.07452300358132202, 0.24615173910194244, 0.04968200238754801, 0.8765361721022396, 0.9271398060843409, 0.04031042635149308, 0.9560213071202557, 0.010391535946959301, 0.010391535946959301, 0.010391535946959301, 0.6410455660492773, 0.11131928991274875, 0.061417539262206215, 0.08828771268942143, 0.02687017342721522, 0.030708769631103108, 0.042224558242766774, 0.05012115746245848, 0.8687667293492803, 0.05012115746245848, 0.01670705248748616, 0.01670705248748616, 0.8751635264071606, 0.31782560486973677, 0.15208832625668386, 0.18913548265254274, 0.08384356447483854, 0.05069610875222795, 0.12479042154394573, 0.08189371413821439, 0.940758603892582, 0.8934091615098727, 0.015953735026962013, 0.015953735026962013, 0.055838072594367044, 0.015953735026962013, 0.045634390185987604, 0.8898706086267583, 0.045634390185987604, 0.022817195092993802, 0.9128943870812969, 0.7290649180979571, 0.1583410681310599, 0.04350029344259887, 0.006960046950815819, 0.013920093901631639, 0.01740011737703955, 0.03132021127867119, 0.21928740095128435, 0.023082884310661512, 0.7386522979411684, 0.011541442155330756, 0.11149611568291297, 0.7804728097803908, 0.8187692932384513, 0.0682307744365376, 0.05680168126708109, 0.0189338937556937, 0.814157431494829, 0.09466946877846849, 0.08093230185790304, 0.8902553204369333, 0.8823828005093524, 0.09288240005361603, 0.06578277734095077, 0.06578277734095077, 0.7893933280914092, 0.06578277734095077, 0.03239936331145896, 0.5276467739294745, 0.060170246149852356, 0.05554176567678679, 0.2962227502761962, 0.009256960946131132, 0.018513921892262263, 0.16068563613969358, 0.27238174906606594, 0.16852395985382496, 0.12737276035463516, 0.10385778921224097, 0.10581737014077382, 0.06270658971305115, 0.7342355877938795, 0.1795510607705557, 0.012825075769325407, 0.016031344711656757, 0.028856420480982165, 0.02244388259631946, 0.021182562600661106, 0.900258910528097, 0.052956406501652765, 0.010591281300330553, 0.021182562600661106, 0.0033612504100224397, 0.8167838496354528, 0.08067000984053856, 0.0336125041002244, 0.006722500820044879, 0.060502507380403914, 0.12149640759594783, 0.14680815917843695, 0.5416714838652674, 0.05062350316497826, 0.05062350316497826, 0.0759352547474674, 0.01518705094949348, 0.06601104642751464, 0.8911491267714476, 0.9035308919142462, 0.06453792085101759, 0.1332062383328374, 0.1261953836837407, 0.3698225827398512, 0.049075982543676934, 0.26115433567885227, 0.035054273245483526, 0.026290704934112643, 0.10131300306530132, 0.8611605260550612, 0.9025244245611735, 0.19227172125553477, 0.050597821383035466, 0.5464564709367831, 0.06071738565964256, 0.03541847496812483, 0.10119564276607093, 0.01517934641491064, 0.027773653839600704, 0.13886826919800352, 0.8054359613484203, 0.19517562287065673, 0.056663890510835827, 0.6170068077846568, 0.03777592700722388, 0.025183951338149255, 0.0440719148417612, 0.01888796350361194, 0.08366418420118948, 0.058100127917492694, 0.24634454237016903, 0.4183209210059474, 0.004648010233399415, 0.011620025583498539, 0.1789483939858775, 0.5697729486149021, 0.20349033879103648, 0.0406980677582073, 0.032558454206565834, 0.02170563613771056, 0.05697729486149022, 0.07596972648198695, 0.8707946651085261, 0.9610491218225545, 0.9675236121484349, 0.973608176759588, 0.6219329510627711, 0.0913740354641986, 0.10807681614044996, 0.005895099062206362, 0.007860132082941815, 0.040283176925076804, 0.12477959681670132, 0.7944168253421792, 0.10290373385261388, 0.020580746770522775, 0.004116149354104555, 0.00823229870820911, 0.028813045478731886, 0.04116149354104555, 0.010888215820872231, 0.03266464746261669, 0.9363865605950118, 0.021776431641744462, 0.11667482113671017, 0.700048926820261, 0.011767685077353044, 0.023535370154706088, 0.7884349001826539, 0.023535370154706088, 0.09414148061882435, 0.047070740309412176, 0.1250408522827591, 0.06252042614137955, 0.8127655398379342, 0.20828684163329214, 0.050276134187346375, 0.4273471405924442, 0.07541420128101957, 0.16160185988789907, 0.06464074395515963, 0.0071823048839066254, 0.08499082243921616, 0.04249541121960808, 0.8499082243921616, 0.21922650196221044, 0.048717000436046765, 0.024358500218023382, 0.024358500218023382, 0.09743400087209353, 0.5846040052325612, 0.03206438846231314, 0.8657384884824548, 0.03206438846231314, 0.03206438846231314, 0.29058282167299926, 0.09901340590339235, 0.25829584148711043, 0.06457396037177761, 0.1162331286691997, 0.1377577821264589, 0.034439445531614724, 0.07523131347567354, 0.10030841796756472, 0.05015420898378236, 0.6269276122972796, 0.1253855224594559, 0.9212635035933683, 0.023031587589834205, 0.023031587589834205, 0.023031587589834205, 0.9015856537659854, 0.8520110068212454, 0.08074443922106582, 0.3924179746143799, 0.0888188831431724, 0.11465710369391346, 0.2616119830762533, 0.046831774748218175, 0.016148887844213165, 0.21517975398389771, 0.10758987699194886, 0.6455392619516932, 0.9202948879533244, 0.8377380814314349, 0.09308200904793722, 0.21805846654886807, 0.02907446220651574, 0.41067677866703484, 0.05814892441303148, 0.17444677323909447, 0.07268615551628936, 0.03634307775814468, 0.25734250275201764, 0.04825171926600331, 0.22839147119241568, 0.04825171926600331, 0.05146850055040353, 0.24447537761441676, 0.12223768880720838, 0.3138217175982393, 0.032022624244718294, 0.131292759403345, 0.08325882303626757, 0.035224886669190124, 0.26899004365563367, 0.13449502182781684, 0.8256876813954511, 0.04216277522019325, 0.08783911504206927, 0.0035135646016827707, 0.0070271292033655414, 0.035135646016827705, 0.7757163320980776, 0.031569850724921765, 0.14431931759964234, 0.004509978674988823, 0.004509978674988823, 0.04058980807489941, 0.024560692749947884, 0.11578612296404002, 0.2982369833922243, 0.10526011178549093, 0.36490172085636857, 0.03508670392849698, 0.056138726285595165, 0.012424217842227168, 0.16151483194895316, 0.17393904979118033, 0.1118179605800445, 0.0372726535266815, 0.4969687136890867, 0.012424217842227168, 0.931869621323623, 0.8882936590880214, 0.06594944189412412, 0.06594944189412412, 0.7254438608353654, 0.09892416284118619, 0.870773790665759, 0.03225088113576885, 0.0645017622715377, 0.02176545295416521, 0.02176545295416521, 0.9576799299832692, 0.021173296353813993, 0.10586648176906996, 0.010586648176906997, 0.7304787242065827, 0.021173296353813993, 0.08469318541525597, 0.021173296353813993, 0.10474818397981657, 0.052374091989908285, 0.052374091989908285, 0.733237287858716, 0.9314223415875018, 0.9266744405550262, 0.016533433568141482, 0.16533433568141484, 0.7936048112707912, 0.9384454755830678, 0.9025853831704634, 0.5612489530061083, 0.011113840653586303, 0.027784601633965757, 0.06112612359472466, 0.3334152196075891, 0.9385879168962106, 0.028879628212191095, 0.02406635684349258, 0.004813271368698516, 0.20969535678155238, 0.24575761559111872, 0.18565385090850817, 0.12688572544106672, 0.13890647837758885, 0.05075429017642669, 0.04274045488541195, 0.059856689875419124, 0.35674587165749794, 0.12929045013090532, 0.06943376025548618, 0.3471688012774309, 0.02394267595016765, 0.011971337975083825, 0.02713304809253029, 0.13566524046265144, 0.13566524046265144, 0.02713304809253029, 0.6376266301744619, 0.03391631011566286, 0.006783262023132572, 0.036052996049779074, 0.06609715942459497, 0.06609715942459497, 0.1141678208243004, 0.636936263546097, 0.06609715942459497, 0.012017665349926357, 0.6957554187670985, 0.034031515048390686, 0.10209454514517205, 0.015125117799284748, 0.007562558899642374, 0.06428175064696018, 0.07940686844624492, 0.08720353289919325, 0.3296293543589505, 0.09243574487314485, 0.1796392777723381, 0.18835963106225742, 0.06453061434540301, 0.05755433171346755, 0.7683682792662332, 0.018294482839672218, 0.10976689703803331, 0.009147241419836109, 0.08689879348844304, 0.08929917305544881, 0.03189256180551743, 0.6761223102769696, 0.03189256180551743, 0.05740661124993138, 0.044649586527724404, 0.06378512361103486, 0.05903170518575709, 0.009838617530959513, 0.019677235061919027, 0.009838617530959513, 0.0688703227167166, 0.03935447012383805, 0.7969280200077207, 0.11673539086529819, 0.8171477360570873, 0.10045144594714067, 0.4464508708761808, 0.08036115675771255, 0.1674190765785678, 0.09152242852961706, 0.07812890240333163, 0.03571606967009446, 0.1047462223432674, 0.8903428899177729, 0.7827603385918197, 0.19569008464795493, 0.02653308586990593, 0.10613234347962372, 0.8225256619670839, 0.02653308586990593, 0.02653308586990593, 0.8761936495709715, 0.059047702114340954, 0.8857155317151143, 0.9069881029248733, 0.0541373694822393, 0.8120605422335895, 0.1082747389644786, 0.19696443672705433, 0.030302221034931437, 0.060604442069862874, 0.6514977522510259, 0.060604442069862874, 0.12273970163193763, 0.41375157485604785, 0.07522755906473597, 0.1643128263782391, 0.142536427701605, 0.04553246996023493, 0.03761377953236798, 0.025486298724035933, 0.17203251638724254, 0.006371574681008983, 0.777332111083096, 0.006371574681008983, 0.012743149362017966, 0.10911446772767479, 0.8530767476890938, 0.019838994132304506, 0.009919497066152253, 0.9328788508990171, 0.054999725363475964, 0.18333241787825322, 0.018333241787825322, 0.2291655223478165, 0.06416634625738862, 0.40333131933215705, 0.045833104469563304, 0.8916419848341558, 0.17602764441765212, 0.1383074348995838, 0.2074611523493757, 0.08172712062248134, 0.06286701586344719, 0.06286701586344719, 0.2640414666264782, 0.05499898906246452, 0.898316821353587, 0.036665992708309676, 0.9522902273392128, 0.07055702208565641, 0.05879751840471367, 0.05879751840471367, 0.2469495772997974, 0.07055702208565641, 0.4938991545995948, 0.011759503680942734, 0.43116135537550876, 0.11409192788398077, 0.22818385576796155, 0.033166258105808366, 0.026533006484646692, 0.11276527755974844, 0.053066012969293384, 0.35965874801208053, 0.05190951002236214, 0.1668519965004497, 0.04078604358899882, 0.029662577155635507, 0.19651457365608524, 0.15943635221154084, 0.44638342210633786, 0.08198879181544981, 0.2937931706720285, 0.036439463029088806, 0.0501042616649971, 0.04782679522567906, 0.045549328786361004, 0.1682731397470945, 0.26984341328813355, 0.13795365510797838, 0.20162457285012225, 0.10308624777299483, 0.06367091774214387, 0.05457507235040903, 0.10086080807996707, 0.4230550561131952, 0.08405067339997256, 0.17370472502660994, 0.12887769921329126, 0.050430404039983535, 0.03642195847332144, 0.014115025823914332, 0.08469015494348599, 0.11292020659131466, 0.05646010329565733, 0.7339813428435453, 0.04944281017705842, 0.14832843053117525, 0.19777124070823368, 0.04944281017705842, 0.5339823499122309, 0.029665686106235052, 0.02421126535495495, 0.18158449016216213, 0.03228168713993994, 0.028246476247447444, 0.6577393754762761, 0.052457741602402394, 0.01614084356996997, 0.0030622998017620535, 0.09186899405286161, 0.2572331833480125, 0.1378034910792924, 0.4348465718502116, 0.03674759762114464, 0.03674759762114464, 0.04654041696710551, 0.8842679223750047, 0.9176391402756142, 0.09826870502230857, 0.03275623500743619, 0.09826870502230857, 0.7206371701635962, 0.03275623500743619, 0.10839171855065832, 0.17342674968105332, 0.6937069987242133, 0.04425802393514315, 0.13277407180542944, 0.11064505983785787, 0.06638703590271472, 0.022129011967571575, 0.6196123350920041, 0.8286536041659828, 0.16075760162676736, 0.2572121626028278, 0.1428956458904599, 0.15361281933224438, 0.1696885794949211, 0.0696616273715992, 0.04822728048803021, 0.10671901446753433, 0.007114600964502289, 0.739918500308238, 0.021343802893506868, 0.049802206751516025, 0.028458403858009157, 0.049802206751516025, 0.029979167649990344, 0.003747395956248793, 0.9480911769309446, 0.003747395956248793, 0.003747395956248793, 0.01124218786874638, 0.06723888372158948, 0.013447776744317897, 0.9010010418692992, 0.013447776744317897, 0.019228857629983727, 0.24997514918978847, 0.019228857629983727, 0.6922388746794143, 0.13451003077389895, 0.22175978046507663, 0.06907271850551568, 0.12723921829963414, 0.06907271850551568, 0.31264493639338675, 0.06543731226838327, 0.18458401776035108, 0.7383360710414043, 0.2872771813582897, 0.03447326176299477, 0.16662076518780805, 0.08043761078032112, 0.39069696664727405, 0.017236630881497385, 0.017236630881497385, 0.13673428292076426, 0.6836714146038213, 0.2589815869271848, 0.0739947391220528, 0.0369973695610264, 0.6289552825374488, 0.9270976949252107, 0.07729891262976685, 0.41410131765946523, 0.057974184472325135, 0.18220457977016472, 0.19324728157441712, 0.041410131765946524, 0.03588878086382032, 0.07787784205071281, 0.4349762397466642, 0.08167676117513782, 0.10826919504611293, 0.24313082396320096, 0.026592433870975107, 0.028491893433187615, 0.14709429744626124, 0.3977429802946904, 0.0823728065699063, 0.11179166605915855, 0.1882807007312144, 0.025888596350541977, 0.045893420803233505, 0.27821781372959753, 0.03974540196137108, 0.03974540196137108, 0.6359264313819373, 0.18133847954360824, 0.725353918174433, 0.30629620895969667, 0.15733247891918845, 0.11046748519857913, 0.11883623407725936, 0.04853874349634537, 0.11046748519857913, 0.14728998026477216, 0.0722457223154772, 0.10836858347321579, 0.0361228611577386, 0.0361228611577386, 0.6863343619970333, 0.9139171522400998, 0.09165424786490055, 0.824888230784105, 0.045827123932450274, 0.05729588849531132, 0.04092563463950809, 0.662995281160031, 0.06548101542321294, 0.13096203084642588, 0.016370253855803235, 0.024555380783704853, 0.1749364222890234, 0.024990917469860485, 0.1499455048191629, 0.6247729367465121, 0.7539843060936708, 0.05671563364421418, 0.0667242748755461, 0.0016681068718886524, 0.0022241424958515366, 0.03725438680551324, 0.0806251654746182, 0.9011898548342873, 0.1485853346759787, 0.3163842902152305, 0.142180794388221, 0.14730442661842716, 0.094787196258814, 0.07301175928043781, 0.07813539151064397, 0.33936577141239105, 0.0696386409545658, 0.20989674879263495, 0.05100294830475242, 0.058849555736252786, 0.09808259289375465, 0.17262536349300817, 0.9522054767101717, 0.0846912025740421, 0.1591168048360791, 0.1591168048360791, 0.1283200039000638, 0.33619841021816715, 0.07699200234003828, 0.05132800156002552, 0.12570708163237793, 0.31338244294268863, 0.13987125984447685, 0.19121640586333544, 0.1823637944807736, 0.03186940097722257, 0.015934700488611286, 0.11098967598086452, 0.05549483799043226, 0.08324225698564838, 0.11098967598086452, 0.638190636889971, 0.03126344839233313, 0.8441131065929944, 0.03126344839233313, 0.09379034517699938, 0.8754038388289435, 0.01060959085203304, 0.01060959085203304, 0.1060959085203304, 0.04243836340813216, 0.3288973164130242, 0.49865077004555286, 0.8876924661460145, 0.05221720389094203, 0.7820206720008073, 0.1111696053334481, 0.03450091200003562, 0.0038334346666706242, 0.0038334346666706242, 0.02683404266669437, 0.038334346666706244, 0.8306162410523895, 0.10208691230811491, 0.00928062839164681, 0.004640314195823405, 0.004640314195823405, 0.03248219937076383, 0.01856125678329362, 0.909635179533959, 0.06738038366918214, 0.011230063944863691, 0.011230063944863691, 0.22279316799096102, 0.2413592653235411, 0.1299626813280606, 0.03713219466516017, 0.018566097332580085, 0.3341897519864415, 0.024754796443440114, 0.20190368990228597, 0.2808296777731796, 0.11380026158128846, 0.12297770203139237, 0.20557466608232752, 0.04221622607047797, 0.031203297530353287, 0.2332930124665029, 0.26949365233199474, 0.04022293318387981, 0.213181545874563, 0.03217834654710385, 0.048267519820655774, 0.16491402605390723, 0.9613566996679536, 0.03558037848744532, 0.0457462009124297, 0.025414556062460944, 0.5743689670116173, 0.10674113546233598, 0.19823353728719537, 0.020331644849968755, 0.06232609302319549, 0.06232609302319549, 0.8102392093015415, 0.1593814194552494, 0.37315491062935374, 0.09613482443332504, 0.1682359427583188, 0.14799703235130302, 0.030358365610523696, 0.02403370610833126, 0.9347866258962216, 0.35848996639899494, 0.33370076659480913, 0.062926430272164, 0.09724993769334436, 0.05148526113177055, 0.040044091991377095, 0.055298984178568364, 0.01951174248345502, 0.03902348496691004, 0.01951174248345502, 0.917051896722386, 0.01951174248345502, 0.0480931577009046, 0.6101819383302272, 0.04057860181013826, 0.049596068879057875, 0.09919213775811575, 0.0916775818673494, 0.06161935830428402, 0.09700007879815349, 0.3100822191088513, 0.20195098372730316, 0.17968867056051382, 0.13675420945313443, 0.041344295881180174, 0.033393469750183986, 0.11086288325245096, 0.29974038805292297, 0.08212065426107477, 0.19161485994250782, 0.19161485994250782, 0.09991346268430765, 0.026004873849340346, 0.04426998180259144, 0.8411296542492374, 0.014756660600863813, 0.08853996360518288, 0.7891201317819875, 0.05091097624399919, 0.127277440609998, 0.1474795381251432, 0.21759276116824405, 0.25990246472873596, 0.17770075495406598, 0.09066365048676836, 0.05923358498468866, 0.04714509825311954, 0.05740663222484182, 0.5549307781734709, 0.03827108814989454, 0.19135544074947272, 0.12438103648715727, 0.02232480142077182, 0.009567772037473636, 0.8762242653539826, 0.007424049381358812, 0.03712024690679406, 0.4602910616442463, 0.48998725916968155], \"Term\": [\"aca\", \"aca\", \"according\", \"according\", \"according\", \"according\", \"according\", \"according\", \"according\", \"adamfrank\", \"adamfrank\", \"administration\", \"administration\", \"administration\", \"administration\", \"administration\", \"administration\", \"administration\", \"adventure\", \"aetna\", \"affordable\", \"affordable\", \"affordable\", \"affordable\", \"affordable\", \"affordable\", \"affordable\", \"aged\", \"agreement\", \"agreement\", \"agreement\", \"agreement\", \"agreement\", \"agreement\", \"ailes\", \"ailes\", \"ailes\", \"albert\", \"albert\", \"albert\", \"albert\", \"albert\", \"albert\", \"album\", \"album\", \"album\", \"album\", \"albums\", \"ali\", \"ali\", \"ali\", \"ali\", \"always\", \"always\", \"always\", \"always\", \"always\", \"always\", \"always\", \"animal\", \"animal\", \"animal\", \"animal\", \"animal\", \"animals\", \"animals\", \"animals\", \"animals\", \"animals\", \"another\", \"another\", \"another\", \"another\", \"another\", \"another\", \"another\", \"anthropologist\", \"anthropology\", \"anthropology\", \"anthropology\", \"antibiotics\", \"antibiotics\", \"antibiotics\", \"app\", \"app\", \"app\", \"armed\", \"armed\", \"armed\", \"armed\", \"armed\", \"armed\", \"armed\", \"around\", \"around\", \"around\", \"around\", \"around\", \"around\", \"around\", \"art\", \"art\", \"art\", \"art\", \"art\", \"art\", \"art\", \"artist\", \"artist\", \"artist\", \"artist\", \"artists\", \"artists\", \"artists\", \"artists\", \"artists\", \"astrophysics\", \"astrophysics\", \"attorney\", \"attorney\", \"attorney\", \"attorney\", \"attorney\", \"attorney\", \"attorney\", \"back\", \"back\", \"back\", \"back\", \"back\", \"back\", \"back\", \"ballad\", \"ballistic\", \"baltimore\", \"baltimore\", \"baltimore\", \"baltimore\", \"baltimore\", \"baltimore\", \"baltimore\", \"band\", \"band\", \"band\", \"band\", \"band\", \"band\", \"beijing\", \"beijing\", \"biden\", \"bill\", \"bill\", \"bill\", \"bill\", \"bill\", \"bill\", \"bill\", \"bills\", \"bills\", \"bills\", \"bills\", \"bills\", \"bin\", \"bin\", \"biracial\", \"biracial\", \"black\", \"black\", \"black\", \"black\", \"black\", \"black\", \"black\", \"blackness\", \"book\", \"book\", \"book\", \"book\", \"book\", \"book\", \"book\", \"bowie\", \"bowie\", \"brain\", \"brain\", \"brain\", \"brain\", \"brain\", \"brain\", \"brain\", \"brazil\", \"brazil\", \"brazil\", \"brazil\", \"brazil\", \"brazil\", \"brazil\", \"breast\", \"breast\", \"breast\", \"breast\", \"breast\", \"breitbart\", \"breitbart\", \"brexit\", \"brexit\", \"brexit\", \"brexit\", \"brexit\", \"brexit\", \"brexit\", \"bullets\", \"bullets\", \"bush\", \"bush\", \"bush\", \"bush\", \"bush\", \"bush\", \"calories\", \"cameras\", \"cameras\", \"cameras\", \"cameras\", \"campaign\", \"campaign\", \"campaign\", \"campaign\", \"campaign\", \"campaign\", \"campaign\", \"cancer\", \"cancer\", \"cancer\", \"cancer\", \"cancer\", \"cancer\", \"cancer\", \"candidate\", \"candidate\", \"candidate\", \"candidate\", \"candidate\", \"candidate\", \"candidate\", \"candidates\", \"candidates\", \"candidates\", \"candidates\", \"candidates\", \"candidates\", \"captivity\", \"care\", \"care\", \"care\", \"care\", \"care\", \"care\", \"care\", \"caution\", \"caution\", \"celebrations\", \"change\", \"change\", \"change\", \"change\", \"change\", \"change\", \"change\", \"character\", \"character\", \"character\", \"character\", \"character\", \"character\", \"character\", \"characters\", \"characters\", \"characters\", \"characters\", \"characters\", \"characters\", \"charity\", \"charity\", \"charity\", \"china\", \"china\", \"china\", \"china\", \"china\", \"china\", \"china\", \"chocolate\", \"chocolate\", \"church\", \"church\", \"church\", \"church\", \"church\", \"church\", \"cia\", \"cia\", \"cia\", \"city\", \"city\", \"city\", \"city\", \"city\", \"city\", \"city\", \"classroom\", \"classroom\", \"classroom\", \"classrooms\", \"climate\", \"climate\", \"climate\", \"climate\", \"climate\", \"climate\", \"clinton\", \"clinton\", \"clinton\", \"clinton\", \"clinton\", \"clinton\", \"clinton\", \"collusion\", \"collusion\", \"combat\", \"combat\", \"combat\", \"combat\", \"combat\", \"combat\", \"combat\", \"comey\", \"comey\", \"comey\", \"comic\", \"comic\", \"comic\", \"commitments\", \"commitments\", \"committee\", \"committee\", \"committee\", \"committee\", \"committee\", \"committee\", \"committee\", \"companies\", \"companies\", \"companies\", \"companies\", \"companies\", \"companies\", \"companies\", \"company\", \"company\", \"company\", \"company\", \"company\", \"company\", \"company\", \"complexity\", \"complexity\", \"complexity\", \"composer\", \"composer\", \"conservative\", \"conservative\", \"conservative\", \"conservative\", \"conservative\", \"conservative\", \"constitutional\", \"constitutional\", \"convention\", \"convention\", \"convention\", \"convention\", \"convention\", \"copays\", \"counsel\", \"counsel\", \"counsel\", \"counsel\", \"counsel\", \"counseling\", \"counseling\", \"counseling\", \"country\", \"country\", \"country\", \"country\", \"country\", \"country\", \"country\", \"courses\", \"courses\", \"courses\", \"courses\", \"courses\", \"court\", \"court\", \"court\", \"court\", \"court\", \"court\", \"court\", \"coverage\", \"coverage\", \"coverage\", \"coverage\", \"coverage\", \"coverage\", \"coverage\", \"cox\", \"cox\", \"crisp\", \"cubs\", \"cubs\", \"cute\", \"dad\", \"dad\", \"dad\", \"dad\", \"dad\", \"dad\", \"dance\", \"dance\", \"dance\", \"dance\", \"dance\", \"data\", \"data\", \"data\", \"data\", \"data\", \"data\", \"data\", \"day\", \"day\", \"day\", \"day\", \"day\", \"day\", \"day\", \"decrease\", \"decrease\", \"deductibles\", \"defeat\", \"defeat\", \"defects\", \"defects\", \"delegate\", \"delegates\", \"delegates\", \"delegates\", \"democratic\", \"democratic\", \"democratic\", \"democratic\", \"democratic\", \"democratic\", \"democratic\", \"democrats\", \"democrats\", \"democrats\", \"democrats\", \"democrats\", \"demonstrators\", \"demonstrators\", \"dental\", \"dental\", \"dental\", \"dental\", \"department\", \"department\", \"department\", \"department\", \"department\", \"department\", \"department\", \"deprivation\", \"deprivation\", \"diamond\", \"diet\", \"diet\", \"diet\", \"diet\", \"different\", \"different\", \"different\", \"different\", \"different\", \"different\", \"different\", \"director\", \"director\", \"director\", \"director\", \"director\", \"director\", \"director\", \"dismissal\", \"dismissal\", \"dnc\", \"doctors\", \"doctors\", \"doctors\", \"doctors\", \"doctors\", \"doctors\", \"doctors\", \"donald\", \"donald\", \"donald\", \"donald\", \"donald\", \"donald\", \"donald\", \"dress\", \"dress\", \"drug\", \"drug\", \"drug\", \"drug\", \"drug\", \"drug\", \"drug\", \"drugs\", \"drugs\", \"drugs\", \"drugs\", \"drugs\", \"drugs\", \"dude\", \"eagle\", \"eagle\", \"eagle\", \"eagle\", \"eating\", \"eating\", \"eating\", \"eating\", \"eating\", \"editorially\", \"education\", \"education\", \"education\", \"education\", \"education\", \"education\", \"education\", \"election\", \"election\", \"election\", \"election\", \"election\", \"election\", \"election\", \"electoral\", \"electoral\", \"electricity\", \"electricity\", \"electricity\", \"electricity\", \"electricity\", \"electricity\", \"elephant\", \"elephant\", \"elephant\", \"emissions\", \"emissions\", \"emissions\", \"emissions\", \"endorsed\", \"endorsed\", \"endorsed\", \"enrollment\", \"enrollment\", \"eu\", \"eu\", \"eu\", \"eu\", \"eu\", \"eu\", \"even\", \"even\", \"even\", \"even\", \"even\", \"even\", \"even\", \"every\", \"every\", \"every\", \"every\", \"every\", \"every\", \"every\", \"evolutionary\", \"evolutionary\", \"exercise\", \"exercise\", \"exercise\", \"exercise\", \"exercise\", \"exercise\", \"family\", \"family\", \"family\", \"family\", \"family\", \"family\", \"family\", \"farm\", \"farm\", \"farm\", \"farm\", \"farm\", \"fashion\", \"fashion\", \"fashion\", \"fashion\", \"fashion\", \"father\", \"father\", \"father\", \"father\", \"father\", \"father\", \"father\", \"fathers\", \"fathers\", \"fathers\", \"fbi\", \"fbi\", \"fbi\", \"fbi\", \"fbi\", \"fbi\", \"fda\", \"federal\", \"federal\", \"federal\", \"federal\", \"federal\", \"federal\", \"federal\", \"film\", \"film\", \"film\", \"film\", \"film\", \"film\", \"firefighters\", \"firefighters\", \"firefighters\", \"firing\", \"firing\", \"flint\", \"flower\", \"flu\", \"flu\", \"food\", \"food\", \"food\", \"food\", \"food\", \"food\", \"food\", \"foods\", \"foods\", \"foods\", \"former\", \"former\", \"former\", \"former\", \"former\", \"former\", \"former\", \"fox\", \"fox\", \"fox\", \"fox\", \"fox\", \"fox\", \"freddie\", \"freddie\", \"funk\", \"funny\", \"funny\", \"funny\", \"funny\", \"gaga\", \"gaga\", \"gaga\", \"garland\", \"garland\", \"gene\", \"gene\", \"gene\", \"gene\", \"general\", \"general\", \"general\", \"general\", \"general\", \"general\", \"general\", \"genes\", \"genes\", \"genes\", \"genetic\", \"genetic\", \"genetic\", \"genetic\", \"genome\", \"genome\", \"genome\", \"germans\", \"get\", \"get\", \"get\", \"get\", \"get\", \"get\", \"get\", \"go\", \"go\", \"go\", \"go\", \"go\", \"go\", \"go\", \"goats\", \"goats\", \"goats\", \"god\", \"god\", \"god\", \"god\", \"god\", \"god\", \"god\", \"going\", \"going\", \"going\", \"going\", \"going\", \"going\", \"going\", \"good\", \"good\", \"good\", \"good\", \"good\", \"good\", \"good\", \"gop\", \"gop\", \"gop\", \"gop\", \"gop\", \"gorsuch\", \"government\", \"government\", \"government\", \"government\", \"government\", \"government\", \"government\", \"grains\", \"grams\", \"gray\", \"gray\", \"gray\", \"gray\", \"gray\", \"gray\", \"groove\", \"guantanamo\", \"guantanamo\", \"guitar\", \"guitar\", \"guitar\", \"guitarist\", \"habits\", \"habits\", \"habits\", \"hacked\", \"hacked\", \"haiti\", \"haiti\", \"health\", \"health\", \"health\", \"health\", \"health\", \"health\", \"health\", \"healthcare\", \"healthcare\", \"hearings\", \"hearings\", \"help\", \"help\", \"help\", \"help\", \"help\", \"help\", \"help\", \"hillary\", \"hillary\", \"hillary\", \"hillary\", \"hillary\", \"hillary\", \"hillary\", \"hip\", \"hip\", \"hip\", \"hip\", \"hiv\", \"hiv\", \"hiv\", \"hiv\", \"hiv\", \"hollywood\", \"hollywood\", \"hollywood\", \"home\", \"home\", \"home\", \"home\", \"home\", \"home\", \"home\", \"hong\", \"hong\", \"hong\", \"hong\", \"hong\", \"hospitals\", \"hospitals\", \"hospitals\", \"hospitals\", \"hospitals\", \"house\", \"house\", \"house\", \"house\", \"house\", \"house\", \"house\", \"howard\", \"howard\", \"howard\", \"howard\", \"husbands\", \"husbands\", \"husbands\", \"hygiene\", \"hygiene\", \"identity\", \"identity\", \"identity\", \"identity\", \"identity\", \"identity\", \"inauguration\", \"inauguration\", \"inauguration\", \"inauguration\", \"inauguration\", \"incentives\", \"incomes\", \"incumbent\", \"indians\", \"indians\", \"indians\", \"insecurity\", \"inskeep\", \"insurance\", \"insurance\", \"insurance\", \"insurance\", \"insurance\", \"insurer\", \"insurers\", \"insurers\", \"investigation\", \"investigation\", \"investigation\", \"investigation\", \"investigation\", \"investigation\", \"investigation\", \"iraqi\", \"iraqi\", \"iraqi\", \"isis\", \"isis\", \"isis\", \"isis\", \"isis\", \"isis\", \"isis\", \"islands\", \"islands\", \"islands\", \"jet\", \"jet\", \"jong\", \"joseph\", \"joseph\", \"joseph\", \"joseph\", \"joseph\", \"justice\", \"justice\", \"justice\", \"justice\", \"justice\", \"justice\", \"k\", \"k\", \"k\", \"k\", \"k\", \"k\", \"k\", \"kaiser\", \"kaiser\", \"kaiser\", \"kate\", \"kate\", \"kate\", \"kelly\", \"kelly\", \"kelly\", \"kelly\", \"kelly\", \"kelly\", \"keynote\", \"kind\", \"kind\", \"kind\", \"kind\", \"kind\", \"kind\", \"kind\", \"know\", \"know\", \"know\", \"know\", \"know\", \"know\", \"know\", \"kong\", \"kong\", \"kong\", \"kong\", \"korea\", \"korea\", \"korea\", \"korea\", \"korean\", \"last\", \"last\", \"last\", \"last\", \"last\", \"last\", \"last\", \"law\", \"law\", \"law\", \"law\", \"law\", \"law\", \"law\", \"lawful\", \"lawful\", \"learning\", \"learning\", \"learning\", \"learning\", \"learning\", \"learning\", \"legend\", \"legend\", \"life\", \"life\", \"life\", \"life\", \"life\", \"life\", \"life\", \"listen\", \"listen\", \"listen\", \"listen\", \"listen\", \"local\", \"local\", \"local\", \"local\", \"local\", \"local\", \"local\", \"lot\", \"lot\", \"lot\", \"lot\", \"lot\", \"lot\", \"lot\", \"love\", \"love\", \"love\", \"love\", \"love\", \"love\", \"love\", \"loved\", \"loved\", \"loved\", \"loved\", \"loved\", \"loved\", \"loved\", \"lung\", \"lung\", \"made\", \"made\", \"made\", \"made\", \"made\", \"made\", \"made\", \"make\", \"make\", \"make\", \"make\", \"make\", \"make\", \"make\", \"man\", \"man\", \"man\", \"man\", \"man\", \"man\", \"man\", \"marched\", \"marched\", \"marketplaces\", \"marriage\", \"marriage\", \"marriage\", \"marriage\", \"marriage\", \"married\", \"married\", \"married\", \"married\", \"married\", \"mars\", \"mars\", \"mars\", \"mars\", \"may\", \"may\", \"may\", \"may\", \"may\", \"may\", \"may\", \"mayer\", \"mayer\", \"mayer\", \"meddling\", \"meddling\", \"medicaid\", \"medical\", \"medical\", \"medical\", \"medical\", \"medical\", \"medical\", \"medical\", \"medicare\", \"medicare\", \"men\", \"men\", \"men\", \"men\", \"men\", \"men\", \"men\", \"miami\", \"miami\", \"miami\", \"miami\", \"miami\", \"miami\", \"might\", \"might\", \"might\", \"might\", \"might\", \"might\", \"might\", \"military\", \"military\", \"military\", \"military\", \"military\", \"military\", \"military\", \"million\", \"million\", \"million\", \"million\", \"million\", \"million\", \"million\", \"missile\", \"missiles\", \"mission\", \"mission\", \"mission\", \"mission\", \"mission\", \"mission\", \"mission\", \"mitt\", \"moms\", \"moms\", \"money\", \"money\", \"money\", \"money\", \"money\", \"money\", \"money\", \"mosquito\", \"mosquito\", \"mosquito\", \"mosul\", \"mosul\", \"much\", \"much\", \"much\", \"much\", \"much\", \"much\", \"much\", \"mueller\", \"mueller\", \"mueller\", \"music\", \"music\", \"music\", \"music\", \"music\", \"music\", \"music\", \"musical\", \"musical\", \"musical\", \"musical\", \"musical\", \"mutations\", \"mutations\", \"nasa\", \"nasa\", \"nasa\", \"national\", \"national\", \"national\", \"national\", \"national\", \"national\", \"national\", \"need\", \"need\", \"need\", \"need\", \"need\", \"need\", \"need\", \"negro\", \"news\", \"news\", \"news\", \"news\", \"news\", \"news\", \"news\", \"nightly\", \"nomination\", \"nomination\", \"nominee\", \"nominee\", \"nominee\", \"nominee\", \"north\", \"north\", \"north\", \"north\", \"north\", \"north\", \"north\", \"novel\", \"novel\", \"novel\", \"novel\", \"novel\", \"novelist\", \"npr\", \"npr\", \"npr\", \"npr\", \"npr\", \"npr\", \"npr\", \"nsa\", \"nuclear\", \"nuclear\", \"nuclear\", \"nuclear\", \"nuclear\", \"nurses\", \"nurses\", \"nurses\", \"nurses\", \"nutrition\", \"obama\", \"obama\", \"obama\", \"obama\", \"obama\", \"obama\", \"obama\", \"obamacare\", \"obamacare\", \"obamacare\", \"obamacare\", \"obesity\", \"obesity\", \"oliver\", \"oliver\", \"outbreak\", \"outbreak\", \"outbreak\", \"outbreak\", \"outbreaks\", \"outbreaks\", \"panther\", \"panther\", \"parade\", \"parade\", \"parade\", \"parade\", \"parents\", \"parents\", \"parents\", \"parents\", \"parents\", \"parents\", \"parents\", \"part\", \"part\", \"part\", \"part\", \"part\", \"part\", \"part\", \"party\", \"party\", \"party\", \"party\", \"party\", \"party\", \"patient\", \"patient\", \"patient\", \"patient\", \"patient\", \"patients\", \"patients\", \"patients\", \"patients\", \"patients\", \"patients\", \"pay\", \"pay\", \"pay\", \"pay\", \"pay\", \"pay\", \"pay\", \"payment\", \"payment\", \"pence\", \"pence\", \"percent\", \"percent\", \"percent\", \"percent\", \"percent\", \"percent\", \"percent\", \"pete\", \"pete\", \"pipes\", \"plan\", \"plan\", \"plan\", \"plan\", \"plan\", \"plan\", \"plan\", \"plane\", \"plane\", \"plane\", \"plans\", \"plans\", \"plans\", \"plans\", \"plans\", \"plans\", \"plans\", \"police\", \"police\", \"police\", \"police\", \"police\", \"police\", \"police\", \"political\", \"political\", \"political\", \"political\", \"political\", \"political\", \"political\", \"portraits\", \"premium\", \"premiums\", \"prescription\", \"president\", \"president\", \"president\", \"president\", \"president\", \"president\", \"president\", \"presidential\", \"presidential\", \"presidential\", \"presidential\", \"presidential\", \"presidential\", \"presidential\", \"prince\", \"prince\", \"prince\", \"prince\", \"printed\", \"printed\", \"products\", \"products\", \"products\", \"products\", \"products\", \"products\", \"professors\", \"professors\", \"professors\", \"program\", \"program\", \"program\", \"program\", \"program\", \"program\", \"program\", \"proteins\", \"proteins\", \"proteins\", \"protesters\", \"protesters\", \"protesters\", \"protesters\", \"protesters\", \"protesters\", \"providers\", \"providers\", \"providers\", \"providers\", \"public\", \"public\", \"public\", \"public\", \"public\", \"public\", \"public\", \"puerto\", \"puerto\", \"puerto\", \"puerto\", \"puerto\", \"putin\", \"putin\", \"putin\", \"putin\", \"rap\", \"rb\", \"really\", \"really\", \"really\", \"really\", \"really\", \"really\", \"really\", \"recommending\", \"recommending\", \"recommending\", \"recused\", \"rent\", \"rent\", \"report\", \"report\", \"report\", \"report\", \"report\", \"report\", \"report\", \"reported\", \"reported\", \"reported\", \"reported\", \"reported\", \"reported\", \"reported\", \"reports\", \"reports\", \"reports\", \"reports\", \"reports\", \"reports\", \"reports\", \"republican\", \"republican\", \"republican\", \"republican\", \"republican\", \"republican\", \"republicans\", \"republicans\", \"republicans\", \"republicans\", \"republicans\", \"republicans\", \"research\", \"research\", \"research\", \"research\", \"research\", \"research\", \"research\", \"residents\", \"residents\", \"residents\", \"residents\", \"residents\", \"residents\", \"residents\", \"retail\", \"reynolds\", \"rico\", \"rico\", \"rico\", \"rico\", \"robot\", \"robot\", \"robot\", \"robots\", \"robots\", \"robots\", \"rock\", \"rock\", \"rock\", \"rock\", \"rock\", \"rock\", \"rock\", \"roger\", \"roger\", \"roger\", \"roger\", \"rogosin\", \"romney\", \"roots\", \"roots\", \"roots\", \"rosenstein\", \"rubble\", \"russia\", \"russia\", \"russia\", \"russia\", \"russia\", \"sanders\", \"sanders\", \"sanders\", \"sanders\", \"say\", \"say\", \"say\", \"say\", \"say\", \"say\", \"say\", \"school\", \"school\", \"school\", \"school\", \"school\", \"school\", \"school\", \"schools\", \"schools\", \"schools\", \"schools\", \"schools\", \"schools\", \"schools\", \"science\", \"science\", \"science\", \"science\", \"science\", \"science\", \"science\", \"security\", \"security\", \"security\", \"security\", \"security\", \"security\", \"security\", \"see\", \"see\", \"see\", \"see\", \"see\", \"see\", \"see\", \"senate\", \"senate\", \"senate\", \"senate\", \"senate\", \"services\", \"services\", \"services\", \"services\", \"services\", \"services\", \"services\", \"sessions\", \"sessions\", \"sessions\", \"sessions\", \"sessions\", \"sessions\", \"sessions\", \"sherman\", \"sherman\", \"show\", \"show\", \"show\", \"show\", \"show\", \"show\", \"show\", \"silicon\", \"silicon\", \"simpson\", \"simpson\", \"singer\", \"singer\", \"singer\", \"singer\", \"singer\", \"sitcom\", \"smell\", \"smell\", \"smiles\", \"soda\", \"soda\", \"soda\", \"solar\", \"solar\", \"solar\", \"solar\", \"solar\", \"something\", \"something\", \"something\", \"something\", \"something\", \"something\", \"something\", \"song\", \"song\", \"song\", \"song\", \"song\", \"song\", \"songs\", \"songs\", \"songs\", \"songs\", \"songwriter\", \"space\", \"space\", \"space\", \"space\", \"space\", \"space\", \"space\", \"spacecraft\", \"special\", \"special\", \"special\", \"special\", \"special\", \"special\", \"special\", \"species\", \"species\", \"species\", \"spotify\", \"st\", \"st\", \"st\", \"st\", \"st\", \"st\", \"st\", \"state\", \"state\", \"state\", \"state\", \"state\", \"state\", \"state\", \"statement\", \"statement\", \"statement\", \"statement\", \"statement\", \"statement\", \"statement\", \"states\", \"states\", \"states\", \"states\", \"states\", \"states\", \"states\", \"still\", \"still\", \"still\", \"still\", \"still\", \"still\", \"still\", \"story\", \"story\", \"story\", \"story\", \"story\", \"story\", \"story\", \"stress\", \"stress\", \"stress\", \"stress\", \"stress\", \"student\", \"student\", \"student\", \"student\", \"student\", \"student\", \"students\", \"students\", \"students\", \"students\", \"students\", \"students\", \"students\", \"study\", \"study\", \"study\", \"study\", \"study\", \"study\", \"study\", \"subsidies\", \"subsidies\", \"surreal\", \"swim\", \"swim\", \"swim\", \"swim\", \"swim\", \"swimming\", \"swimming\", \"swimming\", \"syndrome\", \"syndrome\", \"syndrome\", \"syndrome\", \"syndrome\", \"syndrome\", \"synth\", \"take\", \"take\", \"take\", \"take\", \"take\", \"take\", \"take\", \"target\", \"target\", \"target\", \"target\", \"target\", \"target\", \"target\", \"tax\", \"tax\", \"tax\", \"tax\", \"tax\", \"tax\", \"taxes\", \"taxes\", \"taxes\", \"taxes\", \"teachers\", \"teachers\", \"teachers\", \"teachers\", \"team\", \"team\", \"team\", \"team\", \"team\", \"team\", \"team\", \"temperatures\", \"temperatures\", \"test\", \"test\", \"test\", \"test\", \"test\", \"test\", \"test\", \"testifying\", \"testifying\", \"testimony\", \"testimony\", \"testimony\", \"testimony\", \"theaters\", \"thing\", \"thing\", \"thing\", \"thing\", \"thing\", \"thing\", \"thing\", \"things\", \"things\", \"things\", \"things\", \"things\", \"things\", \"things\", \"think\", \"think\", \"think\", \"think\", \"think\", \"think\", \"think\", \"tillerson\", \"tillerson\", \"tillerson\", \"tillerson\", \"timetable\", \"timetable\", \"told\", \"told\", \"told\", \"told\", \"told\", \"told\", \"told\", \"tourists\", \"tourists\", \"tourists\", \"tourists\", \"tourists\", \"traffickers\", \"transit\", \"transit\", \"transit\", \"treatment\", \"treatment\", \"treatment\", \"treatment\", \"treatment\", \"treatment\", \"treatment\", \"trees\", \"trees\", \"trees\", \"trees\", \"trump\", \"trump\", \"trump\", \"trump\", \"trump\", \"trump\", \"trump\", \"tunes\", \"two\", \"two\", \"two\", \"two\", \"two\", \"two\", \"two\", \"u\", \"u\", \"u\", \"u\", \"u\", \"u\", \"u\", \"uninsured\", \"university\", \"university\", \"university\", \"university\", \"university\", \"university\", \"university\", \"us\", \"us\", \"us\", \"us\", \"us\", \"us\", \"us\", \"va\", \"va\", \"va\", \"va\", \"va\", \"vegetables\", \"vegetables\", \"vegetables\", \"vegetables\", \"vintage\", \"virus\", \"virus\", \"virus\", \"virus\", \"virus\", \"virus\", \"vladimir\", \"vladimir\", \"vote\", \"vote\", \"vote\", \"vote\", \"vote\", \"vote\", \"vote\", \"voters\", \"voters\", \"voters\", \"voters\", \"voters\", \"voters\", \"voters\", \"votes\", \"votes\", \"votes\", \"votes\", \"wall\", \"wall\", \"wall\", \"wall\", \"wall\", \"wall\", \"wall\", \"want\", \"want\", \"want\", \"want\", \"want\", \"want\", \"want\", \"war\", \"war\", \"war\", \"war\", \"war\", \"war\", \"war\", \"warrant\", \"water\", \"water\", \"water\", \"water\", \"water\", \"water\", \"water\", \"watson\", \"watson\", \"watson\", \"way\", \"way\", \"way\", \"way\", \"way\", \"way\", \"way\", \"wedding\", \"white\", \"white\", \"white\", \"white\", \"white\", \"white\", \"white\", \"wikipedia\", \"wikipedia\", \"wikipedia\", \"wikipedia\", \"wikipedia\", \"women\", \"women\", \"women\", \"women\", \"women\", \"women\", \"women\", \"work\", \"work\", \"work\", \"work\", \"work\", \"work\", \"work\", \"world\", \"world\", \"world\", \"world\", \"world\", \"world\", \"world\", \"wounded\", \"wounded\", \"wounded\", \"wounded\", \"writers\", \"writers\", \"writers\", \"year\", \"year\", \"year\", \"year\", \"year\", \"year\", \"year\", \"young\", \"young\", \"young\", \"young\", \"young\", \"young\", \"young\", \"youngest\", \"zika\", \"zika\", \"zika\", \"zika\"]}, \"R\": 30, \"lambda.step\": 0.01, \"plot.opts\": {\"xlab\": \"PC1\", \"ylab\": \"PC2\"}, \"topic.order\": [1, 6, 7, 2, 3, 5, 4]};\n",
       "\n",
       "function LDAvis_load_lib(url, callback){\n",
       "  var s = document.createElement('script');\n",
       "  s.src = url;\n",
       "  s.async = true;\n",
       "  s.onreadystatechange = s.onload = callback;\n",
       "  s.onerror = function(){console.warn(\"failed to load library \" + url);};\n",
       "  document.getElementsByTagName(\"head\")[0].appendChild(s);\n",
       "}\n",
       "\n",
       "if(typeof(LDAvis) !== \"undefined\"){\n",
       "   // already loaded: just create the visualization\n",
       "   !function(LDAvis){\n",
       "       new LDAvis(\"#\" + \"ldavis_el762041403525847993122069353709\", ldavis_el762041403525847993122069353709_data);\n",
       "   }(LDAvis);\n",
       "}else if(typeof define === \"function\" && define.amd){\n",
       "   // require.js is available: use it to load d3/LDAvis\n",
       "   require.config({paths: {d3: \"https://d3js.org/d3.v5\"}});\n",
       "   require([\"d3\"], function(d3){\n",
       "      window.d3 = d3;\n",
       "      LDAvis_load_lib(\"https://cdn.jsdelivr.net/gh/bmabey/pyLDAvis@3.3.1/pyLDAvis/js/ldavis.v3.0.0.js\", function(){\n",
       "        new LDAvis(\"#\" + \"ldavis_el762041403525847993122069353709\", ldavis_el762041403525847993122069353709_data);\n",
       "      });\n",
       "    });\n",
       "}else{\n",
       "    // require.js not available: dynamically load d3 & LDAvis\n",
       "    LDAvis_load_lib(\"https://d3js.org/d3.v5.js\", function(){\n",
       "         LDAvis_load_lib(\"https://cdn.jsdelivr.net/gh/bmabey/pyLDAvis@3.3.1/pyLDAvis/js/ldavis.v3.0.0.js\", function(){\n",
       "                 new LDAvis(\"#\" + \"ldavis_el762041403525847993122069353709\", ldavis_el762041403525847993122069353709_data);\n",
       "            })\n",
       "         });\n",
       "}\n",
       "</script>"
      ],
      "text/plain": [
       "<IPython.core.display.HTML object>"
      ]
     },
     "execution_count": 54,
     "metadata": {},
     "output_type": "execute_result"
    }
   ],
   "source": [
    "lda_display = pyLDAvis.gensim_models.prepare(model, corpus, dictionary, sort_topics=True)\n",
    "pyLDAvis.display(lda_display)"
   ]
  },
  {
   "cell_type": "markdown",
   "metadata": {
    "slideshow": {
     "slide_type": "notes"
    }
   },
   "source": [
    "Saliencia: una medida de cuánto te dice el término sobre el tema.\n",
    "\n",
    "Relevancia: un promedio ponderado de la probabilidad de la palabra dada el tema y la palabra dada el tema normalizada por la probabilidad del tema.\n"
   ]
  },
  {
   "cell_type": "markdown",
   "metadata": {
    "slideshow": {
     "slide_type": "slide"
    }
   },
   "source": [
    "## 👩‍💻 Manos a la obra\n",
    "\n",
    "**Paso 4:** Resultados"
   ]
  },
  {
   "cell_type": "code",
   "execution_count": 56,
   "metadata": {
    "scrolled": true,
    "slideshow": {
     "slide_type": "fragment"
    }
   },
   "outputs": [
    {
     "data": {
      "text/plain": [
       "[(1, 0.7854711),\n",
       " (2, 0.03572736),\n",
       " (3, 0.035719372),\n",
       " (4, 0.03582063),\n",
       " (5, 0.035766896),\n",
       " (6, 0.03575087),\n",
       " (7, 0.035743773)]"
      ]
     },
     "execution_count": 56,
     "metadata": {},
     "output_type": "execute_result"
    }
   ],
   "source": [
    "d = dictionary.doc2bow([\"trump\", \"clinton\", \"washington\"])\n",
    "topics = [(cluster[0]+1, cluster[1]) for cluster in model.get_document_topics(d)]\n",
    "topics"
   ]
  },
  {
   "cell_type": "code",
   "execution_count": 59,
   "metadata": {
    "slideshow": {
     "slide_type": "fragment"
    }
   },
   "outputs": [],
   "source": [
    "def get_doc_top_n(text_processed, n):\n",
    "    d = dictionary.doc2bow(text_processed)\n",
    "    topics = dict(model.get_document_topics(d))\n",
    "    try:\n",
    "        return topics[n]\n",
    "    except:\n",
    "        return None"
   ]
  },
  {
   "cell_type": "code",
   "execution_count": 66,
   "metadata": {
    "slideshow": {
     "slide_type": "fragment"
    }
   },
   "outputs": [],
   "source": [
    "for t in range(0,7):\n",
    "    top_name = f\"topic_{t}\"\n",
    "    data[top_name] = data['Pre-Processed'].apply(lambda doc: get_doc_top_n(doc, t))"
   ]
  },
  {
   "cell_type": "code",
   "execution_count": 67,
   "metadata": {
    "slideshow": {
     "slide_type": "slide"
    }
   },
   "outputs": [
    {
     "data": {
      "text/html": [
       "<div>\n",
       "<style scoped>\n",
       "    .dataframe tbody tr th:only-of-type {\n",
       "        vertical-align: middle;\n",
       "    }\n",
       "\n",
       "    .dataframe tbody tr th {\n",
       "        vertical-align: top;\n",
       "    }\n",
       "\n",
       "    .dataframe thead th {\n",
       "        text-align: right;\n",
       "    }\n",
       "</style>\n",
       "<table border=\"1\" class=\"dataframe\">\n",
       "  <thead>\n",
       "    <tr style=\"text-align: right;\">\n",
       "      <th></th>\n",
       "      <th>Article</th>\n",
       "      <th>Pre-Processed</th>\n",
       "      <th>topic_0</th>\n",
       "      <th>topic_1</th>\n",
       "      <th>topic_2</th>\n",
       "      <th>topic_3</th>\n",
       "      <th>topic_4</th>\n",
       "      <th>topic_5</th>\n",
       "      <th>topic_6</th>\n",
       "    </tr>\n",
       "  </thead>\n",
       "  <tbody>\n",
       "    <tr>\n",
       "      <th>4219</th>\n",
       "      <td>Chinese artist Ai Weiwei has had several confr...</td>\n",
       "      <td>[chinese, artist, ai, weiwei, several, confron...</td>\n",
       "      <td>0.219641</td>\n",
       "      <td>0.769151</td>\n",
       "      <td>NaN</td>\n",
       "      <td>NaN</td>\n",
       "      <td>NaN</td>\n",
       "      <td>NaN</td>\n",
       "      <td>NaN</td>\n",
       "    </tr>\n",
       "    <tr>\n",
       "      <th>11124</th>\n",
       "      <td>Editor’s note: Updated Nov. 21 at 11:15 a. m. ...</td>\n",
       "      <td>[editor, note, updated, nov, comment, nissan, ...</td>\n",
       "      <td>NaN</td>\n",
       "      <td>NaN</td>\n",
       "      <td>0.880487</td>\n",
       "      <td>NaN</td>\n",
       "      <td>0.066320</td>\n",
       "      <td>NaN</td>\n",
       "      <td>0.051788</td>\n",
       "    </tr>\n",
       "    <tr>\n",
       "      <th>9971</th>\n",
       "      <td>Saying that Alabama Chief Justice Roy Moore vi...</td>\n",
       "      <td>[saying, alabama, chief, justice, roy, moore, ...</td>\n",
       "      <td>0.995678</td>\n",
       "      <td>NaN</td>\n",
       "      <td>NaN</td>\n",
       "      <td>NaN</td>\n",
       "      <td>NaN</td>\n",
       "      <td>NaN</td>\n",
       "      <td>NaN</td>\n",
       "    </tr>\n",
       "    <tr>\n",
       "      <th>487</th>\n",
       "      <td>There’s no room for ambivalence when you perfo...</td>\n",
       "      <td>[room, ambivalence, perform, bob, dylan, maste...</td>\n",
       "      <td>NaN</td>\n",
       "      <td>0.945222</td>\n",
       "      <td>NaN</td>\n",
       "      <td>0.051077</td>\n",
       "      <td>NaN</td>\n",
       "      <td>NaN</td>\n",
       "      <td>NaN</td>\n",
       "    </tr>\n",
       "    <tr>\n",
       "      <th>73</th>\n",
       "      <td>Every year in the U. S. more than 30, 000 peop...</td>\n",
       "      <td>[every, year, u, people, die, things, related,...</td>\n",
       "      <td>NaN</td>\n",
       "      <td>NaN</td>\n",
       "      <td>NaN</td>\n",
       "      <td>NaN</td>\n",
       "      <td>0.117448</td>\n",
       "      <td>NaN</td>\n",
       "      <td>0.879797</td>\n",
       "    </tr>\n",
       "    <tr>\n",
       "      <th>...</th>\n",
       "      <td>...</td>\n",
       "      <td>...</td>\n",
       "      <td>...</td>\n",
       "      <td>...</td>\n",
       "      <td>...</td>\n",
       "      <td>...</td>\n",
       "      <td>...</td>\n",
       "      <td>...</td>\n",
       "      <td>...</td>\n",
       "    </tr>\n",
       "    <tr>\n",
       "      <th>566</th>\n",
       "      <td>President Trump’s inner circle got one more me...</td>\n",
       "      <td>[president, trump, inner, circle, got, one, me...</td>\n",
       "      <td>0.997309</td>\n",
       "      <td>NaN</td>\n",
       "      <td>NaN</td>\n",
       "      <td>NaN</td>\n",
       "      <td>NaN</td>\n",
       "      <td>NaN</td>\n",
       "      <td>NaN</td>\n",
       "    </tr>\n",
       "    <tr>\n",
       "      <th>8664</th>\n",
       "      <td>The U. S. State Department is dismissing a new...</td>\n",
       "      <td>[u, state, department, dismissing, newspaper, ...</td>\n",
       "      <td>0.722618</td>\n",
       "      <td>NaN</td>\n",
       "      <td>NaN</td>\n",
       "      <td>NaN</td>\n",
       "      <td>NaN</td>\n",
       "      <td>NaN</td>\n",
       "      <td>0.275523</td>\n",
       "    </tr>\n",
       "    <tr>\n",
       "      <th>1084</th>\n",
       "      <td>Here’s one side of the resume of the CIA’s new...</td>\n",
       "      <td>[one, side, resume, cia, new, gina, haspel, de...</td>\n",
       "      <td>0.973770</td>\n",
       "      <td>NaN</td>\n",
       "      <td>NaN</td>\n",
       "      <td>0.024513</td>\n",
       "      <td>NaN</td>\n",
       "      <td>NaN</td>\n",
       "      <td>NaN</td>\n",
       "    </tr>\n",
       "    <tr>\n",
       "      <th>11879</th>\n",
       "      <td>Shirley Jackson was a fairly famous writer in ...</td>\n",
       "      <td>[shirley, jackson, fairly, famous, writer, sho...</td>\n",
       "      <td>NaN</td>\n",
       "      <td>NaN</td>\n",
       "      <td>NaN</td>\n",
       "      <td>NaN</td>\n",
       "      <td>NaN</td>\n",
       "      <td>0.996126</td>\n",
       "      <td>NaN</td>\n",
       "    </tr>\n",
       "    <tr>\n",
       "      <th>9157</th>\n",
       "      <td>Lace front, true believers! RuPaul’s Drag Race...</td>\n",
       "      <td>[lace, front, true, believers, rupaul, drag, r...</td>\n",
       "      <td>NaN</td>\n",
       "      <td>0.159549</td>\n",
       "      <td>NaN</td>\n",
       "      <td>NaN</td>\n",
       "      <td>NaN</td>\n",
       "      <td>0.839049</td>\n",
       "      <td>NaN</td>\n",
       "    </tr>\n",
       "  </tbody>\n",
       "</table>\n",
       "<p>1000 rows × 9 columns</p>\n",
       "</div>"
      ],
      "text/plain": [
       "                                                 Article  \\\n",
       "4219   Chinese artist Ai Weiwei has had several confr...   \n",
       "11124  Editor’s note: Updated Nov. 21 at 11:15 a. m. ...   \n",
       "9971   Saying that Alabama Chief Justice Roy Moore vi...   \n",
       "487    There’s no room for ambivalence when you perfo...   \n",
       "73     Every year in the U. S. more than 30, 000 peop...   \n",
       "...                                                  ...   \n",
       "566    President Trump’s inner circle got one more me...   \n",
       "8664   The U. S. State Department is dismissing a new...   \n",
       "1084   Here’s one side of the resume of the CIA’s new...   \n",
       "11879  Shirley Jackson was a fairly famous writer in ...   \n",
       "9157   Lace front, true believers! RuPaul’s Drag Race...   \n",
       "\n",
       "                                           Pre-Processed   topic_0   topic_1  \\\n",
       "4219   [chinese, artist, ai, weiwei, several, confron...  0.219641  0.769151   \n",
       "11124  [editor, note, updated, nov, comment, nissan, ...       NaN       NaN   \n",
       "9971   [saying, alabama, chief, justice, roy, moore, ...  0.995678       NaN   \n",
       "487    [room, ambivalence, perform, bob, dylan, maste...       NaN  0.945222   \n",
       "73     [every, year, u, people, die, things, related,...       NaN       NaN   \n",
       "...                                                  ...       ...       ...   \n",
       "566    [president, trump, inner, circle, got, one, me...  0.997309       NaN   \n",
       "8664   [u, state, department, dismissing, newspaper, ...  0.722618       NaN   \n",
       "1084   [one, side, resume, cia, new, gina, haspel, de...  0.973770       NaN   \n",
       "11879  [shirley, jackson, fairly, famous, writer, sho...       NaN       NaN   \n",
       "9157   [lace, front, true, believers, rupaul, drag, r...       NaN  0.159549   \n",
       "\n",
       "        topic_2   topic_3   topic_4   topic_5   topic_6  \n",
       "4219        NaN       NaN       NaN       NaN       NaN  \n",
       "11124  0.880487       NaN  0.066320       NaN  0.051788  \n",
       "9971        NaN       NaN       NaN       NaN       NaN  \n",
       "487         NaN  0.051077       NaN       NaN       NaN  \n",
       "73          NaN       NaN  0.117448       NaN  0.879797  \n",
       "...         ...       ...       ...       ...       ...  \n",
       "566         NaN       NaN       NaN       NaN       NaN  \n",
       "8664        NaN       NaN       NaN       NaN  0.275523  \n",
       "1084        NaN  0.024513       NaN       NaN       NaN  \n",
       "11879       NaN       NaN       NaN  0.996126       NaN  \n",
       "9157        NaN       NaN       NaN  0.839049       NaN  \n",
       "\n",
       "[1000 rows x 9 columns]"
      ]
     },
     "execution_count": 67,
     "metadata": {},
     "output_type": "execute_result"
    }
   ],
   "source": [
    "data"
   ]
  },
  {
   "cell_type": "code",
   "execution_count": 78,
   "metadata": {
    "slideshow": {
     "slide_type": "slide"
    }
   },
   "outputs": [
    {
     "name": "stdout",
     "output_type": "stream",
     "text": [
      "*********************************** TOPIC 0 ***********************************\n",
      "Artículo #0\n",
      "The political revolution that Bernie Sanders began may still be felt at the ballot box this November even if he’s not the Democratic nominee for president. The Vermont senator is beginning to expand his political network by helping upstart progressive congressional candidates and state legislators, lending his fundraising prowess and national fame to boost their bids. And win or lose for the White House hopeful, Sanders’s candidacy has given them a prominent national messenger and new energy the\n",
      "\n",
      "Artículo #1\n",
      "As both parties struggle with unity this election, more   endorsements seem to be coming every day. Several prominent Republicans announced this week that they plan to vote for Hillary Clinton and at least one   Democrat has backed Donald Trump. Crossing over isn’t new  —   there have been Obama Republicans, Reagan Democrats and a number of other defectors across the years. Here’s a list of some notable Republicans and Democrats who have endorsed the other party’s candidate this election and in \n",
      "\n",
      "Artículo #2\n",
      "Sometimes it pays to have a boring day job. Even those who oppose Supreme Court nominee Merrick Garland concede that getting people’s blood boiling over his record is difficult. That’s in part because of the court he has served on for 19 years. Three of the current Supreme Court justices came from the same court where Garland now sits as chief judge  —   the U. S. Court of Appeals for the District of Columbia. ”We think of it as the second most important court in the land, but in fact it is the \n",
      "\n",
      "Artículo #3\n",
      "Why would Russian President Vladimir Putin want to help Donald Trump win the White House? That’s the accusation from Democrats this week, after embarrassing internal Democratic National Committee emails appeared on Wikileaks on the eve of the party’s convention in Philadelphia. The emails were lifted earlier this year in a hacking breach that security experts have linked to Russian espionage groups. As part of their pushback against the emails’ damning details, many Democrats accuse Putin of try\n",
      "\n",
      "Artículo #4\n",
      "Updated at 1:49 p. m. ET Saturday with confirmation from the U. S. official and comments from Sen. Ron Wyden, Updated at 3:20 p. m. ET Saturday with comments from Sen. Angus King, The CIA has concluded that Russia intervened in the 2016 election specifically to help Donald Trump win the presidency, a U. S. official has confirmed to NPR. ”Before, there was confidence about the fact that Russia interfered,” the official says. ”But there was low confidence on what the direction and intentionality o\n",
      "\n",
      "\n",
      "*********************************** TOPIC 1 ***********************************\n",
      "Artículo #0\n",
      "The political revolution that Bernie Sanders began may still be felt at the ballot box this November even if he’s not the Democratic nominee for president. The Vermont senator is beginning to expand his political network by helping upstart progressive congressional candidates and state legislators, lending his fundraising prowess and national fame to boost their bids. And win or lose for the White House hopeful, Sanders’s candidacy has given them a prominent national messenger and new energy the\n",
      "\n",
      "Artículo #1\n",
      "As both parties struggle with unity this election, more   endorsements seem to be coming every day. Several prominent Republicans announced this week that they plan to vote for Hillary Clinton and at least one   Democrat has backed Donald Trump. Crossing over isn’t new  —   there have been Obama Republicans, Reagan Democrats and a number of other defectors across the years. Here’s a list of some notable Republicans and Democrats who have endorsed the other party’s candidate this election and in \n",
      "\n",
      "Artículo #2\n",
      "Sometimes it pays to have a boring day job. Even those who oppose Supreme Court nominee Merrick Garland concede that getting people’s blood boiling over his record is difficult. That’s in part because of the court he has served on for 19 years. Three of the current Supreme Court justices came from the same court where Garland now sits as chief judge  —   the U. S. Court of Appeals for the District of Columbia. ”We think of it as the second most important court in the land, but in fact it is the \n",
      "\n",
      "Artículo #3\n",
      "Why would Russian President Vladimir Putin want to help Donald Trump win the White House? That’s the accusation from Democrats this week, after embarrassing internal Democratic National Committee emails appeared on Wikileaks on the eve of the party’s convention in Philadelphia. The emails were lifted earlier this year in a hacking breach that security experts have linked to Russian espionage groups. As part of their pushback against the emails’ damning details, many Democrats accuse Putin of try\n",
      "\n",
      "Artículo #4\n",
      "Updated at 1:49 p. m. ET Saturday with confirmation from the U. S. official and comments from Sen. Ron Wyden, Updated at 3:20 p. m. ET Saturday with comments from Sen. Angus King, The CIA has concluded that Russia intervened in the 2016 election specifically to help Donald Trump win the presidency, a U. S. official has confirmed to NPR. ”Before, there was confidence about the fact that Russia interfered,” the official says. ”But there was low confidence on what the direction and intentionality o\n",
      "\n",
      "\n",
      "*********************************** TOPIC 2 ***********************************\n",
      "Artículo #0\n",
      "The political revolution that Bernie Sanders began may still be felt at the ballot box this November even if he’s not the Democratic nominee for president. The Vermont senator is beginning to expand his political network by helping upstart progressive congressional candidates and state legislators, lending his fundraising prowess and national fame to boost their bids. And win or lose for the White House hopeful, Sanders’s candidacy has given them a prominent national messenger and new energy the\n",
      "\n",
      "Artículo #1\n",
      "As both parties struggle with unity this election, more   endorsements seem to be coming every day. Several prominent Republicans announced this week that they plan to vote for Hillary Clinton and at least one   Democrat has backed Donald Trump. Crossing over isn’t new  —   there have been Obama Republicans, Reagan Democrats and a number of other defectors across the years. Here’s a list of some notable Republicans and Democrats who have endorsed the other party’s candidate this election and in \n",
      "\n",
      "Artículo #2\n",
      "Sometimes it pays to have a boring day job. Even those who oppose Supreme Court nominee Merrick Garland concede that getting people’s blood boiling over his record is difficult. That’s in part because of the court he has served on for 19 years. Three of the current Supreme Court justices came from the same court where Garland now sits as chief judge  —   the U. S. Court of Appeals for the District of Columbia. ”We think of it as the second most important court in the land, but in fact it is the \n",
      "\n",
      "Artículo #3\n",
      "Why would Russian President Vladimir Putin want to help Donald Trump win the White House? That’s the accusation from Democrats this week, after embarrassing internal Democratic National Committee emails appeared on Wikileaks on the eve of the party’s convention in Philadelphia. The emails were lifted earlier this year in a hacking breach that security experts have linked to Russian espionage groups. As part of their pushback against the emails’ damning details, many Democrats accuse Putin of try\n",
      "\n",
      "Artículo #4\n",
      "Updated at 1:49 p. m. ET Saturday with confirmation from the U. S. official and comments from Sen. Ron Wyden, Updated at 3:20 p. m. ET Saturday with comments from Sen. Angus King, The CIA has concluded that Russia intervened in the 2016 election specifically to help Donald Trump win the presidency, a U. S. official has confirmed to NPR. ”Before, there was confidence about the fact that Russia interfered,” the official says. ”But there was low confidence on what the direction and intentionality o\n",
      "\n",
      "\n",
      "*********************************** TOPIC 3 ***********************************\n",
      "Artículo #0\n",
      "The political revolution that Bernie Sanders began may still be felt at the ballot box this November even if he’s not the Democratic nominee for president. The Vermont senator is beginning to expand his political network by helping upstart progressive congressional candidates and state legislators, lending his fundraising prowess and national fame to boost their bids. And win or lose for the White House hopeful, Sanders’s candidacy has given them a prominent national messenger and new energy the\n",
      "\n",
      "Artículo #1\n",
      "As both parties struggle with unity this election, more   endorsements seem to be coming every day. Several prominent Republicans announced this week that they plan to vote for Hillary Clinton and at least one   Democrat has backed Donald Trump. Crossing over isn’t new  —   there have been Obama Republicans, Reagan Democrats and a number of other defectors across the years. Here’s a list of some notable Republicans and Democrats who have endorsed the other party’s candidate this election and in \n",
      "\n",
      "Artículo #2\n",
      "Sometimes it pays to have a boring day job. Even those who oppose Supreme Court nominee Merrick Garland concede that getting people’s blood boiling over his record is difficult. That’s in part because of the court he has served on for 19 years. Three of the current Supreme Court justices came from the same court where Garland now sits as chief judge  —   the U. S. Court of Appeals for the District of Columbia. ”We think of it as the second most important court in the land, but in fact it is the \n",
      "\n",
      "Artículo #3\n",
      "Why would Russian President Vladimir Putin want to help Donald Trump win the White House? That’s the accusation from Democrats this week, after embarrassing internal Democratic National Committee emails appeared on Wikileaks on the eve of the party’s convention in Philadelphia. The emails were lifted earlier this year in a hacking breach that security experts have linked to Russian espionage groups. As part of their pushback against the emails’ damning details, many Democrats accuse Putin of try\n",
      "\n",
      "Artículo #4\n",
      "Updated at 1:49 p. m. ET Saturday with confirmation from the U. S. official and comments from Sen. Ron Wyden, Updated at 3:20 p. m. ET Saturday with comments from Sen. Angus King, The CIA has concluded that Russia intervened in the 2016 election specifically to help Donald Trump win the presidency, a U. S. official has confirmed to NPR. ”Before, there was confidence about the fact that Russia interfered,” the official says. ”But there was low confidence on what the direction and intentionality o\n",
      "\n",
      "\n",
      "*********************************** TOPIC 4 ***********************************\n",
      "Artículo #0\n",
      "The political revolution that Bernie Sanders began may still be felt at the ballot box this November even if he’s not the Democratic nominee for president. The Vermont senator is beginning to expand his political network by helping upstart progressive congressional candidates and state legislators, lending his fundraising prowess and national fame to boost their bids. And win or lose for the White House hopeful, Sanders’s candidacy has given them a prominent national messenger and new energy the\n",
      "\n",
      "Artículo #1\n",
      "As both parties struggle with unity this election, more   endorsements seem to be coming every day. Several prominent Republicans announced this week that they plan to vote for Hillary Clinton and at least one   Democrat has backed Donald Trump. Crossing over isn’t new  —   there have been Obama Republicans, Reagan Democrats and a number of other defectors across the years. Here’s a list of some notable Republicans and Democrats who have endorsed the other party’s candidate this election and in \n",
      "\n",
      "Artículo #2\n",
      "Sometimes it pays to have a boring day job. Even those who oppose Supreme Court nominee Merrick Garland concede that getting people’s blood boiling over his record is difficult. That’s in part because of the court he has served on for 19 years. Three of the current Supreme Court justices came from the same court where Garland now sits as chief judge  —   the U. S. Court of Appeals for the District of Columbia. ”We think of it as the second most important court in the land, but in fact it is the \n",
      "\n",
      "Artículo #3\n",
      "Why would Russian President Vladimir Putin want to help Donald Trump win the White House? That’s the accusation from Democrats this week, after embarrassing internal Democratic National Committee emails appeared on Wikileaks on the eve of the party’s convention in Philadelphia. The emails were lifted earlier this year in a hacking breach that security experts have linked to Russian espionage groups. As part of their pushback against the emails’ damning details, many Democrats accuse Putin of try\n",
      "\n",
      "Artículo #4\n",
      "Updated at 1:49 p. m. ET Saturday with confirmation from the U. S. official and comments from Sen. Ron Wyden, Updated at 3:20 p. m. ET Saturday with comments from Sen. Angus King, The CIA has concluded that Russia intervened in the 2016 election specifically to help Donald Trump win the presidency, a U. S. official has confirmed to NPR. ”Before, there was confidence about the fact that Russia interfered,” the official says. ”But there was low confidence on what the direction and intentionality o\n",
      "\n",
      "\n",
      "*********************************** TOPIC 5 ***********************************\n",
      "Artículo #0\n",
      "The political revolution that Bernie Sanders began may still be felt at the ballot box this November even if he’s not the Democratic nominee for president. The Vermont senator is beginning to expand his political network by helping upstart progressive congressional candidates and state legislators, lending his fundraising prowess and national fame to boost their bids. And win or lose for the White House hopeful, Sanders’s candidacy has given them a prominent national messenger and new energy the\n",
      "\n",
      "Artículo #1\n",
      "As both parties struggle with unity this election, more   endorsements seem to be coming every day. Several prominent Republicans announced this week that they plan to vote for Hillary Clinton and at least one   Democrat has backed Donald Trump. Crossing over isn’t new  —   there have been Obama Republicans, Reagan Democrats and a number of other defectors across the years. Here’s a list of some notable Republicans and Democrats who have endorsed the other party’s candidate this election and in \n",
      "\n",
      "Artículo #2\n",
      "Sometimes it pays to have a boring day job. Even those who oppose Supreme Court nominee Merrick Garland concede that getting people’s blood boiling over his record is difficult. That’s in part because of the court he has served on for 19 years. Three of the current Supreme Court justices came from the same court where Garland now sits as chief judge  —   the U. S. Court of Appeals for the District of Columbia. ”We think of it as the second most important court in the land, but in fact it is the \n",
      "\n",
      "Artículo #3\n",
      "Why would Russian President Vladimir Putin want to help Donald Trump win the White House? That’s the accusation from Democrats this week, after embarrassing internal Democratic National Committee emails appeared on Wikileaks on the eve of the party’s convention in Philadelphia. The emails were lifted earlier this year in a hacking breach that security experts have linked to Russian espionage groups. As part of their pushback against the emails’ damning details, many Democrats accuse Putin of try\n",
      "\n",
      "Artículo #4\n",
      "Updated at 1:49 p. m. ET Saturday with confirmation from the U. S. official and comments from Sen. Ron Wyden, Updated at 3:20 p. m. ET Saturday with comments from Sen. Angus King, The CIA has concluded that Russia intervened in the 2016 election specifically to help Donald Trump win the presidency, a U. S. official has confirmed to NPR. ”Before, there was confidence about the fact that Russia interfered,” the official says. ”But there was low confidence on what the direction and intentionality o\n",
      "\n",
      "\n",
      "*********************************** TOPIC 6 ***********************************\n",
      "Artículo #0\n",
      "The political revolution that Bernie Sanders began may still be felt at the ballot box this November even if he’s not the Democratic nominee for president. The Vermont senator is beginning to expand his political network by helping upstart progressive congressional candidates and state legislators, lending his fundraising prowess and national fame to boost their bids. And win or lose for the White House hopeful, Sanders’s candidacy has given them a prominent national messenger and new energy the\n",
      "\n",
      "Artículo #1\n",
      "As both parties struggle with unity this election, more   endorsements seem to be coming every day. Several prominent Republicans announced this week that they plan to vote for Hillary Clinton and at least one   Democrat has backed Donald Trump. Crossing over isn’t new  —   there have been Obama Republicans, Reagan Democrats and a number of other defectors across the years. Here’s a list of some notable Republicans and Democrats who have endorsed the other party’s candidate this election and in \n",
      "\n",
      "Artículo #2\n",
      "Sometimes it pays to have a boring day job. Even those who oppose Supreme Court nominee Merrick Garland concede that getting people’s blood boiling over his record is difficult. That’s in part because of the court he has served on for 19 years. Three of the current Supreme Court justices came from the same court where Garland now sits as chief judge  —   the U. S. Court of Appeals for the District of Columbia. ”We think of it as the second most important court in the land, but in fact it is the \n",
      "\n",
      "Artículo #3\n",
      "Why would Russian President Vladimir Putin want to help Donald Trump win the White House? That’s the accusation from Democrats this week, after embarrassing internal Democratic National Committee emails appeared on Wikileaks on the eve of the party’s convention in Philadelphia. The emails were lifted earlier this year in a hacking breach that security experts have linked to Russian espionage groups. As part of their pushback against the emails’ damning details, many Democrats accuse Putin of try\n",
      "\n",
      "Artículo #4\n",
      "Updated at 1:49 p. m. ET Saturday with confirmation from the U. S. official and comments from Sen. Ron Wyden, Updated at 3:20 p. m. ET Saturday with comments from Sen. Angus King, The CIA has concluded that Russia intervened in the 2016 election specifically to help Donald Trump win the presidency, a U. S. official has confirmed to NPR. ”Before, there was confidence about the fact that Russia interfered,” the official says. ”But there was low confidence on what the direction and intentionality o\n",
      "\n",
      "\n"
     ]
    }
   ],
   "source": [
    "for t in range(0,7):\n",
    "    print(f\"*********************************** TOPIC {t} ***********************************\")\n",
    "    topic = f\"topic_{t}\"\n",
    "    for i,articulo in enumerate(data.sort_values('topic_0', ascending=False)['Article'].values[:5]):\n",
    "        print(f\"Artículo #{i}\")\n",
    "        print(articulo[:500])\n",
    "        print()\n",
    "    print()"
   ]
  },
  {
   "cell_type": "markdown",
   "metadata": {
    "slideshow": {
     "slide_type": "notes"
    }
   },
   "source": [
    "Que no se pierda tu buen modelo\n",
    "```python\n",
    "pickle.dump(corpus, open('corpus.pkl', 'wb'))\n",
    "dictionary.save('dictionary.gensim')\n",
    "model.save('model.gensim')\n",
    "\n",
    "\n",
    "dictionary = gensim.corpora.Dictionary.load('dictionary.gensim')\n",
    "corpus = pickle.load(open('corpus.pkl', 'rb'))\n",
    "lda = gensim.models.ldamodel.LdaModel.load('model.gensim')\n",
    "```"
   ]
  },
  {
   "cell_type": "markdown",
   "metadata": {
    "slideshow": {
     "slide_type": "slide"
    }
   },
   "source": [
    "## Cosas a considerar:\n",
    "\n",
    "- LDA por lo general funciona bien con documentos largos\n",
    "- Para textos cortos está [GSDMM](https://github.com/rwalk/gsdmm)\n",
    "- Para seleccionar los mejores parámetros, se usa la [puntuación de coherencia](https://towardsdatascience.com/evaluate-topic-model-in-python-latent-dirichlet-allocation-lda-7d57484bb5d0)\n",
    "- Si LDA se ejecuta rápidamente, dará algunos problemas para obtener buenos resultados con él. \n",
    "- [Documentación](https://radimrehurek.com/gensim/models/ldamodel.html)"
   ]
  },
  {
   "cell_type": "markdown",
   "metadata": {
    "slideshow": {
     "slide_type": "slide"
    }
   },
   "source": [
    "## Recapitulando:\n",
    "\n",
    "<br>\n",
    "<center><img src='../img/clase10/comp.png'>"
   ]
  },
  {
   "cell_type": "markdown",
   "metadata": {
    "slideshow": {
     "slide_type": "slide"
    }
   },
   "source": [
    "# ¡Tiempo de taller!\n",
    "\n",
    "<center>\n",
    "<img src='../img/Taller.gif'>"
   ]
  },
  {
   "cell_type": "markdown",
   "metadata": {
    "slideshow": {
     "slide_type": "fragment"
    }
   },
   "source": [
    "**Taller #9:** LDA\n",
    "\n",
    "**Fecha de entrega:** Mayo 6, 2021. (Antes del inicio de la próxima clase)"
   ]
  },
  {
   "cell_type": "markdown",
   "metadata": {
    "slideshow": {
     "slide_type": "slide"
    }
   },
   "source": [
    "<center>\n",
    "<img src='../img/fin.png' style='height:300px; float: center; margin: 0px 15px 15px 0px'>\n",
    "\n",
    "### Próxima clase: Visualizaciones para NLP\n",
    "   "
   ]
  }
 ],
 "metadata": {
  "celltoolbar": "Slideshow",
  "kernelspec": {
   "display_name": "Python 3",
   "language": "python",
   "name": "python3"
  },
  "language_info": {
   "codemirror_mode": {
    "name": "ipython",
    "version": 3
   },
   "file_extension": ".py",
   "mimetype": "text/x-python",
   "name": "python",
   "nbconvert_exporter": "python",
   "pygments_lexer": "ipython3",
   "version": "3.7.4"
  }
 },
 "nbformat": 4,
 "nbformat_minor": 2
}
