{
 "cells": [
  {
   "cell_type": "markdown",
   "metadata": {},
   "source": [
    "<img src='https://encrypted-tbn0.gstatic.com/images?q=tbn%3AANd9GcQ-VfNtOyJbsaxu43Kztf_cv1mgBG6ZIQZEVw&usqp=CAU'>\n",
    "\n",
    "# Procesamiento de Lenguage Natural\n",
    "\n",
    "## Taller #6: Word2Vec\n",
    "`Fecha de entrega: Abril 8, 2021. (Antes del inicio de la próxima clase).`\n",
    "\n",
    "`Modo de entrega: Subir link de GitHub al aula virtual.`\n",
    "\n",
    "\n",
    "\n",
    "## Libre elección\n",
    "\n",
    "Expectativas:\n",
    "- Uso de Word2Vec \n",
    "- Responder:\n",
    "    - ¿Su modelo da buenos resultados? ¿Por qué sí o por qué no?\n",
    "    - ¿Qué problemas encontró al realizar este taller?\n",
    "    \n",
    "    \n",
    "Ideas algunas por si están varados: \n",
    "- Hacer más visualizaciones\n",
    "- Jugar con los parámetros de la funcion word2vec de gensim\n",
    "- Usar alguna función de gensim que no hayamos visto en clase (https://radimrehurek.com/gensim/models/word2vec.html#module-gensim.models.word2vec)\n",
    "- Comparar palabras del inglés y el español\n",
    "- Encontrar analogías y similutdes interesantes\n",
    "\n",
    "\n",
    "### Enviar código con explicaciones del por qué escogieron ese camino"
   ]
  },
  {
   "cell_type": "code",
   "execution_count": 1,
   "metadata": {},
   "outputs": [],
   "source": [
    "import re\n",
    "import pandas as pd\n",
    "\n",
    "from nltk.corpus import stopwords\n",
    "stopwords_sp = stopwords.words('spanish')\n",
    "\n",
    "import gensim.models.word2vec as w2v\n",
    "from sklearn.decomposition import PCA\n",
    "import matplotlib.pyplot as plt\n",
    "import plotly.graph_objs as go\n",
    "from plotly.offline import iplot"
   ]
  },
  {
   "cell_type": "code",
   "execution_count": 2,
   "metadata": {},
   "outputs": [],
   "source": [
    "data = pd.read_csv(\"../../archivos/Simpsons.csv\")"
   ]
  },
  {
   "cell_type": "code",
   "execution_count": 3,
   "metadata": {},
   "outputs": [
    {
     "data": {
      "text/html": [
       "<div>\n",
       "<style scoped>\n",
       "    .dataframe tbody tr th:only-of-type {\n",
       "        vertical-align: middle;\n",
       "    }\n",
       "\n",
       "    .dataframe tbody tr th {\n",
       "        vertical-align: top;\n",
       "    }\n",
       "\n",
       "    .dataframe thead th {\n",
       "        text-align: right;\n",
       "    }\n",
       "</style>\n",
       "<table border=\"1\" class=\"dataframe\">\n",
       "  <thead>\n",
       "    <tr style=\"text-align: right;\">\n",
       "      <th></th>\n",
       "      <th>Personaje</th>\n",
       "      <th>Descripción</th>\n",
       "    </tr>\n",
       "  </thead>\n",
       "  <tbody>\n",
       "    <tr>\n",
       "      <th>0</th>\n",
       "      <td>Homer</td>\n",
       "      <td>Rol en Los Simpson\\nHomer Simpson realiza las ...</td>\n",
       "    </tr>\n",
       "    <tr>\n",
       "      <th>1</th>\n",
       "      <td>Marge</td>\n",
       "      <td>Papel en Los Simpson\\nMarge hace el típico pap...</td>\n",
       "    </tr>\n",
       "    <tr>\n",
       "      <th>2</th>\n",
       "      <td>Bart</td>\n",
       "      <td>Papel en Los Simpson\\nBart es el problemático ...</td>\n",
       "    </tr>\n",
       "    <tr>\n",
       "      <th>3</th>\n",
       "      <td>Lisa</td>\n",
       "      <td>Papel en Los Simpson\\nLisa Simpson desempeña l...</td>\n",
       "    </tr>\n",
       "    <tr>\n",
       "      <th>4</th>\n",
       "      <td>Maggie</td>\n",
       "      <td>Papel en Los Simpson\\nEl rol que Maggie desemp...</td>\n",
       "    </tr>\n",
       "    <tr>\n",
       "      <th>5</th>\n",
       "      <td>Abraham</td>\n",
       "      <td>Papel en Los Simpson\\nAbraham Simpson es el ab...</td>\n",
       "    </tr>\n",
       "    <tr>\n",
       "      <th>6</th>\n",
       "      <td>Patty y Selma</td>\n",
       "      <td>Papel en Los Simpson\\nLas hermanas mayores de ...</td>\n",
       "    </tr>\n",
       "    <tr>\n",
       "      <th>7</th>\n",
       "      <td>Smithers</td>\n",
       "      <td>Papel en Los Simpson\\nWaylon Smithers es el fi...</td>\n",
       "    </tr>\n",
       "    <tr>\n",
       "      <th>8</th>\n",
       "      <td>Lenny</td>\n",
       "      <td>Información general\\nLenny es uno de los perso...</td>\n",
       "    </tr>\n",
       "    <tr>\n",
       "      <th>9</th>\n",
       "      <td>Carl</td>\n",
       "      <td>Carlton \"Carl\" Carlson (en algunos episodios d...</td>\n",
       "    </tr>\n",
       "    <tr>\n",
       "      <th>10</th>\n",
       "      <td>Burns</td>\n",
       "      <td>Papel en Los Simpson\\nOriginalmente, este pers...</td>\n",
       "    </tr>\n",
       "    <tr>\n",
       "      <th>11</th>\n",
       "      <td>Flanders</td>\n",
       "      <td>Nedward «Ned» Flanders2​ es un personaje ficti...</td>\n",
       "    </tr>\n",
       "    <tr>\n",
       "      <th>12</th>\n",
       "      <td>Milhouse</td>\n",
       "      <td>Milhouse Mussolini Van Houten es un personaje ...</td>\n",
       "    </tr>\n",
       "    <tr>\n",
       "      <th>13</th>\n",
       "      <td>Skinner</td>\n",
       "      <td>Seymour Skinner (cuyo nombre original era Armi...</td>\n",
       "    </tr>\n",
       "    <tr>\n",
       "      <th>14</th>\n",
       "      <td>Krusty</td>\n",
       "      <td>Papel en Los Simpson\\n\\nDan Castellaneta basó ...</td>\n",
       "    </tr>\n",
       "    <tr>\n",
       "      <th>15</th>\n",
       "      <td>Gordo Tony</td>\n",
       "      <td>Papel en Los Simpson\\nFat Tony hace la satiriz...</td>\n",
       "    </tr>\n",
       "  </tbody>\n",
       "</table>\n",
       "</div>"
      ],
      "text/plain": [
       "        Personaje                                        Descripción\n",
       "0           Homer  Rol en Los Simpson\\nHomer Simpson realiza las ...\n",
       "1           Marge  Papel en Los Simpson\\nMarge hace el típico pap...\n",
       "2            Bart  Papel en Los Simpson\\nBart es el problemático ...\n",
       "3            Lisa  Papel en Los Simpson\\nLisa Simpson desempeña l...\n",
       "4          Maggie  Papel en Los Simpson\\nEl rol que Maggie desemp...\n",
       "5         Abraham  Papel en Los Simpson\\nAbraham Simpson es el ab...\n",
       "6   Patty y Selma  Papel en Los Simpson\\nLas hermanas mayores de ...\n",
       "7        Smithers  Papel en Los Simpson\\nWaylon Smithers es el fi...\n",
       "8           Lenny  Información general\\nLenny es uno de los perso...\n",
       "9            Carl  Carlton \"Carl\" Carlson (en algunos episodios d...\n",
       "10          Burns  Papel en Los Simpson\\nOriginalmente, este pers...\n",
       "11       Flanders  Nedward «Ned» Flanders2​ es un personaje ficti...\n",
       "12       Milhouse  Milhouse Mussolini Van Houten es un personaje ...\n",
       "13        Skinner  Seymour Skinner (cuyo nombre original era Armi...\n",
       "14         Krusty  Papel en Los Simpson\\n\\nDan Castellaneta basó ...\n",
       "15     Gordo Tony  Papel en Los Simpson\\nFat Tony hace la satiriz..."
      ]
     },
     "execution_count": 3,
     "metadata": {},
     "output_type": "execute_result"
    }
   ],
   "source": [
    "data"
   ]
  },
  {
   "cell_type": "code",
   "execution_count": 4,
   "metadata": {},
   "outputs": [
    {
     "data": {
      "text/html": [
       "<div>\n",
       "<style scoped>\n",
       "    .dataframe tbody tr th:only-of-type {\n",
       "        vertical-align: middle;\n",
       "    }\n",
       "\n",
       "    .dataframe tbody tr th {\n",
       "        vertical-align: top;\n",
       "    }\n",
       "\n",
       "    .dataframe thead th {\n",
       "        text-align: right;\n",
       "    }\n",
       "</style>\n",
       "<table border=\"1\" class=\"dataframe\">\n",
       "  <thead>\n",
       "    <tr style=\"text-align: right;\">\n",
       "      <th></th>\n",
       "      <th>Personaje</th>\n",
       "      <th>Descripción</th>\n",
       "      <th>pp</th>\n",
       "    </tr>\n",
       "  </thead>\n",
       "  <tbody>\n",
       "    <tr>\n",
       "      <th>0</th>\n",
       "      <td>Homer</td>\n",
       "      <td>Rol en Los Simpson\\nHomer Simpson realiza las ...</td>\n",
       "      <td>[rol, simpson, homer, simpson, realiza, típica...</td>\n",
       "    </tr>\n",
       "    <tr>\n",
       "      <th>1</th>\n",
       "      <td>Marge</td>\n",
       "      <td>Papel en Los Simpson\\nMarge hace el típico pap...</td>\n",
       "      <td>[papel, simpson, marge, hace, típico, papel, m...</td>\n",
       "    </tr>\n",
       "    <tr>\n",
       "      <th>2</th>\n",
       "      <td>Bart</td>\n",
       "      <td>Papel en Los Simpson\\nBart es el problemático ...</td>\n",
       "      <td>[papel, simpson, bart, problemático, familia, ...</td>\n",
       "    </tr>\n",
       "    <tr>\n",
       "      <th>3</th>\n",
       "      <td>Lisa</td>\n",
       "      <td>Papel en Los Simpson\\nLisa Simpson desempeña l...</td>\n",
       "      <td>[papel, simpson, lisa, simpson, desempeña, fun...</td>\n",
       "    </tr>\n",
       "    <tr>\n",
       "      <th>4</th>\n",
       "      <td>Maggie</td>\n",
       "      <td>Papel en Los Simpson\\nEl rol que Maggie desemp...</td>\n",
       "      <td>[papel, simpson, rol, maggie, desempeña, serie...</td>\n",
       "    </tr>\n",
       "  </tbody>\n",
       "</table>\n",
       "</div>"
      ],
      "text/plain": [
       "  Personaje                                        Descripción  \\\n",
       "0     Homer  Rol en Los Simpson\\nHomer Simpson realiza las ...   \n",
       "1     Marge  Papel en Los Simpson\\nMarge hace el típico pap...   \n",
       "2      Bart  Papel en Los Simpson\\nBart es el problemático ...   \n",
       "3      Lisa  Papel en Los Simpson\\nLisa Simpson desempeña l...   \n",
       "4    Maggie  Papel en Los Simpson\\nEl rol que Maggie desemp...   \n",
       "\n",
       "                                                  pp  \n",
       "0  [rol, simpson, homer, simpson, realiza, típica...  \n",
       "1  [papel, simpson, marge, hace, típico, papel, m...  \n",
       "2  [papel, simpson, bart, problemático, familia, ...  \n",
       "3  [papel, simpson, lisa, simpson, desempeña, fun...  \n",
       "4  [papel, simpson, rol, maggie, desempeña, serie...  "
      ]
     },
     "execution_count": 4,
     "metadata": {},
     "output_type": "execute_result"
    }
   ],
   "source": [
    "def pre_procesado(texto):\n",
    "    texto = texto.lower()\n",
    "    texto = re.sub(r\"[\\W\\d_]+\", \" \", texto)\n",
    "    texto = \" \".join([palabra for palabra in texto.split() if palabra not in stopwords_sp])\n",
    "    return texto.split()\n",
    "\n",
    "data['pp'] = data['Descripción'].apply(lambda texto: pre_procesado(texto))\n",
    "\n",
    "data.head()"
   ]
  },
  {
   "cell_type": "code",
   "execution_count": 5,
   "metadata": {},
   "outputs": [],
   "source": [
    "mi_modelo = w2v.Word2Vec(data['pp'].values,\n",
    "                         sg=1, # 1 para usar skip-gram, 0 para usar CBOW\n",
    "                         seed=1, # 1 para tener resultados reproducibles y debugear\n",
    "                         vector_size=50, # el tamaño de los vectores de palabras, o neuronas\n",
    "                         window=7) "
   ]
  },
  {
   "cell_type": "code",
   "execution_count": 7,
   "metadata": {},
   "outputs": [
    {
     "data": {
      "text/plain": [
       "337"
      ]
     },
     "execution_count": 7,
     "metadata": {},
     "output_type": "execute_result"
    }
   ],
   "source": [
    "len(mi_modelo.wv.key_to_index)"
   ]
  },
  {
   "cell_type": "code",
   "execution_count": 9,
   "metadata": {},
   "outputs": [
    {
     "data": {
      "text/html": [
       "<div>\n",
       "<style scoped>\n",
       "    .dataframe tbody tr th:only-of-type {\n",
       "        vertical-align: middle;\n",
       "    }\n",
       "\n",
       "    .dataframe tbody tr th {\n",
       "        vertical-align: top;\n",
       "    }\n",
       "\n",
       "    .dataframe thead th {\n",
       "        text-align: right;\n",
       "    }\n",
       "</style>\n",
       "<table border=\"1\" class=\"dataframe\">\n",
       "  <thead>\n",
       "    <tr style=\"text-align: right;\">\n",
       "      <th></th>\n",
       "      <th>0</th>\n",
       "      <th>1</th>\n",
       "      <th>2</th>\n",
       "      <th>3</th>\n",
       "      <th>4</th>\n",
       "      <th>5</th>\n",
       "      <th>6</th>\n",
       "      <th>7</th>\n",
       "      <th>8</th>\n",
       "      <th>9</th>\n",
       "      <th>...</th>\n",
       "      <th>40</th>\n",
       "      <th>41</th>\n",
       "      <th>42</th>\n",
       "      <th>43</th>\n",
       "      <th>44</th>\n",
       "      <th>45</th>\n",
       "      <th>46</th>\n",
       "      <th>47</th>\n",
       "      <th>48</th>\n",
       "      <th>49</th>\n",
       "    </tr>\n",
       "  </thead>\n",
       "  <tbody>\n",
       "    <tr>\n",
       "      <th>homer</th>\n",
       "      <td>0.150389</td>\n",
       "      <td>0.035395</td>\n",
       "      <td>0.030746</td>\n",
       "      <td>-0.019461</td>\n",
       "      <td>0.027813</td>\n",
       "      <td>-0.158429</td>\n",
       "      <td>0.191341</td>\n",
       "      <td>0.250517</td>\n",
       "      <td>-0.273174</td>\n",
       "      <td>0.081242</td>\n",
       "      <td>...</td>\n",
       "      <td>0.152595</td>\n",
       "      <td>0.060528</td>\n",
       "      <td>-0.034595</td>\n",
       "      <td>0.133646</td>\n",
       "      <td>0.276488</td>\n",
       "      <td>0.242004</td>\n",
       "      <td>0.049684</td>\n",
       "      <td>-0.045996</td>\n",
       "      <td>0.208575</td>\n",
       "      <td>0.022034</td>\n",
       "    </tr>\n",
       "    <tr>\n",
       "      <th>simpson</th>\n",
       "      <td>0.132105</td>\n",
       "      <td>0.044906</td>\n",
       "      <td>0.004051</td>\n",
       "      <td>-0.035806</td>\n",
       "      <td>0.056758</td>\n",
       "      <td>-0.160788</td>\n",
       "      <td>0.194984</td>\n",
       "      <td>0.217293</td>\n",
       "      <td>-0.265951</td>\n",
       "      <td>0.104764</td>\n",
       "      <td>...</td>\n",
       "      <td>0.172833</td>\n",
       "      <td>0.056688</td>\n",
       "      <td>-0.006884</td>\n",
       "      <td>0.129375</td>\n",
       "      <td>0.295199</td>\n",
       "      <td>0.264038</td>\n",
       "      <td>0.042763</td>\n",
       "      <td>-0.073780</td>\n",
       "      <td>0.204445</td>\n",
       "      <td>0.012695</td>\n",
       "    </tr>\n",
       "    <tr>\n",
       "      <th>bart</th>\n",
       "      <td>0.128808</td>\n",
       "      <td>0.037007</td>\n",
       "      <td>0.029596</td>\n",
       "      <td>-0.024961</td>\n",
       "      <td>0.050526</td>\n",
       "      <td>-0.166312</td>\n",
       "      <td>0.187065</td>\n",
       "      <td>0.238655</td>\n",
       "      <td>-0.261114</td>\n",
       "      <td>0.067576</td>\n",
       "      <td>...</td>\n",
       "      <td>0.184567</td>\n",
       "      <td>0.039935</td>\n",
       "      <td>-0.023762</td>\n",
       "      <td>0.126211</td>\n",
       "      <td>0.275546</td>\n",
       "      <td>0.263322</td>\n",
       "      <td>0.066019</td>\n",
       "      <td>-0.064964</td>\n",
       "      <td>0.202002</td>\n",
       "      <td>-0.000458</td>\n",
       "    </tr>\n",
       "    <tr>\n",
       "      <th>marge</th>\n",
       "      <td>0.164427</td>\n",
       "      <td>0.017985</td>\n",
       "      <td>0.023648</td>\n",
       "      <td>-0.026429</td>\n",
       "      <td>0.042990</td>\n",
       "      <td>-0.132072</td>\n",
       "      <td>0.199546</td>\n",
       "      <td>0.252195</td>\n",
       "      <td>-0.269446</td>\n",
       "      <td>0.101175</td>\n",
       "      <td>...</td>\n",
       "      <td>0.175841</td>\n",
       "      <td>0.052419</td>\n",
       "      <td>-0.016261</td>\n",
       "      <td>0.130301</td>\n",
       "      <td>0.278677</td>\n",
       "      <td>0.247285</td>\n",
       "      <td>0.070338</td>\n",
       "      <td>-0.071566</td>\n",
       "      <td>0.186761</td>\n",
       "      <td>0.012960</td>\n",
       "    </tr>\n",
       "    <tr>\n",
       "      <th>burns</th>\n",
       "      <td>0.149949</td>\n",
       "      <td>0.042119</td>\n",
       "      <td>-0.006704</td>\n",
       "      <td>-0.041281</td>\n",
       "      <td>0.047061</td>\n",
       "      <td>-0.135087</td>\n",
       "      <td>0.169157</td>\n",
       "      <td>0.244254</td>\n",
       "      <td>-0.275509</td>\n",
       "      <td>0.107812</td>\n",
       "      <td>...</td>\n",
       "      <td>0.166446</td>\n",
       "      <td>0.061716</td>\n",
       "      <td>-0.011255</td>\n",
       "      <td>0.145963</td>\n",
       "      <td>0.284510</td>\n",
       "      <td>0.257469</td>\n",
       "      <td>0.066701</td>\n",
       "      <td>-0.078122</td>\n",
       "      <td>0.200997</td>\n",
       "      <td>-0.003505</td>\n",
       "    </tr>\n",
       "    <tr>\n",
       "      <th>...</th>\n",
       "      <td>...</td>\n",
       "      <td>...</td>\n",
       "      <td>...</td>\n",
       "      <td>...</td>\n",
       "      <td>...</td>\n",
       "      <td>...</td>\n",
       "      <td>...</td>\n",
       "      <td>...</td>\n",
       "      <td>...</td>\n",
       "      <td>...</td>\n",
       "      <td>...</td>\n",
       "      <td>...</td>\n",
       "      <td>...</td>\n",
       "      <td>...</td>\n",
       "      <td>...</td>\n",
       "      <td>...</td>\n",
       "      <td>...</td>\n",
       "      <td>...</td>\n",
       "      <td>...</td>\n",
       "      <td>...</td>\n",
       "      <td>...</td>\n",
       "    </tr>\n",
       "    <tr>\n",
       "      <th>pasa</th>\n",
       "      <td>0.155931</td>\n",
       "      <td>0.035712</td>\n",
       "      <td>0.012184</td>\n",
       "      <td>-0.027531</td>\n",
       "      <td>0.037252</td>\n",
       "      <td>-0.166082</td>\n",
       "      <td>0.180566</td>\n",
       "      <td>0.243432</td>\n",
       "      <td>-0.253181</td>\n",
       "      <td>0.091210</td>\n",
       "      <td>...</td>\n",
       "      <td>0.186675</td>\n",
       "      <td>0.039071</td>\n",
       "      <td>-0.021875</td>\n",
       "      <td>0.122766</td>\n",
       "      <td>0.299918</td>\n",
       "      <td>0.269003</td>\n",
       "      <td>0.070416</td>\n",
       "      <td>-0.078600</td>\n",
       "      <td>0.192356</td>\n",
       "      <td>-0.010700</td>\n",
       "    </tr>\n",
       "    <tr>\n",
       "      <th>valores</th>\n",
       "      <td>0.143001</td>\n",
       "      <td>0.044790</td>\n",
       "      <td>0.000916</td>\n",
       "      <td>-0.025168</td>\n",
       "      <td>0.032364</td>\n",
       "      <td>-0.153592</td>\n",
       "      <td>0.172449</td>\n",
       "      <td>0.217216</td>\n",
       "      <td>-0.276982</td>\n",
       "      <td>0.085785</td>\n",
       "      <td>...</td>\n",
       "      <td>0.189161</td>\n",
       "      <td>0.050365</td>\n",
       "      <td>-0.016571</td>\n",
       "      <td>0.136714</td>\n",
       "      <td>0.278915</td>\n",
       "      <td>0.261539</td>\n",
       "      <td>0.070771</td>\n",
       "      <td>-0.057583</td>\n",
       "      <td>0.212716</td>\n",
       "      <td>-0.006428</td>\n",
       "    </tr>\n",
       "    <tr>\n",
       "      <th>período</th>\n",
       "      <td>0.147899</td>\n",
       "      <td>0.022377</td>\n",
       "      <td>0.026988</td>\n",
       "      <td>-0.043896</td>\n",
       "      <td>0.031752</td>\n",
       "      <td>-0.152823</td>\n",
       "      <td>0.196549</td>\n",
       "      <td>0.228677</td>\n",
       "      <td>-0.253599</td>\n",
       "      <td>0.091382</td>\n",
       "      <td>...</td>\n",
       "      <td>0.181533</td>\n",
       "      <td>0.067153</td>\n",
       "      <td>-0.002099</td>\n",
       "      <td>0.142816</td>\n",
       "      <td>0.308678</td>\n",
       "      <td>0.255563</td>\n",
       "      <td>0.074357</td>\n",
       "      <td>-0.056980</td>\n",
       "      <td>0.197144</td>\n",
       "      <td>0.011185</td>\n",
       "    </tr>\n",
       "    <tr>\n",
       "      <th>campamento</th>\n",
       "      <td>0.162055</td>\n",
       "      <td>0.045129</td>\n",
       "      <td>0.021952</td>\n",
       "      <td>-0.035815</td>\n",
       "      <td>0.032275</td>\n",
       "      <td>-0.159024</td>\n",
       "      <td>0.200870</td>\n",
       "      <td>0.228118</td>\n",
       "      <td>-0.259633</td>\n",
       "      <td>0.089887</td>\n",
       "      <td>...</td>\n",
       "      <td>0.176755</td>\n",
       "      <td>0.045497</td>\n",
       "      <td>-0.022873</td>\n",
       "      <td>0.126914</td>\n",
       "      <td>0.285115</td>\n",
       "      <td>0.251899</td>\n",
       "      <td>0.063288</td>\n",
       "      <td>-0.070475</td>\n",
       "      <td>0.213345</td>\n",
       "      <td>-0.003803</td>\n",
       "    </tr>\n",
       "    <tr>\n",
       "      <th>empieza</th>\n",
       "      <td>0.157783</td>\n",
       "      <td>0.017289</td>\n",
       "      <td>0.017595</td>\n",
       "      <td>-0.017451</td>\n",
       "      <td>0.040671</td>\n",
       "      <td>-0.168822</td>\n",
       "      <td>0.173106</td>\n",
       "      <td>0.238496</td>\n",
       "      <td>-0.257620</td>\n",
       "      <td>0.102131</td>\n",
       "      <td>...</td>\n",
       "      <td>0.181639</td>\n",
       "      <td>0.042897</td>\n",
       "      <td>-0.020300</td>\n",
       "      <td>0.147349</td>\n",
       "      <td>0.295323</td>\n",
       "      <td>0.230200</td>\n",
       "      <td>0.051292</td>\n",
       "      <td>-0.060799</td>\n",
       "      <td>0.211478</td>\n",
       "      <td>0.004622</td>\n",
       "    </tr>\n",
       "  </tbody>\n",
       "</table>\n",
       "<p>337 rows × 50 columns</p>\n",
       "</div>"
      ],
      "text/plain": [
       "                  0         1         2         3         4         5   \\\n",
       "homer       0.150389  0.035395  0.030746 -0.019461  0.027813 -0.158429   \n",
       "simpson     0.132105  0.044906  0.004051 -0.035806  0.056758 -0.160788   \n",
       "bart        0.128808  0.037007  0.029596 -0.024961  0.050526 -0.166312   \n",
       "marge       0.164427  0.017985  0.023648 -0.026429  0.042990 -0.132072   \n",
       "burns       0.149949  0.042119 -0.006704 -0.041281  0.047061 -0.135087   \n",
       "...              ...       ...       ...       ...       ...       ...   \n",
       "pasa        0.155931  0.035712  0.012184 -0.027531  0.037252 -0.166082   \n",
       "valores     0.143001  0.044790  0.000916 -0.025168  0.032364 -0.153592   \n",
       "período     0.147899  0.022377  0.026988 -0.043896  0.031752 -0.152823   \n",
       "campamento  0.162055  0.045129  0.021952 -0.035815  0.032275 -0.159024   \n",
       "empieza     0.157783  0.017289  0.017595 -0.017451  0.040671 -0.168822   \n",
       "\n",
       "                  6         7         8         9   ...        40        41  \\\n",
       "homer       0.191341  0.250517 -0.273174  0.081242  ...  0.152595  0.060528   \n",
       "simpson     0.194984  0.217293 -0.265951  0.104764  ...  0.172833  0.056688   \n",
       "bart        0.187065  0.238655 -0.261114  0.067576  ...  0.184567  0.039935   \n",
       "marge       0.199546  0.252195 -0.269446  0.101175  ...  0.175841  0.052419   \n",
       "burns       0.169157  0.244254 -0.275509  0.107812  ...  0.166446  0.061716   \n",
       "...              ...       ...       ...       ...  ...       ...       ...   \n",
       "pasa        0.180566  0.243432 -0.253181  0.091210  ...  0.186675  0.039071   \n",
       "valores     0.172449  0.217216 -0.276982  0.085785  ...  0.189161  0.050365   \n",
       "período     0.196549  0.228677 -0.253599  0.091382  ...  0.181533  0.067153   \n",
       "campamento  0.200870  0.228118 -0.259633  0.089887  ...  0.176755  0.045497   \n",
       "empieza     0.173106  0.238496 -0.257620  0.102131  ...  0.181639  0.042897   \n",
       "\n",
       "                  42        43        44        45        46        47  \\\n",
       "homer      -0.034595  0.133646  0.276488  0.242004  0.049684 -0.045996   \n",
       "simpson    -0.006884  0.129375  0.295199  0.264038  0.042763 -0.073780   \n",
       "bart       -0.023762  0.126211  0.275546  0.263322  0.066019 -0.064964   \n",
       "marge      -0.016261  0.130301  0.278677  0.247285  0.070338 -0.071566   \n",
       "burns      -0.011255  0.145963  0.284510  0.257469  0.066701 -0.078122   \n",
       "...              ...       ...       ...       ...       ...       ...   \n",
       "pasa       -0.021875  0.122766  0.299918  0.269003  0.070416 -0.078600   \n",
       "valores    -0.016571  0.136714  0.278915  0.261539  0.070771 -0.057583   \n",
       "período    -0.002099  0.142816  0.308678  0.255563  0.074357 -0.056980   \n",
       "campamento -0.022873  0.126914  0.285115  0.251899  0.063288 -0.070475   \n",
       "empieza    -0.020300  0.147349  0.295323  0.230200  0.051292 -0.060799   \n",
       "\n",
       "                  48        49  \n",
       "homer       0.208575  0.022034  \n",
       "simpson     0.204445  0.012695  \n",
       "bart        0.202002 -0.000458  \n",
       "marge       0.186761  0.012960  \n",
       "burns       0.200997 -0.003505  \n",
       "...              ...       ...  \n",
       "pasa        0.192356 -0.010700  \n",
       "valores     0.212716 -0.006428  \n",
       "período     0.197144  0.011185  \n",
       "campamento  0.213345 -0.003803  \n",
       "empieza     0.211478  0.004622  \n",
       "\n",
       "[337 rows x 50 columns]"
      ]
     },
     "execution_count": 9,
     "metadata": {},
     "output_type": "execute_result"
    }
   ],
   "source": [
    "matrix = pd.DataFrame(mi_modelo.wv.get_normed_vectors(), index = mi_modelo.wv.key_to_index)\n",
    "matrix"
   ]
  },
  {
   "cell_type": "code",
   "execution_count": 13,
   "metadata": {},
   "outputs": [
    {
     "data": {
      "application/vnd.plotly.v1+json": {
       "config": {
        "linkText": "Export to plot.ly",
        "plotlyServerURL": "https://plot.ly",
        "showLink": false
       },
       "data": [
        {
         "marker": {
          "color": [
           "#2f64d6",
           "#2f64d6",
           "#2f64d6",
           "#2f64d6",
           "#2f64d6",
           "#2f64d6",
           "#2f64d6",
           "#2f64d6",
           "#2f64d6",
           "#2f64d6",
           "#2f64d6",
           "#2f64d6",
           "#2f64d6",
           "#2f64d6",
           "#2f64d6",
           "#2f64d6",
           "#2f64d6",
           "#2f64d6",
           "#2f64d6",
           "#2f64d6",
           "#2f64d6",
           "#2f64d6",
           "#2f64d6",
           "#2f64d6",
           "#2f64d6",
           "#2f64d6",
           "#2f64d6",
           "#2f64d6",
           "#2f64d6",
           "#2f64d6",
           "#2f64d6",
           "#2f64d6",
           "#2f64d6",
           "#2f64d6",
           "#2f64d6",
           "#2f64d6",
           "#2f64d6",
           "#2f64d6",
           "#2f64d6",
           "#2f64d6",
           "#2f64d6",
           "#2f64d6",
           "#2f64d6",
           "#2f64d6",
           "#2f64d6",
           "#2f64d6",
           "#2f64d6",
           "#2f64d6",
           "#2f64d6",
           "#2f64d6",
           "#2f64d6",
           "#2f64d6",
           "#2f64d6",
           "#2f64d6",
           "#2f64d6",
           "#2f64d6",
           "#2f64d6",
           "#2f64d6",
           "#2f64d6",
           "#2f64d6",
           "#2f64d6",
           "#2f64d6",
           "#2f64d6",
           "#2f64d6",
           "#2f64d6",
           "#2f64d6",
           "#2f64d6",
           "#2f64d6",
           "#2f64d6",
           "#2f64d6",
           "#2f64d6",
           "#2f64d6",
           "#2f64d6",
           "#2f64d6",
           "#2f64d6",
           "#2f64d6",
           "#2f64d6",
           "#2f64d6",
           "#2f64d6",
           "#2f64d6",
           "#2f64d6",
           "#2f64d6",
           "#2f64d6",
           "#2f64d6",
           "#2f64d6",
           "#2f64d6",
           "#2f64d6",
           "#2f64d6",
           "#2f64d6",
           "#2f64d6",
           "#2f64d6",
           "#2f64d6",
           "#2f64d6",
           "#2f64d6",
           "#2f64d6",
           "#2f64d6",
           "#2f64d6",
           "#2f64d6",
           "#2f64d6",
           "#2f64d6",
           "#2f64d6",
           "#2f64d6",
           "#2f64d6",
           "#2f64d6",
           "#2f64d6",
           "#2f64d6",
           "#2f64d6",
           "#2f64d6",
           "#2f64d6",
           "#2f64d6",
           "#2f64d6",
           "#2f64d6",
           "#2f64d6",
           "#2f64d6",
           "#2f64d6",
           "#2f64d6",
           "#2f64d6",
           "#2f64d6",
           "#2f64d6",
           "#2f64d6",
           "#2f64d6",
           "#2f64d6",
           "#2f64d6",
           "#2f64d6",
           "#2f64d6",
           "#2f64d6",
           "#2f64d6",
           "#2f64d6",
           "#2f64d6",
           "#2f64d6",
           "#2f64d6",
           "#2f64d6",
           "#2f64d6",
           "#2f64d6",
           "#2f64d6",
           "#2f64d6",
           "#2f64d6",
           "#2f64d6",
           "#2f64d6",
           "#2f64d6",
           "#2f64d6",
           "#2f64d6",
           "#2f64d6",
           "#2f64d6",
           "#2f64d6",
           "#2f64d6",
           "#2f64d6",
           "#2f64d6",
           "#2f64d6",
           "#2f64d6",
           "#2f64d6",
           "#2f64d6",
           "#2f64d6",
           "#2f64d6",
           "#2f64d6",
           "#2f64d6",
           "#2f64d6",
           "#2f64d6",
           "#2f64d6",
           "#2f64d6",
           "#2f64d6",
           "#2f64d6",
           "#2f64d6",
           "#2f64d6",
           "#2f64d6",
           "#2f64d6",
           "#2f64d6",
           "#2f64d6",
           "#2f64d6",
           "#2f64d6",
           "#2f64d6",
           "#2f64d6",
           "#2f64d6",
           "#2f64d6",
           "#2f64d6",
           "#2f64d6",
           "#2f64d6",
           "#2f64d6",
           "#2f64d6",
           "#2f64d6",
           "#2f64d6",
           "#2f64d6",
           "#2f64d6",
           "#2f64d6",
           "#2f64d6",
           "#2f64d6",
           "#2f64d6",
           "#2f64d6",
           "#2f64d6",
           "#2f64d6",
           "#2f64d6",
           "#2f64d6",
           "#2f64d6",
           "#2f64d6",
           "#2f64d6",
           "#2f64d6",
           "#2f64d6",
           "#2f64d6",
           "#2f64d6",
           "#2f64d6",
           "#2f64d6",
           "#2f64d6",
           "#2f64d6",
           "#2f64d6",
           "#2f64d6",
           "#2f64d6",
           "#2f64d6",
           "#2f64d6",
           "#2f64d6",
           "#2f64d6",
           "#2f64d6",
           "#2f64d6",
           "#2f64d6",
           "#2f64d6",
           "#2f64d6",
           "#2f64d6",
           "#2f64d6",
           "#2f64d6",
           "#2f64d6",
           "#2f64d6",
           "#2f64d6",
           "#2f64d6",
           "#2f64d6",
           "#2f64d6",
           "#2f64d6",
           "#2f64d6",
           "#2f64d6",
           "#2f64d6",
           "#2f64d6",
           "#2f64d6",
           "#2f64d6",
           "#2f64d6",
           "#2f64d6",
           "#2f64d6",
           "#2f64d6",
           "#2f64d6",
           "#2f64d6",
           "#2f64d6",
           "#2f64d6",
           "#2f64d6",
           "#2f64d6",
           "#2f64d6",
           "#2f64d6",
           "#2f64d6",
           "#2f64d6",
           "#2f64d6",
           "#2f64d6",
           "#2f64d6",
           "#2f64d6",
           "#2f64d6",
           "#2f64d6",
           "#2f64d6",
           "#2f64d6",
           "#2f64d6",
           "#2f64d6",
           "#2f64d6",
           "#2f64d6",
           "#2f64d6",
           "#2f64d6",
           "#2f64d6",
           "#2f64d6",
           "#2f64d6",
           "#2f64d6",
           "#2f64d6",
           "#2f64d6",
           "#2f64d6",
           "#2f64d6",
           "#2f64d6",
           "#2f64d6",
           "#2f64d6",
           "#2f64d6",
           "#2f64d6",
           "#2f64d6",
           "#2f64d6",
           "#2f64d6",
           "#2f64d6",
           "#2f64d6",
           "#2f64d6",
           "#2f64d6",
           "#2f64d6",
           "#2f64d6",
           "#2f64d6",
           "#2f64d6",
           "#2f64d6",
           "#2f64d6",
           "#2f64d6",
           "#2f64d6",
           "#2f64d6",
           "#2f64d6",
           "#2f64d6",
           "#2f64d6",
           "#2f64d6",
           "#2f64d6",
           "#2f64d6",
           "#2f64d6",
           "#2f64d6",
           "#2f64d6",
           "#2f64d6",
           "#2f64d6",
           "#2f64d6",
           "#2f64d6",
           "#2f64d6",
           "#2f64d6",
           "#2f64d6",
           "#2f64d6",
           "#2f64d6",
           "#2f64d6",
           "#2f64d6",
           "#2f64d6",
           "#2f64d6",
           "#2f64d6",
           "#2f64d6",
           "#2f64d6",
           "#2f64d6",
           "#2f64d6",
           "#2f64d6",
           "#2f64d6",
           "#2f64d6",
           "#2f64d6",
           "#2f64d6",
           "#2f64d6",
           "#2f64d6"
          ],
          "size": 10
         },
         "mode": "markers",
         "name": "Palabras",
         "text": [
          "simpson",
          "serie",
          "episodio",
          "aunque",
          "familia",
          "ser",
          "springfield",
          "vida",
          "casa",
          "años",
          "dos",
          "the",
          "suele",
          "temporada",
          "ned",
          "edad",
          "escuela",
          "tiempo",
          "madre",
          "después",
          "personaje",
          "padre",
          "capítulo",
          "debido",
          "veces",
          "mientras",
          "parte",
          "padres",
          "gran",
          "siempre",
          "hijo",
          "episodios",
          "pesar",
          "payaso",
          "mismo",
          "papel",
          "nuclear",
          "parece",
          "primera",
          "sido",
          "ocasiones",
          "algún",
          "muestra",
          "hacer",
          "ve",
          "guerra",
          "relación",
          "trabajo",
          "día",
          "puede",
          "señor",
          "dice",
          "mundo",
          "amor",
          "embargo",
          "menudo",
          "doblado",
          "nombre",
          "incluso",
          "temporadas",
          "da",
          "mayor",
          "hecho",
          "además",
          "central",
          "vez",
          "varias",
          "alguna",
          "bebé",
          "caso",
          "abuelo",
          "niño",
          "cosa",
          "hijos",
          "hace",
          "bastante",
          "amigos",
          "abe",
          "junto",
          "tras",
          "varios",
          "así",
          "personajes",
          "niños",
          "casi",
          "según",
          "guionistas",
          "pareja",
          "luego",
          "dado",
          "director",
          "hermana",
          "solo",
          "ver",
          "hombre",
          "ir",
          "cosas",
          "hermano",
          "hogar",
          "voz",
          "ocasión",
          "segunda",
          "of",
          "vivir",
          "ambos",
          "toda",
          "manera",
          "biografía",
          "bob",
          "atención",
          "especial",
          "pasar",
          "amigo",
          "hacia",
          "bien",
          "entonces",
          "capítulos",
          "televisión",
          "ayuda",
          "mejor",
          "futuro",
          "mujer",
          "casado",
          "cada",
          "embarazada",
          "personas",
          "problemas",
          "familiar",
          "cualquier",
          "generalmente",
          "productos",
          "programa",
          "tener",
          "and",
          "puesto",
          "finalmente",
          "planta",
          "vive",
          "mundial",
          "original",
          "podría",
          "montgomery",
          "va",
          "gusta",
          "nació",
          "esposa",
          "muerte",
          "último",
          "mantener",
          "aún",
          "especialmente",
          "menos",
          "normalmente",
          "mayores",
          "resto",
          "lugar",
          "actualmente",
          "visto",
          "primeras",
          "s",
          "grandes",
          "cuenta",
          "acciones",
          "realizar",
          "edna",
          "familiares",
          "mona",
          "marido",
          "maneras",
          "todas",
          "largo",
          "misma",
          "estereotipo",
          "haber",
          "medio",
          "éxito",
          "travesuras",
          "aparece",
          "general",
          "unas",
          "cabeza",
          "aspecto",
          "moe",
          "universidad",
          "hispanoamérica",
          "ido",
          "lado",
          "persona",
          "acostumbra",
          "juntos",
          "dedica",
          "llegando",
          "gen",
          "tarde",
          "sólo",
          "matrimonio",
          "protagonista",
          "realidad",
          "feliz",
          "suelen",
          "joven",
          "llegó",
          "mal",
          "año",
          "lleva",
          "dinero",
          "muchas",
          "estupidez",
          "física",
          "ello",
          "tal",
          "nivel",
          "partido",
          "hija",
          "rol",
          "demostrado",
          "típico",
          "principal",
          "presencia",
          "sabe",
          "ciudad",
          "actividades",
          "película",
          "si",
          "situaciones",
          "ambas",
          "cierta",
          "pelo",
          "hermanos",
          "rebelde",
          "queda",
          "españa",
          "constantemente",
          "primaria",
          "cambio",
          "haciendo",
          "veterano",
          "anciano",
          "política",
          "gente",
          "propia",
          "seymour",
          "poder",
          "cotidiana",
          "carrera",
          "nunca",
          "viviendo",
          "responde",
          "niña",
          "budista",
          "decidió",
          "dando",
          "chistes",
          "hermanas",
          "ficticio",
          "ejemplo",
          "krabappel",
          "cariño",
          "ocasionalmente",
          "beatles",
          "diez",
          "vietnam",
          "escribir",
          "tipo",
          "reemplazado",
          "josé",
          "descubre",
          "momento",
          "puntas",
          "representa",
          "entender",
          "características",
          "inteligencia",
          "fortuna",
          "volvió",
          "bajo",
          "menciona",
          "duda",
          "nueva",
          "vuelto",
          "cabo",
          "mujeres",
          "azules",
          "falta",
          "alcohol",
          "intelectual",
          "capaz",
          "naturaleza",
          "quedó",
          "gafas",
          "cerebro",
          "pequeña",
          "sufre",
          "salud",
          "energía",
          "marca",
          "seguridad",
          "barney",
          "dio",
          "recurrente",
          "pantalones",
          "ama",
          "desarrollar",
          "tan",
          "centro",
          "hizo",
          "usa",
          "típicos",
          "azul",
          "acerca",
          "especiales",
          "zapatos",
          "verde",
          "salida",
          "dar",
          "muestras",
          "éste",
          "pasa",
          "valores",
          "período",
          "campamento",
          "empieza"
         ],
         "type": "scatter",
         "x": [
          0.00041109268204309046,
          0.0027892885264009237,
          -0.0016684640431776643,
          -0.012189320288598537,
          0.02545977756381035,
          0.018841536715626717,
          1.1056908078899141e-05,
          0.010586025193333626,
          0.010235580615699291,
          0.015487664379179478,
          -0.006788899656385183,
          -0.018527736887335777,
          -0.006477841641753912,
          -0.04150478541851044,
          0.004370833281427622,
          0.008624030277132988,
          -0.010281287133693695,
          0.004893530625849962,
          0.007087280973792076,
          -0.003207560395821929,
          -0.0036218026652932167,
          0.00845628697425127,
          -0.02722039632499218,
          0.0028295661322772503,
          0.025481093674898148,
          -0.024550925940275192,
          0.0011951205087825656,
          0.005687433760613203,
          0.0029965946450829506,
          -0.0063286637887358665,
          0.0026117085944861174,
          -0.009533173404633999,
          0.001416604034602642,
          0.07170014828443527,
          -0.008508767932653427,
          0.015602660365402699,
          0.007509126327931881,
          0.009661334566771984,
          -0.012825563549995422,
          0.003922236151993275,
          0.0017669592052698135,
          -0.00856571551412344,
          0.025590158998966217,
          -0.006446307525038719,
          -0.02710048481822014,
          -0.0160779170691967,
          -0.019957082346081734,
          -0.00044345264905132353,
          0.0036467250902205706,
          -0.01878073439002037,
          0.00150947249494493,
          -0.04800843819975853,
          -0.010277649387717247,
          -0.01384695339947939,
          0.028115974739193916,
          0.013410127721726894,
          -0.04696178436279297,
          0.027703169733285904,
          0.015170452184975147,
          -0.020226215943694115,
          -0.007364754099398851,
          0.003326260019093752,
          0.0015208732802420855,
          0.017772464081645012,
          0.0010363756446167827,
          -0.016102517023682594,
          0.015780827030539513,
          0.007678796537220478,
          0.0194889884442091,
          0.018755167722702026,
          -0.007414123509079218,
          0.008717012591660023,
          0.007706179283559322,
          0.011085264384746552,
          -0.007865981198847294,
          -0.011191016063094139,
          -0.0074136764742434025,
          0.00983469933271408,
          -0.014186668209731579,
          -0.003316173329949379,
          -0.020895084366202354,
          -0.0017953942297026515,
          0.003343959804624319,
          0.01429722085595131,
          0.009915856644511223,
          0.04461311548948288,
          -0.01183300744742155,
          0.0014143461594358087,
          0.007345940452069044,
          -0.018787214532494545,
          0.0010134440381079912,
          0.0005991164944134653,
          -0.008922685869038105,
          0.012965560890734196,
          -0.022462747991085052,
          0.002556427614763379,
          0.009497353807091713,
          0.0177297480404377,
          0.0021763795521110296,
          -0.005236310418695211,
          0.0044099404476583,
          -0.023121695965528488,
          -0.044838450849056244,
          -0.002255789004266262,
          -0.0489562451839447,
          -0.005121027585119009,
          -0.0031915437430143356,
          0.0006890968070365489,
          0.043525733053684235,
          0.0017073216149583459,
          0.019755695015192032,
          0.0028029754757881165,
          -0.0016097292536869645,
          0.009080004878342152,
          -0.006997148506343365,
          0.012972342781722546,
          0.004916577134281397,
          0.032674066722393036,
          0.00632496178150177,
          0.014035848900675774,
          -0.007728267461061478,
          -0.0008682803600095212,
          -0.02484661340713501,
          0.001247859443537891,
          0.014868143945932388,
          -0.013874508440494537,
          0.003288398962467909,
          0.005507247988134623,
          0.01711314171552658,
          0.006647974252700806,
          0.04271870106458664,
          0.05529969185590744,
          0.009621717967092991,
          -0.01966974511742592,
          0.014773073606193066,
          0.011738426983356476,
          0.003644790267571807,
          0.013967027887701988,
          -0.015359995886683464,
          -0.0061634802259504795,
          -0.008542126975953579,
          0.014156393706798553,
          0.0011557197431102395,
          0.00705635454505682,
          -0.00260435463860631,
          -0.007374902721494436,
          0.007566786836832762,
          0.017175327986478806,
          0.006767156068235636,
          0.004086329136043787,
          -0.006336405873298645,
          -0.012517055496573448,
          0.016889238730072975,
          0.01973039098083973,
          -0.00879751332104206,
          0.004934533033519983,
          -0.01673727296292782,
          -0.0041677020490169525,
          -0.0057671270333230495,
          -0.008790911175310612,
          0.011218095198273659,
          0.0003524321364238858,
          -0.0006662275991402566,
          0.00905650295317173,
          -0.01435121614485979,
          0.02173447795212269,
          0.010571382008492947,
          -0.0027709463611245155,
          0.02748725563287735,
          0.003110936377197504,
          0.02004833333194256,
          0.000607264053542167,
          -0.005655424669384956,
          0.0026829498820006847,
          -0.006715374533087015,
          -0.00148295727558434,
          0.0074722860008478165,
          -0.034640248864889145,
          0.0002086782333208248,
          0.005218098405748606,
          -0.00867739412933588,
          -0.007291879504919052,
          -0.02985687553882599,
          0.006353345699608326,
          -0.03370402008295059,
          0.003935346845537424,
          0.0004147839790675789,
          -0.002834427636116743,
          0.023750094696879387,
          -0.0056582349352538586,
          0.011343306861817837,
          0.00790494866669178,
          0.003621682757511735,
          -0.007440236862748861,
          0.02697855420410633,
          0.02228747494518757,
          0.00509386882185936,
          -0.008552872575819492,
          0.007133112754672766,
          0.016813509166240692,
          -0.007580797653645277,
          0.006387223955243826,
          -0.009533495642244816,
          -0.00027324259281158447,
          0.005187609698623419,
          -0.010890846140682697,
          -0.00781350489705801,
          0.010827569290995598,
          -0.012971221469342709,
          -0.01738761179149151,
          0.0007084946264512837,
          0.00844449270516634,
          -0.019942400977015495,
          0.013025416992604733,
          0.0008705722284503281,
          0.012292045168578625,
          0.011661066673696041,
          0.010123265907168388,
          -0.008149705827236176,
          -0.011089140549302101,
          -0.0024378355592489243,
          0.001582771772518754,
          -0.0014313377905637026,
          -0.012995262630283833,
          -0.0048922887071967125,
          0.008728140033781528,
          -0.007575685624033213,
          0.006825799122452736,
          -0.008224689401686192,
          0.011522980406880379,
          0.005201445892453194,
          -0.020668091252446175,
          0.016813386231660843,
          0.004779956769198179,
          -0.0018644832307472825,
          0.02127259410917759,
          -0.00481251860037446,
          -0.0017707784427329898,
          0.009298291057348251,
          -0.008828138001263142,
          0.0036349406000226736,
          -0.012019642628729343,
          0.02741953171789646,
          0.012882305309176445,
          0.04106548801064491,
          0.0019478233298286796,
          -0.008336838334798813,
          -0.0378996878862381,
          0.010558250360190868,
          0.01736542396247387,
          0.008223853074014187,
          -0.006815908942371607,
          0.012575464323163033,
          0.009811731055378914,
          -0.000312371295876801,
          0.008952964097261429,
          -0.0003025463956873864,
          0.0053845904767513275,
          -0.020206011831760406,
          -0.0034862367901951075,
          -0.0008002365939319134,
          -0.014068587683141232,
          -0.005719829350709915,
          0.006832183338701725,
          -0.021953027695417404,
          -0.024683799594640732,
          0.0035154595971107483,
          -0.036000560969114304,
          0.0003069292288273573,
          -0.003648970043286681,
          -0.021008528769016266,
          -0.014169309288263321,
          0.006091015879064798,
          0.020474795252084732,
          0.002597214886918664,
          -0.019827671349048615,
          -0.012815896421670914,
          -0.02135101892054081,
          0.012404825538396835,
          -0.009779061190783978,
          0.013552535325288773,
          0.017905903980135918,
          -0.03686269000172615,
          0.006258212961256504,
          -0.01026164274662733,
          0.005179523956030607,
          0.0007695261156186461,
          -0.02270044945180416,
          0.00018307147547602654,
          -0.011683862656354904,
          -0.008658125065267086,
          -0.02044028230011463,
          0.003817057702690363,
          0.012095368467271328,
          0.008923995308578014,
          0.02497488632798195,
          -0.006464568432420492,
          0.000465708872070536,
          -0.0023998944088816643,
          -0.00834017712622881,
          -0.014457322657108307,
          0.011272691190242767,
          -0.003100964007899165,
          0.005030207801610231,
          -0.016895469278097153,
          0.013677073642611504,
          -0.006085448432713747,
          0.013939931057393551,
          -0.007239638827741146,
          -0.02078717015683651,
          0.010208425112068653,
          0.005240578670054674,
          -0.01615413837134838,
          0.019955262541770935,
          -0.012462868355214596,
          -0.001818330492824316,
          -0.0021507171913981438,
          0.015612242743372917,
          -0.00020592729561030865,
          -0.006604826543480158,
          0.007435030769556761,
          -0.025099532678723335
         ],
         "y": [
          -0.003062681294977665,
          0.03943175822496414,
          -0.0017937334487214684,
          -0.017463617026805878,
          -0.020914141088724136,
          0.013476110994815826,
          0.009588596411049366,
          0.012659349478781223,
          -0.0043210238218307495,
          -0.0039021470583975315,
          -0.0019980273209512234,
          0.020884675905108452,
          0.0023610414937138557,
          0.06714227050542831,
          -0.015864908695220947,
          -0.005787946283817291,
          9.994082938646898e-05,
          -0.007150505669414997,
          -0.005201983265578747,
          0.002920727478340268,
          0.0051970528438687325,
          -0.002137522678822279,
          0.00576897244900465,
          -0.022637493908405304,
          -0.0051263985224068165,
          0.017422983422875404,
          -0.001154460245743394,
          -0.0020598259288817644,
          -0.01410899218171835,
          -0.013234764337539673,
          -0.00866388063877821,
          0.02487308345735073,
          0.008607846684753895,
          0.03194795548915863,
          -0.009069299325346947,
          0.02070740796625614,
          -0.010273532010614872,
          0.014441259205341339,
          0.00102121417876333,
          0.011658554896712303,
          -0.0017223686445504427,
          -0.04436469450592995,
          -0.003008179133757949,
          -0.007701501250267029,
          -0.017337670549750328,
          -0.019662635400891304,
          -0.022629249840974808,
          -0.0029412403237074614,
          -0.009741820394992828,
          0.007077112328261137,
          0.010115863755345345,
          0.01483998540788889,
          0.013471666723489761,
          -0.0020662122406065464,
          0.01239632535725832,
          -0.0065955896861851215,
          0.08480264246463776,
          -0.007524537853896618,
          -0.015241438522934914,
          0.045809756964445114,
          0.01416163519024849,
          0.028751958161592484,
          -0.024585861712694168,
          0.010350395925343037,
          -0.01724102534353733,
          0.015551366843283176,
          0.005956952925771475,
          -0.010136685334146023,
          -0.008324196562170982,
          -0.021054569631814957,
          0.0053998869843780994,
          0.010648508556187153,
          0.0069020818918943405,
          -0.049984969198703766,
          0.013277707621455193,
          0.005315982270985842,
          -0.021249905228614807,
          -0.0041947984136641026,
          -0.02590782381594181,
          -0.015612742863595486,
          -0.03750952333211899,
          0.010113216005265713,
          -0.006259538698941469,
          0.00473423907533288,
          0.00676102377474308,
          0.017201844602823257,
          -0.0014128939947113395,
          -0.005267454776912928,
          0.026705577969551086,
          -0.005686009768396616,
          -0.0012413456570357084,
          0.015619989484548569,
          -0.016920803114771843,
          -0.01719839498400688,
          0.004808012396097183,
          -0.007986074313521385,
          0.015281184576451778,
          0.005700270179659128,
          -0.012110864743590355,
          0.044306568801403046,
          0.014045421034097672,
          -0.002416333183646202,
          0.003566023660823703,
          -0.03023059293627739,
          -0.010081054642796516,
          -0.004666013177484274,
          -0.002570618409663439,
          -0.031517382711172104,
          0.02602429874241352,
          -0.011735118925571442,
          0.013495318591594696,
          -0.01585206761956215,
          -0.010382338427007198,
          0.00596261490136385,
          0.000281344837276265,
          0.015563853085041046,
          0.0101888757199049,
          0.01660008914768696,
          0.010143641382455826,
          0.005031444597989321,
          0.0032039976213127375,
          -0.01811560057103634,
          0.018864670768380165,
          0.011167180724442005,
          -0.000732165586668998,
          -0.018996194005012512,
          -0.008687962777912617,
          -0.00020033975306432694,
          -0.013096065260469913,
          -0.00373851484619081,
          0.0169463399797678,
          0.00819909106940031,
          0.01621529459953308,
          -0.0012327419826760888,
          -0.025991080328822136,
          0.023827824741601944,
          -0.016237027943134308,
          -0.0023578242398798466,
          -0.02418876625597477,
          0.039494358003139496,
          -0.005747395101934671,
          0.0046689691953361034,
          0.01368033792823553,
          -0.01079742144793272,
          0.013191952370107174,
          -0.007421307731419802,
          0.011976190842688084,
          -0.011767489835619926,
          -0.013407462276518345,
          -0.01934548281133175,
          0.00924601312726736,
          -0.019251136109232903,
          -0.006602087989449501,
          0.01685076579451561,
          0.010916370898485184,
          -0.005354618187993765,
          0.0411691814661026,
          0.0034593376331031322,
          0.015638213604688644,
          -0.0012732682516798377,
          0.0020391028374433517,
          -0.012027577497065067,
          0.0013225170550867915,
          0.014989611692726612,
          0.026172854006290436,
          -0.003580732038244605,
          -0.012829759158194065,
          -0.00938849151134491,
          0.006671272683888674,
          -0.008423182182013988,
          0.006144736893475056,
          -0.005162620916962624,
          -0.018253467977046967,
          -0.015024535357952118,
          -0.012278035283088684,
          -0.004478012211620808,
          0.002916545607149601,
          0.004473724402487278,
          -0.019068224355578423,
          -0.025736425071954727,
          0.002026944886893034,
          -0.006126554682850838,
          -0.0030773752368986607,
          -0.006946881767362356,
          0.046638164669275284,
          -0.00878214556723833,
          -0.00867946445941925,
          0.0023767659440636635,
          -0.007347550243139267,
          -0.01828840561211109,
          0.004459623713046312,
          0.017204636707901955,
          -0.002689189976081252,
          0.005776526406407356,
          0.0015898165293037891,
          -0.014996014535427094,
          0.0018065415788441896,
          0.0028138032648712397,
          -0.009047533385455608,
          -0.0072981514967978,
          -0.004572873469442129,
          0.00255814241245389,
          0.012100137770175934,
          0.023679660633206367,
          -0.0018673633458092809,
          0.005245177540928125,
          0.007700938731431961,
          -0.007115641608834267,
          -0.0022737612016499043,
          0.012621640227735043,
          -0.01785498484969139,
          0.01314199436455965,
          0.005161256063729525,
          -0.011519109830260277,
          0.00507974810898304,
          -0.002899326616898179,
          0.0027396532241255045,
          0.005146498326212168,
          -0.007819143123924732,
          -0.008554025553166866,
          -0.01263573206961155,
          -0.008716946467757225,
          0.007535727694630623,
          -0.007413003593683243,
          -0.022312527522444725,
          -0.008093288168311119,
          -0.020938033238053322,
          -0.011602027341723442,
          -0.012736060656607151,
          0.0062613217160105705,
          0.005172787234187126,
          0.03745204210281372,
          -0.00996337179094553,
          -0.005442730616778135,
          -0.008608818054199219,
          -0.009941286407411098,
          0.002392461523413658,
          0.0024159234017133713,
          -0.012559469789266586,
          0.028809230774641037,
          0.02294887788593769,
          0.0001420412736479193,
          0.0002270151162520051,
          -0.011126304045319557,
          0.007915819995105267,
          -0.012292614206671715,
          -0.0001485643006162718,
          -0.025345075875520706,
          -0.004812297411262989,
          0.007168295327574015,
          -0.0001563070109114051,
          -0.018260320648550987,
          0.004284166265279055,
          -0.003562206169590354,
          -0.014051302336156368,
          -0.006814833730459213,
          0.006957486271858215,
          0.015195847488939762,
          -0.006876801140606403,
          -0.015236285515129566,
          0.027694420889019966,
          -0.006169960834085941,
          -0.019208615645766258,
          -0.006122277118265629,
          0.00945118349045515,
          0.042092062532901764,
          -0.023561730980873108,
          0.008449968881905079,
          0.00597908953204751,
          -0.0028065647929906845,
          -0.00832044705748558,
          0.0013111199950799346,
          -0.006299844477325678,
          0.0014674108242616057,
          0.002579697174951434,
          0.006173971574753523,
          -0.007783245295286179,
          0.0003874228859785944,
          0.0024462402798235416,
          -0.005763559602200985,
          0.005065666977316141,
          -0.012800166383385658,
          0.015605294145643711,
          -0.010808778926730156,
          0.017223423346877098,
          -0.0065871127881109715,
          0.013214126229286194,
          0.006629484705626965,
          -0.018982795998454094,
          -0.004627610091120005,
          0.020728029310703278,
          -0.006885000504553318,
          -0.0050169858150184155,
          0.0015993688721209764,
          0.01086864061653614,
          0.0034706569276750088,
          0.0029085781425237656,
          0.004688986111432314,
          -0.005171949043869972,
          -0.0031002862378954887,
          -0.012743813917040825,
          -0.027430398389697075,
          -0.02015158161520958,
          -0.023996172472834587,
          -0.008530301041901112,
          0.01052346546202898,
          -0.006820265669375658,
          0.0006724264239892364,
          0.014039582572877407,
          -0.0009217882761731744,
          -0.0031430686358362436,
          0.003062897827476263,
          -0.021189747378230095,
          0.003040043404325843,
          -0.017590297386050224,
          -0.009934257715940475,
          0.010054263286292553,
          0.022228460758924484,
          2.6190740754827857e-05,
          -0.0070975725539028645,
          0.013237465173006058,
          0.0068778106942772865
         ]
        },
        {
         "marker": {
          "color": [
           "#f8db27",
           "#f8db27",
           "#f8db27",
           "#f8db27",
           "#f8db27",
           "#f8db27",
           "#f8db27",
           "#f8db27",
           "#f8db27",
           "#f8db27",
           "#f8db27",
           "#f8db27",
           "#f8db27",
           "#f8db27",
           "#f8db27"
          ],
          "size": 10
         },
         "mode": "markers",
         "name": "Personajes",
         "text": [
          "homer",
          "bart",
          "marge",
          "burns",
          "krusty",
          "lisa",
          "skinner",
          "lenny",
          "carl",
          "smithers",
          "maggie",
          "flanders",
          "milhouse",
          "abraham",
          "tony"
         ],
         "type": "scatter",
         "x": [
          -0.019147099927067757,
          0.016139183193445206,
          -0.006243745796382427,
          -0.0048750098794698715,
          0.09476730227470398,
          0.019736232236027718,
          -0.015771212056279182,
          -0.06914771348237991,
          -0.08572691679000854,
          0.013274974189698696,
          0.025665640830993652,
          -0.0006807739264331758,
          -0.004633697215467691,
          -0.01193740963935852,
          -0.06023269519209862
         ],
         "y": [
          0.00912004429847002,
          0.03012053109705448,
          -0.018766231834888458,
          -0.01463430467993021,
          0.030443530529737473,
          0.041563525795936584,
          0.011405451223254204,
          -0.025737058371305466,
          -0.010705283842980862,
          -0.039688438177108765,
          0.007116588763892651,
          -0.019580073654651642,
          0.027772365137934685,
          -0.010352732613682747,
          0.01631026715040207
         ]
        }
       ],
       "layout": {
        "template": {
         "data": {
          "bar": [
           {
            "error_x": {
             "color": "#2a3f5f"
            },
            "error_y": {
             "color": "#2a3f5f"
            },
            "marker": {
             "line": {
              "color": "#E5ECF6",
              "width": 0.5
             }
            },
            "type": "bar"
           }
          ],
          "barpolar": [
           {
            "marker": {
             "line": {
              "color": "#E5ECF6",
              "width": 0.5
             }
            },
            "type": "barpolar"
           }
          ],
          "carpet": [
           {
            "aaxis": {
             "endlinecolor": "#2a3f5f",
             "gridcolor": "white",
             "linecolor": "white",
             "minorgridcolor": "white",
             "startlinecolor": "#2a3f5f"
            },
            "baxis": {
             "endlinecolor": "#2a3f5f",
             "gridcolor": "white",
             "linecolor": "white",
             "minorgridcolor": "white",
             "startlinecolor": "#2a3f5f"
            },
            "type": "carpet"
           }
          ],
          "choropleth": [
           {
            "colorbar": {
             "outlinewidth": 0,
             "ticks": ""
            },
            "type": "choropleth"
           }
          ],
          "contour": [
           {
            "colorbar": {
             "outlinewidth": 0,
             "ticks": ""
            },
            "colorscale": [
             [
              0,
              "#0d0887"
             ],
             [
              0.1111111111111111,
              "#46039f"
             ],
             [
              0.2222222222222222,
              "#7201a8"
             ],
             [
              0.3333333333333333,
              "#9c179e"
             ],
             [
              0.4444444444444444,
              "#bd3786"
             ],
             [
              0.5555555555555556,
              "#d8576b"
             ],
             [
              0.6666666666666666,
              "#ed7953"
             ],
             [
              0.7777777777777778,
              "#fb9f3a"
             ],
             [
              0.8888888888888888,
              "#fdca26"
             ],
             [
              1,
              "#f0f921"
             ]
            ],
            "type": "contour"
           }
          ],
          "contourcarpet": [
           {
            "colorbar": {
             "outlinewidth": 0,
             "ticks": ""
            },
            "type": "contourcarpet"
           }
          ],
          "heatmap": [
           {
            "colorbar": {
             "outlinewidth": 0,
             "ticks": ""
            },
            "colorscale": [
             [
              0,
              "#0d0887"
             ],
             [
              0.1111111111111111,
              "#46039f"
             ],
             [
              0.2222222222222222,
              "#7201a8"
             ],
             [
              0.3333333333333333,
              "#9c179e"
             ],
             [
              0.4444444444444444,
              "#bd3786"
             ],
             [
              0.5555555555555556,
              "#d8576b"
             ],
             [
              0.6666666666666666,
              "#ed7953"
             ],
             [
              0.7777777777777778,
              "#fb9f3a"
             ],
             [
              0.8888888888888888,
              "#fdca26"
             ],
             [
              1,
              "#f0f921"
             ]
            ],
            "type": "heatmap"
           }
          ],
          "heatmapgl": [
           {
            "colorbar": {
             "outlinewidth": 0,
             "ticks": ""
            },
            "colorscale": [
             [
              0,
              "#0d0887"
             ],
             [
              0.1111111111111111,
              "#46039f"
             ],
             [
              0.2222222222222222,
              "#7201a8"
             ],
             [
              0.3333333333333333,
              "#9c179e"
             ],
             [
              0.4444444444444444,
              "#bd3786"
             ],
             [
              0.5555555555555556,
              "#d8576b"
             ],
             [
              0.6666666666666666,
              "#ed7953"
             ],
             [
              0.7777777777777778,
              "#fb9f3a"
             ],
             [
              0.8888888888888888,
              "#fdca26"
             ],
             [
              1,
              "#f0f921"
             ]
            ],
            "type": "heatmapgl"
           }
          ],
          "histogram": [
           {
            "marker": {
             "colorbar": {
              "outlinewidth": 0,
              "ticks": ""
             }
            },
            "type": "histogram"
           }
          ],
          "histogram2d": [
           {
            "colorbar": {
             "outlinewidth": 0,
             "ticks": ""
            },
            "colorscale": [
             [
              0,
              "#0d0887"
             ],
             [
              0.1111111111111111,
              "#46039f"
             ],
             [
              0.2222222222222222,
              "#7201a8"
             ],
             [
              0.3333333333333333,
              "#9c179e"
             ],
             [
              0.4444444444444444,
              "#bd3786"
             ],
             [
              0.5555555555555556,
              "#d8576b"
             ],
             [
              0.6666666666666666,
              "#ed7953"
             ],
             [
              0.7777777777777778,
              "#fb9f3a"
             ],
             [
              0.8888888888888888,
              "#fdca26"
             ],
             [
              1,
              "#f0f921"
             ]
            ],
            "type": "histogram2d"
           }
          ],
          "histogram2dcontour": [
           {
            "colorbar": {
             "outlinewidth": 0,
             "ticks": ""
            },
            "colorscale": [
             [
              0,
              "#0d0887"
             ],
             [
              0.1111111111111111,
              "#46039f"
             ],
             [
              0.2222222222222222,
              "#7201a8"
             ],
             [
              0.3333333333333333,
              "#9c179e"
             ],
             [
              0.4444444444444444,
              "#bd3786"
             ],
             [
              0.5555555555555556,
              "#d8576b"
             ],
             [
              0.6666666666666666,
              "#ed7953"
             ],
             [
              0.7777777777777778,
              "#fb9f3a"
             ],
             [
              0.8888888888888888,
              "#fdca26"
             ],
             [
              1,
              "#f0f921"
             ]
            ],
            "type": "histogram2dcontour"
           }
          ],
          "mesh3d": [
           {
            "colorbar": {
             "outlinewidth": 0,
             "ticks": ""
            },
            "type": "mesh3d"
           }
          ],
          "parcoords": [
           {
            "line": {
             "colorbar": {
              "outlinewidth": 0,
              "ticks": ""
             }
            },
            "type": "parcoords"
           }
          ],
          "pie": [
           {
            "automargin": true,
            "type": "pie"
           }
          ],
          "scatter": [
           {
            "marker": {
             "colorbar": {
              "outlinewidth": 0,
              "ticks": ""
             }
            },
            "type": "scatter"
           }
          ],
          "scatter3d": [
           {
            "line": {
             "colorbar": {
              "outlinewidth": 0,
              "ticks": ""
             }
            },
            "marker": {
             "colorbar": {
              "outlinewidth": 0,
              "ticks": ""
             }
            },
            "type": "scatter3d"
           }
          ],
          "scattercarpet": [
           {
            "marker": {
             "colorbar": {
              "outlinewidth": 0,
              "ticks": ""
             }
            },
            "type": "scattercarpet"
           }
          ],
          "scattergeo": [
           {
            "marker": {
             "colorbar": {
              "outlinewidth": 0,
              "ticks": ""
             }
            },
            "type": "scattergeo"
           }
          ],
          "scattergl": [
           {
            "marker": {
             "colorbar": {
              "outlinewidth": 0,
              "ticks": ""
             }
            },
            "type": "scattergl"
           }
          ],
          "scattermapbox": [
           {
            "marker": {
             "colorbar": {
              "outlinewidth": 0,
              "ticks": ""
             }
            },
            "type": "scattermapbox"
           }
          ],
          "scatterpolar": [
           {
            "marker": {
             "colorbar": {
              "outlinewidth": 0,
              "ticks": ""
             }
            },
            "type": "scatterpolar"
           }
          ],
          "scatterpolargl": [
           {
            "marker": {
             "colorbar": {
              "outlinewidth": 0,
              "ticks": ""
             }
            },
            "type": "scatterpolargl"
           }
          ],
          "scatterternary": [
           {
            "marker": {
             "colorbar": {
              "outlinewidth": 0,
              "ticks": ""
             }
            },
            "type": "scatterternary"
           }
          ],
          "surface": [
           {
            "colorbar": {
             "outlinewidth": 0,
             "ticks": ""
            },
            "colorscale": [
             [
              0,
              "#0d0887"
             ],
             [
              0.1111111111111111,
              "#46039f"
             ],
             [
              0.2222222222222222,
              "#7201a8"
             ],
             [
              0.3333333333333333,
              "#9c179e"
             ],
             [
              0.4444444444444444,
              "#bd3786"
             ],
             [
              0.5555555555555556,
              "#d8576b"
             ],
             [
              0.6666666666666666,
              "#ed7953"
             ],
             [
              0.7777777777777778,
              "#fb9f3a"
             ],
             [
              0.8888888888888888,
              "#fdca26"
             ],
             [
              1,
              "#f0f921"
             ]
            ],
            "type": "surface"
           }
          ],
          "table": [
           {
            "cells": {
             "fill": {
              "color": "#EBF0F8"
             },
             "line": {
              "color": "white"
             }
            },
            "header": {
             "fill": {
              "color": "#C8D4E3"
             },
             "line": {
              "color": "white"
             }
            },
            "type": "table"
           }
          ]
         },
         "layout": {
          "annotationdefaults": {
           "arrowcolor": "#2a3f5f",
           "arrowhead": 0,
           "arrowwidth": 1
          },
          "autotypenumbers": "strict",
          "coloraxis": {
           "colorbar": {
            "outlinewidth": 0,
            "ticks": ""
           }
          },
          "colorscale": {
           "diverging": [
            [
             0,
             "#8e0152"
            ],
            [
             0.1,
             "#c51b7d"
            ],
            [
             0.2,
             "#de77ae"
            ],
            [
             0.3,
             "#f1b6da"
            ],
            [
             0.4,
             "#fde0ef"
            ],
            [
             0.5,
             "#f7f7f7"
            ],
            [
             0.6,
             "#e6f5d0"
            ],
            [
             0.7,
             "#b8e186"
            ],
            [
             0.8,
             "#7fbc41"
            ],
            [
             0.9,
             "#4d9221"
            ],
            [
             1,
             "#276419"
            ]
           ],
           "sequential": [
            [
             0,
             "#0d0887"
            ],
            [
             0.1111111111111111,
             "#46039f"
            ],
            [
             0.2222222222222222,
             "#7201a8"
            ],
            [
             0.3333333333333333,
             "#9c179e"
            ],
            [
             0.4444444444444444,
             "#bd3786"
            ],
            [
             0.5555555555555556,
             "#d8576b"
            ],
            [
             0.6666666666666666,
             "#ed7953"
            ],
            [
             0.7777777777777778,
             "#fb9f3a"
            ],
            [
             0.8888888888888888,
             "#fdca26"
            ],
            [
             1,
             "#f0f921"
            ]
           ],
           "sequentialminus": [
            [
             0,
             "#0d0887"
            ],
            [
             0.1111111111111111,
             "#46039f"
            ],
            [
             0.2222222222222222,
             "#7201a8"
            ],
            [
             0.3333333333333333,
             "#9c179e"
            ],
            [
             0.4444444444444444,
             "#bd3786"
            ],
            [
             0.5555555555555556,
             "#d8576b"
            ],
            [
             0.6666666666666666,
             "#ed7953"
            ],
            [
             0.7777777777777778,
             "#fb9f3a"
            ],
            [
             0.8888888888888888,
             "#fdca26"
            ],
            [
             1,
             "#f0f921"
            ]
           ]
          },
          "colorway": [
           "#636efa",
           "#EF553B",
           "#00cc96",
           "#ab63fa",
           "#FFA15A",
           "#19d3f3",
           "#FF6692",
           "#B6E880",
           "#FF97FF",
           "#FECB52"
          ],
          "font": {
           "color": "#2a3f5f"
          },
          "geo": {
           "bgcolor": "white",
           "lakecolor": "white",
           "landcolor": "#E5ECF6",
           "showlakes": true,
           "showland": true,
           "subunitcolor": "white"
          },
          "hoverlabel": {
           "align": "left"
          },
          "hovermode": "closest",
          "mapbox": {
           "style": "light"
          },
          "paper_bgcolor": "white",
          "plot_bgcolor": "#E5ECF6",
          "polar": {
           "angularaxis": {
            "gridcolor": "white",
            "linecolor": "white",
            "ticks": ""
           },
           "bgcolor": "#E5ECF6",
           "radialaxis": {
            "gridcolor": "white",
            "linecolor": "white",
            "ticks": ""
           }
          },
          "scene": {
           "xaxis": {
            "backgroundcolor": "#E5ECF6",
            "gridcolor": "white",
            "gridwidth": 2,
            "linecolor": "white",
            "showbackground": true,
            "ticks": "",
            "zerolinecolor": "white"
           },
           "yaxis": {
            "backgroundcolor": "#E5ECF6",
            "gridcolor": "white",
            "gridwidth": 2,
            "linecolor": "white",
            "showbackground": true,
            "ticks": "",
            "zerolinecolor": "white"
           },
           "zaxis": {
            "backgroundcolor": "#E5ECF6",
            "gridcolor": "white",
            "gridwidth": 2,
            "linecolor": "white",
            "showbackground": true,
            "ticks": "",
            "zerolinecolor": "white"
           }
          },
          "shapedefaults": {
           "line": {
            "color": "#2a3f5f"
           }
          },
          "ternary": {
           "aaxis": {
            "gridcolor": "white",
            "linecolor": "white",
            "ticks": ""
           },
           "baxis": {
            "gridcolor": "white",
            "linecolor": "white",
            "ticks": ""
           },
           "bgcolor": "#E5ECF6",
           "caxis": {
            "gridcolor": "white",
            "linecolor": "white",
            "ticks": ""
           }
          },
          "title": {
           "x": 0.05
          },
          "xaxis": {
           "automargin": true,
           "gridcolor": "white",
           "linecolor": "white",
           "ticks": "",
           "title": {
            "standoff": 15
           },
           "zerolinecolor": "white",
           "zerolinewidth": 2
          },
          "yaxis": {
           "automargin": true,
           "gridcolor": "white",
           "linecolor": "white",
           "ticks": "",
           "title": {
            "standoff": 15
           },
           "zerolinecolor": "white",
           "zerolinewidth": 2
          }
         }
        },
        "title": {
         "text": "PCA"
        }
       }
      },
      "text/html": [
       "<div>                            <div id=\"15f47139-4a42-4c00-8cab-93d6cf044890\" class=\"plotly-graph-div\" style=\"height:525px; width:100%;\"></div>            <script type=\"text/javascript\">                require([\"plotly\"], function(Plotly) {                    window.PLOTLYENV=window.PLOTLYENV || {};                                    if (document.getElementById(\"15f47139-4a42-4c00-8cab-93d6cf044890\")) {                    Plotly.newPlot(                        \"15f47139-4a42-4c00-8cab-93d6cf044890\",                        [{\"marker\": {\"color\": [\"#2f64d6\", \"#2f64d6\", \"#2f64d6\", \"#2f64d6\", \"#2f64d6\", \"#2f64d6\", \"#2f64d6\", \"#2f64d6\", \"#2f64d6\", \"#2f64d6\", \"#2f64d6\", \"#2f64d6\", \"#2f64d6\", \"#2f64d6\", \"#2f64d6\", \"#2f64d6\", \"#2f64d6\", \"#2f64d6\", \"#2f64d6\", \"#2f64d6\", \"#2f64d6\", \"#2f64d6\", \"#2f64d6\", \"#2f64d6\", \"#2f64d6\", \"#2f64d6\", \"#2f64d6\", \"#2f64d6\", \"#2f64d6\", \"#2f64d6\", \"#2f64d6\", \"#2f64d6\", \"#2f64d6\", \"#2f64d6\", \"#2f64d6\", \"#2f64d6\", \"#2f64d6\", \"#2f64d6\", \"#2f64d6\", \"#2f64d6\", \"#2f64d6\", \"#2f64d6\", \"#2f64d6\", \"#2f64d6\", \"#2f64d6\", \"#2f64d6\", \"#2f64d6\", \"#2f64d6\", \"#2f64d6\", \"#2f64d6\", \"#2f64d6\", \"#2f64d6\", \"#2f64d6\", \"#2f64d6\", \"#2f64d6\", \"#2f64d6\", \"#2f64d6\", \"#2f64d6\", \"#2f64d6\", \"#2f64d6\", \"#2f64d6\", \"#2f64d6\", \"#2f64d6\", \"#2f64d6\", \"#2f64d6\", \"#2f64d6\", \"#2f64d6\", \"#2f64d6\", \"#2f64d6\", \"#2f64d6\", \"#2f64d6\", \"#2f64d6\", \"#2f64d6\", \"#2f64d6\", \"#2f64d6\", \"#2f64d6\", \"#2f64d6\", \"#2f64d6\", \"#2f64d6\", \"#2f64d6\", \"#2f64d6\", \"#2f64d6\", \"#2f64d6\", \"#2f64d6\", \"#2f64d6\", \"#2f64d6\", \"#2f64d6\", \"#2f64d6\", \"#2f64d6\", \"#2f64d6\", \"#2f64d6\", \"#2f64d6\", \"#2f64d6\", \"#2f64d6\", \"#2f64d6\", \"#2f64d6\", \"#2f64d6\", \"#2f64d6\", \"#2f64d6\", \"#2f64d6\", \"#2f64d6\", \"#2f64d6\", \"#2f64d6\", \"#2f64d6\", \"#2f64d6\", \"#2f64d6\", \"#2f64d6\", \"#2f64d6\", \"#2f64d6\", \"#2f64d6\", \"#2f64d6\", \"#2f64d6\", \"#2f64d6\", \"#2f64d6\", \"#2f64d6\", \"#2f64d6\", \"#2f64d6\", \"#2f64d6\", \"#2f64d6\", \"#2f64d6\", \"#2f64d6\", \"#2f64d6\", \"#2f64d6\", \"#2f64d6\", \"#2f64d6\", \"#2f64d6\", \"#2f64d6\", \"#2f64d6\", \"#2f64d6\", \"#2f64d6\", \"#2f64d6\", \"#2f64d6\", \"#2f64d6\", \"#2f64d6\", \"#2f64d6\", \"#2f64d6\", \"#2f64d6\", \"#2f64d6\", \"#2f64d6\", \"#2f64d6\", \"#2f64d6\", \"#2f64d6\", \"#2f64d6\", \"#2f64d6\", \"#2f64d6\", \"#2f64d6\", \"#2f64d6\", \"#2f64d6\", \"#2f64d6\", \"#2f64d6\", \"#2f64d6\", \"#2f64d6\", \"#2f64d6\", \"#2f64d6\", \"#2f64d6\", \"#2f64d6\", \"#2f64d6\", \"#2f64d6\", \"#2f64d6\", \"#2f64d6\", \"#2f64d6\", \"#2f64d6\", \"#2f64d6\", \"#2f64d6\", \"#2f64d6\", \"#2f64d6\", \"#2f64d6\", \"#2f64d6\", \"#2f64d6\", \"#2f64d6\", \"#2f64d6\", \"#2f64d6\", \"#2f64d6\", \"#2f64d6\", \"#2f64d6\", \"#2f64d6\", \"#2f64d6\", \"#2f64d6\", \"#2f64d6\", \"#2f64d6\", \"#2f64d6\", \"#2f64d6\", \"#2f64d6\", \"#2f64d6\", \"#2f64d6\", \"#2f64d6\", \"#2f64d6\", \"#2f64d6\", \"#2f64d6\", \"#2f64d6\", \"#2f64d6\", \"#2f64d6\", \"#2f64d6\", \"#2f64d6\", \"#2f64d6\", \"#2f64d6\", \"#2f64d6\", \"#2f64d6\", \"#2f64d6\", \"#2f64d6\", \"#2f64d6\", \"#2f64d6\", \"#2f64d6\", \"#2f64d6\", \"#2f64d6\", \"#2f64d6\", \"#2f64d6\", \"#2f64d6\", \"#2f64d6\", \"#2f64d6\", \"#2f64d6\", \"#2f64d6\", \"#2f64d6\", \"#2f64d6\", \"#2f64d6\", \"#2f64d6\", \"#2f64d6\", \"#2f64d6\", \"#2f64d6\", \"#2f64d6\", \"#2f64d6\", \"#2f64d6\", \"#2f64d6\", \"#2f64d6\", \"#2f64d6\", \"#2f64d6\", \"#2f64d6\", \"#2f64d6\", \"#2f64d6\", \"#2f64d6\", \"#2f64d6\", \"#2f64d6\", \"#2f64d6\", \"#2f64d6\", \"#2f64d6\", \"#2f64d6\", \"#2f64d6\", \"#2f64d6\", \"#2f64d6\", \"#2f64d6\", \"#2f64d6\", \"#2f64d6\", \"#2f64d6\", \"#2f64d6\", \"#2f64d6\", \"#2f64d6\", \"#2f64d6\", \"#2f64d6\", \"#2f64d6\", \"#2f64d6\", \"#2f64d6\", \"#2f64d6\", \"#2f64d6\", \"#2f64d6\", \"#2f64d6\", \"#2f64d6\", \"#2f64d6\", \"#2f64d6\", \"#2f64d6\", \"#2f64d6\", \"#2f64d6\", \"#2f64d6\", \"#2f64d6\", \"#2f64d6\", \"#2f64d6\", \"#2f64d6\", \"#2f64d6\", \"#2f64d6\", \"#2f64d6\", \"#2f64d6\", \"#2f64d6\", \"#2f64d6\", \"#2f64d6\", \"#2f64d6\", \"#2f64d6\", \"#2f64d6\", \"#2f64d6\", \"#2f64d6\", \"#2f64d6\", \"#2f64d6\", \"#2f64d6\", \"#2f64d6\", \"#2f64d6\", \"#2f64d6\", \"#2f64d6\", \"#2f64d6\", \"#2f64d6\", \"#2f64d6\", \"#2f64d6\", \"#2f64d6\", \"#2f64d6\", \"#2f64d6\", \"#2f64d6\", \"#2f64d6\", \"#2f64d6\", \"#2f64d6\", \"#2f64d6\", \"#2f64d6\", \"#2f64d6\", \"#2f64d6\", \"#2f64d6\", \"#2f64d6\", \"#2f64d6\", \"#2f64d6\", \"#2f64d6\", \"#2f64d6\", \"#2f64d6\", \"#2f64d6\", \"#2f64d6\", \"#2f64d6\", \"#2f64d6\", \"#2f64d6\", \"#2f64d6\", \"#2f64d6\", \"#2f64d6\", \"#2f64d6\", \"#2f64d6\", \"#2f64d6\", \"#2f64d6\", \"#2f64d6\", \"#2f64d6\", \"#2f64d6\"], \"size\": 10}, \"mode\": \"markers\", \"name\": \"Palabras\", \"text\": [\"simpson\", \"serie\", \"episodio\", \"aunque\", \"familia\", \"ser\", \"springfield\", \"vida\", \"casa\", \"a\\u00f1os\", \"dos\", \"the\", \"suele\", \"temporada\", \"ned\", \"edad\", \"escuela\", \"tiempo\", \"madre\", \"despu\\u00e9s\", \"personaje\", \"padre\", \"cap\\u00edtulo\", \"debido\", \"veces\", \"mientras\", \"parte\", \"padres\", \"gran\", \"siempre\", \"hijo\", \"episodios\", \"pesar\", \"payaso\", \"mismo\", \"papel\", \"nuclear\", \"parece\", \"primera\", \"sido\", \"ocasiones\", \"alg\\u00fan\", \"muestra\", \"hacer\", \"ve\", \"guerra\", \"relaci\\u00f3n\", \"trabajo\", \"d\\u00eda\", \"puede\", \"se\\u00f1or\", \"dice\", \"mundo\", \"amor\", \"embargo\", \"menudo\", \"doblado\", \"nombre\", \"incluso\", \"temporadas\", \"da\", \"mayor\", \"hecho\", \"adem\\u00e1s\", \"central\", \"vez\", \"varias\", \"alguna\", \"beb\\u00e9\", \"caso\", \"abuelo\", \"ni\\u00f1o\", \"cosa\", \"hijos\", \"hace\", \"bastante\", \"amigos\", \"abe\", \"junto\", \"tras\", \"varios\", \"as\\u00ed\", \"personajes\", \"ni\\u00f1os\", \"casi\", \"seg\\u00fan\", \"guionistas\", \"pareja\", \"luego\", \"dado\", \"director\", \"hermana\", \"solo\", \"ver\", \"hombre\", \"ir\", \"cosas\", \"hermano\", \"hogar\", \"voz\", \"ocasi\\u00f3n\", \"segunda\", \"of\", \"vivir\", \"ambos\", \"toda\", \"manera\", \"biograf\\u00eda\", \"bob\", \"atenci\\u00f3n\", \"especial\", \"pasar\", \"amigo\", \"hacia\", \"bien\", \"entonces\", \"cap\\u00edtulos\", \"televisi\\u00f3n\", \"ayuda\", \"mejor\", \"futuro\", \"mujer\", \"casado\", \"cada\", \"embarazada\", \"personas\", \"problemas\", \"familiar\", \"cualquier\", \"generalmente\", \"productos\", \"programa\", \"tener\", \"and\", \"puesto\", \"finalmente\", \"planta\", \"vive\", \"mundial\", \"original\", \"podr\\u00eda\", \"montgomery\", \"va\", \"gusta\", \"naci\\u00f3\", \"esposa\", \"muerte\", \"\\u00faltimo\", \"mantener\", \"a\\u00fan\", \"especialmente\", \"menos\", \"normalmente\", \"mayores\", \"resto\", \"lugar\", \"actualmente\", \"visto\", \"primeras\", \"s\", \"grandes\", \"cuenta\", \"acciones\", \"realizar\", \"edna\", \"familiares\", \"mona\", \"marido\", \"maneras\", \"todas\", \"largo\", \"misma\", \"estereotipo\", \"haber\", \"medio\", \"\\u00e9xito\", \"travesuras\", \"aparece\", \"general\", \"unas\", \"cabeza\", \"aspecto\", \"moe\", \"universidad\", \"hispanoam\\u00e9rica\", \"ido\", \"lado\", \"persona\", \"acostumbra\", \"juntos\", \"dedica\", \"llegando\", \"gen\", \"tarde\", \"s\\u00f3lo\", \"matrimonio\", \"protagonista\", \"realidad\", \"feliz\", \"suelen\", \"joven\", \"lleg\\u00f3\", \"mal\", \"a\\u00f1o\", \"lleva\", \"dinero\", \"muchas\", \"estupidez\", \"f\\u00edsica\", \"ello\", \"tal\", \"nivel\", \"partido\", \"hija\", \"rol\", \"demostrado\", \"t\\u00edpico\", \"principal\", \"presencia\", \"sabe\", \"ciudad\", \"actividades\", \"pel\\u00edcula\", \"si\", \"situaciones\", \"ambas\", \"cierta\", \"pelo\", \"hermanos\", \"rebelde\", \"queda\", \"espa\\u00f1a\", \"constantemente\", \"primaria\", \"cambio\", \"haciendo\", \"veterano\", \"anciano\", \"pol\\u00edtica\", \"gente\", \"propia\", \"seymour\", \"poder\", \"cotidiana\", \"carrera\", \"nunca\", \"viviendo\", \"responde\", \"ni\\u00f1a\", \"budista\", \"decidi\\u00f3\", \"dando\", \"chistes\", \"hermanas\", \"ficticio\", \"ejemplo\", \"krabappel\", \"cari\\u00f1o\", \"ocasionalmente\", \"beatles\", \"diez\", \"vietnam\", \"escribir\", \"tipo\", \"reemplazado\", \"jos\\u00e9\", \"descubre\", \"momento\", \"puntas\", \"representa\", \"entender\", \"caracter\\u00edsticas\", \"inteligencia\", \"fortuna\", \"volvi\\u00f3\", \"bajo\", \"menciona\", \"duda\", \"nueva\", \"vuelto\", \"cabo\", \"mujeres\", \"azules\", \"falta\", \"alcohol\", \"intelectual\", \"capaz\", \"naturaleza\", \"qued\\u00f3\", \"gafas\", \"cerebro\", \"peque\\u00f1a\", \"sufre\", \"salud\", \"energ\\u00eda\", \"marca\", \"seguridad\", \"barney\", \"dio\", \"recurrente\", \"pantalones\", \"ama\", \"desarrollar\", \"tan\", \"centro\", \"hizo\", \"usa\", \"t\\u00edpicos\", \"azul\", \"acerca\", \"especiales\", \"zapatos\", \"verde\", \"salida\", \"dar\", \"muestras\", \"\\u00e9ste\", \"pasa\", \"valores\", \"per\\u00edodo\", \"campamento\", \"empieza\"], \"type\": \"scatter\", \"x\": [0.00041109268204309046, 0.0027892885264009237, -0.0016684640431776643, -0.012189320288598537, 0.02545977756381035, 0.018841536715626717, 1.1056908078899141e-05, 0.010586025193333626, 0.010235580615699291, 0.015487664379179478, -0.006788899656385183, -0.018527736887335777, -0.006477841641753912, -0.04150478541851044, 0.004370833281427622, 0.008624030277132988, -0.010281287133693695, 0.004893530625849962, 0.007087280973792076, -0.003207560395821929, -0.0036218026652932167, 0.00845628697425127, -0.02722039632499218, 0.0028295661322772503, 0.025481093674898148, -0.024550925940275192, 0.0011951205087825656, 0.005687433760613203, 0.0029965946450829506, -0.0063286637887358665, 0.0026117085944861174, -0.009533173404633999, 0.001416604034602642, 0.07170014828443527, -0.008508767932653427, 0.015602660365402699, 0.007509126327931881, 0.009661334566771984, -0.012825563549995422, 0.003922236151993275, 0.0017669592052698135, -0.00856571551412344, 0.025590158998966217, -0.006446307525038719, -0.02710048481822014, -0.0160779170691967, -0.019957082346081734, -0.00044345264905132353, 0.0036467250902205706, -0.01878073439002037, 0.00150947249494493, -0.04800843819975853, -0.010277649387717247, -0.01384695339947939, 0.028115974739193916, 0.013410127721726894, -0.04696178436279297, 0.027703169733285904, 0.015170452184975147, -0.020226215943694115, -0.007364754099398851, 0.003326260019093752, 0.0015208732802420855, 0.017772464081645012, 0.0010363756446167827, -0.016102517023682594, 0.015780827030539513, 0.007678796537220478, 0.0194889884442091, 0.018755167722702026, -0.007414123509079218, 0.008717012591660023, 0.007706179283559322, 0.011085264384746552, -0.007865981198847294, -0.011191016063094139, -0.0074136764742434025, 0.00983469933271408, -0.014186668209731579, -0.003316173329949379, -0.020895084366202354, -0.0017953942297026515, 0.003343959804624319, 0.01429722085595131, 0.009915856644511223, 0.04461311548948288, -0.01183300744742155, 0.0014143461594358087, 0.007345940452069044, -0.018787214532494545, 0.0010134440381079912, 0.0005991164944134653, -0.008922685869038105, 0.012965560890734196, -0.022462747991085052, 0.002556427614763379, 0.009497353807091713, 0.0177297480404377, 0.0021763795521110296, -0.005236310418695211, 0.0044099404476583, -0.023121695965528488, -0.044838450849056244, -0.002255789004266262, -0.0489562451839447, -0.005121027585119009, -0.0031915437430143356, 0.0006890968070365489, 0.043525733053684235, 0.0017073216149583459, 0.019755695015192032, 0.0028029754757881165, -0.0016097292536869645, 0.009080004878342152, -0.006997148506343365, 0.012972342781722546, 0.004916577134281397, 0.032674066722393036, 0.00632496178150177, 0.014035848900675774, -0.007728267461061478, -0.0008682803600095212, -0.02484661340713501, 0.001247859443537891, 0.014868143945932388, -0.013874508440494537, 0.003288398962467909, 0.005507247988134623, 0.01711314171552658, 0.006647974252700806, 0.04271870106458664, 0.05529969185590744, 0.009621717967092991, -0.01966974511742592, 0.014773073606193066, 0.011738426983356476, 0.003644790267571807, 0.013967027887701988, -0.015359995886683464, -0.0061634802259504795, -0.008542126975953579, 0.014156393706798553, 0.0011557197431102395, 0.00705635454505682, -0.00260435463860631, -0.007374902721494436, 0.007566786836832762, 0.017175327986478806, 0.006767156068235636, 0.004086329136043787, -0.006336405873298645, -0.012517055496573448, 0.016889238730072975, 0.01973039098083973, -0.00879751332104206, 0.004934533033519983, -0.01673727296292782, -0.0041677020490169525, -0.0057671270333230495, -0.008790911175310612, 0.011218095198273659, 0.0003524321364238858, -0.0006662275991402566, 0.00905650295317173, -0.01435121614485979, 0.02173447795212269, 0.010571382008492947, -0.0027709463611245155, 0.02748725563287735, 0.003110936377197504, 0.02004833333194256, 0.000607264053542167, -0.005655424669384956, 0.0026829498820006847, -0.006715374533087015, -0.00148295727558434, 0.0074722860008478165, -0.034640248864889145, 0.0002086782333208248, 0.005218098405748606, -0.00867739412933588, -0.007291879504919052, -0.02985687553882599, 0.006353345699608326, -0.03370402008295059, 0.003935346845537424, 0.0004147839790675789, -0.002834427636116743, 0.023750094696879387, -0.0056582349352538586, 0.011343306861817837, 0.00790494866669178, 0.003621682757511735, -0.007440236862748861, 0.02697855420410633, 0.02228747494518757, 0.00509386882185936, -0.008552872575819492, 0.007133112754672766, 0.016813509166240692, -0.007580797653645277, 0.006387223955243826, -0.009533495642244816, -0.00027324259281158447, 0.005187609698623419, -0.010890846140682697, -0.00781350489705801, 0.010827569290995598, -0.012971221469342709, -0.01738761179149151, 0.0007084946264512837, 0.00844449270516634, -0.019942400977015495, 0.013025416992604733, 0.0008705722284503281, 0.012292045168578625, 0.011661066673696041, 0.010123265907168388, -0.008149705827236176, -0.011089140549302101, -0.0024378355592489243, 0.001582771772518754, -0.0014313377905637026, -0.012995262630283833, -0.0048922887071967125, 0.008728140033781528, -0.007575685624033213, 0.006825799122452736, -0.008224689401686192, 0.011522980406880379, 0.005201445892453194, -0.020668091252446175, 0.016813386231660843, 0.004779956769198179, -0.0018644832307472825, 0.02127259410917759, -0.00481251860037446, -0.0017707784427329898, 0.009298291057348251, -0.008828138001263142, 0.0036349406000226736, -0.012019642628729343, 0.02741953171789646, 0.012882305309176445, 0.04106548801064491, 0.0019478233298286796, -0.008336838334798813, -0.0378996878862381, 0.010558250360190868, 0.01736542396247387, 0.008223853074014187, -0.006815908942371607, 0.012575464323163033, 0.009811731055378914, -0.000312371295876801, 0.008952964097261429, -0.0003025463956873864, 0.0053845904767513275, -0.020206011831760406, -0.0034862367901951075, -0.0008002365939319134, -0.014068587683141232, -0.005719829350709915, 0.006832183338701725, -0.021953027695417404, -0.024683799594640732, 0.0035154595971107483, -0.036000560969114304, 0.0003069292288273573, -0.003648970043286681, -0.021008528769016266, -0.014169309288263321, 0.006091015879064798, 0.020474795252084732, 0.002597214886918664, -0.019827671349048615, -0.012815896421670914, -0.02135101892054081, 0.012404825538396835, -0.009779061190783978, 0.013552535325288773, 0.017905903980135918, -0.03686269000172615, 0.006258212961256504, -0.01026164274662733, 0.005179523956030607, 0.0007695261156186461, -0.02270044945180416, 0.00018307147547602654, -0.011683862656354904, -0.008658125065267086, -0.02044028230011463, 0.003817057702690363, 0.012095368467271328, 0.008923995308578014, 0.02497488632798195, -0.006464568432420492, 0.000465708872070536, -0.0023998944088816643, -0.00834017712622881, -0.014457322657108307, 0.011272691190242767, -0.003100964007899165, 0.005030207801610231, -0.016895469278097153, 0.013677073642611504, -0.006085448432713747, 0.013939931057393551, -0.007239638827741146, -0.02078717015683651, 0.010208425112068653, 0.005240578670054674, -0.01615413837134838, 0.019955262541770935, -0.012462868355214596, -0.001818330492824316, -0.0021507171913981438, 0.015612242743372917, -0.00020592729561030865, -0.006604826543480158, 0.007435030769556761, -0.025099532678723335], \"y\": [-0.003062681294977665, 0.03943175822496414, -0.0017937334487214684, -0.017463617026805878, -0.020914141088724136, 0.013476110994815826, 0.009588596411049366, 0.012659349478781223, -0.0043210238218307495, -0.0039021470583975315, -0.0019980273209512234, 0.020884675905108452, 0.0023610414937138557, 0.06714227050542831, -0.015864908695220947, -0.005787946283817291, 9.994082938646898e-05, -0.007150505669414997, -0.005201983265578747, 0.002920727478340268, 0.0051970528438687325, -0.002137522678822279, 0.00576897244900465, -0.022637493908405304, -0.0051263985224068165, 0.017422983422875404, -0.001154460245743394, -0.0020598259288817644, -0.01410899218171835, -0.013234764337539673, -0.00866388063877821, 0.02487308345735073, 0.008607846684753895, 0.03194795548915863, -0.009069299325346947, 0.02070740796625614, -0.010273532010614872, 0.014441259205341339, 0.00102121417876333, 0.011658554896712303, -0.0017223686445504427, -0.04436469450592995, -0.003008179133757949, -0.007701501250267029, -0.017337670549750328, -0.019662635400891304, -0.022629249840974808, -0.0029412403237074614, -0.009741820394992828, 0.007077112328261137, 0.010115863755345345, 0.01483998540788889, 0.013471666723489761, -0.0020662122406065464, 0.01239632535725832, -0.0065955896861851215, 0.08480264246463776, -0.007524537853896618, -0.015241438522934914, 0.045809756964445114, 0.01416163519024849, 0.028751958161592484, -0.024585861712694168, 0.010350395925343037, -0.01724102534353733, 0.015551366843283176, 0.005956952925771475, -0.010136685334146023, -0.008324196562170982, -0.021054569631814957, 0.0053998869843780994, 0.010648508556187153, 0.0069020818918943405, -0.049984969198703766, 0.013277707621455193, 0.005315982270985842, -0.021249905228614807, -0.0041947984136641026, -0.02590782381594181, -0.015612742863595486, -0.03750952333211899, 0.010113216005265713, -0.006259538698941469, 0.00473423907533288, 0.00676102377474308, 0.017201844602823257, -0.0014128939947113395, -0.005267454776912928, 0.026705577969551086, -0.005686009768396616, -0.0012413456570357084, 0.015619989484548569, -0.016920803114771843, -0.01719839498400688, 0.004808012396097183, -0.007986074313521385, 0.015281184576451778, 0.005700270179659128, -0.012110864743590355, 0.044306568801403046, 0.014045421034097672, -0.002416333183646202, 0.003566023660823703, -0.03023059293627739, -0.010081054642796516, -0.004666013177484274, -0.002570618409663439, -0.031517382711172104, 0.02602429874241352, -0.011735118925571442, 0.013495318591594696, -0.01585206761956215, -0.010382338427007198, 0.00596261490136385, 0.000281344837276265, 0.015563853085041046, 0.0101888757199049, 0.01660008914768696, 0.010143641382455826, 0.005031444597989321, 0.0032039976213127375, -0.01811560057103634, 0.018864670768380165, 0.011167180724442005, -0.000732165586668998, -0.018996194005012512, -0.008687962777912617, -0.00020033975306432694, -0.013096065260469913, -0.00373851484619081, 0.0169463399797678, 0.00819909106940031, 0.01621529459953308, -0.0012327419826760888, -0.025991080328822136, 0.023827824741601944, -0.016237027943134308, -0.0023578242398798466, -0.02418876625597477, 0.039494358003139496, -0.005747395101934671, 0.0046689691953361034, 0.01368033792823553, -0.01079742144793272, 0.013191952370107174, -0.007421307731419802, 0.011976190842688084, -0.011767489835619926, -0.013407462276518345, -0.01934548281133175, 0.00924601312726736, -0.019251136109232903, -0.006602087989449501, 0.01685076579451561, 0.010916370898485184, -0.005354618187993765, 0.0411691814661026, 0.0034593376331031322, 0.015638213604688644, -0.0012732682516798377, 0.0020391028374433517, -0.012027577497065067, 0.0013225170550867915, 0.014989611692726612, 0.026172854006290436, -0.003580732038244605, -0.012829759158194065, -0.00938849151134491, 0.006671272683888674, -0.008423182182013988, 0.006144736893475056, -0.005162620916962624, -0.018253467977046967, -0.015024535357952118, -0.012278035283088684, -0.004478012211620808, 0.002916545607149601, 0.004473724402487278, -0.019068224355578423, -0.025736425071954727, 0.002026944886893034, -0.006126554682850838, -0.0030773752368986607, -0.006946881767362356, 0.046638164669275284, -0.00878214556723833, -0.00867946445941925, 0.0023767659440636635, -0.007347550243139267, -0.01828840561211109, 0.004459623713046312, 0.017204636707901955, -0.002689189976081252, 0.005776526406407356, 0.0015898165293037891, -0.014996014535427094, 0.0018065415788441896, 0.0028138032648712397, -0.009047533385455608, -0.0072981514967978, -0.004572873469442129, 0.00255814241245389, 0.012100137770175934, 0.023679660633206367, -0.0018673633458092809, 0.005245177540928125, 0.007700938731431961, -0.007115641608834267, -0.0022737612016499043, 0.012621640227735043, -0.01785498484969139, 0.01314199436455965, 0.005161256063729525, -0.011519109830260277, 0.00507974810898304, -0.002899326616898179, 0.0027396532241255045, 0.005146498326212168, -0.007819143123924732, -0.008554025553166866, -0.01263573206961155, -0.008716946467757225, 0.007535727694630623, -0.007413003593683243, -0.022312527522444725, -0.008093288168311119, -0.020938033238053322, -0.011602027341723442, -0.012736060656607151, 0.0062613217160105705, 0.005172787234187126, 0.03745204210281372, -0.00996337179094553, -0.005442730616778135, -0.008608818054199219, -0.009941286407411098, 0.002392461523413658, 0.0024159234017133713, -0.012559469789266586, 0.028809230774641037, 0.02294887788593769, 0.0001420412736479193, 0.0002270151162520051, -0.011126304045319557, 0.007915819995105267, -0.012292614206671715, -0.0001485643006162718, -0.025345075875520706, -0.004812297411262989, 0.007168295327574015, -0.0001563070109114051, -0.018260320648550987, 0.004284166265279055, -0.003562206169590354, -0.014051302336156368, -0.006814833730459213, 0.006957486271858215, 0.015195847488939762, -0.006876801140606403, -0.015236285515129566, 0.027694420889019966, -0.006169960834085941, -0.019208615645766258, -0.006122277118265629, 0.00945118349045515, 0.042092062532901764, -0.023561730980873108, 0.008449968881905079, 0.00597908953204751, -0.0028065647929906845, -0.00832044705748558, 0.0013111199950799346, -0.006299844477325678, 0.0014674108242616057, 0.002579697174951434, 0.006173971574753523, -0.007783245295286179, 0.0003874228859785944, 0.0024462402798235416, -0.005763559602200985, 0.005065666977316141, -0.012800166383385658, 0.015605294145643711, -0.010808778926730156, 0.017223423346877098, -0.0065871127881109715, 0.013214126229286194, 0.006629484705626965, -0.018982795998454094, -0.004627610091120005, 0.020728029310703278, -0.006885000504553318, -0.0050169858150184155, 0.0015993688721209764, 0.01086864061653614, 0.0034706569276750088, 0.0029085781425237656, 0.004688986111432314, -0.005171949043869972, -0.0031002862378954887, -0.012743813917040825, -0.027430398389697075, -0.02015158161520958, -0.023996172472834587, -0.008530301041901112, 0.01052346546202898, -0.006820265669375658, 0.0006724264239892364, 0.014039582572877407, -0.0009217882761731744, -0.0031430686358362436, 0.003062897827476263, -0.021189747378230095, 0.003040043404325843, -0.017590297386050224, -0.009934257715940475, 0.010054263286292553, 0.022228460758924484, 2.6190740754827857e-05, -0.0070975725539028645, 0.013237465173006058, 0.0068778106942772865]}, {\"marker\": {\"color\": [\"#f8db27\", \"#f8db27\", \"#f8db27\", \"#f8db27\", \"#f8db27\", \"#f8db27\", \"#f8db27\", \"#f8db27\", \"#f8db27\", \"#f8db27\", \"#f8db27\", \"#f8db27\", \"#f8db27\", \"#f8db27\", \"#f8db27\"], \"size\": 10}, \"mode\": \"markers\", \"name\": \"Personajes\", \"text\": [\"homer\", \"bart\", \"marge\", \"burns\", \"krusty\", \"lisa\", \"skinner\", \"lenny\", \"carl\", \"smithers\", \"maggie\", \"flanders\", \"milhouse\", \"abraham\", \"tony\"], \"type\": \"scatter\", \"x\": [-0.019147099927067757, 0.016139183193445206, -0.006243745796382427, -0.0048750098794698715, 0.09476730227470398, 0.019736232236027718, -0.015771212056279182, -0.06914771348237991, -0.08572691679000854, 0.013274974189698696, 0.025665640830993652, -0.0006807739264331758, -0.004633697215467691, -0.01193740963935852, -0.06023269519209862], \"y\": [0.00912004429847002, 0.03012053109705448, -0.018766231834888458, -0.01463430467993021, 0.030443530529737473, 0.041563525795936584, 0.011405451223254204, -0.025737058371305466, -0.010705283842980862, -0.039688438177108765, 0.007116588763892651, -0.019580073654651642, 0.027772365137934685, -0.010352732613682747, 0.01631026715040207]}],                        {\"template\": {\"data\": {\"bar\": [{\"error_x\": {\"color\": \"#2a3f5f\"}, \"error_y\": {\"color\": \"#2a3f5f\"}, \"marker\": {\"line\": {\"color\": \"#E5ECF6\", \"width\": 0.5}}, \"type\": \"bar\"}], \"barpolar\": [{\"marker\": {\"line\": {\"color\": \"#E5ECF6\", \"width\": 0.5}}, \"type\": \"barpolar\"}], \"carpet\": [{\"aaxis\": {\"endlinecolor\": \"#2a3f5f\", \"gridcolor\": \"white\", \"linecolor\": \"white\", \"minorgridcolor\": \"white\", \"startlinecolor\": \"#2a3f5f\"}, \"baxis\": {\"endlinecolor\": \"#2a3f5f\", \"gridcolor\": \"white\", \"linecolor\": \"white\", \"minorgridcolor\": \"white\", \"startlinecolor\": \"#2a3f5f\"}, \"type\": \"carpet\"}], \"choropleth\": [{\"colorbar\": {\"outlinewidth\": 0, \"ticks\": \"\"}, \"type\": \"choropleth\"}], \"contour\": [{\"colorbar\": {\"outlinewidth\": 0, \"ticks\": \"\"}, \"colorscale\": [[0.0, \"#0d0887\"], [0.1111111111111111, \"#46039f\"], [0.2222222222222222, \"#7201a8\"], [0.3333333333333333, \"#9c179e\"], [0.4444444444444444, \"#bd3786\"], [0.5555555555555556, \"#d8576b\"], [0.6666666666666666, \"#ed7953\"], [0.7777777777777778, \"#fb9f3a\"], [0.8888888888888888, \"#fdca26\"], [1.0, \"#f0f921\"]], \"type\": \"contour\"}], \"contourcarpet\": [{\"colorbar\": {\"outlinewidth\": 0, \"ticks\": \"\"}, \"type\": \"contourcarpet\"}], \"heatmap\": [{\"colorbar\": {\"outlinewidth\": 0, \"ticks\": \"\"}, \"colorscale\": [[0.0, \"#0d0887\"], [0.1111111111111111, \"#46039f\"], [0.2222222222222222, \"#7201a8\"], [0.3333333333333333, \"#9c179e\"], [0.4444444444444444, \"#bd3786\"], [0.5555555555555556, \"#d8576b\"], [0.6666666666666666, \"#ed7953\"], [0.7777777777777778, \"#fb9f3a\"], [0.8888888888888888, \"#fdca26\"], [1.0, \"#f0f921\"]], \"type\": \"heatmap\"}], \"heatmapgl\": [{\"colorbar\": {\"outlinewidth\": 0, \"ticks\": \"\"}, \"colorscale\": [[0.0, \"#0d0887\"], [0.1111111111111111, \"#46039f\"], [0.2222222222222222, \"#7201a8\"], [0.3333333333333333, \"#9c179e\"], [0.4444444444444444, \"#bd3786\"], [0.5555555555555556, \"#d8576b\"], [0.6666666666666666, \"#ed7953\"], [0.7777777777777778, \"#fb9f3a\"], [0.8888888888888888, \"#fdca26\"], [1.0, \"#f0f921\"]], \"type\": \"heatmapgl\"}], \"histogram\": [{\"marker\": {\"colorbar\": {\"outlinewidth\": 0, \"ticks\": \"\"}}, \"type\": \"histogram\"}], \"histogram2d\": [{\"colorbar\": {\"outlinewidth\": 0, \"ticks\": \"\"}, \"colorscale\": [[0.0, \"#0d0887\"], [0.1111111111111111, \"#46039f\"], [0.2222222222222222, \"#7201a8\"], [0.3333333333333333, \"#9c179e\"], [0.4444444444444444, \"#bd3786\"], [0.5555555555555556, \"#d8576b\"], [0.6666666666666666, \"#ed7953\"], [0.7777777777777778, \"#fb9f3a\"], [0.8888888888888888, \"#fdca26\"], [1.0, \"#f0f921\"]], \"type\": \"histogram2d\"}], \"histogram2dcontour\": [{\"colorbar\": {\"outlinewidth\": 0, \"ticks\": \"\"}, \"colorscale\": [[0.0, \"#0d0887\"], [0.1111111111111111, \"#46039f\"], [0.2222222222222222, \"#7201a8\"], [0.3333333333333333, \"#9c179e\"], [0.4444444444444444, \"#bd3786\"], [0.5555555555555556, \"#d8576b\"], [0.6666666666666666, \"#ed7953\"], [0.7777777777777778, \"#fb9f3a\"], [0.8888888888888888, \"#fdca26\"], [1.0, \"#f0f921\"]], \"type\": \"histogram2dcontour\"}], \"mesh3d\": [{\"colorbar\": {\"outlinewidth\": 0, \"ticks\": \"\"}, \"type\": \"mesh3d\"}], \"parcoords\": [{\"line\": {\"colorbar\": {\"outlinewidth\": 0, \"ticks\": \"\"}}, \"type\": \"parcoords\"}], \"pie\": [{\"automargin\": true, \"type\": \"pie\"}], \"scatter\": [{\"marker\": {\"colorbar\": {\"outlinewidth\": 0, \"ticks\": \"\"}}, \"type\": \"scatter\"}], \"scatter3d\": [{\"line\": {\"colorbar\": {\"outlinewidth\": 0, \"ticks\": \"\"}}, \"marker\": {\"colorbar\": {\"outlinewidth\": 0, \"ticks\": \"\"}}, \"type\": \"scatter3d\"}], \"scattercarpet\": [{\"marker\": {\"colorbar\": {\"outlinewidth\": 0, \"ticks\": \"\"}}, \"type\": \"scattercarpet\"}], \"scattergeo\": [{\"marker\": {\"colorbar\": {\"outlinewidth\": 0, \"ticks\": \"\"}}, \"type\": \"scattergeo\"}], \"scattergl\": [{\"marker\": {\"colorbar\": {\"outlinewidth\": 0, \"ticks\": \"\"}}, \"type\": \"scattergl\"}], \"scattermapbox\": [{\"marker\": {\"colorbar\": {\"outlinewidth\": 0, \"ticks\": \"\"}}, \"type\": \"scattermapbox\"}], \"scatterpolar\": [{\"marker\": {\"colorbar\": {\"outlinewidth\": 0, \"ticks\": \"\"}}, \"type\": \"scatterpolar\"}], \"scatterpolargl\": [{\"marker\": {\"colorbar\": {\"outlinewidth\": 0, \"ticks\": \"\"}}, \"type\": \"scatterpolargl\"}], \"scatterternary\": [{\"marker\": {\"colorbar\": {\"outlinewidth\": 0, \"ticks\": \"\"}}, \"type\": \"scatterternary\"}], \"surface\": [{\"colorbar\": {\"outlinewidth\": 0, \"ticks\": \"\"}, \"colorscale\": [[0.0, \"#0d0887\"], [0.1111111111111111, \"#46039f\"], [0.2222222222222222, \"#7201a8\"], [0.3333333333333333, \"#9c179e\"], [0.4444444444444444, \"#bd3786\"], [0.5555555555555556, \"#d8576b\"], [0.6666666666666666, \"#ed7953\"], [0.7777777777777778, \"#fb9f3a\"], [0.8888888888888888, \"#fdca26\"], [1.0, \"#f0f921\"]], \"type\": \"surface\"}], \"table\": [{\"cells\": {\"fill\": {\"color\": \"#EBF0F8\"}, \"line\": {\"color\": \"white\"}}, \"header\": {\"fill\": {\"color\": \"#C8D4E3\"}, \"line\": {\"color\": \"white\"}}, \"type\": \"table\"}]}, \"layout\": {\"annotationdefaults\": {\"arrowcolor\": \"#2a3f5f\", \"arrowhead\": 0, \"arrowwidth\": 1}, \"autotypenumbers\": \"strict\", \"coloraxis\": {\"colorbar\": {\"outlinewidth\": 0, \"ticks\": \"\"}}, \"colorscale\": {\"diverging\": [[0, \"#8e0152\"], [0.1, \"#c51b7d\"], [0.2, \"#de77ae\"], [0.3, \"#f1b6da\"], [0.4, \"#fde0ef\"], [0.5, \"#f7f7f7\"], [0.6, \"#e6f5d0\"], [0.7, \"#b8e186\"], [0.8, \"#7fbc41\"], [0.9, \"#4d9221\"], [1, \"#276419\"]], \"sequential\": [[0.0, \"#0d0887\"], [0.1111111111111111, \"#46039f\"], [0.2222222222222222, \"#7201a8\"], [0.3333333333333333, \"#9c179e\"], [0.4444444444444444, \"#bd3786\"], [0.5555555555555556, \"#d8576b\"], [0.6666666666666666, \"#ed7953\"], [0.7777777777777778, \"#fb9f3a\"], [0.8888888888888888, \"#fdca26\"], [1.0, \"#f0f921\"]], \"sequentialminus\": [[0.0, \"#0d0887\"], [0.1111111111111111, \"#46039f\"], [0.2222222222222222, \"#7201a8\"], [0.3333333333333333, \"#9c179e\"], [0.4444444444444444, \"#bd3786\"], [0.5555555555555556, \"#d8576b\"], [0.6666666666666666, \"#ed7953\"], [0.7777777777777778, \"#fb9f3a\"], [0.8888888888888888, \"#fdca26\"], [1.0, \"#f0f921\"]]}, \"colorway\": [\"#636efa\", \"#EF553B\", \"#00cc96\", \"#ab63fa\", \"#FFA15A\", \"#19d3f3\", \"#FF6692\", \"#B6E880\", \"#FF97FF\", \"#FECB52\"], \"font\": {\"color\": \"#2a3f5f\"}, \"geo\": {\"bgcolor\": \"white\", \"lakecolor\": \"white\", \"landcolor\": \"#E5ECF6\", \"showlakes\": true, \"showland\": true, \"subunitcolor\": \"white\"}, \"hoverlabel\": {\"align\": \"left\"}, \"hovermode\": \"closest\", \"mapbox\": {\"style\": \"light\"}, \"paper_bgcolor\": \"white\", \"plot_bgcolor\": \"#E5ECF6\", \"polar\": {\"angularaxis\": {\"gridcolor\": \"white\", \"linecolor\": \"white\", \"ticks\": \"\"}, \"bgcolor\": \"#E5ECF6\", \"radialaxis\": {\"gridcolor\": \"white\", \"linecolor\": \"white\", \"ticks\": \"\"}}, \"scene\": {\"xaxis\": {\"backgroundcolor\": \"#E5ECF6\", \"gridcolor\": \"white\", \"gridwidth\": 2, \"linecolor\": \"white\", \"showbackground\": true, \"ticks\": \"\", \"zerolinecolor\": \"white\"}, \"yaxis\": {\"backgroundcolor\": \"#E5ECF6\", \"gridcolor\": \"white\", \"gridwidth\": 2, \"linecolor\": \"white\", \"showbackground\": true, \"ticks\": \"\", \"zerolinecolor\": \"white\"}, \"zaxis\": {\"backgroundcolor\": \"#E5ECF6\", \"gridcolor\": \"white\", \"gridwidth\": 2, \"linecolor\": \"white\", \"showbackground\": true, \"ticks\": \"\", \"zerolinecolor\": \"white\"}}, \"shapedefaults\": {\"line\": {\"color\": \"#2a3f5f\"}}, \"ternary\": {\"aaxis\": {\"gridcolor\": \"white\", \"linecolor\": \"white\", \"ticks\": \"\"}, \"baxis\": {\"gridcolor\": \"white\", \"linecolor\": \"white\", \"ticks\": \"\"}, \"bgcolor\": \"#E5ECF6\", \"caxis\": {\"gridcolor\": \"white\", \"linecolor\": \"white\", \"ticks\": \"\"}}, \"title\": {\"x\": 0.05}, \"xaxis\": {\"automargin\": true, \"gridcolor\": \"white\", \"linecolor\": \"white\", \"ticks\": \"\", \"title\": {\"standoff\": 15}, \"zerolinecolor\": \"white\", \"zerolinewidth\": 2}, \"yaxis\": {\"automargin\": true, \"gridcolor\": \"white\", \"linecolor\": \"white\", \"ticks\": \"\", \"title\": {\"standoff\": 15}, \"zerolinecolor\": \"white\", \"zerolinewidth\": 2}}}, \"title\": {\"text\": \"PCA\"}},                        {\"responsive\": true}                    ).then(function(){\n",
       "                            \n",
       "var gd = document.getElementById('15f47139-4a42-4c00-8cab-93d6cf044890');\n",
       "var x = new MutationObserver(function (mutations, observer) {{\n",
       "        var display = window.getComputedStyle(gd).display;\n",
       "        if (!display || display === 'none') {{\n",
       "            console.log([gd, 'removed!']);\n",
       "            Plotly.purge(gd);\n",
       "            observer.disconnect();\n",
       "        }}\n",
       "}});\n",
       "\n",
       "// Listen for the removal of the full notebook cells\n",
       "var notebookContainer = gd.closest('#notebook-container');\n",
       "if (notebookContainer) {{\n",
       "    x.observe(notebookContainer, {childList: true});\n",
       "}}\n",
       "\n",
       "// Listen for the clearing of the current output cell\n",
       "var outputEl = gd.closest('.output');\n",
       "if (outputEl) {{\n",
       "    x.observe(outputEl, {childList: true});\n",
       "}}\n",
       "\n",
       "                        })                };                });            </script>        </div>"
      ]
     },
     "metadata": {},
     "output_type": "display_data"
    }
   ],
   "source": [
    "pca = PCA(n_components=2)\n",
    "\n",
    "result = pca.fit_transform(matrix)\n",
    "result = pd.DataFrame(result)\n",
    "result.columns = ['X', 'Y']\n",
    "result['Palabra'] = matrix.index.values\n",
    "personajes = pre_procesado(data.Personaje.str.cat(sep=\" \"))\n",
    "result['Color'] = result['Palabra'].apply(lambda val: \"#f8db27\" if val in personajes else \"#2f64d6\")\n",
    "\n",
    "\n",
    "trace_palabras = go.Scatter(x=result[result['Color']=='#2f64d6']['X'].values,\n",
    "                               y=result[result['Color']=='#2f64d6']['Y'].values,\n",
    "                               text=result[result['Color']=='#2f64d6']['Palabra'].values,\n",
    "                               mode='markers',\n",
    "                               marker={'color': result[result['Color']=='#2f64d6']['Color'].values, 'size':10},\n",
    "                               name='Palabras') \n",
    "\n",
    "trace_personajes = go.Scatter(x=result[result['Color']=='#f8db27']['X'].values,\n",
    "                               y=result[result['Color']=='#f8db27']['Y'].values,\n",
    "                               text=result[result['Color']=='#f8db27']['Palabra'].values,\n",
    "                               mode='markers',\n",
    "                               marker={'color': result[result['Color']=='#f8db27']['Color'].values, 'size':10},\n",
    "                               name='Personajes') \n",
    "\n",
    "layout = go.Layout(title=\"PCA\")\n",
    "\n",
    "fig = go.Figure(data=[trace_palabras,trace_personajes], layout=layout)\n",
    "iplot(fig)"
   ]
  },
  {
   "cell_type": "code",
   "execution_count": 14,
   "metadata": {},
   "outputs": [
    {
     "data": {
      "text/plain": [
       "[('payaso', 0.9952751398086548),\n",
       " ('programa', 0.9947993159294128),\n",
       " ('bob', 0.9944477677345276),\n",
       " ('productos', 0.9940363764762878),\n",
       " ('televisión', 0.9933156371116638),\n",
       " ('carrera', 0.9932693839073181),\n",
       " ('según', 0.992551326751709),\n",
       " ('especial', 0.9921767115592957),\n",
       " ('finalmente', 0.9919077157974243),\n",
       " ('embargo', 0.9917545914649963)]"
      ]
     },
     "execution_count": 14,
     "metadata": {},
     "output_type": "execute_result"
    }
   ],
   "source": [
    "mi_modelo.wv.most_similar(\"krusty\")"
   ]
  },
  {
   "cell_type": "code",
   "execution_count": 15,
   "metadata": {},
   "outputs": [
    {
     "data": {
      "text/plain": [
       "[('lenny', 0.9960663318634033),\n",
       " ('dice', 0.994188129901886),\n",
       " ('of', 0.994172990322113),\n",
       " ('responde', 0.9939452409744263),\n",
       " ('ambos', 0.9935966730117798),\n",
       " ('azules', 0.9935733675956726),\n",
       " ('naturaleza', 0.9932429790496826),\n",
       " ('ve', 0.9932231307029724),\n",
       " ('the', 0.9929261803627014),\n",
       " ('capítulo', 0.9929158687591553)]"
      ]
     },
     "execution_count": 15,
     "metadata": {},
     "output_type": "execute_result"
    }
   ],
   "source": [
    "mi_modelo.wv.most_similar(\"carl\")"
   ]
  },
  {
   "cell_type": "code",
   "execution_count": 16,
   "metadata": {},
   "outputs": [
    {
     "data": {
      "text/plain": [
       "[('carl', 0.9960662722587585),\n",
       " ('ve', 0.993975043296814),\n",
       " ('varios', 0.9934544563293457),\n",
       " ('moe', 0.9934163689613342),\n",
       " ('acerca', 0.9933021068572998),\n",
       " ('momento', 0.9931969046592712),\n",
       " ('of', 0.9931954741477966),\n",
       " ('ambos', 0.9929956197738647),\n",
       " ('capítulo', 0.9925761222839355),\n",
       " ('responde', 0.9925118088722229)]"
      ]
     },
     "execution_count": 16,
     "metadata": {},
     "output_type": "execute_result"
    }
   ],
   "source": [
    "mi_modelo.wv.most_similar(\"lenny\")"
   ]
  },
  {
   "cell_type": "markdown",
   "metadata": {},
   "source": [
    "### Funciones nuevas"
   ]
  },
  {
   "cell_type": "code",
   "execution_count": 18,
   "metadata": {},
   "outputs": [
    {
     "data": {
      "text/plain": [
       "[('krusty', -0.979925811290741),\n",
       " ('payaso', -0.9826041460037231),\n",
       " ('ned', -0.9848311543464661),\n",
       " ('programa', -0.9853283762931824),\n",
       " ('marca', -0.9855449199676514),\n",
       " ('acostumbra', -0.9860172867774963),\n",
       " ('carrera', -0.9866170883178711),\n",
       " ('según', -0.9866405725479126),\n",
       " ('director', -0.9866612553596497),\n",
       " ('normalmente', -0.986953616142273)]"
      ]
     },
     "execution_count": 18,
     "metadata": {},
     "output_type": "execute_result"
    }
   ],
   "source": [
    "mi_modelo.wv.most_similar(negative=[\"carl\"])"
   ]
  },
  {
   "cell_type": "code",
   "execution_count": 20,
   "metadata": {},
   "outputs": [
    {
     "data": {
      "text/plain": [
       "0.9960662"
      ]
     },
     "execution_count": 20,
     "metadata": {},
     "output_type": "execute_result"
    }
   ],
   "source": [
    "mi_modelo.wv.similarity('carl', 'lenny')"
   ]
  },
  {
   "cell_type": "code",
   "execution_count": 21,
   "metadata": {},
   "outputs": [
    {
     "data": {
      "text/plain": [
       "'burns'"
      ]
     },
     "execution_count": 21,
     "metadata": {},
     "output_type": "execute_result"
    }
   ],
   "source": [
    "mi_modelo.wv.doesnt_match(['bart', 'lisa', 'milhouse', 'maggie', 'burns'])"
   ]
  },
  {
   "cell_type": "code",
   "execution_count": 22,
   "metadata": {},
   "outputs": [
    {
     "data": {
      "text/plain": [
       "[('lenny', 0.9933398962020874),\n",
       " ('acerca', 0.992112398147583),\n",
       " ('segunda', 0.9918970465660095),\n",
       " ('abraham', 0.9918335676193237),\n",
       " ('dice', 0.9915352463722229),\n",
       " ('naturaleza', 0.9913312792778015),\n",
       " ('moe', 0.9912420511245728),\n",
       " ('tras', 0.99082350730896),\n",
       " ('responde', 0.9907833933830261),\n",
       " ('momento', 0.9906939268112183)]"
      ]
     },
     "execution_count": 22,
     "metadata": {},
     "output_type": "execute_result"
    }
   ],
   "source": [
    "mi_modelo.wv.most_similar(positive=[\"carl\", \"bart\"], negative=[\"milhouse\"])"
   ]
  }
 ],
 "metadata": {
  "kernelspec": {
   "display_name": "Python 3",
   "language": "python",
   "name": "python3"
  },
  "language_info": {
   "codemirror_mode": {
    "name": "ipython",
    "version": 3
   },
   "file_extension": ".py",
   "mimetype": "text/x-python",
   "name": "python",
   "nbconvert_exporter": "python",
   "pygments_lexer": "ipython3",
   "version": "3.7.4"
  }
 },
 "nbformat": 4,
 "nbformat_minor": 2
}
